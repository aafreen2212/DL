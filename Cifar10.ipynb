{
  "nbformat": 4,
  "nbformat_minor": 0,
  "metadata": {
    "colab": {
      "name": "DL_Assignment_3(Cifar10).ipynb",
      "provenance": [],
      "collapsed_sections": [],
      "authorship_tag": "ABX9TyPxJPOMgYfJGjpLK0YiWGMe",
      "include_colab_link": true
    },
    "kernelspec": {
      "name": "python3",
      "display_name": "Python 3"
    }
  },
  "cells": [
    {
      "cell_type": "markdown",
      "metadata": {
        "id": "view-in-github",
        "colab_type": "text"
      },
      "source": [
        "<a href=\"https://colab.research.google.com/github/aafreen2212/DL/blob/master/DL_Assignment_3(Cifar10).ipynb\" target=\"_parent\"><img src=\"https://colab.research.google.com/assets/colab-badge.svg\" alt=\"Open In Colab\"/></a>"
      ]
    },
    {
      "cell_type": "code",
      "metadata": {
        "id": "dwFVaZo3v_JX",
        "colab_type": "code",
        "colab": {
          "base_uri": "https://localhost:8080/",
          "height": 34
        },
        "outputId": "bc799d63-74fd-4c09-dcc6-6259acede830"
      },
      "source": [
        "#Importing the libraries\n",
        "import pandas as pd\n",
        "import numpy as np\n",
        "import matplotlib.pyplot as plt\n",
        "from keras import models\n",
        "from keras.layers import Dense\n",
        "from keras.utils import to_categorical\n"
      ],
      "execution_count": 1,
      "outputs": [
        {
          "output_type": "stream",
          "text": [
            "Using TensorFlow backend.\n"
          ],
          "name": "stderr"
        }
      ]
    },
    {
      "cell_type": "code",
      "metadata": {
        "id": "RK45TkDawHXX",
        "colab_type": "code",
        "colab": {}
      },
      "source": [
        "#Load the data\n",
        "from keras.datasets import cifar10\n",
        "(X_train, y_train), (X_test, y_test) = cifar10.load_data()"
      ],
      "execution_count": 2,
      "outputs": []
    },
    {
      "cell_type": "code",
      "metadata": {
        "id": "kVDbvzv1wZLR",
        "colab_type": "code",
        "colab": {
          "base_uri": "https://localhost:8080/",
          "height": 85
        },
        "outputId": "26f1f2f3-6988-4255-ba28-c77daea58499"
      },
      "source": [
        "#Analyse the data\n",
        "print(X_train.shape)\n",
        "print(y_train.shape)\n",
        "print(X_test.shape)\n",
        "print(y_test.shape)"
      ],
      "execution_count": 3,
      "outputs": [
        {
          "output_type": "stream",
          "text": [
            "(50000, 32, 32, 3)\n",
            "(50000, 1)\n",
            "(10000, 32, 32, 3)\n",
            "(10000, 1)\n"
          ],
          "name": "stdout"
        }
      ]
    },
    {
      "cell_type": "code",
      "metadata": {
        "id": "sjuMJfhAwldr",
        "colab_type": "code",
        "colab": {
          "base_uri": "https://localhost:8080/",
          "height": 51
        },
        "outputId": "ecf646ab-a4d6-4863-fb1e-527e1c1ea16c"
      },
      "source": [
        "#Data Manipulation\n",
        "#convert from 2d - 32 X 32 X 3 to 784\n",
        "X_train = X_train.reshape((50000,32*32*3))\n",
        "\n",
        "print(X_train.shape)\n",
        "\n",
        "X_test = X_test.reshape((10000,32*32*3))\n",
        "print(X_test.shape)\n",
        "#normalize\n",
        "X_train = X_train.astype('float32')/255\n",
        "X_test = X_test.astype('float32')/255\n",
        "\n",
        "#Categorical to one-hot encoding\n",
        "y_test = to_categorical(y_test, 10)\n",
        "y_train = to_categorical(y_train,10)"
      ],
      "execution_count": 4,
      "outputs": [
        {
          "output_type": "stream",
          "text": [
            "(50000, 3072)\n",
            "(10000, 3072)\n"
          ],
          "name": "stdout"
        }
      ]
    },
    {
      "cell_type": "code",
      "metadata": {
        "id": "dVo7NKBdxjnP",
        "colab_type": "code",
        "colab": {}
      },
      "source": [
        "from keras.models import Sequential\n",
        "from keras.layers import Dense\n",
        "import keras"
      ],
      "execution_count": 5,
      "outputs": []
    },
    {
      "cell_type": "code",
      "metadata": {
        "id": "VFyikqSPymWD",
        "colab_type": "code",
        "colab": {}
      },
      "source": [
        "#First initializer\n",
        "#set to a constant value\n",
        "model_1 = Sequential()\n",
        "initial = keras.initializers.Constant(value=0.45)\n",
        "model_1.add(Dense(units=10, activation='relu', input_dim = 3072, kernel_initializer = 'random_uniform', bias_initializer='random_uniform'))\n",
        "model_1.add(Dense(units=10, activation='softmax', kernel_initializer = 'random_uniform', bias_initializer='random_uniform'))\n",
        "model_1.compile(loss='categorical_crossentropy', optimizer = 'sgd', metrics =['accuracy'])"
      ],
      "execution_count": 6,
      "outputs": []
    },
    {
      "cell_type": "code",
      "metadata": {
        "id": "D548JDO4yui-",
        "colab_type": "code",
        "colab": {
          "base_uri": "https://localhost:8080/",
          "height": 1000
        },
        "outputId": "9eae5f98-aebd-44cd-ccd3-3033d7c7ea31"
      },
      "source": [
        "history_1 = model_1.fit(X_train, y_train, epochs=100, validation_split=0.2)"
      ],
      "execution_count": 7,
      "outputs": [
        {
          "output_type": "stream",
          "text": [
            "Train on 40000 samples, validate on 10000 samples\n",
            "Epoch 1/100\n",
            "40000/40000 [==============================] - 3s 74us/step - loss: 2.1241 - accuracy: 0.2082 - val_loss: 1.9743 - val_accuracy: 0.2834\n",
            "Epoch 2/100\n",
            "40000/40000 [==============================] - 3s 67us/step - loss: 1.9094 - accuracy: 0.3088 - val_loss: 1.8740 - val_accuracy: 0.3329\n",
            "Epoch 3/100\n",
            "40000/40000 [==============================] - 3s 68us/step - loss: 1.8357 - accuracy: 0.3501 - val_loss: 1.8095 - val_accuracy: 0.3636\n",
            "Epoch 4/100\n",
            "40000/40000 [==============================] - 3s 67us/step - loss: 1.7906 - accuracy: 0.3666 - val_loss: 1.7880 - val_accuracy: 0.3680\n",
            "Epoch 5/100\n",
            "40000/40000 [==============================] - 3s 67us/step - loss: 1.7597 - accuracy: 0.3743 - val_loss: 1.7799 - val_accuracy: 0.3704\n",
            "Epoch 6/100\n",
            "40000/40000 [==============================] - 3s 67us/step - loss: 1.7393 - accuracy: 0.3834 - val_loss: 1.7535 - val_accuracy: 0.3777\n",
            "Epoch 7/100\n",
            "40000/40000 [==============================] - 3s 67us/step - loss: 1.7221 - accuracy: 0.3875 - val_loss: 1.7694 - val_accuracy: 0.3738\n",
            "Epoch 8/100\n",
            "40000/40000 [==============================] - 3s 67us/step - loss: 1.7125 - accuracy: 0.3911 - val_loss: 1.7256 - val_accuracy: 0.3880\n",
            "Epoch 9/100\n",
            "40000/40000 [==============================] - 3s 67us/step - loss: 1.7034 - accuracy: 0.3934 - val_loss: 1.7475 - val_accuracy: 0.3783\n",
            "Epoch 10/100\n",
            "40000/40000 [==============================] - 3s 70us/step - loss: 1.6948 - accuracy: 0.3958 - val_loss: 1.7657 - val_accuracy: 0.3727\n",
            "Epoch 11/100\n",
            "40000/40000 [==============================] - 3s 67us/step - loss: 1.6923 - accuracy: 0.3968 - val_loss: 1.7014 - val_accuracy: 0.4023\n",
            "Epoch 12/100\n",
            "40000/40000 [==============================] - 3s 67us/step - loss: 1.6836 - accuracy: 0.4018 - val_loss: 1.7378 - val_accuracy: 0.3872\n",
            "Epoch 13/100\n",
            "40000/40000 [==============================] - 3s 67us/step - loss: 1.6781 - accuracy: 0.4008 - val_loss: 1.7039 - val_accuracy: 0.4006\n",
            "Epoch 14/100\n",
            "40000/40000 [==============================] - 3s 68us/step - loss: 1.6734 - accuracy: 0.4040 - val_loss: 1.7425 - val_accuracy: 0.3816\n",
            "Epoch 15/100\n",
            "40000/40000 [==============================] - 3s 67us/step - loss: 1.6689 - accuracy: 0.4049 - val_loss: 1.6975 - val_accuracy: 0.4009\n",
            "Epoch 16/100\n",
            "40000/40000 [==============================] - 3s 67us/step - loss: 1.6639 - accuracy: 0.4083 - val_loss: 1.7142 - val_accuracy: 0.3928\n",
            "Epoch 17/100\n",
            "40000/40000 [==============================] - 3s 67us/step - loss: 1.6606 - accuracy: 0.4071 - val_loss: 1.6837 - val_accuracy: 0.4050\n",
            "Epoch 18/100\n",
            "40000/40000 [==============================] - 3s 66us/step - loss: 1.6571 - accuracy: 0.4120 - val_loss: 1.7028 - val_accuracy: 0.3974\n",
            "Epoch 19/100\n",
            "40000/40000 [==============================] - 3s 67us/step - loss: 1.6539 - accuracy: 0.4118 - val_loss: 1.7005 - val_accuracy: 0.4036\n",
            "Epoch 20/100\n",
            "40000/40000 [==============================] - 3s 67us/step - loss: 1.6496 - accuracy: 0.4083 - val_loss: 1.7079 - val_accuracy: 0.3994\n",
            "Epoch 21/100\n",
            "40000/40000 [==============================] - 3s 68us/step - loss: 1.6457 - accuracy: 0.4127 - val_loss: 1.6818 - val_accuracy: 0.4080\n",
            "Epoch 22/100\n",
            "40000/40000 [==============================] - 3s 67us/step - loss: 1.6420 - accuracy: 0.4157 - val_loss: 1.6723 - val_accuracy: 0.4066\n",
            "Epoch 23/100\n",
            "40000/40000 [==============================] - 3s 67us/step - loss: 1.6427 - accuracy: 0.4141 - val_loss: 1.6930 - val_accuracy: 0.4046\n",
            "Epoch 24/100\n",
            "40000/40000 [==============================] - 3s 67us/step - loss: 1.6367 - accuracy: 0.4149 - val_loss: 1.6726 - val_accuracy: 0.4061\n",
            "Epoch 25/100\n",
            "40000/40000 [==============================] - 3s 67us/step - loss: 1.6349 - accuracy: 0.4192 - val_loss: 1.6979 - val_accuracy: 0.3961\n",
            "Epoch 26/100\n",
            "40000/40000 [==============================] - 3s 67us/step - loss: 1.6311 - accuracy: 0.4181 - val_loss: 1.6719 - val_accuracy: 0.4018\n",
            "Epoch 27/100\n",
            "40000/40000 [==============================] - 3s 67us/step - loss: 1.6278 - accuracy: 0.4176 - val_loss: 1.6689 - val_accuracy: 0.4033\n",
            "Epoch 28/100\n",
            "40000/40000 [==============================] - 3s 68us/step - loss: 1.6266 - accuracy: 0.4172 - val_loss: 1.6880 - val_accuracy: 0.3957\n",
            "Epoch 29/100\n",
            "40000/40000 [==============================] - 3s 68us/step - loss: 1.6225 - accuracy: 0.4183 - val_loss: 1.6724 - val_accuracy: 0.4090\n",
            "Epoch 30/100\n",
            "40000/40000 [==============================] - 3s 67us/step - loss: 1.6171 - accuracy: 0.4231 - val_loss: 1.6934 - val_accuracy: 0.3912\n",
            "Epoch 31/100\n",
            "40000/40000 [==============================] - 3s 67us/step - loss: 1.6161 - accuracy: 0.4216 - val_loss: 1.6762 - val_accuracy: 0.4007\n",
            "Epoch 32/100\n",
            "40000/40000 [==============================] - 3s 67us/step - loss: 1.6131 - accuracy: 0.4223 - val_loss: 1.6807 - val_accuracy: 0.4036\n",
            "Epoch 33/100\n",
            "40000/40000 [==============================] - 3s 67us/step - loss: 1.6078 - accuracy: 0.4242 - val_loss: 1.7058 - val_accuracy: 0.3914\n",
            "Epoch 34/100\n",
            "40000/40000 [==============================] - 3s 67us/step - loss: 1.6016 - accuracy: 0.4278 - val_loss: 1.6713 - val_accuracy: 0.4096\n",
            "Epoch 35/100\n",
            "40000/40000 [==============================] - 3s 67us/step - loss: 1.5999 - accuracy: 0.4264 - val_loss: 1.6754 - val_accuracy: 0.4054\n",
            "Epoch 36/100\n",
            "40000/40000 [==============================] - 3s 67us/step - loss: 1.5976 - accuracy: 0.4296 - val_loss: 1.6564 - val_accuracy: 0.4104\n",
            "Epoch 37/100\n",
            "40000/40000 [==============================] - 3s 69us/step - loss: 1.5929 - accuracy: 0.4290 - val_loss: 1.6704 - val_accuracy: 0.4030\n",
            "Epoch 38/100\n",
            "40000/40000 [==============================] - 3s 68us/step - loss: 1.5875 - accuracy: 0.4315 - val_loss: 1.6473 - val_accuracy: 0.4132\n",
            "Epoch 39/100\n",
            "40000/40000 [==============================] - 3s 67us/step - loss: 1.5875 - accuracy: 0.4337 - val_loss: 1.6352 - val_accuracy: 0.4207\n",
            "Epoch 40/100\n",
            "40000/40000 [==============================] - 3s 68us/step - loss: 1.5844 - accuracy: 0.4348 - val_loss: 1.6783 - val_accuracy: 0.3964\n",
            "Epoch 41/100\n",
            "40000/40000 [==============================] - 3s 68us/step - loss: 1.5829 - accuracy: 0.4345 - val_loss: 1.6679 - val_accuracy: 0.4083\n",
            "Epoch 42/100\n",
            "40000/40000 [==============================] - 3s 68us/step - loss: 1.5787 - accuracy: 0.4359 - val_loss: 1.6309 - val_accuracy: 0.4164\n",
            "Epoch 43/100\n",
            "40000/40000 [==============================] - 3s 68us/step - loss: 1.5761 - accuracy: 0.4384 - val_loss: 1.6539 - val_accuracy: 0.4086\n",
            "Epoch 44/100\n",
            "40000/40000 [==============================] - 3s 68us/step - loss: 1.5743 - accuracy: 0.4374 - val_loss: 1.6592 - val_accuracy: 0.4023\n",
            "Epoch 45/100\n",
            "40000/40000 [==============================] - 3s 67us/step - loss: 1.5747 - accuracy: 0.4354 - val_loss: 1.6399 - val_accuracy: 0.4149\n",
            "Epoch 46/100\n",
            "40000/40000 [==============================] - 3s 67us/step - loss: 1.5692 - accuracy: 0.4380 - val_loss: 1.6456 - val_accuracy: 0.4161\n",
            "Epoch 47/100\n",
            "40000/40000 [==============================] - 3s 67us/step - loss: 1.5689 - accuracy: 0.4371 - val_loss: 1.6717 - val_accuracy: 0.4004\n",
            "Epoch 48/100\n",
            "40000/40000 [==============================] - 3s 68us/step - loss: 1.5696 - accuracy: 0.4387 - val_loss: 1.6343 - val_accuracy: 0.4202\n",
            "Epoch 49/100\n",
            "40000/40000 [==============================] - 3s 67us/step - loss: 1.5664 - accuracy: 0.4408 - val_loss: 1.6633 - val_accuracy: 0.4147\n",
            "Epoch 50/100\n",
            "40000/40000 [==============================] - 3s 68us/step - loss: 1.5645 - accuracy: 0.4395 - val_loss: 1.6381 - val_accuracy: 0.4183\n",
            "Epoch 51/100\n",
            "40000/40000 [==============================] - 3s 67us/step - loss: 1.5643 - accuracy: 0.4411 - val_loss: 1.6298 - val_accuracy: 0.4181\n",
            "Epoch 52/100\n",
            "40000/40000 [==============================] - 3s 67us/step - loss: 1.5614 - accuracy: 0.4404 - val_loss: 1.6406 - val_accuracy: 0.4133\n",
            "Epoch 53/100\n",
            "40000/40000 [==============================] - 3s 67us/step - loss: 1.5610 - accuracy: 0.4397 - val_loss: 1.6262 - val_accuracy: 0.4200\n",
            "Epoch 54/100\n",
            "40000/40000 [==============================] - 3s 67us/step - loss: 1.5569 - accuracy: 0.4425 - val_loss: 1.6551 - val_accuracy: 0.4125\n",
            "Epoch 55/100\n",
            "40000/40000 [==============================] - 3s 67us/step - loss: 1.5559 - accuracy: 0.4416 - val_loss: 1.6311 - val_accuracy: 0.4189\n",
            "Epoch 56/100\n",
            "40000/40000 [==============================] - 3s 67us/step - loss: 1.5555 - accuracy: 0.4421 - val_loss: 1.6356 - val_accuracy: 0.4165\n",
            "Epoch 57/100\n",
            "40000/40000 [==============================] - 3s 67us/step - loss: 1.5537 - accuracy: 0.4415 - val_loss: 1.6520 - val_accuracy: 0.4113\n",
            "Epoch 58/100\n",
            "40000/40000 [==============================] - 3s 67us/step - loss: 1.5525 - accuracy: 0.4418 - val_loss: 1.6309 - val_accuracy: 0.4220\n",
            "Epoch 59/100\n",
            "40000/40000 [==============================] - 3s 67us/step - loss: 1.5508 - accuracy: 0.4457 - val_loss: 1.6492 - val_accuracy: 0.4091\n",
            "Epoch 60/100\n",
            "40000/40000 [==============================] - 3s 67us/step - loss: 1.5503 - accuracy: 0.4442 - val_loss: 1.6757 - val_accuracy: 0.4023\n",
            "Epoch 61/100\n",
            "40000/40000 [==============================] - 3s 69us/step - loss: 1.5502 - accuracy: 0.4449 - val_loss: 1.6551 - val_accuracy: 0.4120\n",
            "Epoch 62/100\n",
            "40000/40000 [==============================] - 3s 68us/step - loss: 1.5482 - accuracy: 0.4460 - val_loss: 1.6360 - val_accuracy: 0.4182\n",
            "Epoch 63/100\n",
            "40000/40000 [==============================] - 3s 67us/step - loss: 1.5474 - accuracy: 0.4438 - val_loss: 1.6372 - val_accuracy: 0.4174\n",
            "Epoch 64/100\n",
            "40000/40000 [==============================] - 3s 67us/step - loss: 1.5461 - accuracy: 0.4443 - val_loss: 1.6196 - val_accuracy: 0.4253\n",
            "Epoch 65/100\n",
            "40000/40000 [==============================] - 3s 66us/step - loss: 1.5442 - accuracy: 0.4467 - val_loss: 1.6801 - val_accuracy: 0.3991\n",
            "Epoch 66/100\n",
            "40000/40000 [==============================] - 3s 66us/step - loss: 1.5457 - accuracy: 0.4441 - val_loss: 1.6354 - val_accuracy: 0.4178\n",
            "Epoch 67/100\n",
            "40000/40000 [==============================] - 3s 67us/step - loss: 1.5413 - accuracy: 0.4459 - val_loss: 1.6632 - val_accuracy: 0.4060\n",
            "Epoch 68/100\n",
            "40000/40000 [==============================] - 3s 67us/step - loss: 1.5423 - accuracy: 0.4469 - val_loss: 1.6282 - val_accuracy: 0.4198\n",
            "Epoch 69/100\n",
            "40000/40000 [==============================] - 3s 66us/step - loss: 1.5421 - accuracy: 0.4460 - val_loss: 1.6634 - val_accuracy: 0.4068\n",
            "Epoch 70/100\n",
            "40000/40000 [==============================] - 3s 67us/step - loss: 1.5412 - accuracy: 0.4478 - val_loss: 1.6548 - val_accuracy: 0.4103\n",
            "Epoch 71/100\n",
            "40000/40000 [==============================] - 3s 66us/step - loss: 1.5395 - accuracy: 0.4489 - val_loss: 1.6315 - val_accuracy: 0.4200\n",
            "Epoch 72/100\n",
            "40000/40000 [==============================] - 3s 67us/step - loss: 1.5357 - accuracy: 0.4516 - val_loss: 1.6435 - val_accuracy: 0.4100\n",
            "Epoch 73/100\n",
            "40000/40000 [==============================] - 3s 67us/step - loss: 1.5357 - accuracy: 0.4520 - val_loss: 1.6271 - val_accuracy: 0.4186\n",
            "Epoch 74/100\n",
            "40000/40000 [==============================] - 3s 67us/step - loss: 1.5360 - accuracy: 0.4488 - val_loss: 1.6667 - val_accuracy: 0.4137\n",
            "Epoch 75/100\n",
            "40000/40000 [==============================] - 3s 67us/step - loss: 1.5341 - accuracy: 0.4491 - val_loss: 1.6322 - val_accuracy: 0.4190\n",
            "Epoch 76/100\n",
            "40000/40000 [==============================] - 3s 67us/step - loss: 1.5331 - accuracy: 0.4525 - val_loss: 1.6464 - val_accuracy: 0.4156\n",
            "Epoch 77/100\n",
            "40000/40000 [==============================] - 3s 67us/step - loss: 1.5338 - accuracy: 0.4502 - val_loss: 1.6365 - val_accuracy: 0.4187\n",
            "Epoch 78/100\n",
            "40000/40000 [==============================] - 3s 67us/step - loss: 1.5308 - accuracy: 0.4516 - val_loss: 1.6202 - val_accuracy: 0.4223\n",
            "Epoch 79/100\n",
            "40000/40000 [==============================] - 3s 66us/step - loss: 1.5312 - accuracy: 0.4490 - val_loss: 1.6314 - val_accuracy: 0.4198\n",
            "Epoch 80/100\n",
            "40000/40000 [==============================] - 3s 67us/step - loss: 1.5310 - accuracy: 0.4509 - val_loss: 1.6503 - val_accuracy: 0.4139\n",
            "Epoch 81/100\n",
            "40000/40000 [==============================] - 3s 67us/step - loss: 1.5287 - accuracy: 0.4487 - val_loss: 1.6470 - val_accuracy: 0.4182\n",
            "Epoch 82/100\n",
            "40000/40000 [==============================] - 3s 67us/step - loss: 1.5285 - accuracy: 0.4512 - val_loss: 1.6484 - val_accuracy: 0.4146\n",
            "Epoch 83/100\n",
            "40000/40000 [==============================] - 3s 66us/step - loss: 1.5252 - accuracy: 0.4516 - val_loss: 1.6416 - val_accuracy: 0.4143\n",
            "Epoch 84/100\n",
            "40000/40000 [==============================] - 3s 67us/step - loss: 1.5234 - accuracy: 0.4543 - val_loss: 1.6329 - val_accuracy: 0.4219\n",
            "Epoch 85/100\n",
            "40000/40000 [==============================] - 3s 67us/step - loss: 1.5234 - accuracy: 0.4508 - val_loss: 1.6236 - val_accuracy: 0.4221\n",
            "Epoch 86/100\n",
            "40000/40000 [==============================] - 3s 67us/step - loss: 1.5262 - accuracy: 0.4534 - val_loss: 1.6294 - val_accuracy: 0.4200\n",
            "Epoch 87/100\n",
            "40000/40000 [==============================] - 3s 67us/step - loss: 1.5260 - accuracy: 0.4508 - val_loss: 1.6312 - val_accuracy: 0.4235\n",
            "Epoch 88/100\n",
            "40000/40000 [==============================] - 3s 67us/step - loss: 1.5234 - accuracy: 0.4512 - val_loss: 1.6785 - val_accuracy: 0.4059\n",
            "Epoch 89/100\n",
            "40000/40000 [==============================] - 3s 67us/step - loss: 1.5234 - accuracy: 0.4520 - val_loss: 1.7301 - val_accuracy: 0.4036\n",
            "Epoch 90/100\n",
            "40000/40000 [==============================] - 3s 67us/step - loss: 1.5200 - accuracy: 0.4537 - val_loss: 1.6402 - val_accuracy: 0.4233\n",
            "Epoch 91/100\n",
            "40000/40000 [==============================] - 3s 67us/step - loss: 1.5195 - accuracy: 0.4533 - val_loss: 1.6435 - val_accuracy: 0.4173\n",
            "Epoch 92/100\n",
            "40000/40000 [==============================] - 3s 68us/step - loss: 1.5184 - accuracy: 0.4537 - val_loss: 1.7013 - val_accuracy: 0.3985\n",
            "Epoch 93/100\n",
            "40000/40000 [==============================] - 3s 67us/step - loss: 1.5182 - accuracy: 0.4533 - val_loss: 1.6474 - val_accuracy: 0.4169\n",
            "Epoch 94/100\n",
            "40000/40000 [==============================] - 3s 66us/step - loss: 1.5190 - accuracy: 0.4544 - val_loss: 1.6678 - val_accuracy: 0.4115\n",
            "Epoch 95/100\n",
            "40000/40000 [==============================] - 3s 66us/step - loss: 1.5168 - accuracy: 0.4555 - val_loss: 1.6261 - val_accuracy: 0.4262\n",
            "Epoch 96/100\n",
            "40000/40000 [==============================] - 3s 67us/step - loss: 1.5161 - accuracy: 0.4561 - val_loss: 1.6352 - val_accuracy: 0.4237\n",
            "Epoch 97/100\n",
            "40000/40000 [==============================] - 3s 66us/step - loss: 1.5168 - accuracy: 0.4570 - val_loss: 1.6250 - val_accuracy: 0.4258\n",
            "Epoch 98/100\n",
            "40000/40000 [==============================] - 3s 66us/step - loss: 1.5147 - accuracy: 0.4537 - val_loss: 1.6312 - val_accuracy: 0.4259\n",
            "Epoch 99/100\n",
            "40000/40000 [==============================] - 3s 66us/step - loss: 1.5141 - accuracy: 0.4553 - val_loss: 1.6271 - val_accuracy: 0.4271\n",
            "Epoch 100/100\n",
            "40000/40000 [==============================] - 3s 67us/step - loss: 1.5141 - accuracy: 0.4556 - val_loss: 1.6444 - val_accuracy: 0.4167\n"
          ],
          "name": "stdout"
        }
      ]
    },
    {
      "cell_type": "code",
      "metadata": {
        "id": "Ut_NM1QX1n9f",
        "colab_type": "code",
        "colab": {
          "base_uri": "https://localhost:8080/",
          "height": 312
        },
        "outputId": "0a8297fc-fd01-4b6c-acb2-99c25dee698e"
      },
      "source": [
        "#plot of Accuracy\n",
        "import matplotlib.pyplot as plt\n",
        "\n",
        "plt.plot(history_1.history['accuracy'])\n",
        "plt.plot(history_1.history['val_accuracy'])\n",
        "plt.title('Model Accuracy')\n",
        "plt.ylabel('Accuracy')\n",
        "plt.xlabel('Epochs')\n",
        "plt.legend(['Train', 'Validation'], loc = 'upper left')"
      ],
      "execution_count": 8,
      "outputs": [
        {
          "output_type": "execute_result",
          "data": {
            "text/plain": [
              "<matplotlib.legend.Legend at 0x7efe9fbe86a0>"
            ]
          },
          "metadata": {
            "tags": []
          },
          "execution_count": 8
        },
        {
          "output_type": "display_data",
          "data": {
            "image/png": "[encoded data removed]",
            "text/plain": [
              "<Figure size 432x288 with 1 Axes>"
            ]
          },
          "metadata": {
            "tags": [],
            "needs_background": "light"
          }
        }
      ]
    },
    {
      "cell_type": "code",
      "metadata": {
        "id": "rBYzHvfH1vyC",
        "colab_type": "code",
        "colab": {
          "base_uri": "https://localhost:8080/",
          "height": 312
        },
        "outputId": "a5f0f359-9db4-4331-f037-bf108dba7b71"
      },
      "source": [
        "#Plot of loss \n",
        "plt.plot(history_1.history['loss'])\n",
        "plt.plot(history_1.history['val_loss'])\n",
        "plt.title('Model Loss')\n",
        "plt.ylabel('Loss')\n",
        "plt.xlabel('Epochs')\n",
        "plt.legend(['Train', 'Validation'], loc = 'upper left')"
      ],
      "execution_count": 9,
      "outputs": [
        {
          "output_type": "execute_result",
          "data": {
            "text/plain": [
              "<matplotlib.legend.Legend at 0x7efe9f6acba8>"
            ]
          },
          "metadata": {
            "tags": []
          },
          "execution_count": 9
        },
        {
          "output_type": "display_data",
          "data": {
            "image/png": "[encoded data removed]",
            "text/plain": [
              "<Figure size 432x288 with 1 Axes>"
            ]
          },
          "metadata": {
            "tags": [],
            "needs_background": "light"
          }
        }
      ]
    },
    {
      "cell_type": "code",
      "metadata": {
        "id": "wFEQ8bNp0KEF",
        "colab_type": "code",
        "colab": {}
      },
      "source": [
        "#Second Initializer\n",
        "#pick values from a normal distribution\n",
        "model_2 = Sequential()\n",
        "initial = keras.initializers.RandomNormal(mean=0.0, stddev=0.25)\n",
        "model_2.add(Dense(units=10, activation='relu', input_dim = 3072, kernel_initializer = 'random_uniform', bias_initializer='random_uniform'))\n",
        "model_2.add(Dense(units=10, activation='softmax', kernel_initializer = 'random_uniform', bias_initializer='random_uniform'))\n",
        "model_2.compile(loss='categorical_crossentropy', optimizer = 'sgd', metrics =['accuracy'])\n"
      ],
      "execution_count": 10,
      "outputs": []
    },
    {
      "cell_type": "code",
      "metadata": {
        "id": "NHr6FCAB0SgA",
        "colab_type": "code",
        "colab": {
          "base_uri": "https://localhost:8080/",
          "height": 1000
        },
        "outputId": "40d0651f-654e-46ad-f8d2-d3a641a27ce3"
      },
      "source": [
        "history_2 = model_2.fit(X_train, y_train, epochs=100, validation_split=0.2)"
      ],
      "execution_count": 11,
      "outputs": [
        {
          "output_type": "stream",
          "text": [
            "Train on 40000 samples, validate on 10000 samples\n",
            "Epoch 1/100\n",
            "40000/40000 [==============================] - 3s 67us/step - loss: 2.1298 - accuracy: 0.1940 - val_loss: 2.0033 - val_accuracy: 0.2566\n",
            "Epoch 2/100\n",
            "40000/40000 [==============================] - 3s 67us/step - loss: 1.9378 - accuracy: 0.2999 - val_loss: 1.8999 - val_accuracy: 0.3273\n",
            "Epoch 3/100\n",
            "40000/40000 [==============================] - 3s 70us/step - loss: 1.8530 - accuracy: 0.3382 - val_loss: 1.8421 - val_accuracy: 0.3426\n",
            "Epoch 4/100\n",
            "40000/40000 [==============================] - 3s 70us/step - loss: 1.8036 - accuracy: 0.3571 - val_loss: 1.8171 - val_accuracy: 0.3542\n",
            "Epoch 5/100\n",
            "40000/40000 [==============================] - 3s 69us/step - loss: 1.7793 - accuracy: 0.3633 - val_loss: 1.8671 - val_accuracy: 0.3309\n",
            "Epoch 6/100\n",
            "40000/40000 [==============================] - 3s 68us/step - loss: 1.7637 - accuracy: 0.3715 - val_loss: 1.7847 - val_accuracy: 0.3622\n",
            "Epoch 7/100\n",
            "40000/40000 [==============================] - 3s 68us/step - loss: 1.7524 - accuracy: 0.3719 - val_loss: 1.7578 - val_accuracy: 0.3726\n",
            "Epoch 8/100\n",
            "40000/40000 [==============================] - 3s 66us/step - loss: 1.7431 - accuracy: 0.3760 - val_loss: 1.7634 - val_accuracy: 0.3725\n",
            "Epoch 9/100\n",
            "40000/40000 [==============================] - 3s 65us/step - loss: 1.7337 - accuracy: 0.3790 - val_loss: 1.7592 - val_accuracy: 0.3728\n",
            "Epoch 10/100\n",
            "40000/40000 [==============================] - 3s 65us/step - loss: 1.7257 - accuracy: 0.3828 - val_loss: 1.7469 - val_accuracy: 0.3714\n",
            "Epoch 11/100\n",
            "40000/40000 [==============================] - 3s 66us/step - loss: 1.7213 - accuracy: 0.3859 - val_loss: 1.7498 - val_accuracy: 0.3827\n",
            "Epoch 12/100\n",
            "40000/40000 [==============================] - 3s 67us/step - loss: 1.7118 - accuracy: 0.3886 - val_loss: 1.7889 - val_accuracy: 0.3676\n",
            "Epoch 13/100\n",
            "40000/40000 [==============================] - 3s 66us/step - loss: 1.7075 - accuracy: 0.3911 - val_loss: 1.7607 - val_accuracy: 0.3781\n",
            "Epoch 14/100\n",
            "40000/40000 [==============================] - 3s 66us/step - loss: 1.7016 - accuracy: 0.3936 - val_loss: 1.7424 - val_accuracy: 0.3842\n",
            "Epoch 15/100\n",
            "40000/40000 [==============================] - 3s 67us/step - loss: 1.6989 - accuracy: 0.3946 - val_loss: 1.7260 - val_accuracy: 0.3911\n",
            "Epoch 16/100\n",
            "40000/40000 [==============================] - 3s 66us/step - loss: 1.6953 - accuracy: 0.3956 - val_loss: 1.7312 - val_accuracy: 0.3879\n",
            "Epoch 17/100\n",
            "40000/40000 [==============================] - 3s 66us/step - loss: 1.6912 - accuracy: 0.3964 - val_loss: 1.7253 - val_accuracy: 0.3928\n",
            "Epoch 18/100\n",
            "40000/40000 [==============================] - 3s 66us/step - loss: 1.6871 - accuracy: 0.3996 - val_loss: 1.7305 - val_accuracy: 0.3879\n",
            "Epoch 19/100\n",
            "40000/40000 [==============================] - 3s 67us/step - loss: 1.6846 - accuracy: 0.3989 - val_loss: 1.7057 - val_accuracy: 0.3944\n",
            "Epoch 20/100\n",
            "40000/40000 [==============================] - 3s 66us/step - loss: 1.6795 - accuracy: 0.4016 - val_loss: 1.7072 - val_accuracy: 0.3939\n",
            "Epoch 21/100\n",
            "40000/40000 [==============================] - 3s 66us/step - loss: 1.6790 - accuracy: 0.4002 - val_loss: 1.7512 - val_accuracy: 0.3766\n",
            "Epoch 22/100\n",
            "40000/40000 [==============================] - 3s 66us/step - loss: 1.6757 - accuracy: 0.4031 - val_loss: 1.7155 - val_accuracy: 0.3931\n",
            "Epoch 23/100\n",
            "40000/40000 [==============================] - 3s 66us/step - loss: 1.6725 - accuracy: 0.4045 - val_loss: 1.7010 - val_accuracy: 0.3986\n",
            "Epoch 24/100\n",
            "40000/40000 [==============================] - 3s 67us/step - loss: 1.6700 - accuracy: 0.4062 - val_loss: 1.7133 - val_accuracy: 0.3950\n",
            "Epoch 25/100\n",
            "40000/40000 [==============================] - 3s 66us/step - loss: 1.6705 - accuracy: 0.4044 - val_loss: 1.7015 - val_accuracy: 0.3994\n",
            "Epoch 26/100\n",
            "40000/40000 [==============================] - 3s 67us/step - loss: 1.6668 - accuracy: 0.4058 - val_loss: 1.7222 - val_accuracy: 0.3913\n",
            "Epoch 27/100\n",
            "40000/40000 [==============================] - 3s 66us/step - loss: 1.6647 - accuracy: 0.4053 - val_loss: 1.6980 - val_accuracy: 0.3986\n",
            "Epoch 28/100\n",
            "40000/40000 [==============================] - 3s 66us/step - loss: 1.6614 - accuracy: 0.4084 - val_loss: 1.7195 - val_accuracy: 0.3960\n",
            "Epoch 29/100\n",
            "40000/40000 [==============================] - 3s 67us/step - loss: 1.6589 - accuracy: 0.4069 - val_loss: 1.6942 - val_accuracy: 0.3959\n",
            "Epoch 30/100\n",
            "40000/40000 [==============================] - 3s 67us/step - loss: 1.6593 - accuracy: 0.4065 - val_loss: 1.7148 - val_accuracy: 0.3915\n",
            "Epoch 31/100\n",
            "40000/40000 [==============================] - 3s 66us/step - loss: 1.6575 - accuracy: 0.4069 - val_loss: 1.7182 - val_accuracy: 0.3897\n",
            "Epoch 32/100\n",
            "40000/40000 [==============================] - 3s 66us/step - loss: 1.6566 - accuracy: 0.4087 - val_loss: 1.7251 - val_accuracy: 0.3836\n",
            "Epoch 33/100\n",
            "40000/40000 [==============================] - 3s 67us/step - loss: 1.6536 - accuracy: 0.4104 - val_loss: 1.7124 - val_accuracy: 0.3925\n",
            "Epoch 34/100\n",
            "40000/40000 [==============================] - 3s 66us/step - loss: 1.6531 - accuracy: 0.4102 - val_loss: 1.6949 - val_accuracy: 0.3992\n",
            "Epoch 35/100\n",
            "40000/40000 [==============================] - 3s 67us/step - loss: 1.6505 - accuracy: 0.4095 - val_loss: 1.6890 - val_accuracy: 0.4045\n",
            "Epoch 36/100\n",
            "40000/40000 [==============================] - 3s 66us/step - loss: 1.6475 - accuracy: 0.4114 - val_loss: 1.7012 - val_accuracy: 0.3948\n",
            "Epoch 37/100\n",
            "40000/40000 [==============================] - 3s 66us/step - loss: 1.6445 - accuracy: 0.4147 - val_loss: 1.7240 - val_accuracy: 0.3844\n",
            "Epoch 38/100\n",
            "40000/40000 [==============================] - 3s 66us/step - loss: 1.6410 - accuracy: 0.4137 - val_loss: 1.7034 - val_accuracy: 0.4026\n",
            "Epoch 39/100\n",
            "40000/40000 [==============================] - 3s 66us/step - loss: 1.6366 - accuracy: 0.4157 - val_loss: 1.7073 - val_accuracy: 0.3999\n",
            "Epoch 40/100\n",
            "40000/40000 [==============================] - 3s 66us/step - loss: 1.6334 - accuracy: 0.4186 - val_loss: 1.6848 - val_accuracy: 0.4043\n",
            "Epoch 41/100\n",
            "40000/40000 [==============================] - 3s 66us/step - loss: 1.6310 - accuracy: 0.4184 - val_loss: 1.6902 - val_accuracy: 0.4033\n",
            "Epoch 42/100\n",
            "40000/40000 [==============================] - 3s 66us/step - loss: 1.6296 - accuracy: 0.4189 - val_loss: 1.6701 - val_accuracy: 0.4104\n",
            "Epoch 43/100\n",
            "40000/40000 [==============================] - 3s 66us/step - loss: 1.6266 - accuracy: 0.4200 - val_loss: 1.6868 - val_accuracy: 0.4022\n",
            "Epoch 44/100\n",
            "40000/40000 [==============================] - 3s 67us/step - loss: 1.6241 - accuracy: 0.4199 - val_loss: 1.6676 - val_accuracy: 0.4078\n",
            "Epoch 45/100\n",
            "40000/40000 [==============================] - 3s 66us/step - loss: 1.6243 - accuracy: 0.4207 - val_loss: 1.6679 - val_accuracy: 0.4086\n",
            "Epoch 46/100\n",
            "40000/40000 [==============================] - 3s 66us/step - loss: 1.6224 - accuracy: 0.4204 - val_loss: 1.7004 - val_accuracy: 0.4035\n",
            "Epoch 47/100\n",
            "40000/40000 [==============================] - 3s 66us/step - loss: 1.6201 - accuracy: 0.4218 - val_loss: 1.6844 - val_accuracy: 0.3999\n",
            "Epoch 48/100\n",
            "40000/40000 [==============================] - 3s 66us/step - loss: 1.6191 - accuracy: 0.4218 - val_loss: 1.6823 - val_accuracy: 0.4052\n",
            "Epoch 49/100\n",
            "40000/40000 [==============================] - 3s 67us/step - loss: 1.6180 - accuracy: 0.4207 - val_loss: 1.6777 - val_accuracy: 0.4045\n",
            "Epoch 50/100\n",
            "40000/40000 [==============================] - 3s 66us/step - loss: 1.6161 - accuracy: 0.4225 - val_loss: 1.6678 - val_accuracy: 0.4110\n",
            "Epoch 51/100\n",
            "40000/40000 [==============================] - 3s 66us/step - loss: 1.6162 - accuracy: 0.4219 - val_loss: 1.6581 - val_accuracy: 0.4143\n",
            "Epoch 52/100\n",
            "40000/40000 [==============================] - 3s 66us/step - loss: 1.6141 - accuracy: 0.4218 - val_loss: 1.6715 - val_accuracy: 0.4056\n",
            "Epoch 53/100\n",
            "40000/40000 [==============================] - 3s 66us/step - loss: 1.6125 - accuracy: 0.4260 - val_loss: 1.6900 - val_accuracy: 0.3982\n",
            "Epoch 54/100\n",
            "40000/40000 [==============================] - 3s 66us/step - loss: 1.6096 - accuracy: 0.4229 - val_loss: 1.6605 - val_accuracy: 0.4095\n",
            "Epoch 55/100\n",
            "40000/40000 [==============================] - 3s 66us/step - loss: 1.6116 - accuracy: 0.4245 - val_loss: 1.6784 - val_accuracy: 0.4061\n",
            "Epoch 56/100\n",
            "40000/40000 [==============================] - 3s 66us/step - loss: 1.6112 - accuracy: 0.4232 - val_loss: 1.6705 - val_accuracy: 0.4092\n",
            "Epoch 57/100\n",
            "40000/40000 [==============================] - 3s 66us/step - loss: 1.6085 - accuracy: 0.4253 - val_loss: 1.6782 - val_accuracy: 0.4111\n",
            "Epoch 58/100\n",
            "40000/40000 [==============================] - 3s 66us/step - loss: 1.6075 - accuracy: 0.4271 - val_loss: 1.6689 - val_accuracy: 0.4053\n",
            "Epoch 59/100\n",
            "40000/40000 [==============================] - 3s 66us/step - loss: 1.6073 - accuracy: 0.4249 - val_loss: 1.6607 - val_accuracy: 0.4147\n",
            "Epoch 60/100\n",
            "40000/40000 [==============================] - 3s 67us/step - loss: 1.6047 - accuracy: 0.4228 - val_loss: 1.6574 - val_accuracy: 0.4143\n",
            "Epoch 61/100\n",
            "40000/40000 [==============================] - 3s 65us/step - loss: 1.6025 - accuracy: 0.4250 - val_loss: 1.6654 - val_accuracy: 0.4090\n",
            "Epoch 62/100\n",
            "40000/40000 [==============================] - 3s 66us/step - loss: 1.6014 - accuracy: 0.4274 - val_loss: 1.6607 - val_accuracy: 0.4169\n",
            "Epoch 63/100\n",
            "40000/40000 [==============================] - 3s 66us/step - loss: 1.6019 - accuracy: 0.4270 - val_loss: 1.6617 - val_accuracy: 0.4146\n",
            "Epoch 64/100\n",
            "40000/40000 [==============================] - 3s 66us/step - loss: 1.6000 - accuracy: 0.4282 - val_loss: 1.6555 - val_accuracy: 0.4140\n",
            "Epoch 65/100\n",
            "40000/40000 [==============================] - 3s 66us/step - loss: 1.6008 - accuracy: 0.4276 - val_loss: 1.6736 - val_accuracy: 0.4016\n",
            "Epoch 66/100\n",
            "40000/40000 [==============================] - 3s 66us/step - loss: 1.5991 - accuracy: 0.4270 - val_loss: 1.6609 - val_accuracy: 0.4113\n",
            "Epoch 67/100\n",
            "40000/40000 [==============================] - 3s 66us/step - loss: 1.5974 - accuracy: 0.4281 - val_loss: 1.6655 - val_accuracy: 0.4081\n",
            "Epoch 68/100\n",
            "40000/40000 [==============================] - 3s 66us/step - loss: 1.5971 - accuracy: 0.4261 - val_loss: 1.6738 - val_accuracy: 0.4052\n",
            "Epoch 69/100\n",
            "40000/40000 [==============================] - 3s 66us/step - loss: 1.5952 - accuracy: 0.4275 - val_loss: 1.6659 - val_accuracy: 0.4078\n",
            "Epoch 70/100\n",
            "40000/40000 [==============================] - 3s 66us/step - loss: 1.5959 - accuracy: 0.4277 - val_loss: 1.6582 - val_accuracy: 0.4150\n",
            "Epoch 71/100\n",
            "40000/40000 [==============================] - 3s 65us/step - loss: 1.5964 - accuracy: 0.4282 - val_loss: 1.6688 - val_accuracy: 0.4105\n",
            "Epoch 72/100\n",
            "40000/40000 [==============================] - 3s 66us/step - loss: 1.5926 - accuracy: 0.4292 - val_loss: 1.6605 - val_accuracy: 0.4109\n",
            "Epoch 73/100\n",
            "40000/40000 [==============================] - 3s 66us/step - loss: 1.5922 - accuracy: 0.4285 - val_loss: 1.6546 - val_accuracy: 0.4122\n",
            "Epoch 74/100\n",
            "40000/40000 [==============================] - 3s 66us/step - loss: 1.5908 - accuracy: 0.4302 - val_loss: 1.6878 - val_accuracy: 0.3990\n",
            "Epoch 75/100\n",
            "40000/40000 [==============================] - 3s 66us/step - loss: 1.5907 - accuracy: 0.4284 - val_loss: 1.6716 - val_accuracy: 0.4047\n",
            "Epoch 76/100\n",
            "40000/40000 [==============================] - 3s 69us/step - loss: 1.5908 - accuracy: 0.4288 - val_loss: 1.6815 - val_accuracy: 0.4030\n",
            "Epoch 77/100\n",
            "40000/40000 [==============================] - 3s 69us/step - loss: 1.5898 - accuracy: 0.4304 - val_loss: 1.6658 - val_accuracy: 0.4077\n",
            "Epoch 78/100\n",
            "40000/40000 [==============================] - 3s 66us/step - loss: 1.5859 - accuracy: 0.4318 - val_loss: 1.6823 - val_accuracy: 0.4052\n",
            "Epoch 79/100\n",
            "40000/40000 [==============================] - 3s 66us/step - loss: 1.5884 - accuracy: 0.4328 - val_loss: 1.6604 - val_accuracy: 0.4145\n",
            "Epoch 80/100\n",
            "40000/40000 [==============================] - 3s 66us/step - loss: 1.5892 - accuracy: 0.4293 - val_loss: 1.6664 - val_accuracy: 0.4151\n",
            "Epoch 81/100\n",
            "40000/40000 [==============================] - 3s 66us/step - loss: 1.5867 - accuracy: 0.4295 - val_loss: 1.6626 - val_accuracy: 0.4074\n",
            "Epoch 82/100\n",
            "40000/40000 [==============================] - 3s 65us/step - loss: 1.5851 - accuracy: 0.4331 - val_loss: 1.6794 - val_accuracy: 0.4088\n",
            "Epoch 83/100\n",
            "40000/40000 [==============================] - 3s 67us/step - loss: 1.5857 - accuracy: 0.4313 - val_loss: 1.6557 - val_accuracy: 0.4123\n",
            "Epoch 84/100\n",
            "40000/40000 [==============================] - 3s 66us/step - loss: 1.5824 - accuracy: 0.4337 - val_loss: 1.6638 - val_accuracy: 0.4080\n",
            "Epoch 85/100\n",
            "40000/40000 [==============================] - 3s 66us/step - loss: 1.5850 - accuracy: 0.4301 - val_loss: 1.6708 - val_accuracy: 0.4107\n",
            "Epoch 86/100\n",
            "40000/40000 [==============================] - 3s 66us/step - loss: 1.5825 - accuracy: 0.4342 - val_loss: 1.6540 - val_accuracy: 0.4156\n",
            "Epoch 87/100\n",
            "40000/40000 [==============================] - 3s 65us/step - loss: 1.5829 - accuracy: 0.4329 - val_loss: 1.6691 - val_accuracy: 0.4042\n",
            "Epoch 88/100\n",
            "40000/40000 [==============================] - 3s 65us/step - loss: 1.5805 - accuracy: 0.4333 - val_loss: 1.6754 - val_accuracy: 0.4127\n",
            "Epoch 89/100\n",
            "40000/40000 [==============================] - 3s 66us/step - loss: 1.5819 - accuracy: 0.4322 - val_loss: 1.6615 - val_accuracy: 0.4069\n",
            "Epoch 90/100\n",
            "40000/40000 [==============================] - 3s 65us/step - loss: 1.5804 - accuracy: 0.4339 - val_loss: 1.6671 - val_accuracy: 0.4115\n",
            "Epoch 91/100\n",
            "40000/40000 [==============================] - 3s 66us/step - loss: 1.5793 - accuracy: 0.4350 - val_loss: 1.6580 - val_accuracy: 0.4118\n",
            "Epoch 92/100\n",
            "40000/40000 [==============================] - 3s 66us/step - loss: 1.5791 - accuracy: 0.4349 - val_loss: 1.6619 - val_accuracy: 0.4137\n",
            "Epoch 93/100\n",
            "40000/40000 [==============================] - 3s 65us/step - loss: 1.5772 - accuracy: 0.4339 - val_loss: 1.6671 - val_accuracy: 0.4071\n",
            "Epoch 94/100\n",
            "40000/40000 [==============================] - 3s 66us/step - loss: 1.5779 - accuracy: 0.4356 - val_loss: 1.6640 - val_accuracy: 0.4094\n",
            "Epoch 95/100\n",
            "40000/40000 [==============================] - 3s 66us/step - loss: 1.5758 - accuracy: 0.4362 - val_loss: 1.6603 - val_accuracy: 0.4083\n",
            "Epoch 96/100\n",
            "40000/40000 [==============================] - 3s 66us/step - loss: 1.5758 - accuracy: 0.4329 - val_loss: 1.6566 - val_accuracy: 0.4130\n",
            "Epoch 97/100\n",
            "40000/40000 [==============================] - 3s 67us/step - loss: 1.5751 - accuracy: 0.4336 - val_loss: 1.6694 - val_accuracy: 0.4106\n",
            "Epoch 98/100\n",
            "40000/40000 [==============================] - 3s 67us/step - loss: 1.5745 - accuracy: 0.4360 - val_loss: 1.6814 - val_accuracy: 0.4049\n",
            "Epoch 99/100\n",
            "40000/40000 [==============================] - 3s 66us/step - loss: 1.5743 - accuracy: 0.4349 - val_loss: 1.6678 - val_accuracy: 0.4056\n",
            "Epoch 100/100\n",
            "40000/40000 [==============================] - 3s 66us/step - loss: 1.5736 - accuracy: 0.4342 - val_loss: 1.6763 - val_accuracy: 0.4053\n"
          ],
          "name": "stdout"
        }
      ]
    },
    {
      "cell_type": "code",
      "metadata": {
        "id": "N8CqyIJ111Vr",
        "colab_type": "code",
        "colab": {
          "base_uri": "https://localhost:8080/",
          "height": 312
        },
        "outputId": "ffd6c9b2-5eb9-4671-c875-3642c1aecbf6"
      },
      "source": [
        "#Plot of Accuracy\n",
        "import matplotlib.pyplot as plt\n",
        "\n",
        "plt.plot(history_2.history['accuracy'])\n",
        "plt.plot(history_2.history['val_accuracy'])\n",
        "plt.title('Model Accuracy')\n",
        "plt.ylabel('Accuracy')\n",
        "plt.xlabel('Epochs')\n",
        "plt.legend(['Train', 'Validation'], loc = 'upper left')"
      ],
      "execution_count": 12,
      "outputs": [
        {
          "output_type": "execute_result",
          "data": {
            "text/plain": [
              "<matplotlib.legend.Legend at 0x7efe9f58db70>"
            ]
          },
          "metadata": {
            "tags": []
          },
          "execution_count": 12
        },
        {
          "output_type": "display_data",
          "data": {
            "image/png": "[encoded data removed]",
            "text/plain": [
              "<Figure size 432x288 with 1 Axes>"
            ]
          },
          "metadata": {
            "tags": [],
            "needs_background": "light"
          }
        }
      ]
    },
    {
      "cell_type": "code",
      "metadata": {
        "id": "EHz_NLh513kw",
        "colab_type": "code",
        "colab": {
          "base_uri": "https://localhost:8080/",
          "height": 312
        },
        "outputId": "1f809582-2b87-4ee3-ada8-8521a856c693"
      },
      "source": [
        "#Plot of loss \n",
        "plt.plot(history_2.history['loss'])\n",
        "plt.plot(history_2.history['val_loss'])\n",
        "plt.title('Model Loss')\n",
        "plt.ylabel('Loss')\n",
        "plt.xlabel('Epochs')\n",
        "plt.legend(['Train', 'Validation'], loc = 'upper left')"
      ],
      "execution_count": 13,
      "outputs": [
        {
          "output_type": "execute_result",
          "data": {
            "text/plain": [
              "<matplotlib.legend.Legend at 0x7efe9f4f20f0>"
            ]
          },
          "metadata": {
            "tags": []
          },
          "execution_count": 13
        },
        {
          "output_type": "display_data",
          "data": {
            "image/png": "[encoded data removed]",
            "text/plain": [
              "<Figure size 432x288 with 1 Axes>"
            ]
          },
          "metadata": {
            "tags": [],
            "needs_background": "light"
          }
        }
      ]
    },
    {
      "cell_type": "code",
      "metadata": {
        "id": "kRNZvK8H0pFR",
        "colab_type": "code",
        "colab": {
          "base_uri": "https://localhost:8080/",
          "height": 1000
        },
        "outputId": "5598c772-0804-4775-b962-a2726f37c5ab"
      },
      "source": [
        "#Third Initializer\n",
        "#pick uniformly at random from an interval\n",
        "model_3 = Sequential()\n",
        "initial_randintv = keras.initializers.RandomUniform(minval=-0.05, maxval= -0.05)\n",
        "model_3.add(Dense(units=10, activation='relu', input_dim = 3072, kernel_initializer = 'random_uniform', bias_initializer='random_uniform'))\n",
        "model_3.add(Dense(units=10, activation='softmax', kernel_initializer = 'random_uniform', bias_initializer='random_uniform'))\n",
        "model_3.compile(loss='categorical_crossentropy', optimizer = 'sgd', metrics =['accuracy'])\n",
        "history_3 = model_3.fit(X_train, y_train, epochs=100, validation_split=0.2)"
      ],
      "execution_count": 14,
      "outputs": [
        {
          "output_type": "stream",
          "text": [
            "Train on 40000 samples, validate on 10000 samples\n",
            "Epoch 1/100\n",
            "40000/40000 [==============================] - 3s 73us/step - loss: 2.1550 - accuracy: 0.1877 - val_loss: 2.0170 - val_accuracy: 0.2460\n",
            "Epoch 2/100\n",
            "40000/40000 [==============================] - 3s 69us/step - loss: 1.9594 - accuracy: 0.2707 - val_loss: 1.9282 - val_accuracy: 0.3018\n",
            "Epoch 3/100\n",
            "40000/40000 [==============================] - 3s 67us/step - loss: 1.8915 - accuracy: 0.3140 - val_loss: 1.8780 - val_accuracy: 0.3265\n",
            "Epoch 4/100\n",
            "40000/40000 [==============================] - 3s 68us/step - loss: 1.8466 - accuracy: 0.3375 - val_loss: 1.8405 - val_accuracy: 0.3434\n",
            "Epoch 5/100\n",
            "40000/40000 [==============================] - 3s 68us/step - loss: 1.8137 - accuracy: 0.3519 - val_loss: 1.8252 - val_accuracy: 0.3427\n",
            "Epoch 6/100\n",
            "40000/40000 [==============================] - 3s 68us/step - loss: 1.7899 - accuracy: 0.3634 - val_loss: 1.7914 - val_accuracy: 0.3658\n",
            "Epoch 7/100\n",
            "40000/40000 [==============================] - 3s 67us/step - loss: 1.7721 - accuracy: 0.3675 - val_loss: 1.7922 - val_accuracy: 0.3616\n",
            "Epoch 8/100\n",
            "40000/40000 [==============================] - 3s 67us/step - loss: 1.7564 - accuracy: 0.3727 - val_loss: 1.7729 - val_accuracy: 0.3688\n",
            "Epoch 9/100\n",
            "40000/40000 [==============================] - 3s 67us/step - loss: 1.7413 - accuracy: 0.3789 - val_loss: 1.7499 - val_accuracy: 0.3789\n",
            "Epoch 10/100\n",
            "40000/40000 [==============================] - 3s 68us/step - loss: 1.7305 - accuracy: 0.3819 - val_loss: 1.7428 - val_accuracy: 0.3771\n",
            "Epoch 11/100\n",
            "40000/40000 [==============================] - 3s 68us/step - loss: 1.7210 - accuracy: 0.3829 - val_loss: 1.7408 - val_accuracy: 0.3819\n",
            "Epoch 12/100\n",
            "40000/40000 [==============================] - 3s 67us/step - loss: 1.7116 - accuracy: 0.3881 - val_loss: 1.7448 - val_accuracy: 0.3720\n",
            "Epoch 13/100\n",
            "40000/40000 [==============================] - 3s 67us/step - loss: 1.7052 - accuracy: 0.3892 - val_loss: 1.7350 - val_accuracy: 0.3815\n",
            "Epoch 14/100\n",
            "40000/40000 [==============================] - 3s 69us/step - loss: 1.6996 - accuracy: 0.3916 - val_loss: 1.7348 - val_accuracy: 0.3801\n",
            "Epoch 15/100\n",
            "40000/40000 [==============================] - 3s 71us/step - loss: 1.6938 - accuracy: 0.3928 - val_loss: 1.7346 - val_accuracy: 0.3851\n",
            "Epoch 16/100\n",
            "40000/40000 [==============================] - 3s 71us/step - loss: 1.6886 - accuracy: 0.3950 - val_loss: 1.7137 - val_accuracy: 0.3943\n",
            "Epoch 17/100\n",
            "40000/40000 [==============================] - 3s 71us/step - loss: 1.6858 - accuracy: 0.3975 - val_loss: 1.7126 - val_accuracy: 0.3935\n",
            "Epoch 18/100\n",
            "40000/40000 [==============================] - 3s 70us/step - loss: 1.6798 - accuracy: 0.3984 - val_loss: 1.7093 - val_accuracy: 0.3930\n",
            "Epoch 19/100\n",
            "40000/40000 [==============================] - 3s 75us/step - loss: 1.6737 - accuracy: 0.4005 - val_loss: 1.7176 - val_accuracy: 0.3878\n",
            "Epoch 20/100\n",
            "40000/40000 [==============================] - 3s 76us/step - loss: 1.6667 - accuracy: 0.4018 - val_loss: 1.7025 - val_accuracy: 0.3960\n",
            "Epoch 21/100\n",
            "40000/40000 [==============================] - 3s 76us/step - loss: 1.6608 - accuracy: 0.4067 - val_loss: 1.7086 - val_accuracy: 0.3955\n",
            "Epoch 22/100\n",
            "40000/40000 [==============================] - 3s 73us/step - loss: 1.6561 - accuracy: 0.4105 - val_loss: 1.7156 - val_accuracy: 0.3839\n",
            "Epoch 23/100\n",
            "40000/40000 [==============================] - 3s 72us/step - loss: 1.6504 - accuracy: 0.4130 - val_loss: 1.6853 - val_accuracy: 0.4035\n",
            "Epoch 24/100\n",
            "40000/40000 [==============================] - 3s 71us/step - loss: 1.6477 - accuracy: 0.4123 - val_loss: 1.7304 - val_accuracy: 0.3881\n",
            "Epoch 25/100\n",
            "40000/40000 [==============================] - 3s 71us/step - loss: 1.6440 - accuracy: 0.4146 - val_loss: 1.7103 - val_accuracy: 0.3927\n",
            "Epoch 26/100\n",
            "40000/40000 [==============================] - 3s 71us/step - loss: 1.6417 - accuracy: 0.4122 - val_loss: 1.6959 - val_accuracy: 0.3964\n",
            "Epoch 27/100\n",
            "40000/40000 [==============================] - 3s 71us/step - loss: 1.6365 - accuracy: 0.4150 - val_loss: 1.6811 - val_accuracy: 0.4021\n",
            "Epoch 28/100\n",
            "40000/40000 [==============================] - 3s 71us/step - loss: 1.6322 - accuracy: 0.4154 - val_loss: 1.6872 - val_accuracy: 0.4019\n",
            "Epoch 29/100\n",
            "40000/40000 [==============================] - 3s 70us/step - loss: 1.6314 - accuracy: 0.4176 - val_loss: 1.6734 - val_accuracy: 0.4023\n",
            "Epoch 30/100\n",
            "40000/40000 [==============================] - 3s 71us/step - loss: 1.6289 - accuracy: 0.4188 - val_loss: 1.6759 - val_accuracy: 0.4052\n",
            "Epoch 31/100\n",
            "40000/40000 [==============================] - 3s 71us/step - loss: 1.6264 - accuracy: 0.4178 - val_loss: 1.6836 - val_accuracy: 0.4051\n",
            "Epoch 32/100\n",
            "40000/40000 [==============================] - 3s 68us/step - loss: 1.6251 - accuracy: 0.4173 - val_loss: 1.6977 - val_accuracy: 0.3918\n",
            "Epoch 33/100\n",
            "40000/40000 [==============================] - 3s 67us/step - loss: 1.6218 - accuracy: 0.4205 - val_loss: 1.6868 - val_accuracy: 0.3970\n",
            "Epoch 34/100\n",
            "40000/40000 [==============================] - 3s 67us/step - loss: 1.6195 - accuracy: 0.4212 - val_loss: 1.6713 - val_accuracy: 0.4108\n",
            "Epoch 35/100\n",
            "40000/40000 [==============================] - 3s 68us/step - loss: 1.6189 - accuracy: 0.4229 - val_loss: 1.7062 - val_accuracy: 0.3951\n",
            "Epoch 36/100\n",
            "40000/40000 [==============================] - 3s 67us/step - loss: 1.6155 - accuracy: 0.4242 - val_loss: 1.6842 - val_accuracy: 0.3990\n",
            "Epoch 37/100\n",
            "40000/40000 [==============================] - 3s 68us/step - loss: 1.6137 - accuracy: 0.4261 - val_loss: 1.6958 - val_accuracy: 0.3977\n",
            "Epoch 38/100\n",
            "40000/40000 [==============================] - 3s 67us/step - loss: 1.6139 - accuracy: 0.4218 - val_loss: 1.6662 - val_accuracy: 0.4080\n",
            "Epoch 39/100\n",
            "40000/40000 [==============================] - 3s 66us/step - loss: 1.6102 - accuracy: 0.4251 - val_loss: 1.6630 - val_accuracy: 0.4085\n",
            "Epoch 40/100\n",
            "40000/40000 [==============================] - 3s 67us/step - loss: 1.6088 - accuracy: 0.4234 - val_loss: 1.6707 - val_accuracy: 0.4072\n",
            "Epoch 41/100\n",
            "40000/40000 [==============================] - 3s 70us/step - loss: 1.6071 - accuracy: 0.4274 - val_loss: 1.6855 - val_accuracy: 0.4076\n",
            "Epoch 42/100\n",
            "40000/40000 [==============================] - 3s 71us/step - loss: 1.6071 - accuracy: 0.4270 - val_loss: 1.6805 - val_accuracy: 0.4035\n",
            "Epoch 43/100\n",
            "40000/40000 [==============================] - 3s 71us/step - loss: 1.6056 - accuracy: 0.4265 - val_loss: 1.6638 - val_accuracy: 0.4104\n",
            "Epoch 44/100\n",
            "40000/40000 [==============================] - 3s 71us/step - loss: 1.6032 - accuracy: 0.4275 - val_loss: 1.6802 - val_accuracy: 0.4012\n",
            "Epoch 45/100\n",
            "40000/40000 [==============================] - 3s 69us/step - loss: 1.6025 - accuracy: 0.4266 - val_loss: 1.6663 - val_accuracy: 0.4089\n",
            "Epoch 46/100\n",
            "40000/40000 [==============================] - 3s 67us/step - loss: 1.5991 - accuracy: 0.4272 - val_loss: 1.6588 - val_accuracy: 0.4115\n",
            "Epoch 47/100\n",
            "40000/40000 [==============================] - 3s 67us/step - loss: 1.6003 - accuracy: 0.4274 - val_loss: 1.6833 - val_accuracy: 0.4014\n",
            "Epoch 48/100\n",
            "40000/40000 [==============================] - 3s 66us/step - loss: 1.5973 - accuracy: 0.4301 - val_loss: 1.6671 - val_accuracy: 0.4055\n",
            "Epoch 49/100\n",
            "40000/40000 [==============================] - 3s 67us/step - loss: 1.5957 - accuracy: 0.4292 - val_loss: 1.6543 - val_accuracy: 0.4205\n",
            "Epoch 50/100\n",
            "40000/40000 [==============================] - 3s 67us/step - loss: 1.5951 - accuracy: 0.4285 - val_loss: 1.6573 - val_accuracy: 0.4150\n",
            "Epoch 51/100\n",
            "40000/40000 [==============================] - 3s 67us/step - loss: 1.5940 - accuracy: 0.4295 - val_loss: 1.6790 - val_accuracy: 0.3987\n",
            "Epoch 52/100\n",
            "40000/40000 [==============================] - 3s 68us/step - loss: 1.5935 - accuracy: 0.4285 - val_loss: 1.6722 - val_accuracy: 0.4084\n",
            "Epoch 53/100\n",
            "40000/40000 [==============================] - 3s 67us/step - loss: 1.5912 - accuracy: 0.4313 - val_loss: 1.6939 - val_accuracy: 0.4058\n",
            "Epoch 54/100\n",
            "40000/40000 [==============================] - 3s 67us/step - loss: 1.5912 - accuracy: 0.4308 - val_loss: 1.6567 - val_accuracy: 0.4081\n",
            "Epoch 55/100\n",
            "40000/40000 [==============================] - 3s 67us/step - loss: 1.5910 - accuracy: 0.4298 - val_loss: 1.6525 - val_accuracy: 0.4115\n",
            "Epoch 56/100\n",
            "40000/40000 [==============================] - 3s 67us/step - loss: 1.5891 - accuracy: 0.4329 - val_loss: 1.6786 - val_accuracy: 0.3997\n",
            "Epoch 57/100\n",
            "40000/40000 [==============================] - 3s 66us/step - loss: 1.5854 - accuracy: 0.4315 - val_loss: 1.7145 - val_accuracy: 0.3912\n",
            "Epoch 58/100\n",
            "40000/40000 [==============================] - 3s 67us/step - loss: 1.5869 - accuracy: 0.4311 - val_loss: 1.6690 - val_accuracy: 0.4160\n",
            "Epoch 59/100\n",
            "40000/40000 [==============================] - 3s 67us/step - loss: 1.5852 - accuracy: 0.4320 - val_loss: 1.6826 - val_accuracy: 0.4015\n",
            "Epoch 60/100\n",
            "40000/40000 [==============================] - 3s 67us/step - loss: 1.5853 - accuracy: 0.4328 - val_loss: 1.6956 - val_accuracy: 0.4023\n",
            "Epoch 61/100\n",
            "40000/40000 [==============================] - 3s 67us/step - loss: 1.5847 - accuracy: 0.4318 - val_loss: 1.6664 - val_accuracy: 0.4087\n",
            "Epoch 62/100\n",
            "40000/40000 [==============================] - 3s 67us/step - loss: 1.5821 - accuracy: 0.4333 - val_loss: 1.6714 - val_accuracy: 0.4085\n",
            "Epoch 63/100\n",
            "40000/40000 [==============================] - 3s 66us/step - loss: 1.5808 - accuracy: 0.4345 - val_loss: 1.6550 - val_accuracy: 0.4181\n",
            "Epoch 64/100\n",
            "40000/40000 [==============================] - 3s 67us/step - loss: 1.5817 - accuracy: 0.4322 - val_loss: 1.6747 - val_accuracy: 0.4085\n",
            "Epoch 65/100\n",
            "40000/40000 [==============================] - 3s 66us/step - loss: 1.5796 - accuracy: 0.4334 - val_loss: 1.6799 - val_accuracy: 0.4002\n",
            "Epoch 66/100\n",
            "40000/40000 [==============================] - 3s 67us/step - loss: 1.5798 - accuracy: 0.4345 - val_loss: 1.6832 - val_accuracy: 0.4025\n",
            "Epoch 67/100\n",
            "40000/40000 [==============================] - 3s 69us/step - loss: 1.5773 - accuracy: 0.4377 - val_loss: 1.6745 - val_accuracy: 0.4093\n",
            "Epoch 68/100\n",
            "40000/40000 [==============================] - 3s 71us/step - loss: 1.5785 - accuracy: 0.4349 - val_loss: 1.6673 - val_accuracy: 0.4074\n",
            "Epoch 69/100\n",
            "40000/40000 [==============================] - 3s 73us/step - loss: 1.5751 - accuracy: 0.4377 - val_loss: 1.6638 - val_accuracy: 0.4073\n",
            "Epoch 70/100\n",
            "40000/40000 [==============================] - 3s 72us/step - loss: 1.5762 - accuracy: 0.4375 - val_loss: 1.6723 - val_accuracy: 0.4063\n",
            "Epoch 71/100\n",
            "40000/40000 [==============================] - 3s 71us/step - loss: 1.5746 - accuracy: 0.4351 - val_loss: 1.6847 - val_accuracy: 0.4064\n",
            "Epoch 72/100\n",
            "40000/40000 [==============================] - 3s 69us/step - loss: 1.5738 - accuracy: 0.4353 - val_loss: 1.6659 - val_accuracy: 0.4068\n",
            "Epoch 73/100\n",
            "40000/40000 [==============================] - 3s 67us/step - loss: 1.5731 - accuracy: 0.4342 - val_loss: 1.6988 - val_accuracy: 0.3934\n",
            "Epoch 74/100\n",
            "40000/40000 [==============================] - 3s 68us/step - loss: 1.5706 - accuracy: 0.4386 - val_loss: 1.6728 - val_accuracy: 0.4032\n",
            "Epoch 75/100\n",
            "40000/40000 [==============================] - 3s 69us/step - loss: 1.5721 - accuracy: 0.4352 - val_loss: 1.6513 - val_accuracy: 0.4124\n",
            "Epoch 76/100\n",
            "40000/40000 [==============================] - 3s 68us/step - loss: 1.5706 - accuracy: 0.4391 - val_loss: 1.6884 - val_accuracy: 0.4072\n",
            "Epoch 77/100\n",
            "40000/40000 [==============================] - 3s 68us/step - loss: 1.5717 - accuracy: 0.4368 - val_loss: 1.6814 - val_accuracy: 0.4145\n",
            "Epoch 78/100\n",
            "40000/40000 [==============================] - 3s 67us/step - loss: 1.5691 - accuracy: 0.4378 - val_loss: 1.6798 - val_accuracy: 0.4063\n",
            "Epoch 79/100\n",
            "40000/40000 [==============================] - 3s 67us/step - loss: 1.5696 - accuracy: 0.4383 - val_loss: 1.6961 - val_accuracy: 0.4041\n",
            "Epoch 80/100\n",
            "40000/40000 [==============================] - 3s 68us/step - loss: 1.5692 - accuracy: 0.4395 - val_loss: 1.6600 - val_accuracy: 0.4140\n",
            "Epoch 81/100\n",
            "40000/40000 [==============================] - 3s 68us/step - loss: 1.5674 - accuracy: 0.4377 - val_loss: 1.6570 - val_accuracy: 0.4176\n",
            "Epoch 82/100\n",
            "40000/40000 [==============================] - 3s 69us/step - loss: 1.5653 - accuracy: 0.4378 - val_loss: 1.6463 - val_accuracy: 0.4180\n",
            "Epoch 83/100\n",
            "40000/40000 [==============================] - 3s 71us/step - loss: 1.5661 - accuracy: 0.4391 - val_loss: 1.6710 - val_accuracy: 0.4061\n",
            "Epoch 84/100\n",
            "40000/40000 [==============================] - 3s 71us/step - loss: 1.5653 - accuracy: 0.4393 - val_loss: 1.6661 - val_accuracy: 0.4098\n",
            "Epoch 85/100\n",
            "40000/40000 [==============================] - 3s 71us/step - loss: 1.5641 - accuracy: 0.4390 - val_loss: 1.6511 - val_accuracy: 0.4158\n",
            "Epoch 86/100\n",
            "40000/40000 [==============================] - 3s 71us/step - loss: 1.5638 - accuracy: 0.4396 - val_loss: 1.7175 - val_accuracy: 0.3976\n",
            "Epoch 87/100\n",
            "40000/40000 [==============================] - 3s 72us/step - loss: 1.5607 - accuracy: 0.4416 - val_loss: 1.6489 - val_accuracy: 0.4227\n",
            "Epoch 88/100\n",
            "40000/40000 [==============================] - 3s 71us/step - loss: 1.5620 - accuracy: 0.4425 - val_loss: 1.6601 - val_accuracy: 0.4136\n",
            "Epoch 89/100\n",
            "40000/40000 [==============================] - 3s 72us/step - loss: 1.5603 - accuracy: 0.4414 - val_loss: 1.6664 - val_accuracy: 0.4120\n",
            "Epoch 90/100\n",
            "40000/40000 [==============================] - 3s 70us/step - loss: 1.5598 - accuracy: 0.4412 - val_loss: 1.6674 - val_accuracy: 0.4131\n",
            "Epoch 91/100\n",
            "40000/40000 [==============================] - 3s 71us/step - loss: 1.5595 - accuracy: 0.4392 - val_loss: 1.6620 - val_accuracy: 0.4123\n",
            "Epoch 92/100\n",
            "40000/40000 [==============================] - 3s 72us/step - loss: 1.5598 - accuracy: 0.4406 - val_loss: 1.6562 - val_accuracy: 0.4144\n",
            "Epoch 93/100\n",
            "40000/40000 [==============================] - 3s 72us/step - loss: 1.5598 - accuracy: 0.4411 - val_loss: 1.6892 - val_accuracy: 0.4050\n",
            "Epoch 94/100\n",
            "40000/40000 [==============================] - 3s 71us/step - loss: 1.5580 - accuracy: 0.4415 - val_loss: 1.6664 - val_accuracy: 0.4113\n",
            "Epoch 95/100\n",
            "40000/40000 [==============================] - 3s 71us/step - loss: 1.5577 - accuracy: 0.4423 - val_loss: 1.6658 - val_accuracy: 0.4154\n",
            "Epoch 96/100\n",
            "40000/40000 [==============================] - 3s 72us/step - loss: 1.5552 - accuracy: 0.4426 - val_loss: 1.6630 - val_accuracy: 0.4107\n",
            "Epoch 97/100\n",
            "40000/40000 [==============================] - 3s 71us/step - loss: 1.5567 - accuracy: 0.4401 - val_loss: 1.6737 - val_accuracy: 0.4124\n",
            "Epoch 98/100\n",
            "40000/40000 [==============================] - 3s 70us/step - loss: 1.5560 - accuracy: 0.4427 - val_loss: 1.6597 - val_accuracy: 0.4150\n",
            "Epoch 99/100\n",
            "40000/40000 [==============================] - 3s 69us/step - loss: 1.5547 - accuracy: 0.4426 - val_loss: 1.6792 - val_accuracy: 0.4101\n",
            "Epoch 100/100\n",
            "40000/40000 [==============================] - 3s 68us/step - loss: 1.5537 - accuracy: 0.4426 - val_loss: 1.6857 - val_accuracy: 0.4043\n"
          ],
          "name": "stdout"
        }
      ]
    },
    {
      "cell_type": "code",
      "metadata": {
        "id": "1QBaEeq31_iW",
        "colab_type": "code",
        "colab": {
          "base_uri": "https://localhost:8080/",
          "height": 312
        },
        "outputId": "3ccf991a-66da-45ad-d720-7e904651a56b"
      },
      "source": [
        "#Plot of Accuracy\n",
        "import matplotlib.pyplot as plt\n",
        "\n",
        "plt.plot(history_3.history['accuracy'])\n",
        "plt.plot(history_3.history['val_accuracy'])\n",
        "plt.title('Model Accuracy')\n",
        "plt.ylabel('Accuracy')\n",
        "plt.xlabel('Epochs')\n",
        "plt.legend(['Train', 'Validation'], loc = 'upper left')"
      ],
      "execution_count": 15,
      "outputs": [
        {
          "output_type": "execute_result",
          "data": {
            "text/plain": [
              "<matplotlib.legend.Legend at 0x7efe9f3b6668>"
            ]
          },
          "metadata": {
            "tags": []
          },
          "execution_count": 15
        },
        {
          "output_type": "display_data",
          "data": {
            "image/png": "[encoded data removed]",
            "text/plain": [
              "<Figure size 432x288 with 1 Axes>"
            ]
          },
          "metadata": {
            "tags": [],
            "needs_background": "light"
          }
        }
      ]
    },
    {
      "cell_type": "code",
      "metadata": {
        "id": "ncqrzGB_2Fb6",
        "colab_type": "code",
        "colab": {
          "base_uri": "https://localhost:8080/",
          "height": 312
        },
        "outputId": "cda74744-fe22-4c8b-b6db-f08d1c49d84e"
      },
      "source": [
        "#Plot of loss \n",
        "plt.plot(history_3.history['loss'])\n",
        "plt.plot(history_3.history['val_loss'])\n",
        "plt.title('Model Loss')\n",
        "plt.ylabel('Loss')\n",
        "plt.xlabel('Epochs')\n",
        "plt.legend(['Train', 'Validation'], loc = 'upper left')"
      ],
      "execution_count": 16,
      "outputs": [
        {
          "output_type": "execute_result",
          "data": {
            "text/plain": [
              "<matplotlib.legend.Legend at 0x7efe9f33af98>"
            ]
          },
          "metadata": {
            "tags": []
          },
          "execution_count": 16
        },
        {
          "output_type": "display_data",
          "data": {
            "image/png": "[encoded data removed]",
            "text/plain": [
              "<Figure size 432x288 with 1 Axes>"
            ]
          },
          "metadata": {
            "tags": [],
            "needs_background": "light"
          }
        }
      ]
    },
    {
      "cell_type": "code",
      "metadata": {
        "id": "iegvBzHewtD9",
        "colab_type": "code",
        "colab": {}
      },
      "source": [
        "#Last initializer\n",
        "#pick values from truncated normal distribution any value beyond 99.5 conf interval or 2 std dev from mean \n",
        "model = Sequential()\n",
        "initial_truncnorm = keras.initializers.TruncatedNormal(mean=0.0, stddev=0.1)\n",
        "model.add(Dense(units=10, activation='relu', input_dim = 3072, kernel_initializer = 'random_uniform', bias_initializer='random_uniform'))\n",
        "model.add(Dense(units=10, activation='softmax', kernel_initializer = 'random_uniform', bias_initializer='random_uniform'))\n",
        "model.compile(loss='categorical_crossentropy', optimizer = 'sgd', metrics =['accuracy'])"
      ],
      "execution_count": 17,
      "outputs": []
    },
    {
      "cell_type": "code",
      "metadata": {
        "id": "TgX_PG86yAks",
        "colab_type": "code",
        "colab": {
          "base_uri": "https://localhost:8080/",
          "height": 1000
        },
        "outputId": "3547b882-8ae3-4dc7-cd3c-594f9832a79a"
      },
      "source": [
        "history = model.fit(X_train, y_train, epochs=100, validation_split=0.2)"
      ],
      "execution_count": 18,
      "outputs": [
        {
          "output_type": "stream",
          "text": [
            "Train on 40000 samples, validate on 10000 samples\n",
            "Epoch 1/100\n",
            "40000/40000 [==============================] - 3s 72us/step - loss: 2.1242 - accuracy: 0.2005 - val_loss: 1.9827 - val_accuracy: 0.2562\n",
            "Epoch 2/100\n",
            "40000/40000 [==============================] - 3s 71us/step - loss: 1.9191 - accuracy: 0.2995 - val_loss: 1.8956 - val_accuracy: 0.3126\n",
            "Epoch 3/100\n",
            "40000/40000 [==============================] - 3s 71us/step - loss: 1.8474 - accuracy: 0.3344 - val_loss: 1.8322 - val_accuracy: 0.3390\n",
            "Epoch 4/100\n",
            "40000/40000 [==============================] - 3s 70us/step - loss: 1.8100 - accuracy: 0.3464 - val_loss: 1.8314 - val_accuracy: 0.3408\n",
            "Epoch 5/100\n",
            "40000/40000 [==============================] - 3s 70us/step - loss: 1.7858 - accuracy: 0.3569 - val_loss: 1.7918 - val_accuracy: 0.3564\n",
            "Epoch 6/100\n",
            "40000/40000 [==============================] - 3s 72us/step - loss: 1.7696 - accuracy: 0.3639 - val_loss: 1.7777 - val_accuracy: 0.3549\n",
            "Epoch 7/100\n",
            "40000/40000 [==============================] - 3s 72us/step - loss: 1.7523 - accuracy: 0.3679 - val_loss: 1.7626 - val_accuracy: 0.3731\n",
            "Epoch 8/100\n",
            "40000/40000 [==============================] - 3s 70us/step - loss: 1.7316 - accuracy: 0.3787 - val_loss: 1.7522 - val_accuracy: 0.3741\n",
            "Epoch 9/100\n",
            "40000/40000 [==============================] - 3s 70us/step - loss: 1.7155 - accuracy: 0.3846 - val_loss: 1.7308 - val_accuracy: 0.3815\n",
            "Epoch 10/100\n",
            "40000/40000 [==============================] - 3s 71us/step - loss: 1.7072 - accuracy: 0.3894 - val_loss: 1.7266 - val_accuracy: 0.3813\n",
            "Epoch 11/100\n",
            "40000/40000 [==============================] - 3s 70us/step - loss: 1.6972 - accuracy: 0.3918 - val_loss: 1.7347 - val_accuracy: 0.3774\n",
            "Epoch 12/100\n",
            "40000/40000 [==============================] - 3s 71us/step - loss: 1.6908 - accuracy: 0.3946 - val_loss: 1.7355 - val_accuracy: 0.3827\n",
            "Epoch 13/100\n",
            "40000/40000 [==============================] - 3s 71us/step - loss: 1.6858 - accuracy: 0.3968 - val_loss: 1.7125 - val_accuracy: 0.3904\n",
            "Epoch 14/100\n",
            "40000/40000 [==============================] - 3s 70us/step - loss: 1.6794 - accuracy: 0.3993 - val_loss: 1.7114 - val_accuracy: 0.3934\n",
            "Epoch 15/100\n",
            "40000/40000 [==============================] - 3s 71us/step - loss: 1.6746 - accuracy: 0.4010 - val_loss: 1.7062 - val_accuracy: 0.3931\n",
            "Epoch 16/100\n",
            "40000/40000 [==============================] - 3s 70us/step - loss: 1.6713 - accuracy: 0.4012 - val_loss: 1.6936 - val_accuracy: 0.3988\n",
            "Epoch 17/100\n",
            "40000/40000 [==============================] - 3s 70us/step - loss: 1.6677 - accuracy: 0.4026 - val_loss: 1.7127 - val_accuracy: 0.3866\n",
            "Epoch 18/100\n",
            "40000/40000 [==============================] - 3s 70us/step - loss: 1.6634 - accuracy: 0.4041 - val_loss: 1.7155 - val_accuracy: 0.3808\n",
            "Epoch 19/100\n",
            "40000/40000 [==============================] - 3s 71us/step - loss: 1.6580 - accuracy: 0.4076 - val_loss: 1.6961 - val_accuracy: 0.3987\n",
            "Epoch 20/100\n",
            "40000/40000 [==============================] - 3s 70us/step - loss: 1.6504 - accuracy: 0.4079 - val_loss: 1.6995 - val_accuracy: 0.4017\n",
            "Epoch 21/100\n",
            "40000/40000 [==============================] - 3s 69us/step - loss: 1.6462 - accuracy: 0.4126 - val_loss: 1.6759 - val_accuracy: 0.4019\n",
            "Epoch 22/100\n",
            "40000/40000 [==============================] - 3s 71us/step - loss: 1.6428 - accuracy: 0.4118 - val_loss: 1.6771 - val_accuracy: 0.4062\n",
            "Epoch 23/100\n",
            "40000/40000 [==============================] - 3s 70us/step - loss: 1.6384 - accuracy: 0.4162 - val_loss: 1.6853 - val_accuracy: 0.3981\n",
            "Epoch 24/100\n",
            "40000/40000 [==============================] - 3s 71us/step - loss: 1.6357 - accuracy: 0.4152 - val_loss: 1.7177 - val_accuracy: 0.3850\n",
            "Epoch 25/100\n",
            "40000/40000 [==============================] - 3s 72us/step - loss: 1.6334 - accuracy: 0.4183 - val_loss: 1.7302 - val_accuracy: 0.3837\n",
            "Epoch 26/100\n",
            "40000/40000 [==============================] - 3s 71us/step - loss: 1.6306 - accuracy: 0.4182 - val_loss: 1.6948 - val_accuracy: 0.4004\n",
            "Epoch 27/100\n",
            "40000/40000 [==============================] - 3s 71us/step - loss: 1.6288 - accuracy: 0.4189 - val_loss: 1.7151 - val_accuracy: 0.3905\n",
            "Epoch 28/100\n",
            "40000/40000 [==============================] - 3s 70us/step - loss: 1.6252 - accuracy: 0.4229 - val_loss: 1.6740 - val_accuracy: 0.4058\n",
            "Epoch 29/100\n",
            "40000/40000 [==============================] - 3s 70us/step - loss: 1.6239 - accuracy: 0.4220 - val_loss: 1.6751 - val_accuracy: 0.4092\n",
            "Epoch 30/100\n",
            "40000/40000 [==============================] - 3s 74us/step - loss: 1.6210 - accuracy: 0.4216 - val_loss: 1.6720 - val_accuracy: 0.4055\n",
            "Epoch 31/100\n",
            "40000/40000 [==============================] - 3s 77us/step - loss: 1.6193 - accuracy: 0.4238 - val_loss: 1.6833 - val_accuracy: 0.3994\n",
            "Epoch 32/100\n",
            "40000/40000 [==============================] - 3s 76us/step - loss: 1.6177 - accuracy: 0.4230 - val_loss: 1.6605 - val_accuracy: 0.4147\n",
            "Epoch 33/100\n",
            "40000/40000 [==============================] - 3s 76us/step - loss: 1.6180 - accuracy: 0.4248 - val_loss: 1.6691 - val_accuracy: 0.4109\n",
            "Epoch 34/100\n",
            "40000/40000 [==============================] - 3s 70us/step - loss: 1.6143 - accuracy: 0.4267 - val_loss: 1.6778 - val_accuracy: 0.3993\n",
            "Epoch 35/100\n",
            "40000/40000 [==============================] - 3s 70us/step - loss: 1.6125 - accuracy: 0.4221 - val_loss: 1.6607 - val_accuracy: 0.4152\n",
            "Epoch 36/100\n",
            "40000/40000 [==============================] - 3s 71us/step - loss: 1.6112 - accuracy: 0.4278 - val_loss: 1.6841 - val_accuracy: 0.4023\n",
            "Epoch 37/100\n",
            "40000/40000 [==============================] - 3s 71us/step - loss: 1.6103 - accuracy: 0.4254 - val_loss: 1.6600 - val_accuracy: 0.4161\n",
            "Epoch 38/100\n",
            "40000/40000 [==============================] - 3s 71us/step - loss: 1.6087 - accuracy: 0.4264 - val_loss: 1.6668 - val_accuracy: 0.4047\n",
            "Epoch 39/100\n",
            "40000/40000 [==============================] - 3s 71us/step - loss: 1.6072 - accuracy: 0.4277 - val_loss: 1.6610 - val_accuracy: 0.4103\n",
            "Epoch 40/100\n",
            "40000/40000 [==============================] - 3s 70us/step - loss: 1.6068 - accuracy: 0.4255 - val_loss: 1.6769 - val_accuracy: 0.4043\n",
            "Epoch 41/100\n",
            "40000/40000 [==============================] - 3s 71us/step - loss: 1.6049 - accuracy: 0.4278 - val_loss: 1.6810 - val_accuracy: 0.4042\n",
            "Epoch 42/100\n",
            "40000/40000 [==============================] - 3s 70us/step - loss: 1.6025 - accuracy: 0.4266 - val_loss: 1.6803 - val_accuracy: 0.3983\n",
            "Epoch 43/100\n",
            "40000/40000 [==============================] - 3s 70us/step - loss: 1.6010 - accuracy: 0.4277 - val_loss: 1.6812 - val_accuracy: 0.4134\n",
            "Epoch 44/100\n",
            "40000/40000 [==============================] - 3s 69us/step - loss: 1.6000 - accuracy: 0.4279 - val_loss: 1.6552 - val_accuracy: 0.4189\n",
            "Epoch 45/100\n",
            "40000/40000 [==============================] - 3s 71us/step - loss: 1.5993 - accuracy: 0.4284 - val_loss: 1.6612 - val_accuracy: 0.4129\n",
            "Epoch 46/100\n",
            "40000/40000 [==============================] - 3s 70us/step - loss: 1.5991 - accuracy: 0.4284 - val_loss: 1.6737 - val_accuracy: 0.4137\n",
            "Epoch 47/100\n",
            "40000/40000 [==============================] - 3s 70us/step - loss: 1.5964 - accuracy: 0.4306 - val_loss: 1.6567 - val_accuracy: 0.4146\n",
            "Epoch 48/100\n",
            "40000/40000 [==============================] - 3s 71us/step - loss: 1.5970 - accuracy: 0.4305 - val_loss: 1.6753 - val_accuracy: 0.4103\n",
            "Epoch 49/100\n",
            "40000/40000 [==============================] - 3s 71us/step - loss: 1.5948 - accuracy: 0.4308 - val_loss: 1.6539 - val_accuracy: 0.4181\n",
            "Epoch 50/100\n",
            "40000/40000 [==============================] - 3s 70us/step - loss: 1.5948 - accuracy: 0.4298 - val_loss: 1.6670 - val_accuracy: 0.4094\n",
            "Epoch 51/100\n",
            "40000/40000 [==============================] - 3s 71us/step - loss: 1.5942 - accuracy: 0.4328 - val_loss: 1.6580 - val_accuracy: 0.4156\n",
            "Epoch 52/100\n",
            "40000/40000 [==============================] - 3s 70us/step - loss: 1.5894 - accuracy: 0.4350 - val_loss: 1.6663 - val_accuracy: 0.4128\n",
            "Epoch 53/100\n",
            "40000/40000 [==============================] - 3s 70us/step - loss: 1.5911 - accuracy: 0.4296 - val_loss: 1.6657 - val_accuracy: 0.4103\n",
            "Epoch 54/100\n",
            "40000/40000 [==============================] - 3s 69us/step - loss: 1.5889 - accuracy: 0.4345 - val_loss: 1.6522 - val_accuracy: 0.4133\n",
            "Epoch 55/100\n",
            "40000/40000 [==============================] - 3s 70us/step - loss: 1.5901 - accuracy: 0.4333 - val_loss: 1.6501 - val_accuracy: 0.4193\n",
            "Epoch 56/100\n",
            "40000/40000 [==============================] - 3s 70us/step - loss: 1.5886 - accuracy: 0.4351 - val_loss: 1.6533 - val_accuracy: 0.4219\n",
            "Epoch 57/100\n",
            "40000/40000 [==============================] - 3s 70us/step - loss: 1.5860 - accuracy: 0.4355 - val_loss: 1.6609 - val_accuracy: 0.4131\n",
            "Epoch 58/100\n",
            "40000/40000 [==============================] - 3s 70us/step - loss: 1.5862 - accuracy: 0.4348 - val_loss: 1.6580 - val_accuracy: 0.4100\n",
            "Epoch 59/100\n",
            "40000/40000 [==============================] - 3s 71us/step - loss: 1.5866 - accuracy: 0.4347 - val_loss: 1.6458 - val_accuracy: 0.4214\n",
            "Epoch 60/100\n",
            "40000/40000 [==============================] - 3s 71us/step - loss: 1.5829 - accuracy: 0.4353 - val_loss: 1.7116 - val_accuracy: 0.3982\n",
            "Epoch 61/100\n",
            "40000/40000 [==============================] - 3s 70us/step - loss: 1.5838 - accuracy: 0.4353 - val_loss: 1.6641 - val_accuracy: 0.4074\n",
            "Epoch 62/100\n",
            "40000/40000 [==============================] - 3s 72us/step - loss: 1.5807 - accuracy: 0.4355 - val_loss: 1.6835 - val_accuracy: 0.3995\n",
            "Epoch 63/100\n",
            "40000/40000 [==============================] - 3s 70us/step - loss: 1.5789 - accuracy: 0.4375 - val_loss: 1.6528 - val_accuracy: 0.4144\n",
            "Epoch 64/100\n",
            "40000/40000 [==============================] - 3s 71us/step - loss: 1.5771 - accuracy: 0.4362 - val_loss: 1.6842 - val_accuracy: 0.4049\n",
            "Epoch 65/100\n",
            "40000/40000 [==============================] - 3s 71us/step - loss: 1.5751 - accuracy: 0.4392 - val_loss: 1.6508 - val_accuracy: 0.4123\n",
            "Epoch 66/100\n",
            "40000/40000 [==============================] - 3s 70us/step - loss: 1.5720 - accuracy: 0.4403 - val_loss: 1.6921 - val_accuracy: 0.3878\n",
            "Epoch 67/100\n",
            "40000/40000 [==============================] - 3s 70us/step - loss: 1.5704 - accuracy: 0.4418 - val_loss: 1.6479 - val_accuracy: 0.4188\n",
            "Epoch 68/100\n",
            "40000/40000 [==============================] - 3s 70us/step - loss: 1.5669 - accuracy: 0.4430 - val_loss: 1.6870 - val_accuracy: 0.4028\n",
            "Epoch 69/100\n",
            "40000/40000 [==============================] - 3s 70us/step - loss: 1.5658 - accuracy: 0.4405 - val_loss: 1.6490 - val_accuracy: 0.4169\n",
            "Epoch 70/100\n",
            "40000/40000 [==============================] - 3s 72us/step - loss: 1.5647 - accuracy: 0.4429 - val_loss: 1.6561 - val_accuracy: 0.4204\n",
            "Epoch 71/100\n",
            "40000/40000 [==============================] - 3s 71us/step - loss: 1.5628 - accuracy: 0.4455 - val_loss: 1.6610 - val_accuracy: 0.4086\n",
            "Epoch 72/100\n",
            "40000/40000 [==============================] - 3s 71us/step - loss: 1.5623 - accuracy: 0.4457 - val_loss: 1.6386 - val_accuracy: 0.4167\n",
            "Epoch 73/100\n",
            "40000/40000 [==============================] - 3s 70us/step - loss: 1.5624 - accuracy: 0.4432 - val_loss: 1.6477 - val_accuracy: 0.4214\n",
            "Epoch 74/100\n",
            "40000/40000 [==============================] - 3s 70us/step - loss: 1.5600 - accuracy: 0.4433 - val_loss: 1.6403 - val_accuracy: 0.4200\n",
            "Epoch 75/100\n",
            "40000/40000 [==============================] - 3s 71us/step - loss: 1.5582 - accuracy: 0.4453 - val_loss: 1.6570 - val_accuracy: 0.4190\n",
            "Epoch 76/100\n",
            "40000/40000 [==============================] - 3s 70us/step - loss: 1.5556 - accuracy: 0.4472 - val_loss: 1.6872 - val_accuracy: 0.3977\n",
            "Epoch 77/100\n",
            "40000/40000 [==============================] - 3s 70us/step - loss: 1.5552 - accuracy: 0.4458 - val_loss: 1.6644 - val_accuracy: 0.4150\n",
            "Epoch 78/100\n",
            "40000/40000 [==============================] - 3s 72us/step - loss: 1.5534 - accuracy: 0.4484 - val_loss: 1.6495 - val_accuracy: 0.4184\n",
            "Epoch 79/100\n",
            "40000/40000 [==============================] - 3s 70us/step - loss: 1.5537 - accuracy: 0.4473 - val_loss: 1.6579 - val_accuracy: 0.4196\n",
            "Epoch 80/100\n",
            "40000/40000 [==============================] - 3s 70us/step - loss: 1.5528 - accuracy: 0.4446 - val_loss: 1.6448 - val_accuracy: 0.4186\n",
            "Epoch 81/100\n",
            "40000/40000 [==============================] - 3s 70us/step - loss: 1.5512 - accuracy: 0.4487 - val_loss: 1.6403 - val_accuracy: 0.4213\n",
            "Epoch 82/100\n",
            "40000/40000 [==============================] - 3s 70us/step - loss: 1.5498 - accuracy: 0.4478 - val_loss: 1.6390 - val_accuracy: 0.4240\n",
            "Epoch 83/100\n",
            "40000/40000 [==============================] - 3s 71us/step - loss: 1.5502 - accuracy: 0.4480 - val_loss: 1.7186 - val_accuracy: 0.3988\n",
            "Epoch 84/100\n",
            "40000/40000 [==============================] - 3s 69us/step - loss: 1.5485 - accuracy: 0.4487 - val_loss: 1.7185 - val_accuracy: 0.3895\n",
            "Epoch 85/100\n",
            "40000/40000 [==============================] - 3s 67us/step - loss: 1.5481 - accuracy: 0.4489 - val_loss: 1.6358 - val_accuracy: 0.4218\n",
            "Epoch 86/100\n",
            "40000/40000 [==============================] - 3s 71us/step - loss: 1.5456 - accuracy: 0.4505 - val_loss: 1.6600 - val_accuracy: 0.4096\n",
            "Epoch 87/100\n",
            "40000/40000 [==============================] - 3s 70us/step - loss: 1.5472 - accuracy: 0.4494 - val_loss: 1.6802 - val_accuracy: 0.4000\n",
            "Epoch 88/100\n",
            "40000/40000 [==============================] - 3s 71us/step - loss: 1.5453 - accuracy: 0.4488 - val_loss: 1.6586 - val_accuracy: 0.4129\n",
            "Epoch 89/100\n",
            "40000/40000 [==============================] - 3s 71us/step - loss: 1.5439 - accuracy: 0.4491 - val_loss: 1.6439 - val_accuracy: 0.4174\n",
            "Epoch 90/100\n",
            "40000/40000 [==============================] - 3s 70us/step - loss: 1.5452 - accuracy: 0.4491 - val_loss: 1.6729 - val_accuracy: 0.4082\n",
            "Epoch 91/100\n",
            "40000/40000 [==============================] - 3s 71us/step - loss: 1.5439 - accuracy: 0.4485 - val_loss: 1.6484 - val_accuracy: 0.4173\n",
            "Epoch 92/100\n",
            "40000/40000 [==============================] - 3s 71us/step - loss: 1.5402 - accuracy: 0.4515 - val_loss: 1.6439 - val_accuracy: 0.4194\n",
            "Epoch 93/100\n",
            "40000/40000 [==============================] - 3s 70us/step - loss: 1.5428 - accuracy: 0.4496 - val_loss: 1.6444 - val_accuracy: 0.4196\n",
            "Epoch 94/100\n",
            "40000/40000 [==============================] - 3s 70us/step - loss: 1.5391 - accuracy: 0.4491 - val_loss: 1.6358 - val_accuracy: 0.4231\n",
            "Epoch 95/100\n",
            "40000/40000 [==============================] - 3s 73us/step - loss: 1.5400 - accuracy: 0.4491 - val_loss: 1.6345 - val_accuracy: 0.4230\n",
            "Epoch 96/100\n",
            "40000/40000 [==============================] - 3s 73us/step - loss: 1.5396 - accuracy: 0.4512 - val_loss: 1.6412 - val_accuracy: 0.4205\n",
            "Epoch 97/100\n",
            "40000/40000 [==============================] - 3s 71us/step - loss: 1.5374 - accuracy: 0.4513 - val_loss: 1.6422 - val_accuracy: 0.4147\n",
            "Epoch 98/100\n",
            "40000/40000 [==============================] - 3s 71us/step - loss: 1.5373 - accuracy: 0.4526 - val_loss: 1.6532 - val_accuracy: 0.4122\n",
            "Epoch 99/100\n",
            "40000/40000 [==============================] - 3s 70us/step - loss: 1.5370 - accuracy: 0.4524 - val_loss: 1.6779 - val_accuracy: 0.4013\n",
            "Epoch 100/100\n",
            "40000/40000 [==============================] - 3s 70us/step - loss: 1.5364 - accuracy: 0.4505 - val_loss: 1.6437 - val_accuracy: 0.4248\n"
          ],
          "name": "stdout"
        }
      ]
    },
    {
      "cell_type": "code",
      "metadata": {
        "id": "vdbqQK_QyM0c",
        "colab_type": "code",
        "colab": {
          "base_uri": "https://localhost:8080/",
          "height": 312
        },
        "outputId": "0a2ab934-450d-4750-9db9-ec6fc6be57bf"
      },
      "source": [
        "#plot results\n",
        "import matplotlib.pyplot as plt\n",
        "\n",
        "plt.plot(history.history['accuracy'])\n",
        "plt.plot(history.history['val_accuracy'])\n",
        "plt.title('Model Accuracy')\n",
        "plt.ylabel('Accuracy')\n",
        "plt.xlabel('Epochs')\n",
        "plt.legend(['Train', 'Validation'], loc = 'upper left')"
      ],
      "execution_count": 19,
      "outputs": [
        {
          "output_type": "execute_result",
          "data": {
            "text/plain": [
              "<matplotlib.legend.Legend at 0x7efe9f1fa908>"
            ]
          },
          "metadata": {
            "tags": []
          },
          "execution_count": 19
        },
        {
          "output_type": "display_data",
          "data": {
            "image/png": "[encoded data removed]",
            "text/plain": [
              "<Figure size 432x288 with 1 Axes>"
            ]
          },
          "metadata": {
            "tags": [],
            "needs_background": "light"
          }
        }
      ]
    },
    {
      "cell_type": "code",
      "metadata": {
        "id": "J7YAovqb-qmX",
        "colab_type": "code",
        "colab": {}
      },
      "source": [
        "#Plot of loss \n",
        "plt.plot(history_1.history['loss'])\n",
        "plt.plot(history_1.history['val_loss'])\n",
        "plt.title('Model Loss')\n",
        "plt.ylabel('Loss')\n",
        "plt.xlabel('Epochs')\n",
        "plt.legend(['Train', 'Validation'], loc = 'upper left')"
      ],
      "execution_count": null,
      "outputs": []
    },
    {
      "cell_type": "markdown",
      "metadata": {
        "id": "eNPlVeQ__lzV",
        "colab_type": "text"
      },
      "source": [
        "Based on the accuracy plots. It was observed that the highest accuracy was found for the 1st initializer (fixing to constant value)"
      ]
    },
    {
      "cell_type": "code",
      "metadata": {
        "id": "MNOlNzHs-rfc",
        "colab_type": "code",
        "colab": {
          "base_uri": "https://localhost:8080/",
          "height": 1000
        },
        "outputId": "5e16e5f0-f81d-48b6-c187-fcfdf2c5799e"
      },
      "source": [
        "model_new = Sequential()\n",
        "initial = keras.initializers.Constant(value=0.45)\n",
        "model_new.add(Dense(units=10, activation='relu', input_dim = 3072, kernel_initializer = 'random_uniform', bias_initializer='random_uniform'))\n",
        "model_new.add(Dense(units=30, activation='relu'))\n",
        "model_new.add(Dense(units=10, activation='softmax', kernel_initializer = 'random_uniform', bias_initializer='random_uniform'))\n",
        "model_new.compile(loss='categorical_crossentropy', optimizer = 'sgd', metrics =['accuracy'])\n",
        "history_new = model_new.fit(X_train, y_train, epochs=100, validation_split=0.2)"
      ],
      "execution_count": 22,
      "outputs": [
        {
          "output_type": "stream",
          "text": [
            "Train on 40000 samples, validate on 10000 samples\n",
            "Epoch 1/100\n",
            "40000/40000 [==============================] - 3s 74us/step - loss: 2.1166 - accuracy: 0.2018 - val_loss: 1.9600 - val_accuracy: 0.2776\n",
            "Epoch 2/100\n",
            "40000/40000 [==============================] - 3s 73us/step - loss: 1.9108 - accuracy: 0.3014 - val_loss: 1.9165 - val_accuracy: 0.3050\n",
            "Epoch 3/100\n",
            "40000/40000 [==============================] - 3s 73us/step - loss: 1.8472 - accuracy: 0.3320 - val_loss: 1.8280 - val_accuracy: 0.3503\n",
            "Epoch 4/100\n",
            "40000/40000 [==============================] - 3s 72us/step - loss: 1.8101 - accuracy: 0.3469 - val_loss: 1.7985 - val_accuracy: 0.3586\n",
            "Epoch 5/100\n",
            "40000/40000 [==============================] - 3s 70us/step - loss: 1.7835 - accuracy: 0.3564 - val_loss: 1.7962 - val_accuracy: 0.3560\n",
            "Epoch 6/100\n",
            "40000/40000 [==============================] - 3s 70us/step - loss: 1.7680 - accuracy: 0.3604 - val_loss: 1.7756 - val_accuracy: 0.3670\n",
            "Epoch 7/100\n",
            "40000/40000 [==============================] - 3s 69us/step - loss: 1.7505 - accuracy: 0.3678 - val_loss: 1.8141 - val_accuracy: 0.3470\n",
            "Epoch 8/100\n",
            "40000/40000 [==============================] - 3s 69us/step - loss: 1.7341 - accuracy: 0.3744 - val_loss: 1.8222 - val_accuracy: 0.3466\n",
            "Epoch 9/100\n",
            "40000/40000 [==============================] - 3s 72us/step - loss: 1.7171 - accuracy: 0.3854 - val_loss: 1.7256 - val_accuracy: 0.3862\n",
            "Epoch 10/100\n",
            "40000/40000 [==============================] - 3s 72us/step - loss: 1.7029 - accuracy: 0.3886 - val_loss: 1.7319 - val_accuracy: 0.3882\n",
            "Epoch 11/100\n",
            "40000/40000 [==============================] - 3s 73us/step - loss: 1.6943 - accuracy: 0.3927 - val_loss: 1.7385 - val_accuracy: 0.3856\n",
            "Epoch 12/100\n",
            "40000/40000 [==============================] - 3s 73us/step - loss: 1.6819 - accuracy: 0.3966 - val_loss: 1.7110 - val_accuracy: 0.3927\n",
            "Epoch 13/100\n",
            "40000/40000 [==============================] - 3s 73us/step - loss: 1.6743 - accuracy: 0.4004 - val_loss: 1.6963 - val_accuracy: 0.4006\n",
            "Epoch 14/100\n",
            "40000/40000 [==============================] - 3s 72us/step - loss: 1.6648 - accuracy: 0.4052 - val_loss: 1.6935 - val_accuracy: 0.4043\n",
            "Epoch 15/100\n",
            "40000/40000 [==============================] - 3s 71us/step - loss: 1.6564 - accuracy: 0.4090 - val_loss: 1.6764 - val_accuracy: 0.4113\n",
            "Epoch 16/100\n",
            "40000/40000 [==============================] - 3s 68us/step - loss: 1.6495 - accuracy: 0.4145 - val_loss: 1.6879 - val_accuracy: 0.4040\n",
            "Epoch 17/100\n",
            "40000/40000 [==============================] - 3s 68us/step - loss: 1.6417 - accuracy: 0.4137 - val_loss: 1.6641 - val_accuracy: 0.4132\n",
            "Epoch 18/100\n",
            "40000/40000 [==============================] - 3s 70us/step - loss: 1.6367 - accuracy: 0.4168 - val_loss: 1.6744 - val_accuracy: 0.4110\n",
            "Epoch 19/100\n",
            "40000/40000 [==============================] - 3s 78us/step - loss: 1.6309 - accuracy: 0.4175 - val_loss: 1.6678 - val_accuracy: 0.4103\n",
            "Epoch 20/100\n",
            "40000/40000 [==============================] - 3s 78us/step - loss: 1.6227 - accuracy: 0.4222 - val_loss: 1.6940 - val_accuracy: 0.3983\n",
            "Epoch 21/100\n",
            "40000/40000 [==============================] - 3s 78us/step - loss: 1.6185 - accuracy: 0.4240 - val_loss: 1.6437 - val_accuracy: 0.4238\n",
            "Epoch 22/100\n",
            "40000/40000 [==============================] - 3s 73us/step - loss: 1.6139 - accuracy: 0.4273 - val_loss: 1.6799 - val_accuracy: 0.4111\n",
            "Epoch 23/100\n",
            "40000/40000 [==============================] - 3s 73us/step - loss: 1.6073 - accuracy: 0.4275 - val_loss: 1.6436 - val_accuracy: 0.4212\n",
            "Epoch 24/100\n",
            "40000/40000 [==============================] - 3s 72us/step - loss: 1.6031 - accuracy: 0.4296 - val_loss: 1.6615 - val_accuracy: 0.4131\n",
            "Epoch 25/100\n",
            "40000/40000 [==============================] - 3s 72us/step - loss: 1.5961 - accuracy: 0.4326 - val_loss: 1.6621 - val_accuracy: 0.4151\n",
            "Epoch 26/100\n",
            "40000/40000 [==============================] - 3s 70us/step - loss: 1.5924 - accuracy: 0.4319 - val_loss: 1.6313 - val_accuracy: 0.4251\n",
            "Epoch 27/100\n",
            "40000/40000 [==============================] - 3s 70us/step - loss: 1.5858 - accuracy: 0.4355 - val_loss: 1.6738 - val_accuracy: 0.4038\n",
            "Epoch 28/100\n",
            "40000/40000 [==============================] - 3s 68us/step - loss: 1.5823 - accuracy: 0.4372 - val_loss: 1.6566 - val_accuracy: 0.4157\n",
            "Epoch 29/100\n",
            "40000/40000 [==============================] - 3s 69us/step - loss: 1.5780 - accuracy: 0.4358 - val_loss: 1.6315 - val_accuracy: 0.4236\n",
            "Epoch 30/100\n",
            "40000/40000 [==============================] - 3s 68us/step - loss: 1.5740 - accuracy: 0.4394 - val_loss: 1.6085 - val_accuracy: 0.4319\n",
            "Epoch 31/100\n",
            "40000/40000 [==============================] - 3s 68us/step - loss: 1.5706 - accuracy: 0.4412 - val_loss: 1.6140 - val_accuracy: 0.4315\n",
            "Epoch 32/100\n",
            "40000/40000 [==============================] - 3s 68us/step - loss: 1.5669 - accuracy: 0.4409 - val_loss: 1.6126 - val_accuracy: 0.4280\n",
            "Epoch 33/100\n",
            "40000/40000 [==============================] - 3s 68us/step - loss: 1.5634 - accuracy: 0.4427 - val_loss: 1.6265 - val_accuracy: 0.4278\n",
            "Epoch 34/100\n",
            "40000/40000 [==============================] - 3s 68us/step - loss: 1.5589 - accuracy: 0.4446 - val_loss: 1.6325 - val_accuracy: 0.4237\n",
            "Epoch 35/100\n",
            "40000/40000 [==============================] - 3s 68us/step - loss: 1.5574 - accuracy: 0.4443 - val_loss: 1.6752 - val_accuracy: 0.4011\n",
            "Epoch 36/100\n",
            "40000/40000 [==============================] - 3s 69us/step - loss: 1.5537 - accuracy: 0.4489 - val_loss: 1.6471 - val_accuracy: 0.4143\n",
            "Epoch 37/100\n",
            "40000/40000 [==============================] - 3s 70us/step - loss: 1.5516 - accuracy: 0.4493 - val_loss: 1.6058 - val_accuracy: 0.4355\n",
            "Epoch 38/100\n",
            "40000/40000 [==============================] - 3s 74us/step - loss: 1.5494 - accuracy: 0.4482 - val_loss: 1.6130 - val_accuracy: 0.4298\n",
            "Epoch 39/100\n",
            "40000/40000 [==============================] - 3s 73us/step - loss: 1.5454 - accuracy: 0.4482 - val_loss: 1.6190 - val_accuracy: 0.4303\n",
            "Epoch 40/100\n",
            "40000/40000 [==============================] - 3s 69us/step - loss: 1.5440 - accuracy: 0.4485 - val_loss: 1.6062 - val_accuracy: 0.4307\n",
            "Epoch 41/100\n",
            "40000/40000 [==============================] - 3s 68us/step - loss: 1.5418 - accuracy: 0.4505 - val_loss: 1.6563 - val_accuracy: 0.4196\n",
            "Epoch 42/100\n",
            "40000/40000 [==============================] - 3s 69us/step - loss: 1.5387 - accuracy: 0.4502 - val_loss: 1.6308 - val_accuracy: 0.4193\n",
            "Epoch 43/100\n",
            "40000/40000 [==============================] - 3s 68us/step - loss: 1.5370 - accuracy: 0.4519 - val_loss: 1.6205 - val_accuracy: 0.4274\n",
            "Epoch 44/100\n",
            "40000/40000 [==============================] - 3s 68us/step - loss: 1.5348 - accuracy: 0.4516 - val_loss: 1.6087 - val_accuracy: 0.4285\n",
            "Epoch 45/100\n",
            "40000/40000 [==============================] - 3s 68us/step - loss: 1.5330 - accuracy: 0.4541 - val_loss: 1.6095 - val_accuracy: 0.4265\n",
            "Epoch 46/100\n",
            "40000/40000 [==============================] - 3s 69us/step - loss: 1.5310 - accuracy: 0.4523 - val_loss: 1.6044 - val_accuracy: 0.4345\n",
            "Epoch 47/100\n",
            "40000/40000 [==============================] - 3s 68us/step - loss: 1.5300 - accuracy: 0.4545 - val_loss: 1.5912 - val_accuracy: 0.4313\n",
            "Epoch 48/100\n",
            "40000/40000 [==============================] - 3s 68us/step - loss: 1.5268 - accuracy: 0.4537 - val_loss: 1.6035 - val_accuracy: 0.4330\n",
            "Epoch 49/100\n",
            "40000/40000 [==============================] - 3s 70us/step - loss: 1.5237 - accuracy: 0.4564 - val_loss: 1.6008 - val_accuracy: 0.4323\n",
            "Epoch 50/100\n",
            "40000/40000 [==============================] - 3s 68us/step - loss: 1.5241 - accuracy: 0.4565 - val_loss: 1.6139 - val_accuracy: 0.4250\n",
            "Epoch 51/100\n",
            "40000/40000 [==============================] - 3s 68us/step - loss: 1.5237 - accuracy: 0.4555 - val_loss: 1.6044 - val_accuracy: 0.4318\n",
            "Epoch 52/100\n",
            "40000/40000 [==============================] - 3s 68us/step - loss: 1.5215 - accuracy: 0.4553 - val_loss: 1.6046 - val_accuracy: 0.4305\n",
            "Epoch 53/100\n",
            "40000/40000 [==============================] - 3s 69us/step - loss: 1.5173 - accuracy: 0.4590 - val_loss: 1.6370 - val_accuracy: 0.4343\n",
            "Epoch 54/100\n",
            "40000/40000 [==============================] - 3s 70us/step - loss: 1.5187 - accuracy: 0.4577 - val_loss: 1.5991 - val_accuracy: 0.4370\n",
            "Epoch 55/100\n",
            "40000/40000 [==============================] - 3s 71us/step - loss: 1.5156 - accuracy: 0.4566 - val_loss: 1.5899 - val_accuracy: 0.4423\n",
            "Epoch 56/100\n",
            "40000/40000 [==============================] - 3s 70us/step - loss: 1.5136 - accuracy: 0.4591 - val_loss: 1.6105 - val_accuracy: 0.4300\n",
            "Epoch 57/100\n",
            "40000/40000 [==============================] - 3s 70us/step - loss: 1.5126 - accuracy: 0.4607 - val_loss: 1.6177 - val_accuracy: 0.4271\n",
            "Epoch 58/100\n",
            "40000/40000 [==============================] - 3s 69us/step - loss: 1.5073 - accuracy: 0.4609 - val_loss: 1.5964 - val_accuracy: 0.4384\n",
            "Epoch 59/100\n",
            "40000/40000 [==============================] - 3s 69us/step - loss: 1.5100 - accuracy: 0.4615 - val_loss: 1.5817 - val_accuracy: 0.4399\n",
            "Epoch 60/100\n",
            "40000/40000 [==============================] - 3s 69us/step - loss: 1.5084 - accuracy: 0.4602 - val_loss: 1.6026 - val_accuracy: 0.4316\n",
            "Epoch 61/100\n",
            "40000/40000 [==============================] - 3s 68us/step - loss: 1.5059 - accuracy: 0.4604 - val_loss: 1.5940 - val_accuracy: 0.4344\n",
            "Epoch 62/100\n",
            "40000/40000 [==============================] - 3s 68us/step - loss: 1.5063 - accuracy: 0.4611 - val_loss: 1.5912 - val_accuracy: 0.4373\n",
            "Epoch 63/100\n",
            "40000/40000 [==============================] - 3s 68us/step - loss: 1.5038 - accuracy: 0.4600 - val_loss: 1.6297 - val_accuracy: 0.4215\n",
            "Epoch 64/100\n",
            "40000/40000 [==============================] - 3s 68us/step - loss: 1.5036 - accuracy: 0.4615 - val_loss: 1.6048 - val_accuracy: 0.4363\n",
            "Epoch 65/100\n",
            "40000/40000 [==============================] - 3s 68us/step - loss: 1.5001 - accuracy: 0.4634 - val_loss: 1.6140 - val_accuracy: 0.4243\n",
            "Epoch 66/100\n",
            "40000/40000 [==============================] - 3s 68us/step - loss: 1.4997 - accuracy: 0.4637 - val_loss: 1.5837 - val_accuracy: 0.4402\n",
            "Epoch 67/100\n",
            "40000/40000 [==============================] - 3s 68us/step - loss: 1.4989 - accuracy: 0.4650 - val_loss: 1.6044 - val_accuracy: 0.4302\n",
            "Epoch 68/100\n",
            "40000/40000 [==============================] - 3s 68us/step - loss: 1.4956 - accuracy: 0.4642 - val_loss: 1.6090 - val_accuracy: 0.4300\n",
            "Epoch 69/100\n",
            "40000/40000 [==============================] - 3s 69us/step - loss: 1.4953 - accuracy: 0.4672 - val_loss: 1.6225 - val_accuracy: 0.4283\n",
            "Epoch 70/100\n",
            "40000/40000 [==============================] - 3s 68us/step - loss: 1.4941 - accuracy: 0.4660 - val_loss: 1.5993 - val_accuracy: 0.4349\n",
            "Epoch 71/100\n",
            "40000/40000 [==============================] - 3s 68us/step - loss: 1.4928 - accuracy: 0.4676 - val_loss: 1.6455 - val_accuracy: 0.4179\n",
            "Epoch 72/100\n",
            "40000/40000 [==============================] - 3s 67us/step - loss: 1.4905 - accuracy: 0.4676 - val_loss: 1.5950 - val_accuracy: 0.4312\n",
            "Epoch 73/100\n",
            "40000/40000 [==============================] - 3s 75us/step - loss: 1.4891 - accuracy: 0.4665 - val_loss: 1.5937 - val_accuracy: 0.4362\n",
            "Epoch 74/100\n",
            "40000/40000 [==============================] - 3s 73us/step - loss: 1.4893 - accuracy: 0.4682 - val_loss: 1.5856 - val_accuracy: 0.4384\n",
            "Epoch 75/100\n",
            "40000/40000 [==============================] - 3s 71us/step - loss: 1.4875 - accuracy: 0.4683 - val_loss: 1.5933 - val_accuracy: 0.4334\n",
            "Epoch 76/100\n",
            "40000/40000 [==============================] - 3s 69us/step - loss: 1.4876 - accuracy: 0.4690 - val_loss: 1.6150 - val_accuracy: 0.4252\n",
            "Epoch 77/100\n",
            "40000/40000 [==============================] - 3s 68us/step - loss: 1.4884 - accuracy: 0.4681 - val_loss: 1.6008 - val_accuracy: 0.4322\n",
            "Epoch 78/100\n",
            "40000/40000 [==============================] - 3s 68us/step - loss: 1.4822 - accuracy: 0.4710 - val_loss: 1.6147 - val_accuracy: 0.4330\n",
            "Epoch 79/100\n",
            "40000/40000 [==============================] - 3s 68us/step - loss: 1.4844 - accuracy: 0.4704 - val_loss: 1.5811 - val_accuracy: 0.4435\n",
            "Epoch 80/100\n",
            "40000/40000 [==============================] - 3s 70us/step - loss: 1.4822 - accuracy: 0.4705 - val_loss: 1.6015 - val_accuracy: 0.4347\n",
            "Epoch 81/100\n",
            "40000/40000 [==============================] - 3s 72us/step - loss: 1.4833 - accuracy: 0.4681 - val_loss: 1.5849 - val_accuracy: 0.4371\n",
            "Epoch 82/100\n",
            "40000/40000 [==============================] - 3s 68us/step - loss: 1.4802 - accuracy: 0.4710 - val_loss: 1.6271 - val_accuracy: 0.4230\n",
            "Epoch 83/100\n",
            "40000/40000 [==============================] - 3s 68us/step - loss: 1.4800 - accuracy: 0.4694 - val_loss: 1.6008 - val_accuracy: 0.4348\n",
            "Epoch 84/100\n",
            "40000/40000 [==============================] - 3s 68us/step - loss: 1.4762 - accuracy: 0.4737 - val_loss: 1.6499 - val_accuracy: 0.4268\n",
            "Epoch 85/100\n",
            "40000/40000 [==============================] - 3s 68us/step - loss: 1.4764 - accuracy: 0.4726 - val_loss: 1.5984 - val_accuracy: 0.4315\n",
            "Epoch 86/100\n",
            "40000/40000 [==============================] - 3s 68us/step - loss: 1.4770 - accuracy: 0.4711 - val_loss: 1.6281 - val_accuracy: 0.4244\n",
            "Epoch 87/100\n",
            "40000/40000 [==============================] - 3s 68us/step - loss: 1.4784 - accuracy: 0.4706 - val_loss: 1.5779 - val_accuracy: 0.4382\n",
            "Epoch 88/100\n",
            "40000/40000 [==============================] - 3s 69us/step - loss: 1.4757 - accuracy: 0.4723 - val_loss: 1.5992 - val_accuracy: 0.4343\n",
            "Epoch 89/100\n",
            "40000/40000 [==============================] - 3s 68us/step - loss: 1.4743 - accuracy: 0.4753 - val_loss: 1.5893 - val_accuracy: 0.4379\n",
            "Epoch 90/100\n",
            "40000/40000 [==============================] - 3s 68us/step - loss: 1.4722 - accuracy: 0.4735 - val_loss: 1.6043 - val_accuracy: 0.4275\n",
            "Epoch 91/100\n",
            "40000/40000 [==============================] - 3s 68us/step - loss: 1.4734 - accuracy: 0.4733 - val_loss: 1.6216 - val_accuracy: 0.4233\n",
            "Epoch 92/100\n",
            "40000/40000 [==============================] - 3s 68us/step - loss: 1.4719 - accuracy: 0.4762 - val_loss: 1.5813 - val_accuracy: 0.4376\n",
            "Epoch 93/100\n",
            "40000/40000 [==============================] - 3s 68us/step - loss: 1.4713 - accuracy: 0.4723 - val_loss: 1.5817 - val_accuracy: 0.4402\n",
            "Epoch 94/100\n",
            "40000/40000 [==============================] - 3s 68us/step - loss: 1.4687 - accuracy: 0.4746 - val_loss: 1.6075 - val_accuracy: 0.4345\n",
            "Epoch 95/100\n",
            "40000/40000 [==============================] - 3s 68us/step - loss: 1.4712 - accuracy: 0.4739 - val_loss: 1.6107 - val_accuracy: 0.4243\n",
            "Epoch 96/100\n",
            "40000/40000 [==============================] - 3s 68us/step - loss: 1.4689 - accuracy: 0.4728 - val_loss: 1.6461 - val_accuracy: 0.4154\n",
            "Epoch 97/100\n",
            "40000/40000 [==============================] - 3s 68us/step - loss: 1.4673 - accuracy: 0.4745 - val_loss: 1.6349 - val_accuracy: 0.4242\n",
            "Epoch 98/100\n",
            "40000/40000 [==============================] - 3s 69us/step - loss: 1.4663 - accuracy: 0.4766 - val_loss: 1.5816 - val_accuracy: 0.4403\n",
            "Epoch 99/100\n",
            "40000/40000 [==============================] - 3s 68us/step - loss: 1.4650 - accuracy: 0.4759 - val_loss: 1.5776 - val_accuracy: 0.4447\n",
            "Epoch 100/100\n",
            "40000/40000 [==============================] - 3s 68us/step - loss: 1.4660 - accuracy: 0.4750 - val_loss: 1.5865 - val_accuracy: 0.4339\n"
          ],
          "name": "stdout"
        }
      ]
    },
    {
      "cell_type": "code",
      "metadata": {
        "id": "VILvx5wMCKB5",
        "colab_type": "code",
        "colab": {
          "base_uri": "https://localhost:8080/",
          "height": 312
        },
        "outputId": "befdd179-23c3-4ea3-9302-5a09e81b30c3"
      },
      "source": [
        "#plot results\n",
        "import matplotlib.pyplot as plt\n",
        "\n",
        "plt.plot(history_new.history['accuracy'])\n",
        "plt.plot(history_new.history['val_accuracy'])\n",
        "plt.title('Model Accuracy')\n",
        "plt.ylabel('Accuracy')\n",
        "plt.xlabel('Epochs')\n",
        "plt.legend(['Train', 'Validation'], loc = 'upper left')"
      ],
      "execution_count": 23,
      "outputs": [
        {
          "output_type": "execute_result",
          "data": {
            "text/plain": [
              "<matplotlib.legend.Legend at 0x7efe9ec57e48>"
            ]
          },
          "metadata": {
            "tags": []
          },
          "execution_count": 23
        },
        {
          "output_type": "display_data",
          "data": {
            "image/png": "[encoded data removed]",
            "text/plain": [
              "<Figure size 432x288 with 1 Axes>"
            ]
          },
          "metadata": {
            "tags": [],
            "needs_background": "light"
          }
        }
      ]
    },
    {
      "cell_type": "code",
      "metadata": {
        "id": "gvl_DCr0C_i5",
        "colab_type": "code",
        "colab": {}
      },
      "source": [
        "from keras.layers import Conv2D, MaxPooling2D"
      ],
      "execution_count": 30,
      "outputs": []
    },
    {
      "cell_type": "code",
      "metadata": {
        "id": "bWtCY6HuBkVh",
        "colab_type": "code",
        "colab": {
          "base_uri": "https://localhost:8080/",
          "height": 1000
        },
        "outputId": "e2c16723-38fe-4f1a-eac3-cd55e2b1217f"
      },
      "source": [
        "model_f= Sequential()\n",
        "initial = keras.initializers.Constant(value=0.45)\n",
        "model_f.add(Dense(units=10, activation='relu', input_dim = 3072, kernel_initializer = 'random_uniform', bias_initializer='random_uniform'))\n",
        "model_f.add(Dense(units=30, activation='relu'))\n",
        "model_f.add(Dense(units=30, activation='relu'))\n",
        "model_f.add(Dense(units=10, activation='softmax', kernel_initializer = 'random_uniform', bias_initializer='random_uniform'))\n",
        "model_f.compile(loss='categorical_crossentropy', optimizer = 'sgd', metrics =['accuracy'])\n",
        "\n",
        "history_final = model_final.fit(X_train, y_train, epochs=100, validation_split=0.2)"
      ],
      "execution_count": 35,
      "outputs": [
        {
          "output_type": "stream",
          "text": [
            "Train on 40000 samples, validate on 10000 samples\n",
            "Epoch 1/100\n",
            "40000/40000 [==============================] - 5s 126us/step - loss: 2.2736 - accuracy: 0.1369 - val_loss: 2.1412 - val_accuracy: 0.1970\n",
            "Epoch 2/100\n",
            "40000/40000 [==============================] - 3s 75us/step - loss: 2.0208 - accuracy: 0.2366 - val_loss: 2.0155 - val_accuracy: 0.2512\n",
            "Epoch 3/100\n",
            "40000/40000 [==============================] - 3s 75us/step - loss: 1.9268 - accuracy: 0.2889 - val_loss: 1.9019 - val_accuracy: 0.3147\n",
            "Epoch 4/100\n",
            "40000/40000 [==============================] - 3s 74us/step - loss: 1.8692 - accuracy: 0.3215 - val_loss: 1.8872 - val_accuracy: 0.3139\n",
            "Epoch 5/100\n",
            "40000/40000 [==============================] - 3s 75us/step - loss: 1.8175 - accuracy: 0.3424 - val_loss: 1.8037 - val_accuracy: 0.3502\n",
            "Epoch 6/100\n",
            "40000/40000 [==============================] - 3s 75us/step - loss: 1.7774 - accuracy: 0.3566 - val_loss: 1.7674 - val_accuracy: 0.3584\n",
            "Epoch 7/100\n",
            "40000/40000 [==============================] - 3s 74us/step - loss: 1.7493 - accuracy: 0.3669 - val_loss: 1.7448 - val_accuracy: 0.3693\n",
            "Epoch 8/100\n",
            "40000/40000 [==============================] - 3s 75us/step - loss: 1.7246 - accuracy: 0.3744 - val_loss: 1.7331 - val_accuracy: 0.3770\n",
            "Epoch 9/100\n",
            "40000/40000 [==============================] - 3s 75us/step - loss: 1.7048 - accuracy: 0.3850 - val_loss: 1.7083 - val_accuracy: 0.3872\n",
            "Epoch 10/100\n",
            "40000/40000 [==============================] - 3s 75us/step - loss: 1.6896 - accuracy: 0.3917 - val_loss: 1.7069 - val_accuracy: 0.3927\n",
            "Epoch 11/100\n",
            "40000/40000 [==============================] - 3s 75us/step - loss: 1.6764 - accuracy: 0.3963 - val_loss: 1.6892 - val_accuracy: 0.3995\n",
            "Epoch 12/100\n",
            "40000/40000 [==============================] - 3s 75us/step - loss: 1.6660 - accuracy: 0.4004 - val_loss: 1.7120 - val_accuracy: 0.3864\n",
            "Epoch 13/100\n",
            "40000/40000 [==============================] - 3s 75us/step - loss: 1.6557 - accuracy: 0.4040 - val_loss: 1.7021 - val_accuracy: 0.3818\n",
            "Epoch 14/100\n",
            "40000/40000 [==============================] - 3s 75us/step - loss: 1.6446 - accuracy: 0.4094 - val_loss: 1.7074 - val_accuracy: 0.3905\n",
            "Epoch 15/100\n",
            "40000/40000 [==============================] - 3s 75us/step - loss: 1.6399 - accuracy: 0.4108 - val_loss: 1.6870 - val_accuracy: 0.3908\n",
            "Epoch 16/100\n",
            "40000/40000 [==============================] - 3s 75us/step - loss: 1.6312 - accuracy: 0.4134 - val_loss: 1.6614 - val_accuracy: 0.4059\n",
            "Epoch 17/100\n",
            "40000/40000 [==============================] - 3s 75us/step - loss: 1.6254 - accuracy: 0.4173 - val_loss: 1.6890 - val_accuracy: 0.3947\n",
            "Epoch 18/100\n",
            "40000/40000 [==============================] - 3s 75us/step - loss: 1.6186 - accuracy: 0.4220 - val_loss: 1.6720 - val_accuracy: 0.4026\n",
            "Epoch 19/100\n",
            "40000/40000 [==============================] - 3s 75us/step - loss: 1.6111 - accuracy: 0.4223 - val_loss: 1.6586 - val_accuracy: 0.4066\n",
            "Epoch 20/100\n",
            "40000/40000 [==============================] - 3s 75us/step - loss: 1.6043 - accuracy: 0.4250 - val_loss: 1.6453 - val_accuracy: 0.4152\n",
            "Epoch 21/100\n",
            "40000/40000 [==============================] - 3s 75us/step - loss: 1.6022 - accuracy: 0.4261 - val_loss: 1.6337 - val_accuracy: 0.4130\n",
            "Epoch 22/100\n",
            "40000/40000 [==============================] - 3s 75us/step - loss: 1.5951 - accuracy: 0.4285 - val_loss: 1.6551 - val_accuracy: 0.4096\n",
            "Epoch 23/100\n",
            "40000/40000 [==============================] - 3s 75us/step - loss: 1.5875 - accuracy: 0.4300 - val_loss: 1.6267 - val_accuracy: 0.4183\n",
            "Epoch 24/100\n",
            "40000/40000 [==============================] - 3s 74us/step - loss: 1.5848 - accuracy: 0.4312 - val_loss: 1.6300 - val_accuracy: 0.4161\n",
            "Epoch 25/100\n",
            "40000/40000 [==============================] - 3s 75us/step - loss: 1.5785 - accuracy: 0.4334 - val_loss: 1.6195 - val_accuracy: 0.4202\n",
            "Epoch 26/100\n",
            "40000/40000 [==============================] - 3s 75us/step - loss: 1.5744 - accuracy: 0.4355 - val_loss: 1.6322 - val_accuracy: 0.4164\n",
            "Epoch 27/100\n",
            "40000/40000 [==============================] - 3s 75us/step - loss: 1.5705 - accuracy: 0.4368 - val_loss: 1.6229 - val_accuracy: 0.4168\n",
            "Epoch 28/100\n",
            "40000/40000 [==============================] - 3s 75us/step - loss: 1.5656 - accuracy: 0.4376 - val_loss: 1.6566 - val_accuracy: 0.4079\n",
            "Epoch 29/100\n",
            "40000/40000 [==============================] - 3s 75us/step - loss: 1.5611 - accuracy: 0.4415 - val_loss: 1.5928 - val_accuracy: 0.4290\n",
            "Epoch 30/100\n",
            "40000/40000 [==============================] - 3s 75us/step - loss: 1.5581 - accuracy: 0.4407 - val_loss: 1.6107 - val_accuracy: 0.4242\n",
            "Epoch 31/100\n",
            "40000/40000 [==============================] - 3s 75us/step - loss: 1.5535 - accuracy: 0.4417 - val_loss: 1.6094 - val_accuracy: 0.4247\n",
            "Epoch 32/100\n",
            "40000/40000 [==============================] - 3s 74us/step - loss: 1.5517 - accuracy: 0.4414 - val_loss: 1.6371 - val_accuracy: 0.4158\n",
            "Epoch 33/100\n",
            "40000/40000 [==============================] - 3s 75us/step - loss: 1.5493 - accuracy: 0.4427 - val_loss: 1.6091 - val_accuracy: 0.4221\n",
            "Epoch 34/100\n",
            "40000/40000 [==============================] - 3s 75us/step - loss: 1.5455 - accuracy: 0.4472 - val_loss: 1.6336 - val_accuracy: 0.4192\n",
            "Epoch 35/100\n",
            "40000/40000 [==============================] - 3s 74us/step - loss: 1.5421 - accuracy: 0.4467 - val_loss: 1.6034 - val_accuracy: 0.4271\n",
            "Epoch 36/100\n",
            "40000/40000 [==============================] - 3s 75us/step - loss: 1.5387 - accuracy: 0.4482 - val_loss: 1.5909 - val_accuracy: 0.4306\n",
            "Epoch 37/100\n",
            "40000/40000 [==============================] - 3s 75us/step - loss: 1.5343 - accuracy: 0.4471 - val_loss: 1.5945 - val_accuracy: 0.4317\n",
            "Epoch 38/100\n",
            "40000/40000 [==============================] - 3s 75us/step - loss: 1.5320 - accuracy: 0.4502 - val_loss: 1.6172 - val_accuracy: 0.4152\n",
            "Epoch 39/100\n",
            "40000/40000 [==============================] - 3s 74us/step - loss: 1.5293 - accuracy: 0.4518 - val_loss: 1.6263 - val_accuracy: 0.4244\n",
            "Epoch 40/100\n",
            "40000/40000 [==============================] - 3s 74us/step - loss: 1.5251 - accuracy: 0.4534 - val_loss: 1.5937 - val_accuracy: 0.4312\n",
            "Epoch 41/100\n",
            "40000/40000 [==============================] - 3s 75us/step - loss: 1.5238 - accuracy: 0.4518 - val_loss: 1.6271 - val_accuracy: 0.4172\n",
            "Epoch 42/100\n",
            "40000/40000 [==============================] - 3s 73us/step - loss: 1.5236 - accuracy: 0.4534 - val_loss: 1.5831 - val_accuracy: 0.4353\n",
            "Epoch 43/100\n",
            "40000/40000 [==============================] - 3s 74us/step - loss: 1.5193 - accuracy: 0.4532 - val_loss: 1.6282 - val_accuracy: 0.4121\n",
            "Epoch 44/100\n",
            "40000/40000 [==============================] - 3s 73us/step - loss: 1.5169 - accuracy: 0.4557 - val_loss: 1.5842 - val_accuracy: 0.4341\n",
            "Epoch 45/100\n",
            "40000/40000 [==============================] - 3s 74us/step - loss: 1.5148 - accuracy: 0.4573 - val_loss: 1.5932 - val_accuracy: 0.4250\n",
            "Epoch 46/100\n",
            "40000/40000 [==============================] - 3s 74us/step - loss: 1.5130 - accuracy: 0.4576 - val_loss: 1.5878 - val_accuracy: 0.4323\n",
            "Epoch 47/100\n",
            "40000/40000 [==============================] - 3s 74us/step - loss: 1.5104 - accuracy: 0.4576 - val_loss: 1.6060 - val_accuracy: 0.4273\n",
            "Epoch 48/100\n",
            "40000/40000 [==============================] - 3s 74us/step - loss: 1.5064 - accuracy: 0.4601 - val_loss: 1.5832 - val_accuracy: 0.4358\n",
            "Epoch 49/100\n",
            "40000/40000 [==============================] - 3s 75us/step - loss: 1.5085 - accuracy: 0.4582 - val_loss: 1.5984 - val_accuracy: 0.4270\n",
            "Epoch 50/100\n",
            "40000/40000 [==============================] - 3s 75us/step - loss: 1.5048 - accuracy: 0.4595 - val_loss: 1.5952 - val_accuracy: 0.4286\n",
            "Epoch 51/100\n",
            "40000/40000 [==============================] - 3s 74us/step - loss: 1.5012 - accuracy: 0.4613 - val_loss: 1.5921 - val_accuracy: 0.4330\n",
            "Epoch 52/100\n",
            "40000/40000 [==============================] - 3s 73us/step - loss: 1.5022 - accuracy: 0.4598 - val_loss: 1.5970 - val_accuracy: 0.4312\n",
            "Epoch 53/100\n",
            "40000/40000 [==============================] - 3s 73us/step - loss: 1.4986 - accuracy: 0.4627 - val_loss: 1.5764 - val_accuracy: 0.4364\n",
            "Epoch 54/100\n",
            "40000/40000 [==============================] - 3s 79us/step - loss: 1.4978 - accuracy: 0.4624 - val_loss: 1.5866 - val_accuracy: 0.4302\n",
            "Epoch 55/100\n",
            "40000/40000 [==============================] - 3s 80us/step - loss: 1.4932 - accuracy: 0.4621 - val_loss: 1.5945 - val_accuracy: 0.4293\n",
            "Epoch 56/100\n",
            "40000/40000 [==============================] - 3s 79us/step - loss: 1.4940 - accuracy: 0.4608 - val_loss: 1.5705 - val_accuracy: 0.4382\n",
            "Epoch 57/100\n",
            "40000/40000 [==============================] - 3s 78us/step - loss: 1.4912 - accuracy: 0.4661 - val_loss: 1.6262 - val_accuracy: 0.4181\n",
            "Epoch 58/100\n",
            "40000/40000 [==============================] - 3s 75us/step - loss: 1.4895 - accuracy: 0.4646 - val_loss: 1.5902 - val_accuracy: 0.4306\n",
            "Epoch 59/100\n",
            "40000/40000 [==============================] - 3s 74us/step - loss: 1.4875 - accuracy: 0.4645 - val_loss: 1.5774 - val_accuracy: 0.4344\n",
            "Epoch 60/100\n",
            "40000/40000 [==============================] - 3s 75us/step - loss: 1.4865 - accuracy: 0.4665 - val_loss: 1.5781 - val_accuracy: 0.4335\n",
            "Epoch 61/100\n",
            "40000/40000 [==============================] - 3s 75us/step - loss: 1.4865 - accuracy: 0.4686 - val_loss: 1.5834 - val_accuracy: 0.4346\n",
            "Epoch 62/100\n",
            "40000/40000 [==============================] - 3s 74us/step - loss: 1.4831 - accuracy: 0.4670 - val_loss: 1.5905 - val_accuracy: 0.4306\n",
            "Epoch 63/100\n",
            "40000/40000 [==============================] - 3s 75us/step - loss: 1.4832 - accuracy: 0.4689 - val_loss: 1.5742 - val_accuracy: 0.4348\n",
            "Epoch 64/100\n",
            "40000/40000 [==============================] - 3s 72us/step - loss: 1.4807 - accuracy: 0.4682 - val_loss: 1.5893 - val_accuracy: 0.4305\n",
            "Epoch 65/100\n",
            "40000/40000 [==============================] - 3s 75us/step - loss: 1.4784 - accuracy: 0.4703 - val_loss: 1.5950 - val_accuracy: 0.4296\n",
            "Epoch 66/100\n",
            "40000/40000 [==============================] - 3s 74us/step - loss: 1.4782 - accuracy: 0.4691 - val_loss: 1.5797 - val_accuracy: 0.4388\n",
            "Epoch 67/100\n",
            "40000/40000 [==============================] - 3s 74us/step - loss: 1.4759 - accuracy: 0.4681 - val_loss: 1.5782 - val_accuracy: 0.4372\n",
            "Epoch 68/100\n",
            "40000/40000 [==============================] - 3s 75us/step - loss: 1.4728 - accuracy: 0.4714 - val_loss: 1.5688 - val_accuracy: 0.4413\n",
            "Epoch 69/100\n",
            "40000/40000 [==============================] - 3s 73us/step - loss: 1.4728 - accuracy: 0.4703 - val_loss: 1.5847 - val_accuracy: 0.4351\n",
            "Epoch 70/100\n",
            "40000/40000 [==============================] - 3s 74us/step - loss: 1.4707 - accuracy: 0.4714 - val_loss: 1.6293 - val_accuracy: 0.4213\n",
            "Epoch 71/100\n",
            "40000/40000 [==============================] - 3s 74us/step - loss: 1.4705 - accuracy: 0.4742 - val_loss: 1.6034 - val_accuracy: 0.4311\n",
            "Epoch 72/100\n",
            "40000/40000 [==============================] - 3s 73us/step - loss: 1.4681 - accuracy: 0.4740 - val_loss: 1.6008 - val_accuracy: 0.4279\n",
            "Epoch 73/100\n",
            "40000/40000 [==============================] - 3s 74us/step - loss: 1.4682 - accuracy: 0.4750 - val_loss: 1.6431 - val_accuracy: 0.4251\n",
            "Epoch 74/100\n",
            "40000/40000 [==============================] - 3s 74us/step - loss: 1.4679 - accuracy: 0.4745 - val_loss: 1.5944 - val_accuracy: 0.4327\n",
            "Epoch 75/100\n",
            "40000/40000 [==============================] - 3s 74us/step - loss: 1.4664 - accuracy: 0.4731 - val_loss: 1.5796 - val_accuracy: 0.4376\n",
            "Epoch 76/100\n",
            "40000/40000 [==============================] - 3s 74us/step - loss: 1.4632 - accuracy: 0.4730 - val_loss: 1.5961 - val_accuracy: 0.4277\n",
            "Epoch 77/100\n",
            "40000/40000 [==============================] - 3s 74us/step - loss: 1.4640 - accuracy: 0.4744 - val_loss: 1.5784 - val_accuracy: 0.4347\n",
            "Epoch 78/100\n",
            "40000/40000 [==============================] - 3s 75us/step - loss: 1.4614 - accuracy: 0.4748 - val_loss: 1.5750 - val_accuracy: 0.4381\n",
            "Epoch 79/100\n",
            "40000/40000 [==============================] - 3s 74us/step - loss: 1.4619 - accuracy: 0.4754 - val_loss: 1.6166 - val_accuracy: 0.4284\n",
            "Epoch 80/100\n",
            "40000/40000 [==============================] - 3s 74us/step - loss: 1.4600 - accuracy: 0.4769 - val_loss: 1.5779 - val_accuracy: 0.4349\n",
            "Epoch 81/100\n",
            "40000/40000 [==============================] - 3s 74us/step - loss: 1.4586 - accuracy: 0.4746 - val_loss: 1.5694 - val_accuracy: 0.4402\n",
            "Epoch 82/100\n",
            "40000/40000 [==============================] - 3s 74us/step - loss: 1.4572 - accuracy: 0.4787 - val_loss: 1.6073 - val_accuracy: 0.4235\n",
            "Epoch 83/100\n",
            "40000/40000 [==============================] - 3s 70us/step - loss: 1.4557 - accuracy: 0.4761 - val_loss: 1.6096 - val_accuracy: 0.4248\n",
            "Epoch 84/100\n",
            "40000/40000 [==============================] - 3s 70us/step - loss: 1.4564 - accuracy: 0.4757 - val_loss: 1.5663 - val_accuracy: 0.4389\n",
            "Epoch 85/100\n",
            "40000/40000 [==============================] - 3s 70us/step - loss: 1.4553 - accuracy: 0.4773 - val_loss: 1.5903 - val_accuracy: 0.4326\n",
            "Epoch 86/100\n",
            "40000/40000 [==============================] - 3s 71us/step - loss: 1.4530 - accuracy: 0.4800 - val_loss: 1.5738 - val_accuracy: 0.4412\n",
            "Epoch 87/100\n",
            "40000/40000 [==============================] - 3s 70us/step - loss: 1.4521 - accuracy: 0.4780 - val_loss: 1.5736 - val_accuracy: 0.4376\n",
            "Epoch 88/100\n",
            "40000/40000 [==============================] - 3s 70us/step - loss: 1.4496 - accuracy: 0.4776 - val_loss: 1.5729 - val_accuracy: 0.4375\n",
            "Epoch 89/100\n",
            "40000/40000 [==============================] - 3s 69us/step - loss: 1.4501 - accuracy: 0.4813 - val_loss: 1.5685 - val_accuracy: 0.4427\n",
            "Epoch 90/100\n",
            "40000/40000 [==============================] - 3s 71us/step - loss: 1.4489 - accuracy: 0.4811 - val_loss: 1.5668 - val_accuracy: 0.4433\n",
            "Epoch 91/100\n",
            "40000/40000 [==============================] - 3s 70us/step - loss: 1.4489 - accuracy: 0.4815 - val_loss: 1.5664 - val_accuracy: 0.4443\n",
            "Epoch 92/100\n",
            "40000/40000 [==============================] - 3s 70us/step - loss: 1.4481 - accuracy: 0.4831 - val_loss: 1.5863 - val_accuracy: 0.4298\n",
            "Epoch 93/100\n",
            "40000/40000 [==============================] - 3s 71us/step - loss: 1.4456 - accuracy: 0.4789 - val_loss: 1.5696 - val_accuracy: 0.4403\n",
            "Epoch 94/100\n",
            "40000/40000 [==============================] - 3s 70us/step - loss: 1.4432 - accuracy: 0.4848 - val_loss: 1.5973 - val_accuracy: 0.4358\n",
            "Epoch 95/100\n",
            "40000/40000 [==============================] - 3s 70us/step - loss: 1.4442 - accuracy: 0.4797 - val_loss: 1.5901 - val_accuracy: 0.4380\n",
            "Epoch 96/100\n",
            "40000/40000 [==============================] - 3s 70us/step - loss: 1.4443 - accuracy: 0.4834 - val_loss: 1.5950 - val_accuracy: 0.4366\n",
            "Epoch 97/100\n",
            "40000/40000 [==============================] - 3s 71us/step - loss: 1.4413 - accuracy: 0.4843 - val_loss: 1.6409 - val_accuracy: 0.4149\n",
            "Epoch 98/100\n",
            "40000/40000 [==============================] - 3s 72us/step - loss: 1.4417 - accuracy: 0.4839 - val_loss: 1.5767 - val_accuracy: 0.4373\n",
            "Epoch 99/100\n",
            "40000/40000 [==============================] - 3s 74us/step - loss: 1.4398 - accuracy: 0.4846 - val_loss: 1.5723 - val_accuracy: 0.4379\n",
            "Epoch 100/100\n",
            "40000/40000 [==============================] - 3s 71us/step - loss: 1.4398 - accuracy: 0.4848 - val_loss: 1.6015 - val_accuracy: 0.4319\n"
          ],
          "name": "stdout"
        }
      ]
    },
    {
      "cell_type": "code",
      "metadata": {
        "id": "evgpMkT4KrhR",
        "colab_type": "code",
        "colab": {
          "base_uri": "https://localhost:8080/",
          "height": 312
        },
        "outputId": "59f65f45-df83-4ebd-de37-2c54c8a3b6d2"
      },
      "source": [
        "#plot results\n",
        "import matplotlib.pyplot as plt\n",
        "\n",
        "plt.plot(history_final.history['accuracy'])\n",
        "plt.plot(history_final.history['val_accuracy'])\n",
        "plt.title('Model Accuracy')\n",
        "plt.ylabel('Accuracy')\n",
        "plt.xlabel('Epochs')\n",
        "plt.legend(['Train', 'Validation'], loc = 'upper left')"
      ],
      "execution_count": 36,
      "outputs": [
        {
          "output_type": "execute_result",
          "data": {
            "text/plain": [
              "<matplotlib.legend.Legend at 0x7efe9fbcd390>"
            ]
          },
          "metadata": {
            "tags": []
          },
          "execution_count": 36
        },
        {
          "output_type": "display_data",
          "data": {
            "image/png": "[encoded data removed]",
            "text/plain": [
              "<Figure size 432x288 with 1 Axes>"
            ]
          },
          "metadata": {
            "tags": [],
            "needs_background": "light"
          }
        }
      ]
    },
    {
      "cell_type": "markdown",
      "metadata": {
        "id": "7i5KqHRnM502",
        "colab_type": "text"
      },
      "source": [
        "Try again with CNN"
      ]
    },
    {
      "cell_type": "code",
      "metadata": {
        "id": "JYudBxHqNDtS",
        "colab_type": "code",
        "colab": {}
      },
      "source": [
        "(X_train, y_train), (X_test, y_test) = cifar10.load_data()"
      ],
      "execution_count": 46,
      "outputs": []
    },
    {
      "cell_type": "code",
      "metadata": {
        "id": "ibtJa0eENHAM",
        "colab_type": "code",
        "colab": {}
      },
      "source": [
        "#normalizing inputs from 0-255 to 0.0-1.0 \n",
        "X_train = X_train.astype('float32') \n",
        "X_test = X_test.astype('float32') \n",
        "X_train = X_train / 255.0 \n",
        "X_test = X_test / 255.0"
      ],
      "execution_count": 47,
      "outputs": []
    },
    {
      "cell_type": "code",
      "metadata": {
        "id": "NFiVqjWuNbGm",
        "colab_type": "code",
        "colab": {}
      },
      "source": [
        "# one hot encode outputs \n",
        "y_train = np_utils.to_categorical(y_train) \n",
        "y_test = np_utils.to_categorical(y_test)"
      ],
      "execution_count": 52,
      "outputs": []
    },
    {
      "cell_type": "code",
      "metadata": {
        "id": "_vZKdaVzKcbX",
        "colab_type": "code",
        "colab": {}
      },
      "source": [
        "from keras.layers import Dense,Dropout,Flatten,Conv2D,MaxPooling2D\n",
        "from keras.constraints import maxnorm\n",
        "from keras.optimizers import SGD\n",
        "from keras.utils import np_utils \n",
        "from keras import backend as K "
      ],
      "execution_count": 37,
      "outputs": []
    },
    {
      "cell_type": "code",
      "metadata": {
        "id": "bWm-G6WlKdKO",
        "colab_type": "code",
        "colab": {}
      },
      "source": [
        "model= Sequential()\n",
        "model.add(Conv2D(32, (3, 3), input_shape=(32,32,3), activation='relu', padding='same')) \n",
        "model.add(Dropout(0.2)) \n",
        "model.add(Conv2D(32, (3, 3), activation='relu', padding='same')) \n",
        "model.add(MaxPooling2D(pool_size=(2, 2))) \n",
        "model.add(Conv2D(64, (3, 3), activation='relu', padding='same')) \n",
        "model.add(Dropout(0.2)) \n",
        "model.add(Conv2D(64, (3, 3), activation='relu', padding='same')) \n",
        "model.add(MaxPooling2D(pool_size=(2, 2))) \n",
        "model.add(Conv2D(128, (3, 3), activation='relu', padding='same')) \n",
        "model.add(Dropout(0.2)) \n",
        "model.add(Conv2D(128, (3, 3), activation='relu', padding='same')) \n",
        "model.add(MaxPooling2D(pool_size=(2, 2))) \n",
        "model.add(Flatten()) \n",
        "model.add(Dropout(0.2)) \n",
        "model.add(Dense(1024, activation='relu', kernel_constraint=maxnorm(3))) \n",
        "model.add(Dropout(0.2)) \n",
        "model.add(Dense(512, activation='relu', kernel_constraint=maxnorm(3))) \n",
        "model.add(Dropout(0.2)) \n",
        "model.add(Dense(10, activation='softmax'))"
      ],
      "execution_count": 53,
      "outputs": []
    },
    {
      "cell_type": "code",
      "metadata": {
        "id": "XmxzE8GvLgcw",
        "colab_type": "code",
        "colab": {}
      },
      "source": [
        "model.compile(loss='categorical_crossentropy', optimizer='sgd', metrics=['accuracy'])"
      ],
      "execution_count": 54,
      "outputs": []
    },
    {
      "cell_type": "code",
      "metadata": {
        "id": "rxpbViseTKfH",
        "colab_type": "code",
        "colab": {
          "base_uri": "https://localhost:8080/",
          "height": 374
        },
        "outputId": "b1f6fb03-a509-423c-f84d-96ba08ca04e6"
      },
      "source": [
        "model.compile(loss='categorical_crossentropy', optimizer='adam', metrics=['accuracy'])\n",
        "history_f = model.fit(X_train, y_train, validation_data =(X_test,y_test), epochs=10, batch_size=100)"
      ],
      "execution_count": 59,
      "outputs": [
        {
          "output_type": "stream",
          "text": [
            "Train on 50000 samples, validate on 10000 samples\n",
            "Epoch 1/10\n",
            "50000/50000 [==============================] - 380s 8ms/step - loss: 1.3857 - accuracy: 0.4984 - val_loss: 1.2561 - val_accuracy: 0.5516\n",
            "Epoch 2/10\n",
            "50000/50000 [==============================] - 380s 8ms/step - loss: 1.1194 - accuracy: 0.6028 - val_loss: 0.9841 - val_accuracy: 0.6554\n",
            "Epoch 3/10\n",
            "50000/50000 [==============================] - 376s 8ms/step - loss: 0.9324 - accuracy: 0.6713 - val_loss: 0.8899 - val_accuracy: 0.6915\n",
            "Epoch 4/10\n",
            "50000/50000 [==============================] - 379s 8ms/step - loss: 0.8001 - accuracy: 0.7198 - val_loss: 0.8000 - val_accuracy: 0.7254\n",
            "Epoch 5/10\n",
            "50000/50000 [==============================] - 376s 8ms/step - loss: 0.7062 - accuracy: 0.7523 - val_loss: 0.7205 - val_accuracy: 0.7539\n",
            "Epoch 6/10\n",
            "50000/50000 [==============================] - 379s 8ms/step - loss: 0.6300 - accuracy: 0.7780 - val_loss: 0.7397 - val_accuracy: 0.7490\n",
            "Epoch 7/10\n",
            "50000/50000 [==============================] - 379s 8ms/step - loss: 0.5620 - accuracy: 0.8023 - val_loss: 0.6846 - val_accuracy: 0.7672\n",
            "Epoch 8/10\n",
            "50000/50000 [==============================] - 376s 8ms/step - loss: 0.5184 - accuracy: 0.8155 - val_loss: 0.6659 - val_accuracy: 0.7718\n",
            "Epoch 9/10\n",
            "50000/50000 [==============================] - 379s 8ms/step - loss: 0.4676 - accuracy: 0.8355 - val_loss: 0.6755 - val_accuracy: 0.7781\n",
            "Epoch 10/10\n",
            "50000/50000 [==============================] - 381s 8ms/step - loss: 0.4270 - accuracy: 0.8476 - val_loss: 0.6305 - val_accuracy: 0.7875\n"
          ],
          "name": "stdout"
        }
      ]
    },
    {
      "cell_type": "code",
      "metadata": {
        "id": "Hm8K_K7kbAvl",
        "colab_type": "code",
        "colab": {
          "base_uri": "https://localhost:8080/",
          "height": 312
        },
        "outputId": "efe27623-14b9-4d2b-8048-7745f5920f65"
      },
      "source": [
        "#plot accuracy\n",
        "import matplotlib.pyplot as plt\n",
        "\n",
        "plt.plot(history_f.history['accuracy'])\n",
        "plt.plot(history_f.history['val_accuracy'])\n",
        "plt.title('Model Accuracy')\n",
        "plt.ylabel('Accuracy')\n",
        "plt.xlabel('Epochs')\n",
        "plt.legend(['Train', 'Validation'], loc = 'upper left')"
      ],
      "execution_count": 60,
      "outputs": [
        {
          "output_type": "execute_result",
          "data": {
            "text/plain": [
              "<matplotlib.legend.Legend at 0x7efe9df1a0b8>"
            ]
          },
          "metadata": {
            "tags": []
          },
          "execution_count": 60
        },
        {
          "output_type": "display_data",
          "data": {
            "image/png": "[encoded data removed]",
            "text/plain": [
              "<Figure size 432x288 with 1 Axes>"
            ]
          },
          "metadata": {
            "tags": [],
            "needs_background": "light"
          }
        }
      ]
    }
  ]
}
