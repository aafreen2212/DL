{
  "nbformat": 4,
  "nbformat_minor": 0,
  "metadata": {
    "colab": {
      "name": "Assignment2.ipynb",
      "provenance": [],
      "collapsed_sections": [],
      "authorship_tag": "ABX9TyMvJfCPYwdMffzBCVy6CVVw",
      "include_colab_link": true
    },
    "kernelspec": {
      "name": "python3",
      "display_name": "Python 3"
    }
  },
  "cells": [
    {
      "cell_type": "markdown",
      "metadata": {
        "id": "view-in-github",
        "colab_type": "text"
      },
      "source": [
        "<a href=\"https://colab.research.google.com/github/aafreen2212/DL/blob/master/Assignment2.ipynb\" target=\"_parent\"><img src=\"https://colab.research.google.com/assets/colab-badge.svg\" alt=\"Open In Colab\"/></a>"
      ]
    },
    {
      "cell_type": "code",
      "metadata": {
        "id": "a-QfwX1M1V3f",
        "colab_type": "code",
        "colab": {}
      },
      "source": [
        "import pandas as pd\n",
        "import matplotlib.pyplot as plt\n",
        "import seaborn as sns\n",
        "import numpy as np\n"
      ],
      "execution_count": 53,
      "outputs": []
    },
    {
      "cell_type": "markdown",
      "metadata": {
        "id": "_UQ_VpFEvRat",
        "colab_type": "text"
      },
      "source": [
        "Read the cleaned data"
      ]
    },
    {
      "cell_type": "code",
      "metadata": {
        "id": "a4pg5pop1glS",
        "colab_type": "code",
        "colab": {
          "base_uri": "https://localhost:8080/",
          "height": 309
        },
        "outputId": "8924a910-76f6-4124-cd70-bf3662cabda0"
      },
      "source": [
        "data = pd.read_csv('https://s3-api.us-geo.objectstorage.softlayer.net/cf-courses-data/CognitiveClass/DA0101EN/automobileEDA.csv')\n",
        "data.head()"
      ],
      "execution_count": 54,
      "outputs": [
        {
          "output_type": "execute_result",
          "data": {
            "text/html": [
              "<div>\n",
              "<style scoped>\n",
              "    .dataframe tbody tr th:only-of-type {\n",
              "        vertical-align: middle;\n",
              "    }\n",
              "\n",
              "    .dataframe tbody tr th {\n",
              "        vertical-align: top;\n",
              "    }\n",
              "\n",
              "    .dataframe thead th {\n",
              "        text-align: right;\n",
              "    }\n",
              "</style>\n",
              "<table border=\"1\" class=\"dataframe\">\n",
              "  <thead>\n",
              "    <tr style=\"text-align: right;\">\n",
              "      <th></th>\n",
              "      <th>symboling</th>\n",
              "      <th>normalized-losses</th>\n",
              "      <th>make</th>\n",
              "      <th>aspiration</th>\n",
              "      <th>num-of-doors</th>\n",
              "      <th>body-style</th>\n",
              "      <th>drive-wheels</th>\n",
              "      <th>engine-location</th>\n",
              "      <th>wheel-base</th>\n",
              "      <th>length</th>\n",
              "      <th>width</th>\n",
              "      <th>height</th>\n",
              "      <th>curb-weight</th>\n",
              "      <th>engine-type</th>\n",
              "      <th>num-of-cylinders</th>\n",
              "      <th>engine-size</th>\n",
              "      <th>fuel-system</th>\n",
              "      <th>bore</th>\n",
              "      <th>stroke</th>\n",
              "      <th>compression-ratio</th>\n",
              "      <th>horsepower</th>\n",
              "      <th>peak-rpm</th>\n",
              "      <th>city-mpg</th>\n",
              "      <th>highway-mpg</th>\n",
              "      <th>price</th>\n",
              "      <th>city-L/100km</th>\n",
              "      <th>horsepower-binned</th>\n",
              "      <th>diesel</th>\n",
              "      <th>gas</th>\n",
              "    </tr>\n",
              "  </thead>\n",
              "  <tbody>\n",
              "    <tr>\n",
              "      <th>0</th>\n",
              "      <td>3</td>\n",
              "      <td>122</td>\n",
              "      <td>alfa-romero</td>\n",
              "      <td>std</td>\n",
              "      <td>two</td>\n",
              "      <td>convertible</td>\n",
              "      <td>rwd</td>\n",
              "      <td>front</td>\n",
              "      <td>88.6</td>\n",
              "      <td>0.811148</td>\n",
              "      <td>0.890278</td>\n",
              "      <td>48.8</td>\n",
              "      <td>2548</td>\n",
              "      <td>dohc</td>\n",
              "      <td>four</td>\n",
              "      <td>130</td>\n",
              "      <td>mpfi</td>\n",
              "      <td>3.47</td>\n",
              "      <td>2.68</td>\n",
              "      <td>9.0</td>\n",
              "      <td>111.0</td>\n",
              "      <td>5000.0</td>\n",
              "      <td>21</td>\n",
              "      <td>27</td>\n",
              "      <td>13495.0</td>\n",
              "      <td>11.190476</td>\n",
              "      <td>Medium</td>\n",
              "      <td>0</td>\n",
              "      <td>1</td>\n",
              "    </tr>\n",
              "    <tr>\n",
              "      <th>1</th>\n",
              "      <td>3</td>\n",
              "      <td>122</td>\n",
              "      <td>alfa-romero</td>\n",
              "      <td>std</td>\n",
              "      <td>two</td>\n",
              "      <td>convertible</td>\n",
              "      <td>rwd</td>\n",
              "      <td>front</td>\n",
              "      <td>88.6</td>\n",
              "      <td>0.811148</td>\n",
              "      <td>0.890278</td>\n",
              "      <td>48.8</td>\n",
              "      <td>2548</td>\n",
              "      <td>dohc</td>\n",
              "      <td>four</td>\n",
              "      <td>130</td>\n",
              "      <td>mpfi</td>\n",
              "      <td>3.47</td>\n",
              "      <td>2.68</td>\n",
              "      <td>9.0</td>\n",
              "      <td>111.0</td>\n",
              "      <td>5000.0</td>\n",
              "      <td>21</td>\n",
              "      <td>27</td>\n",
              "      <td>16500.0</td>\n",
              "      <td>11.190476</td>\n",
              "      <td>Medium</td>\n",
              "      <td>0</td>\n",
              "      <td>1</td>\n",
              "    </tr>\n",
              "    <tr>\n",
              "      <th>2</th>\n",
              "      <td>1</td>\n",
              "      <td>122</td>\n",
              "      <td>alfa-romero</td>\n",
              "      <td>std</td>\n",
              "      <td>two</td>\n",
              "      <td>hatchback</td>\n",
              "      <td>rwd</td>\n",
              "      <td>front</td>\n",
              "      <td>94.5</td>\n",
              "      <td>0.822681</td>\n",
              "      <td>0.909722</td>\n",
              "      <td>52.4</td>\n",
              "      <td>2823</td>\n",
              "      <td>ohcv</td>\n",
              "      <td>six</td>\n",
              "      <td>152</td>\n",
              "      <td>mpfi</td>\n",
              "      <td>2.68</td>\n",
              "      <td>3.47</td>\n",
              "      <td>9.0</td>\n",
              "      <td>154.0</td>\n",
              "      <td>5000.0</td>\n",
              "      <td>19</td>\n",
              "      <td>26</td>\n",
              "      <td>16500.0</td>\n",
              "      <td>12.368421</td>\n",
              "      <td>Medium</td>\n",
              "      <td>0</td>\n",
              "      <td>1</td>\n",
              "    </tr>\n",
              "    <tr>\n",
              "      <th>3</th>\n",
              "      <td>2</td>\n",
              "      <td>164</td>\n",
              "      <td>audi</td>\n",
              "      <td>std</td>\n",
              "      <td>four</td>\n",
              "      <td>sedan</td>\n",
              "      <td>fwd</td>\n",
              "      <td>front</td>\n",
              "      <td>99.8</td>\n",
              "      <td>0.848630</td>\n",
              "      <td>0.919444</td>\n",
              "      <td>54.3</td>\n",
              "      <td>2337</td>\n",
              "      <td>ohc</td>\n",
              "      <td>four</td>\n",
              "      <td>109</td>\n",
              "      <td>mpfi</td>\n",
              "      <td>3.19</td>\n",
              "      <td>3.40</td>\n",
              "      <td>10.0</td>\n",
              "      <td>102.0</td>\n",
              "      <td>5500.0</td>\n",
              "      <td>24</td>\n",
              "      <td>30</td>\n",
              "      <td>13950.0</td>\n",
              "      <td>9.791667</td>\n",
              "      <td>Medium</td>\n",
              "      <td>0</td>\n",
              "      <td>1</td>\n",
              "    </tr>\n",
              "    <tr>\n",
              "      <th>4</th>\n",
              "      <td>2</td>\n",
              "      <td>164</td>\n",
              "      <td>audi</td>\n",
              "      <td>std</td>\n",
              "      <td>four</td>\n",
              "      <td>sedan</td>\n",
              "      <td>4wd</td>\n",
              "      <td>front</td>\n",
              "      <td>99.4</td>\n",
              "      <td>0.848630</td>\n",
              "      <td>0.922222</td>\n",
              "      <td>54.3</td>\n",
              "      <td>2824</td>\n",
              "      <td>ohc</td>\n",
              "      <td>five</td>\n",
              "      <td>136</td>\n",
              "      <td>mpfi</td>\n",
              "      <td>3.19</td>\n",
              "      <td>3.40</td>\n",
              "      <td>8.0</td>\n",
              "      <td>115.0</td>\n",
              "      <td>5500.0</td>\n",
              "      <td>18</td>\n",
              "      <td>22</td>\n",
              "      <td>17450.0</td>\n",
              "      <td>13.055556</td>\n",
              "      <td>Medium</td>\n",
              "      <td>0</td>\n",
              "      <td>1</td>\n",
              "    </tr>\n",
              "  </tbody>\n",
              "</table>\n",
              "</div>"
            ],
            "text/plain": [
              "   symboling  normalized-losses         make  ... horsepower-binned diesel gas\n",
              "0          3                122  alfa-romero  ...            Medium      0   1\n",
              "1          3                122  alfa-romero  ...            Medium      0   1\n",
              "2          1                122  alfa-romero  ...            Medium      0   1\n",
              "3          2                164         audi  ...            Medium      0   1\n",
              "4          2                164         audi  ...            Medium      0   1\n",
              "\n",
              "[5 rows x 29 columns]"
            ]
          },
          "metadata": {
            "tags": []
          },
          "execution_count": 54
        }
      ]
    },
    {
      "cell_type": "markdown",
      "metadata": {
        "id": "n4NCEhij3Lai",
        "colab_type": "text"
      },
      "source": [
        "Dimension of data"
      ]
    },
    {
      "cell_type": "code",
      "metadata": {
        "id": "YcFcTJjS1txM",
        "colab_type": "code",
        "colab": {
          "base_uri": "https://localhost:8080/",
          "height": 34
        },
        "outputId": "a4d06440-bddf-4c00-a06b-26845e0f2a92"
      },
      "source": [
        "data.shape"
      ],
      "execution_count": 55,
      "outputs": [
        {
          "output_type": "execute_result",
          "data": {
            "text/plain": [
              "(201, 29)"
            ]
          },
          "metadata": {
            "tags": []
          },
          "execution_count": 55
        }
      ]
    },
    {
      "cell_type": "markdown",
      "metadata": {
        "id": "HYxYfh9h3KjU",
        "colab_type": "text"
      },
      "source": [
        "Data type of data"
      ]
    },
    {
      "cell_type": "code",
      "metadata": {
        "id": "g1oe4baw1-ja",
        "colab_type": "code",
        "colab": {
          "base_uri": "https://localhost:8080/",
          "height": 527
        },
        "outputId": "03eb84f5-7575-4fae-8f43-b8d0741f4a58"
      },
      "source": [
        "data.dtypes"
      ],
      "execution_count": 56,
      "outputs": [
        {
          "output_type": "execute_result",
          "data": {
            "text/plain": [
              "symboling              int64\n",
              "normalized-losses      int64\n",
              "make                  object\n",
              "aspiration            object\n",
              "num-of-doors          object\n",
              "body-style            object\n",
              "drive-wheels          object\n",
              "engine-location       object\n",
              "wheel-base           float64\n",
              "length               float64\n",
              "width                float64\n",
              "height               float64\n",
              "curb-weight            int64\n",
              "engine-type           object\n",
              "num-of-cylinders      object\n",
              "engine-size            int64\n",
              "fuel-system           object\n",
              "bore                 float64\n",
              "stroke               float64\n",
              "compression-ratio    float64\n",
              "horsepower           float64\n",
              "peak-rpm             float64\n",
              "city-mpg               int64\n",
              "highway-mpg            int64\n",
              "price                float64\n",
              "city-L/100km         float64\n",
              "horsepower-binned     object\n",
              "diesel                 int64\n",
              "gas                    int64\n",
              "dtype: object"
            ]
          },
          "metadata": {
            "tags": []
          },
          "execution_count": 56
        }
      ]
    },
    {
      "cell_type": "markdown",
      "metadata": {
        "id": "7_NVtMUq3WEO",
        "colab_type": "text"
      },
      "source": [
        "Correlation betwen price and engine size"
      ]
    },
    {
      "cell_type": "code",
      "metadata": {
        "id": "2ICEk_C52f5f",
        "colab_type": "code",
        "colab": {}
      },
      "source": [
        "from scipy.stats import pearsonr"
      ],
      "execution_count": 57,
      "outputs": []
    },
    {
      "cell_type": "code",
      "metadata": {
        "id": "597q2eA-2m1k",
        "colab_type": "code",
        "colab": {
          "base_uri": "https://localhost:8080/",
          "height": 34
        },
        "outputId": "e1f338dd-bb4d-43dd-f553-c8fe2b6a9cf5"
      },
      "source": [
        "pearsonr(data['engine-size'], data['price'])"
      ],
      "execution_count": 58,
      "outputs": [
        {
          "output_type": "execute_result",
          "data": {
            "text/plain": [
              "(0.8723351674455185, 9.265491622198389e-64)"
            ]
          },
          "metadata": {
            "tags": []
          },
          "execution_count": 58
        }
      ]
    },
    {
      "cell_type": "markdown",
      "metadata": {
        "id": "MA51Zv8G28Nu",
        "colab_type": "text"
      },
      "source": [
        "Postive correlation between engine size and price"
      ]
    },
    {
      "cell_type": "code",
      "metadata": {
        "id": "K6LEJe7u2wDX",
        "colab_type": "code",
        "colab": {
          "base_uri": "https://localhost:8080/",
          "height": 34
        },
        "outputId": "d5a5caa0-7cef-411b-9440-c7ef5012b66f"
      },
      "source": [
        "data['peak-rpm'].dtypes"
      ],
      "execution_count": 59,
      "outputs": [
        {
          "output_type": "execute_result",
          "data": {
            "text/plain": [
              "dtype('float64')"
            ]
          },
          "metadata": {
            "tags": []
          },
          "execution_count": 59
        }
      ]
    },
    {
      "cell_type": "markdown",
      "metadata": {
        "id": "2pdIicA3vbyt",
        "colab_type": "text"
      },
      "source": [
        "Regplot in the SNS library is used to understand the correlation between two variables."
      ]
    },
    {
      "cell_type": "code",
      "metadata": {
        "id": "MFlFtWRR3X4w",
        "colab_type": "code",
        "colab": {
          "base_uri": "https://localhost:8080/",
          "height": 296
        },
        "outputId": "b7ce6836-db4a-4480-9ab1-00426ca83254"
      },
      "source": [
        "sns.regplot(data['engine-size'], data['price'])"
      ],
      "execution_count": 60,
      "outputs": [
        {
          "output_type": "execute_result",
          "data": {
            "text/plain": [
              "<matplotlib.axes._subplots.AxesSubplot at 0x7f65caa78be0>"
            ]
          },
          "metadata": {
            "tags": []
          },
          "execution_count": 60
        },
        {
          "output_type": "display_data",
          "data": {
            "image/png": "[encoded data removed]",
            "text/plain": [
              "<Figure size 432x288 with 1 Axes>"
            ]
          },
          "metadata": {
            "tags": [],
            "needs_background": "light"
          }
        }
      ]
    },
    {
      "cell_type": "code",
      "metadata": {
        "id": "kDqSa2mR38f1",
        "colab_type": "code",
        "colab": {
          "base_uri": "https://localhost:8080/",
          "height": 296
        },
        "outputId": "ae17ddba-e1f0-454b-9797-3ea47674489e"
      },
      "source": [
        "sns.regplot(data['symboling'], data['price'])"
      ],
      "execution_count": 61,
      "outputs": [
        {
          "output_type": "execute_result",
          "data": {
            "text/plain": [
              "<matplotlib.axes._subplots.AxesSubplot at 0x7f65ca9cce10>"
            ]
          },
          "metadata": {
            "tags": []
          },
          "execution_count": 61
        },
        {
          "output_type": "display_data",
          "data": {
            "image/png": "[encoded data removed]",
            "text/plain": [
              "<Figure size 432x288 with 1 Axes>"
            ]
          },
          "metadata": {
            "tags": [],
            "needs_background": "light"
          }
        }
      ]
    },
    {
      "cell_type": "code",
      "metadata": {
        "id": "2p6I3fAQ4EHt",
        "colab_type": "code",
        "colab": {
          "base_uri": "https://localhost:8080/",
          "height": 296
        },
        "outputId": "e21a5789-a06e-4289-b277-997a144a452e"
      },
      "source": [
        "sns.regplot(data['normalized-losses'], data['price'])"
      ],
      "execution_count": 62,
      "outputs": [
        {
          "output_type": "execute_result",
          "data": {
            "text/plain": [
              "<matplotlib.axes._subplots.AxesSubplot at 0x7f65caa01f28>"
            ]
          },
          "metadata": {
            "tags": []
          },
          "execution_count": 62
        },
        {
          "output_type": "display_data",
          "data": {
            "image/png": "[encoded data removed]",
            "text/plain": [
              "<Figure size 432x288 with 1 Axes>"
            ]
          },
          "metadata": {
            "tags": [],
            "needs_background": "light"
          }
        }
      ]
    },
    {
      "cell_type": "code",
      "metadata": {
        "id": "i260gmAY4Lg2",
        "colab_type": "code",
        "colab": {
          "base_uri": "https://localhost:8080/",
          "height": 296
        },
        "outputId": "3f9b4eb1-b955-4028-ddf8-41716b82fdc5"
      },
      "source": [
        "sns.regplot(data['wheel-base'], data['price'])"
      ],
      "execution_count": 63,
      "outputs": [
        {
          "output_type": "execute_result",
          "data": {
            "text/plain": [
              "<matplotlib.axes._subplots.AxesSubplot at 0x7f65ca91ad68>"
            ]
          },
          "metadata": {
            "tags": []
          },
          "execution_count": 63
        },
        {
          "output_type": "display_data",
          "data": {
            "image/png": "[encoded data removed]",
            "text/plain": [
              "<Figure size 432x288 with 1 Axes>"
            ]
          },
          "metadata": {
            "tags": [],
            "needs_background": "light"
          }
        }
      ]
    },
    {
      "cell_type": "code",
      "metadata": {
        "id": "kLyDQ-GS4RCF",
        "colab_type": "code",
        "colab": {
          "base_uri": "https://localhost:8080/",
          "height": 296
        },
        "outputId": "d5e6bd47-b5a1-45af-b0f4-9a9275f9b0ea"
      },
      "source": [
        "sns.regplot(data['length'], data['price'])"
      ],
      "execution_count": 64,
      "outputs": [
        {
          "output_type": "execute_result",
          "data": {
            "text/plain": [
              "<matplotlib.axes._subplots.AxesSubplot at 0x7f65ca8fbbe0>"
            ]
          },
          "metadata": {
            "tags": []
          },
          "execution_count": 64
        },
        {
          "output_type": "display_data",
          "data": {
            "image/png": "[encoded data removed]",
            "text/plain": [
              "<Figure size 432x288 with 1 Axes>"
            ]
          },
          "metadata": {
            "tags": [],
            "needs_background": "light"
          }
        }
      ]
    },
    {
      "cell_type": "code",
      "metadata": {
        "id": "hXQflxQN4Xg2",
        "colab_type": "code",
        "colab": {
          "base_uri": "https://localhost:8080/",
          "height": 296
        },
        "outputId": "b9a1e246-9605-464b-d17e-6a1d25e3e3e4"
      },
      "source": [
        "sns.regplot(data['width'], data['price'])"
      ],
      "execution_count": 65,
      "outputs": [
        {
          "output_type": "execute_result",
          "data": {
            "text/plain": [
              "<matplotlib.axes._subplots.AxesSubplot at 0x7f65ca8640b8>"
            ]
          },
          "metadata": {
            "tags": []
          },
          "execution_count": 65
        },
        {
          "output_type": "display_data",
          "data": {
            "image/png": "[encoded data removed]",
            "text/plain": [
              "<Figure size 432x288 with 1 Axes>"
            ]
          },
          "metadata": {
            "tags": [],
            "needs_background": "light"
          }
        }
      ]
    },
    {
      "cell_type": "code",
      "metadata": {
        "id": "pa1Y79yY4Zr7",
        "colab_type": "code",
        "colab": {
          "base_uri": "https://localhost:8080/",
          "height": 296
        },
        "outputId": "6bccd00a-9ddd-4f56-d627-bbbd6550989b"
      },
      "source": [
        "sns.regplot(data['height'], data['price'])"
      ],
      "execution_count": 66,
      "outputs": [
        {
          "output_type": "execute_result",
          "data": {
            "text/plain": [
              "<matplotlib.axes._subplots.AxesSubplot at 0x7f65ca7d3588>"
            ]
          },
          "metadata": {
            "tags": []
          },
          "execution_count": 66
        },
        {
          "output_type": "display_data",
          "data": {
            "image/png": "[encoded data removed]",
            "text/plain": [
              "<Figure size 432x288 with 1 Axes>"
            ]
          },
          "metadata": {
            "tags": [],
            "needs_background": "light"
          }
        }
      ]
    },
    {
      "cell_type": "code",
      "metadata": {
        "id": "0fbsncrn4boJ",
        "colab_type": "code",
        "colab": {
          "base_uri": "https://localhost:8080/",
          "height": 296
        },
        "outputId": "b6b854ce-6d9a-49af-ac25-f379025807c2"
      },
      "source": [
        "sns.regplot(data['curb-weight'], data['price'])"
      ],
      "execution_count": 67,
      "outputs": [
        {
          "output_type": "execute_result",
          "data": {
            "text/plain": [
              "<matplotlib.axes._subplots.AxesSubplot at 0x7f65ca7c1780>"
            ]
          },
          "metadata": {
            "tags": []
          },
          "execution_count": 67
        },
        {
          "output_type": "display_data",
          "data": {
            "image/png": "[encoded data removed]",
            "text/plain": [
              "<Figure size 432x288 with 1 Axes>"
            ]
          },
          "metadata": {
            "tags": [],
            "needs_background": "light"
          }
        }
      ]
    },
    {
      "cell_type": "code",
      "metadata": {
        "id": "6UVCvm1S4nQE",
        "colab_type": "code",
        "colab": {
          "base_uri": "https://localhost:8080/",
          "height": 296
        },
        "outputId": "198f7502-2f88-48ff-b5f6-f80d9055689f"
      },
      "source": [
        "sns.regplot(data['bore'], data['price'])"
      ],
      "execution_count": 68,
      "outputs": [
        {
          "output_type": "execute_result",
          "data": {
            "text/plain": [
              "<matplotlib.axes._subplots.AxesSubplot at 0x7f65ca7659e8>"
            ]
          },
          "metadata": {
            "tags": []
          },
          "execution_count": 68
        },
        {
          "output_type": "display_data",
          "data": {
            "image/png": "[encoded data removed]",
            "text/plain": [
              "<Figure size 432x288 with 1 Axes>"
            ]
          },
          "metadata": {
            "tags": [],
            "needs_background": "light"
          }
        }
      ]
    },
    {
      "cell_type": "code",
      "metadata": {
        "id": "VEOtrGDH4yB3",
        "colab_type": "code",
        "colab": {
          "base_uri": "https://localhost:8080/",
          "height": 296
        },
        "outputId": "43dd7092-ad79-4a7b-bf64-f6640446d396"
      },
      "source": [
        "sns.regplot(data['stroke'], data['price'])"
      ],
      "execution_count": 69,
      "outputs": [
        {
          "output_type": "execute_result",
          "data": {
            "text/plain": [
              "<matplotlib.axes._subplots.AxesSubplot at 0x7f65ca701b00>"
            ]
          },
          "metadata": {
            "tags": []
          },
          "execution_count": 69
        },
        {
          "output_type": "display_data",
          "data": {
            "image/png": "[encoded data removed]",
            "text/plain": [
              "<Figure size 432x288 with 1 Axes>"
            ]
          },
          "metadata": {
            "tags": [],
            "needs_background": "light"
          }
        }
      ]
    },
    {
      "cell_type": "code",
      "metadata": {
        "id": "DvOnk6xQ4zv3",
        "colab_type": "code",
        "colab": {
          "base_uri": "https://localhost:8080/",
          "height": 296
        },
        "outputId": "8a197576-4142-417e-eab2-b0b1c66d5287"
      },
      "source": [
        "sns.regplot(data['compression-ratio'], data['price'])"
      ],
      "execution_count": 70,
      "outputs": [
        {
          "output_type": "execute_result",
          "data": {
            "text/plain": [
              "<matplotlib.axes._subplots.AxesSubplot at 0x7f65ca67f6d8>"
            ]
          },
          "metadata": {
            "tags": []
          },
          "execution_count": 70
        },
        {
          "output_type": "display_data",
          "data": {
            "image/png": "[encoded data removed]",
            "text/plain": [
              "<Figure size 432x288 with 1 Axes>"
            ]
          },
          "metadata": {
            "tags": [],
            "needs_background": "light"
          }
        }
      ]
    },
    {
      "cell_type": "code",
      "metadata": {
        "id": "XwT-quJh44qI",
        "colab_type": "code",
        "colab": {
          "base_uri": "https://localhost:8080/",
          "height": 296
        },
        "outputId": "962195f6-739b-4f81-b280-4d064d9dc72d"
      },
      "source": [
        "sns.regplot(data['horsepower'], data['price'])"
      ],
      "execution_count": 71,
      "outputs": [
        {
          "output_type": "execute_result",
          "data": {
            "text/plain": [
              "<matplotlib.axes._subplots.AxesSubplot at 0x7f65ca5e9630>"
            ]
          },
          "metadata": {
            "tags": []
          },
          "execution_count": 71
        },
        {
          "output_type": "display_data",
          "data": {
            "image/png": "[encoded data removed]",
            "text/plain": [
              "<Figure size 432x288 with 1 Axes>"
            ]
          },
          "metadata": {
            "tags": [],
            "needs_background": "light"
          }
        }
      ]
    },
    {
      "cell_type": "code",
      "metadata": {
        "id": "CCrsZUNl47PE",
        "colab_type": "code",
        "colab": {
          "base_uri": "https://localhost:8080/",
          "height": 296
        },
        "outputId": "7bbd902a-e524-4fe6-aec0-528b12f83e1e"
      },
      "source": [
        "sns.regplot(data['peak-rpm'], data['price'])"
      ],
      "execution_count": 72,
      "outputs": [
        {
          "output_type": "execute_result",
          "data": {
            "text/plain": [
              "<matplotlib.axes._subplots.AxesSubplot at 0x7f65ca55c860>"
            ]
          },
          "metadata": {
            "tags": []
          },
          "execution_count": 72
        },
        {
          "output_type": "display_data",
          "data": {
            "image/png": "[encoded data removed]",
            "text/plain": [
              "<Figure size 432x288 with 1 Axes>"
            ]
          },
          "metadata": {
            "tags": [],
            "needs_background": "light"
          }
        }
      ]
    },
    {
      "cell_type": "code",
      "metadata": {
        "id": "ohLGSjMY6TbF",
        "colab_type": "code",
        "colab": {
          "base_uri": "https://localhost:8080/",
          "height": 296
        },
        "outputId": "d0a7898e-63bd-4ba0-e166-0cdc74db1dc8"
      },
      "source": [
        "sns.regplot(data['city-mpg'], data['price'])"
      ],
      "execution_count": 73,
      "outputs": [
        {
          "output_type": "execute_result",
          "data": {
            "text/plain": [
              "<matplotlib.axes._subplots.AxesSubplot at 0x7f65ca630dd8>"
            ]
          },
          "metadata": {
            "tags": []
          },
          "execution_count": 73
        },
        {
          "output_type": "display_data",
          "data": {
            "image/png": "[encoded data removed]",
            "text/plain": [
              "<Figure size 432x288 with 1 Axes>"
            ]
          },
          "metadata": {
            "tags": [],
            "needs_background": "light"
          }
        }
      ]
    },
    {
      "cell_type": "code",
      "metadata": {
        "id": "_8mesSC66Z2Y",
        "colab_type": "code",
        "colab": {
          "base_uri": "https://localhost:8080/",
          "height": 296
        },
        "outputId": "fa0bd280-971b-448d-dda6-a401d8b491d2"
      },
      "source": [
        "sns.regplot(data['highway-mpg'], data['price'])"
      ],
      "execution_count": 74,
      "outputs": [
        {
          "output_type": "execute_result",
          "data": {
            "text/plain": [
              "<matplotlib.axes._subplots.AxesSubplot at 0x7f65caa9c710>"
            ]
          },
          "metadata": {
            "tags": []
          },
          "execution_count": 74
        },
        {
          "output_type": "display_data",
          "data": {
            "image/png": "[encoded data removed]",
            "text/plain": [
              "<Figure size 432x288 with 1 Axes>"
            ]
          },
          "metadata": {
            "tags": [],
            "needs_background": "light"
          }
        }
      ]
    },
    {
      "cell_type": "code",
      "metadata": {
        "id": "yGksx_Am6d-H",
        "colab_type": "code",
        "colab": {
          "base_uri": "https://localhost:8080/",
          "height": 296
        },
        "outputId": "7a93c494-53cc-46d5-a849-223e6b7ad1e6"
      },
      "source": [
        "sns.regplot(data['city-L/100km'], data['price'])"
      ],
      "execution_count": 75,
      "outputs": [
        {
          "output_type": "execute_result",
          "data": {
            "text/plain": [
              "<matplotlib.axes._subplots.AxesSubplot at 0x7f65ca466c88>"
            ]
          },
          "metadata": {
            "tags": []
          },
          "execution_count": 75
        },
        {
          "output_type": "display_data",
          "data": {
            "image/png": "[encoded data removed]",
            "text/plain": [
              "<Figure size 432x288 with 1 Axes>"
            ]
          },
          "metadata": {
            "tags": [],
            "needs_background": "light"
          }
        }
      ]
    },
    {
      "cell_type": "code",
      "metadata": {
        "id": "qlmE4ZBO6kie",
        "colab_type": "code",
        "colab": {
          "base_uri": "https://localhost:8080/",
          "height": 296
        },
        "outputId": "706c6172-3f0b-43fd-95bf-dd2e76698946"
      },
      "source": [
        "sns.regplot(data['diesel'], data['price'])"
      ],
      "execution_count": 76,
      "outputs": [
        {
          "output_type": "execute_result",
          "data": {
            "text/plain": [
              "<matplotlib.axes._subplots.AxesSubplot at 0x7f65ca3d4908>"
            ]
          },
          "metadata": {
            "tags": []
          },
          "execution_count": 76
        },
        {
          "output_type": "display_data",
          "data": {
            "image/png": "[encoded data removed]",
            "text/plain": [
              "<Figure size 432x288 with 1 Axes>"
            ]
          },
          "metadata": {
            "tags": [],
            "needs_background": "light"
          }
        }
      ]
    },
    {
      "cell_type": "code",
      "metadata": {
        "id": "BEmd1M7B6qxw",
        "colab_type": "code",
        "colab": {
          "base_uri": "https://localhost:8080/",
          "height": 296
        },
        "outputId": "3cc85e29-e2c9-49c2-ba62-5defd170ff71"
      },
      "source": [
        "sns.regplot(data['gas'], data['price'])"
      ],
      "execution_count": 77,
      "outputs": [
        {
          "output_type": "execute_result",
          "data": {
            "text/plain": [
              "<matplotlib.axes._subplots.AxesSubplot at 0x7f65ca42f898>"
            ]
          },
          "metadata": {
            "tags": []
          },
          "execution_count": 77
        },
        {
          "output_type": "display_data",
          "data": {
            "image/png": "[encoded data removed]",
            "text/plain": [
              "<Figure size 432x288 with 1 Axes>"
            ]
          },
          "metadata": {
            "tags": [],
            "needs_background": "light"
          }
        }
      ]
    },
    {
      "cell_type": "markdown",
      "metadata": {
        "id": "ahY3iunsv9pA",
        "colab_type": "text"
      },
      "source": [
        "The plots suggests that there is a positive correlation between price and the variables engine-size, wheel-base, length, width, curb-weight, bore, horsepowe, city_L/100km. However, according to the plots, there exists a negative correlation between the price and other variables like city-mpg and highway-mpg. The plot did not show correlations between the price variable and gas, diesel, compression-ratio, stroke, height, symboling and peak-rpm."
      ]
    },
    {
      "cell_type": "markdown",
      "metadata": {
        "id": "ZJM6ARRqyeOd",
        "colab_type": "text"
      },
      "source": [
        "**Heat Map between all the variables in the dataset**\n",
        "This positive correlation are highlighted in red whereas the negative correlations are highlighted in blue. The gradient (light to dark) of the red and blue color indicates the strength of correlation between two variables."
      ]
    },
    {
      "cell_type": "code",
      "metadata": {
        "id": "G6cYcYZb4_TP",
        "colab_type": "code",
        "colab": {
          "base_uri": "https://localhost:8080/",
          "height": 510
        },
        "outputId": "be825ea5-b37f-4514-ba48-d357c9c0c985"
      },
      "source": [
        "corr = data.corr()\n",
        "corr.style.background_gradient(cmap='coolwarm')"
      ],
      "execution_count": 78,
      "outputs": [
        {
          "output_type": "execute_result",
          "data": {
            "text/html": [
              "<style  type=\"text/css\" >\n",
              "    #T_6839a1de_c2bb_11ea_84f7_0242ac1c0002row0_col0 {\n",
              "            background-color:  #b40426;\n",
              "            color:  #f1f1f1;\n",
              "        }    #T_6839a1de_c2bb_11ea_84f7_0242ac1c0002row0_col1 {\n",
              "            background-color:  #f3c8b2;\n",
              "            color:  #000000;\n",
              "        }    #T_6839a1de_c2bb_11ea_84f7_0242ac1c0002row0_col2 {\n",
              "            background-color:  #3c4ec2;\n",
              "            color:  #f1f1f1;\n",
              "        }    #T_6839a1de_c2bb_11ea_84f7_0242ac1c0002row0_col3 {\n",
              "            background-color:  #7a9df8;\n",
              "            color:  #000000;\n",
              "        }    #T_6839a1de_c2bb_11ea_84f7_0242ac1c0002row0_col4 {\n",
              "            background-color:  #90b2fe;\n",
              "            color:  #000000;\n",
              "        }    #T_6839a1de_c2bb_11ea_84f7_0242ac1c0002row0_col5 {\n",
              "            background-color:  #3b4cc0;\n",
              "            color:  #f1f1f1;\n",
              "        }    #T_6839a1de_c2bb_11ea_84f7_0242ac1c0002row0_col6 {\n",
              "            background-color:  #a3c2fe;\n",
              "            color:  #000000;\n",
              "        }    #T_6839a1de_c2bb_11ea_84f7_0242ac1c0002row0_col7 {\n",
              "            background-color:  #abc8fd;\n",
              "            color:  #000000;\n",
              "        }    #T_6839a1de_c2bb_11ea_84f7_0242ac1c0002row0_col8 {\n",
              "            background-color:  #98b9ff;\n",
              "            color:  #000000;\n",
              "        }    #T_6839a1de_c2bb_11ea_84f7_0242ac1c0002row0_col9 {\n",
              "            background-color:  #779af7;\n",
              "            color:  #000000;\n",
              "        }    #T_6839a1de_c2bb_11ea_84f7_0242ac1c0002row0_col10 {\n",
              "            background-color:  #c1d4f4;\n",
              "            color:  #000000;\n",
              "        }    #T_6839a1de_c2bb_11ea_84f7_0242ac1c0002row0_col11 {\n",
              "            background-color:  #dbdcde;\n",
              "            color:  #000000;\n",
              "        }    #T_6839a1de_c2bb_11ea_84f7_0242ac1c0002row0_col12 {\n",
              "            background-color:  #e0dbd8;\n",
              "            color:  #000000;\n",
              "        }    #T_6839a1de_c2bb_11ea_84f7_0242ac1c0002row0_col13 {\n",
              "            background-color:  #d5dbe5;\n",
              "            color:  #000000;\n",
              "        }    #T_6839a1de_c2bb_11ea_84f7_0242ac1c0002row0_col14 {\n",
              "            background-color:  #dddcdc;\n",
              "            color:  #000000;\n",
              "        }    #T_6839a1de_c2bb_11ea_84f7_0242ac1c0002row0_col15 {\n",
              "            background-color:  #b5cdfa;\n",
              "            color:  #000000;\n",
              "        }    #T_6839a1de_c2bb_11ea_84f7_0242ac1c0002row0_col16 {\n",
              "            background-color:  #e2dad5;\n",
              "            color:  #000000;\n",
              "        }    #T_6839a1de_c2bb_11ea_84f7_0242ac1c0002row0_col17 {\n",
              "            background-color:  #c0d4f5;\n",
              "            color:  #000000;\n",
              "        }    #T_6839a1de_c2bb_11ea_84f7_0242ac1c0002row0_col18 {\n",
              "            background-color:  #f2cbb7;\n",
              "            color:  #000000;\n",
              "        }    #T_6839a1de_c2bb_11ea_84f7_0242ac1c0002row1_col0 {\n",
              "            background-color:  #f7bca1;\n",
              "            color:  #000000;\n",
              "        }    #T_6839a1de_c2bb_11ea_84f7_0242ac1c0002row1_col1 {\n",
              "            background-color:  #b40426;\n",
              "            color:  #f1f1f1;\n",
              "        }    #T_6839a1de_c2bb_11ea_84f7_0242ac1c0002row1_col2 {\n",
              "            background-color:  #a3c2fe;\n",
              "            color:  #000000;\n",
              "        }    #T_6839a1de_c2bb_11ea_84f7_0242ac1c0002row1_col3 {\n",
              "            background-color:  #c7d7f0;\n",
              "            color:  #000000;\n",
              "        }    #T_6839a1de_c2bb_11ea_84f7_0242ac1c0002row1_col4 {\n",
              "            background-color:  #d1dae9;\n",
              "            color:  #000000;\n",
              "        }    #T_6839a1de_c2bb_11ea_84f7_0242ac1c0002row1_col5 {\n",
              "            background-color:  #5e7de7;\n",
              "            color:  #000000;\n",
              "        }    #T_6839a1de_c2bb_11ea_84f7_0242ac1c0002row1_col6 {\n",
              "            background-color:  #dcdddd;\n",
              "            color:  #000000;\n",
              "        }    #T_6839a1de_c2bb_11ea_84f7_0242ac1c0002row1_col7 {\n",
              "            background-color:  #d5dbe5;\n",
              "            color:  #000000;\n",
              "        }    #T_6839a1de_c2bb_11ea_84f7_0242ac1c0002row1_col8 {\n",
              "            background-color:  #b1cbfc;\n",
              "            color:  #000000;\n",
              "        }    #T_6839a1de_c2bb_11ea_84f7_0242ac1c0002row1_col9 {\n",
              "            background-color:  #89acfd;\n",
              "            color:  #000000;\n",
              "        }    #T_6839a1de_c2bb_11ea_84f7_0242ac1c0002row1_col10 {\n",
              "            background-color:  #ccd9ed;\n",
              "            color:  #000000;\n",
              "        }    #T_6839a1de_c2bb_11ea_84f7_0242ac1c0002row1_col11 {\n",
              "            background-color:  #edd1c2;\n",
              "            color:  #000000;\n",
              "        }    #T_6839a1de_c2bb_11ea_84f7_0242ac1c0002row1_col12 {\n",
              "            background-color:  #d9dce1;\n",
              "            color:  #000000;\n",
              "        }    #T_6839a1de_c2bb_11ea_84f7_0242ac1c0002row1_col13 {\n",
              "            background-color:  #b7cff9;\n",
              "            color:  #000000;\n",
              "        }    #T_6839a1de_c2bb_11ea_84f7_0242ac1c0002row1_col14 {\n",
              "            background-color:  #bcd2f7;\n",
              "            color:  #000000;\n",
              "        }    #T_6839a1de_c2bb_11ea_84f7_0242ac1c0002row1_col15 {\n",
              "            background-color:  #dadce0;\n",
              "            color:  #000000;\n",
              "        }    #T_6839a1de_c2bb_11ea_84f7_0242ac1c0002row1_col16 {\n",
              "            background-color:  #f3c8b2;\n",
              "            color:  #000000;\n",
              "        }    #T_6839a1de_c2bb_11ea_84f7_0242ac1c0002row1_col17 {\n",
              "            background-color:  #cfdaea;\n",
              "            color:  #000000;\n",
              "        }    #T_6839a1de_c2bb_11ea_84f7_0242ac1c0002row1_col18 {\n",
              "            background-color:  #e9d5cb;\n",
              "            color:  #000000;\n",
              "        }    #T_6839a1de_c2bb_11ea_84f7_0242ac1c0002row2_col0 {\n",
              "            background-color:  #3d50c3;\n",
              "            color:  #f1f1f1;\n",
              "        }    #T_6839a1de_c2bb_11ea_84f7_0242ac1c0002row2_col1 {\n",
              "            background-color:  #86a9fc;\n",
              "            color:  #000000;\n",
              "        }    #T_6839a1de_c2bb_11ea_84f7_0242ac1c0002row2_col2 {\n",
              "            background-color:  #b40426;\n",
              "            color:  #f1f1f1;\n",
              "        }    #T_6839a1de_c2bb_11ea_84f7_0242ac1c0002row2_col3 {\n",
              "            background-color:  #cd423b;\n",
              "            color:  #f1f1f1;\n",
              "        }    #T_6839a1de_c2bb_11ea_84f7_0242ac1c0002row2_col4 {\n",
              "            background-color:  #d95847;\n",
              "            color:  #000000;\n",
              "        }    #T_6839a1de_c2bb_11ea_84f7_0242ac1c0002row2_col5 {\n",
              "            background-color:  #f59f80;\n",
              "            color:  #000000;\n",
              "        }    #T_6839a1de_c2bb_11ea_84f7_0242ac1c0002row2_col6 {\n",
              "            background-color:  #dd5f4b;\n",
              "            color:  #000000;\n",
              "        }    #T_6839a1de_c2bb_11ea_84f7_0242ac1c0002row2_col7 {\n",
              "            background-color:  #f59c7d;\n",
              "            color:  #000000;\n",
              "        }    #T_6839a1de_c2bb_11ea_84f7_0242ac1c0002row2_col8 {\n",
              "            background-color:  #f7b396;\n",
              "            color:  #000000;\n",
              "        }    #T_6839a1de_c2bb_11ea_84f7_0242ac1c0002row2_col9 {\n",
              "            background-color:  #a6c4fe;\n",
              "            color:  #000000;\n",
              "        }    #T_6839a1de_c2bb_11ea_84f7_0242ac1c0002row2_col10 {\n",
              "            background-color:  #f4c5ad;\n",
              "            color:  #000000;\n",
              "        }    #T_6839a1de_c2bb_11ea_84f7_0242ac1c0002row2_col11 {\n",
              "            background-color:  #f7bca1;\n",
              "            color:  #000000;\n",
              "        }    #T_6839a1de_c2bb_11ea_84f7_0242ac1c0002row2_col12 {\n",
              "            background-color:  #536edd;\n",
              "            color:  #000000;\n",
              "        }    #T_6839a1de_c2bb_11ea_84f7_0242ac1c0002row2_col13 {\n",
              "            background-color:  #8badfd;\n",
              "            color:  #000000;\n",
              "        }    #T_6839a1de_c2bb_11ea_84f7_0242ac1c0002row2_col14 {\n",
              "            background-color:  #7b9ff9;\n",
              "            color:  #000000;\n",
              "        }    #T_6839a1de_c2bb_11ea_84f7_0242ac1c0002row2_col15 {\n",
              "            background-color:  #f39778;\n",
              "            color:  #000000;\n",
              "        }    #T_6839a1de_c2bb_11ea_84f7_0242ac1c0002row2_col16 {\n",
              "            background-color:  #f5a081;\n",
              "            color:  #000000;\n",
              "        }    #T_6839a1de_c2bb_11ea_84f7_0242ac1c0002row2_col17 {\n",
              "            background-color:  #f7bca1;\n",
              "            color:  #000000;\n",
              "        }    #T_6839a1de_c2bb_11ea_84f7_0242ac1c0002row2_col18 {\n",
              "            background-color:  #aec9fc;\n",
              "            color:  #000000;\n",
              "        }    #T_6839a1de_c2bb_11ea_84f7_0242ac1c0002row3_col0 {\n",
              "            background-color:  #5f7fe8;\n",
              "            color:  #000000;\n",
              "        }    #T_6839a1de_c2bb_11ea_84f7_0242ac1c0002row3_col1 {\n",
              "            background-color:  #9abbff;\n",
              "            color:  #000000;\n",
              "        }    #T_6839a1de_c2bb_11ea_84f7_0242ac1c0002row3_col2 {\n",
              "            background-color:  #d0473d;\n",
              "            color:  #f1f1f1;\n",
              "        }    #T_6839a1de_c2bb_11ea_84f7_0242ac1c0002row3_col3 {\n",
              "            background-color:  #b40426;\n",
              "            color:  #f1f1f1;\n",
              "        }    #T_6839a1de_c2bb_11ea_84f7_0242ac1c0002row3_col4 {\n",
              "            background-color:  #d1493f;\n",
              "            color:  #f1f1f1;\n",
              "        }    #T_6839a1de_c2bb_11ea_84f7_0242ac1c0002row3_col5 {\n",
              "            background-color:  #f7b599;\n",
              "            color:  #000000;\n",
              "        }    #T_6839a1de_c2bb_11ea_84f7_0242ac1c0002row3_col6 {\n",
              "            background-color:  #cc403a;\n",
              "            color:  #f1f1f1;\n",
              "        }    #T_6839a1de_c2bb_11ea_84f7_0242ac1c0002row3_col7 {\n",
              "            background-color:  #ec7f63;\n",
              "            color:  #000000;\n",
              "        }    #T_6839a1de_c2bb_11ea_84f7_0242ac1c0002row3_col8 {\n",
              "            background-color:  #f39778;\n",
              "            color:  #000000;\n",
              "        }    #T_6839a1de_c2bb_11ea_84f7_0242ac1c0002row3_col9 {\n",
              "            background-color:  #9dbdff;\n",
              "            color:  #000000;\n",
              "        }    #T_6839a1de_c2bb_11ea_84f7_0242ac1c0002row3_col10 {\n",
              "            background-color:  #eed0c0;\n",
              "            color:  #000000;\n",
              "        }    #T_6839a1de_c2bb_11ea_84f7_0242ac1c0002row3_col11 {\n",
              "            background-color:  #f29274;\n",
              "            color:  #000000;\n",
              "        }    #T_6839a1de_c2bb_11ea_84f7_0242ac1c0002row3_col12 {\n",
              "            background-color:  #6282ea;\n",
              "            color:  #000000;\n",
              "        }    #T_6839a1de_c2bb_11ea_84f7_0242ac1c0002row3_col13 {\n",
              "            background-color:  #688aef;\n",
              "            color:  #000000;\n",
              "        }    #T_6839a1de_c2bb_11ea_84f7_0242ac1c0002row3_col14 {\n",
              "            background-color:  #5f7fe8;\n",
              "            color:  #000000;\n",
              "        }    #T_6839a1de_c2bb_11ea_84f7_0242ac1c0002row3_col15 {\n",
              "            background-color:  #ea7b60;\n",
              "            color:  #000000;\n",
              "        }    #T_6839a1de_c2bb_11ea_84f7_0242ac1c0002row3_col16 {\n",
              "            background-color:  #e9785d;\n",
              "            color:  #000000;\n",
              "        }    #T_6839a1de_c2bb_11ea_84f7_0242ac1c0002row3_col17 {\n",
              "            background-color:  #f2c9b4;\n",
              "            color:  #000000;\n",
              "        }    #T_6839a1de_c2bb_11ea_84f7_0242ac1c0002row3_col18 {\n",
              "            background-color:  #bed2f6;\n",
              "            color:  #000000;\n",
              "        }    #T_6839a1de_c2bb_11ea_84f7_0242ac1c0002row4_col0 {\n",
              "            background-color:  #7a9df8;\n",
              "            color:  #000000;\n",
              "        }    #T_6839a1de_c2bb_11ea_84f7_0242ac1c0002row4_col1 {\n",
              "            background-color:  #aac7fd;\n",
              "            color:  #000000;\n",
              "        }    #T_6839a1de_c2bb_11ea_84f7_0242ac1c0002row4_col2 {\n",
              "            background-color:  #dc5d4a;\n",
              "            color:  #000000;\n",
              "        }    #T_6839a1de_c2bb_11ea_84f7_0242ac1c0002row4_col3 {\n",
              "            background-color:  #d1493f;\n",
              "            color:  #f1f1f1;\n",
              "        }    #T_6839a1de_c2bb_11ea_84f7_0242ac1c0002row4_col4 {\n",
              "            background-color:  #b40426;\n",
              "            color:  #f1f1f1;\n",
              "        }    #T_6839a1de_c2bb_11ea_84f7_0242ac1c0002row4_col5 {\n",
              "            background-color:  #ead5c9;\n",
              "            color:  #000000;\n",
              "        }    #T_6839a1de_c2bb_11ea_84f7_0242ac1c0002row4_col6 {\n",
              "            background-color:  #cf453c;\n",
              "            color:  #f1f1f1;\n",
              "        }    #T_6839a1de_c2bb_11ea_84f7_0242ac1c0002row4_col7 {\n",
              "            background-color:  #e67259;\n",
              "            color:  #000000;\n",
              "        }    #T_6839a1de_c2bb_11ea_84f7_0242ac1c0002row4_col8 {\n",
              "            background-color:  #f7a889;\n",
              "            color:  #000000;\n",
              "        }    #T_6839a1de_c2bb_11ea_84f7_0242ac1c0002row4_col9 {\n",
              "            background-color:  #aec9fc;\n",
              "            color:  #000000;\n",
              "        }    #T_6839a1de_c2bb_11ea_84f7_0242ac1c0002row4_col10 {\n",
              "            background-color:  #f1cdba;\n",
              "            color:  #000000;\n",
              "        }    #T_6839a1de_c2bb_11ea_84f7_0242ac1c0002row4_col11 {\n",
              "            background-color:  #f08a6c;\n",
              "            color:  #000000;\n",
              "        }    #T_6839a1de_c2bb_11ea_84f7_0242ac1c0002row4_col12 {\n",
              "            background-color:  #6b8df0;\n",
              "            color:  #000000;\n",
              "        }    #T_6839a1de_c2bb_11ea_84f7_0242ac1c0002row4_col13 {\n",
              "            background-color:  #6e90f2;\n",
              "            color:  #000000;\n",
              "        }    #T_6839a1de_c2bb_11ea_84f7_0242ac1c0002row4_col14 {\n",
              "            background-color:  #6384eb;\n",
              "            color:  #000000;\n",
              "        }    #T_6839a1de_c2bb_11ea_84f7_0242ac1c0002row4_col15 {\n",
              "            background-color:  #e36b54;\n",
              "            color:  #000000;\n",
              "        }    #T_6839a1de_c2bb_11ea_84f7_0242ac1c0002row4_col16 {\n",
              "            background-color:  #e7745b;\n",
              "            color:  #000000;\n",
              "        }    #T_6839a1de_c2bb_11ea_84f7_0242ac1c0002row4_col17 {\n",
              "            background-color:  #f4c5ad;\n",
              "            color:  #000000;\n",
              "        }    #T_6839a1de_c2bb_11ea_84f7_0242ac1c0002row4_col18 {\n",
              "            background-color:  #b9d0f9;\n",
              "            color:  #000000;\n",
              "        }    #T_6839a1de_c2bb_11ea_84f7_0242ac1c0002row5_col0 {\n",
              "            background-color:  #3b4cc0;\n",
              "            color:  #f1f1f1;\n",
              "        }    #T_6839a1de_c2bb_11ea_84f7_0242ac1c0002row5_col1 {\n",
              "            background-color:  #3b4cc0;\n",
              "            color:  #f1f1f1;\n",
              "        }    #T_6839a1de_c2bb_11ea_84f7_0242ac1c0002row5_col2 {\n",
              "            background-color:  #f59f80;\n",
              "            color:  #000000;\n",
              "        }    #T_6839a1de_c2bb_11ea_84f7_0242ac1c0002row5_col3 {\n",
              "            background-color:  #f7ac8e;\n",
              "            color:  #000000;\n",
              "        }    #T_6839a1de_c2bb_11ea_84f7_0242ac1c0002row5_col4 {\n",
              "            background-color:  #f0cdbb;\n",
              "            color:  #000000;\n",
              "        }    #T_6839a1de_c2bb_11ea_84f7_0242ac1c0002row5_col5 {\n",
              "            background-color:  #b40426;\n",
              "            color:  #f1f1f1;\n",
              "        }    #T_6839a1de_c2bb_11ea_84f7_0242ac1c0002row5_col6 {\n",
              "            background-color:  #f3c7b1;\n",
              "            color:  #000000;\n",
              "        }    #T_6839a1de_c2bb_11ea_84f7_0242ac1c0002row5_col7 {\n",
              "            background-color:  #cedaeb;\n",
              "            color:  #000000;\n",
              "        }    #T_6839a1de_c2bb_11ea_84f7_0242ac1c0002row5_col8 {\n",
              "            background-color:  #d9dce1;\n",
              "            color:  #000000;\n",
              "        }    #T_6839a1de_c2bb_11ea_84f7_0242ac1c0002row5_col9 {\n",
              "            background-color:  #6788ee;\n",
              "            color:  #000000;\n",
              "        }    #T_6839a1de_c2bb_11ea_84f7_0242ac1c0002row5_col10 {\n",
              "            background-color:  #f5c4ac;\n",
              "            color:  #000000;\n",
              "        }    #T_6839a1de_c2bb_11ea_84f7_0242ac1c0002row5_col11 {\n",
              "            background-color:  #c1d4f4;\n",
              "            color:  #000000;\n",
              "        }    #T_6839a1de_c2bb_11ea_84f7_0242ac1c0002row5_col12 {\n",
              "            background-color:  #5d7ce6;\n",
              "            color:  #000000;\n",
              "        }    #T_6839a1de_c2bb_11ea_84f7_0242ac1c0002row5_col13 {\n",
              "            background-color:  #d3dbe7;\n",
              "            color:  #000000;\n",
              "        }    #T_6839a1de_c2bb_11ea_84f7_0242ac1c0002row5_col14 {\n",
              "            background-color:  #c9d7f0;\n",
              "            color:  #000000;\n",
              "        }    #T_6839a1de_c2bb_11ea_84f7_0242ac1c0002row5_col15 {\n",
              "            background-color:  #dbdcde;\n",
              "            color:  #000000;\n",
              "        }    #T_6839a1de_c2bb_11ea_84f7_0242ac1c0002row5_col16 {\n",
              "            background-color:  #dadce0;\n",
              "            color:  #000000;\n",
              "        }    #T_6839a1de_c2bb_11ea_84f7_0242ac1c0002row5_col17 {\n",
              "            background-color:  #f6bfa6;\n",
              "            color:  #000000;\n",
              "        }    #T_6839a1de_c2bb_11ea_84f7_0242ac1c0002row5_col18 {\n",
              "            background-color:  #b2ccfb;\n",
              "            color:  #000000;\n",
              "        }    #T_6839a1de_c2bb_11ea_84f7_0242ac1c0002row6_col0 {\n",
              "            background-color:  #7da0f9;\n",
              "            color:  #000000;\n",
              "        }    #T_6839a1de_c2bb_11ea_84f7_0242ac1c0002row6_col1 {\n",
              "            background-color:  #aec9fc;\n",
              "            color:  #000000;\n",
              "        }    #T_6839a1de_c2bb_11ea_84f7_0242ac1c0002row6_col2 {\n",
              "            background-color:  #e26952;\n",
              "            color:  #000000;\n",
              "        }    #T_6839a1de_c2bb_11ea_84f7_0242ac1c0002row6_col3 {\n",
              "            background-color:  #cc403a;\n",
              "            color:  #f1f1f1;\n",
              "        }    #T_6839a1de_c2bb_11ea_84f7_0242ac1c0002row6_col4 {\n",
              "            background-color:  #d0473d;\n",
              "            color:  #f1f1f1;\n",
              "        }    #T_6839a1de_c2bb_11ea_84f7_0242ac1c0002row6_col5 {\n",
              "            background-color:  #ead5c9;\n",
              "            color:  #000000;\n",
              "        }    #T_6839a1de_c2bb_11ea_84f7_0242ac1c0002row6_col6 {\n",
              "            background-color:  #b40426;\n",
              "            color:  #f1f1f1;\n",
              "        }    #T_6839a1de_c2bb_11ea_84f7_0242ac1c0002row6_col7 {\n",
              "            background-color:  #d44e41;\n",
              "            color:  #000000;\n",
              "        }    #T_6839a1de_c2bb_11ea_84f7_0242ac1c0002row6_col8 {\n",
              "            background-color:  #f18f71;\n",
              "            color:  #000000;\n",
              "        }    #T_6839a1de_c2bb_11ea_84f7_0242ac1c0002row6_col9 {\n",
              "            background-color:  #a9c6fd;\n",
              "            color:  #000000;\n",
              "        }    #T_6839a1de_c2bb_11ea_84f7_0242ac1c0002row6_col10 {\n",
              "            background-color:  #eed0c0;\n",
              "            color:  #000000;\n",
              "        }    #T_6839a1de_c2bb_11ea_84f7_0242ac1c0002row6_col11 {\n",
              "            background-color:  #e0654f;\n",
              "            color:  #000000;\n",
              "        }    #T_6839a1de_c2bb_11ea_84f7_0242ac1c0002row6_col12 {\n",
              "            background-color:  #6485ec;\n",
              "            color:  #000000;\n",
              "        }    #T_6839a1de_c2bb_11ea_84f7_0242ac1c0002row6_col13 {\n",
              "            background-color:  #5a78e4;\n",
              "            color:  #000000;\n",
              "        }    #T_6839a1de_c2bb_11ea_84f7_0242ac1c0002row6_col14 {\n",
              "            background-color:  #4f69d9;\n",
              "            color:  #000000;\n",
              "        }    #T_6839a1de_c2bb_11ea_84f7_0242ac1c0002row6_col15 {\n",
              "            background-color:  #d55042;\n",
              "            color:  #000000;\n",
              "        }    #T_6839a1de_c2bb_11ea_84f7_0242ac1c0002row6_col16 {\n",
              "            background-color:  #d95847;\n",
              "            color:  #000000;\n",
              "        }    #T_6839a1de_c2bb_11ea_84f7_0242ac1c0002row6_col17 {\n",
              "            background-color:  #f3c8b2;\n",
              "            color:  #000000;\n",
              "        }    #T_6839a1de_c2bb_11ea_84f7_0242ac1c0002row6_col18 {\n",
              "            background-color:  #bcd2f7;\n",
              "            color:  #000000;\n",
              "        }    #T_6839a1de_c2bb_11ea_84f7_0242ac1c0002row7_col0 {\n",
              "            background-color:  #98b9ff;\n",
              "            color:  #000000;\n",
              "        }    #T_6839a1de_c2bb_11ea_84f7_0242ac1c0002row7_col1 {\n",
              "            background-color:  #b1cbfc;\n",
              "            color:  #000000;\n",
              "        }    #T_6839a1de_c2bb_11ea_84f7_0242ac1c0002row7_col2 {\n",
              "            background-color:  #f6a385;\n",
              "            color:  #000000;\n",
              "        }    #T_6839a1de_c2bb_11ea_84f7_0242ac1c0002row7_col3 {\n",
              "            background-color:  #eb7d62;\n",
              "            color:  #000000;\n",
              "        }    #T_6839a1de_c2bb_11ea_84f7_0242ac1c0002row7_col4 {\n",
              "            background-color:  #e67259;\n",
              "            color:  #000000;\n",
              "        }    #T_6839a1de_c2bb_11ea_84f7_0242ac1c0002row7_col5 {\n",
              "            background-color:  #c1d4f4;\n",
              "            color:  #000000;\n",
              "        }    #T_6839a1de_c2bb_11ea_84f7_0242ac1c0002row7_col6 {\n",
              "            background-color:  #d1493f;\n",
              "            color:  #f1f1f1;\n",
              "        }    #T_6839a1de_c2bb_11ea_84f7_0242ac1c0002row7_col7 {\n",
              "            background-color:  #b40426;\n",
              "            color:  #f1f1f1;\n",
              "        }    #T_6839a1de_c2bb_11ea_84f7_0242ac1c0002row7_col8 {\n",
              "            background-color:  #f5a081;\n",
              "            color:  #000000;\n",
              "        }    #T_6839a1de_c2bb_11ea_84f7_0242ac1c0002row7_col9 {\n",
              "            background-color:  #b3cdfb;\n",
              "            color:  #000000;\n",
              "        }    #T_6839a1de_c2bb_11ea_84f7_0242ac1c0002row7_col10 {\n",
              "            background-color:  #dfdbd9;\n",
              "            color:  #000000;\n",
              "        }    #T_6839a1de_c2bb_11ea_84f7_0242ac1c0002row7_col11 {\n",
              "            background-color:  #d55042;\n",
              "            color:  #000000;\n",
              "        }    #T_6839a1de_c2bb_11ea_84f7_0242ac1c0002row7_col12 {\n",
              "            background-color:  #6a8bef;\n",
              "            color:  #000000;\n",
              "        }    #T_6839a1de_c2bb_11ea_84f7_0242ac1c0002row7_col13 {\n",
              "            background-color:  #6b8df0;\n",
              "            color:  #000000;\n",
              "        }    #T_6839a1de_c2bb_11ea_84f7_0242ac1c0002row7_col14 {\n",
              "            background-color:  #6384eb;\n",
              "            color:  #000000;\n",
              "        }    #T_6839a1de_c2bb_11ea_84f7_0242ac1c0002row7_col15 {\n",
              "            background-color:  #cf453c;\n",
              "            color:  #f1f1f1;\n",
              "        }    #T_6839a1de_c2bb_11ea_84f7_0242ac1c0002row7_col16 {\n",
              "            background-color:  #df634e;\n",
              "            color:  #000000;\n",
              "        }    #T_6839a1de_c2bb_11ea_84f7_0242ac1c0002row7_col17 {\n",
              "            background-color:  #e6d7cf;\n",
              "            color:  #000000;\n",
              "        }    #T_6839a1de_c2bb_11ea_84f7_0242ac1c0002row7_col18 {\n",
              "            background-color:  #d3dbe7;\n",
              "            color:  #000000;\n",
              "        }    #T_6839a1de_c2bb_11ea_84f7_0242ac1c0002row8_col0 {\n",
              "            background-color:  #92b4fe;\n",
              "            color:  #000000;\n",
              "        }    #T_6839a1de_c2bb_11ea_84f7_0242ac1c0002row8_col1 {\n",
              "            background-color:  #8db0fe;\n",
              "            color:  #000000;\n",
              "        }    #T_6839a1de_c2bb_11ea_84f7_0242ac1c0002row8_col2 {\n",
              "            background-color:  #f7b79b;\n",
              "            color:  #000000;\n",
              "        }    #T_6839a1de_c2bb_11ea_84f7_0242ac1c0002row8_col3 {\n",
              "            background-color:  #f29072;\n",
              "            color:  #000000;\n",
              "        }    #T_6839a1de_c2bb_11ea_84f7_0242ac1c0002row8_col4 {\n",
              "            background-color:  #f6a283;\n",
              "            color:  #000000;\n",
              "        }    #T_6839a1de_c2bb_11ea_84f7_0242ac1c0002row8_col5 {\n",
              "            background-color:  #d5dbe5;\n",
              "            color:  #000000;\n",
              "        }    #T_6839a1de_c2bb_11ea_84f7_0242ac1c0002row8_col6 {\n",
              "            background-color:  #ed8366;\n",
              "            color:  #000000;\n",
              "        }    #T_6839a1de_c2bb_11ea_84f7_0242ac1c0002row8_col7 {\n",
              "            background-color:  #f59c7d;\n",
              "            color:  #000000;\n",
              "        }    #T_6839a1de_c2bb_11ea_84f7_0242ac1c0002row8_col8 {\n",
              "            background-color:  #b40426;\n",
              "            color:  #f1f1f1;\n",
              "        }    #T_6839a1de_c2bb_11ea_84f7_0242ac1c0002row8_col9 {\n",
              "            background-color:  #6a8bef;\n",
              "            color:  #000000;\n",
              "        }    #T_6839a1de_c2bb_11ea_84f7_0242ac1c0002row8_col10 {\n",
              "            background-color:  #dcdddd;\n",
              "            color:  #000000;\n",
              "        }    #T_6839a1de_c2bb_11ea_84f7_0242ac1c0002row8_col11 {\n",
              "            background-color:  #f39475;\n",
              "            color:  #000000;\n",
              "        }    #T_6839a1de_c2bb_11ea_84f7_0242ac1c0002row8_col12 {\n",
              "            background-color:  #6788ee;\n",
              "            color:  #000000;\n",
              "        }    #T_6839a1de_c2bb_11ea_84f7_0242ac1c0002row8_col13 {\n",
              "            background-color:  #779af7;\n",
              "            color:  #000000;\n",
              "        }    #T_6839a1de_c2bb_11ea_84f7_0242ac1c0002row8_col14 {\n",
              "            background-color:  #7295f4;\n",
              "            color:  #000000;\n",
              "        }    #T_6839a1de_c2bb_11ea_84f7_0242ac1c0002row8_col15 {\n",
              "            background-color:  #f5a081;\n",
              "            color:  #000000;\n",
              "        }    #T_6839a1de_c2bb_11ea_84f7_0242ac1c0002row8_col16 {\n",
              "            background-color:  #f29072;\n",
              "            color:  #000000;\n",
              "        }    #T_6839a1de_c2bb_11ea_84f7_0242ac1c0002row8_col17 {\n",
              "            background-color:  #e3d9d3;\n",
              "            color:  #000000;\n",
              "        }    #T_6839a1de_c2bb_11ea_84f7_0242ac1c0002row8_col18 {\n",
              "            background-color:  #d6dce4;\n",
              "            color:  #000000;\n",
              "        }    #T_6839a1de_c2bb_11ea_84f7_0242ac1c0002row9_col0 {\n",
              "            background-color:  #afcafc;\n",
              "            color:  #000000;\n",
              "        }    #T_6839a1de_c2bb_11ea_84f7_0242ac1c0002row9_col1 {\n",
              "            background-color:  #a3c2fe;\n",
              "            color:  #000000;\n",
              "        }    #T_6839a1de_c2bb_11ea_84f7_0242ac1c0002row9_col2 {\n",
              "            background-color:  #d1dae9;\n",
              "            color:  #000000;\n",
              "        }    #T_6839a1de_c2bb_11ea_84f7_0242ac1c0002row9_col3 {\n",
              "            background-color:  #d8dce2;\n",
              "            color:  #000000;\n",
              "        }    #T_6839a1de_c2bb_11ea_84f7_0242ac1c0002row9_col4 {\n",
              "            background-color:  #e1dad6;\n",
              "            color:  #000000;\n",
              "        }    #T_6839a1de_c2bb_11ea_84f7_0242ac1c0002row9_col5 {\n",
              "            background-color:  #a3c2fe;\n",
              "            color:  #000000;\n",
              "        }    #T_6839a1de_c2bb_11ea_84f7_0242ac1c0002row9_col6 {\n",
              "            background-color:  #e6d7cf;\n",
              "            color:  #000000;\n",
              "        }    #T_6839a1de_c2bb_11ea_84f7_0242ac1c0002row9_col7 {\n",
              "            background-color:  #e4d9d2;\n",
              "            color:  #000000;\n",
              "        }    #T_6839a1de_c2bb_11ea_84f7_0242ac1c0002row9_col8 {\n",
              "            background-color:  #abc8fd;\n",
              "            color:  #000000;\n",
              "        }    #T_6839a1de_c2bb_11ea_84f7_0242ac1c0002row9_col9 {\n",
              "            background-color:  #b40426;\n",
              "            color:  #f1f1f1;\n",
              "        }    #T_6839a1de_c2bb_11ea_84f7_0242ac1c0002row9_col10 {\n",
              "            background-color:  #f1cdba;\n",
              "            color:  #000000;\n",
              "        }    #T_6839a1de_c2bb_11ea_84f7_0242ac1c0002row9_col11 {\n",
              "            background-color:  #dedcdb;\n",
              "            color:  #000000;\n",
              "        }    #T_6839a1de_c2bb_11ea_84f7_0242ac1c0002row9_col12 {\n",
              "            background-color:  #97b8ff;\n",
              "            color:  #000000;\n",
              "        }    #T_6839a1de_c2bb_11ea_84f7_0242ac1c0002row9_col13 {\n",
              "            background-color:  #d5dbe5;\n",
              "            color:  #000000;\n",
              "        }    #T_6839a1de_c2bb_11ea_84f7_0242ac1c0002row9_col14 {\n",
              "            background-color:  #d3dbe7;\n",
              "            color:  #000000;\n",
              "        }    #T_6839a1de_c2bb_11ea_84f7_0242ac1c0002row9_col15 {\n",
              "            background-color:  #d3dbe7;\n",
              "            color:  #000000;\n",
              "        }    #T_6839a1de_c2bb_11ea_84f7_0242ac1c0002row9_col16 {\n",
              "            background-color:  #dedcdb;\n",
              "            color:  #000000;\n",
              "        }    #T_6839a1de_c2bb_11ea_84f7_0242ac1c0002row9_col17 {\n",
              "            background-color:  #f4c6af;\n",
              "            color:  #000000;\n",
              "        }    #T_6839a1de_c2bb_11ea_84f7_0242ac1c0002row9_col18 {\n",
              "            background-color:  #bad0f8;\n",
              "            color:  #000000;\n",
              "        }    #T_6839a1de_c2bb_11ea_84f7_0242ac1c0002row10_col0 {\n",
              "            background-color:  #88abfd;\n",
              "            color:  #000000;\n",
              "        }    #T_6839a1de_c2bb_11ea_84f7_0242ac1c0002row10_col1 {\n",
              "            background-color:  #779af7;\n",
              "            color:  #000000;\n",
              "        }    #T_6839a1de_c2bb_11ea_84f7_0242ac1c0002row10_col2 {\n",
              "            background-color:  #e0dbd8;\n",
              "            color:  #000000;\n",
              "        }    #T_6839a1de_c2bb_11ea_84f7_0242ac1c0002row10_col3 {\n",
              "            background-color:  #dedcdb;\n",
              "            color:  #000000;\n",
              "        }    #T_6839a1de_c2bb_11ea_84f7_0242ac1c0002row10_col4 {\n",
              "            background-color:  #e1dad6;\n",
              "            color:  #000000;\n",
              "        }    #T_6839a1de_c2bb_11ea_84f7_0242ac1c0002row10_col5 {\n",
              "            background-color:  #e2dad5;\n",
              "            color:  #000000;\n",
              "        }    #T_6839a1de_c2bb_11ea_84f7_0242ac1c0002row10_col6 {\n",
              "            background-color:  #e4d9d2;\n",
              "            color:  #000000;\n",
              "        }    #T_6839a1de_c2bb_11ea_84f7_0242ac1c0002row10_col7 {\n",
              "            background-color:  #c6d6f1;\n",
              "            color:  #000000;\n",
              "        }    #T_6839a1de_c2bb_11ea_84f7_0242ac1c0002row10_col8 {\n",
              "            background-color:  #b7cff9;\n",
              "            color:  #000000;\n",
              "        }    #T_6839a1de_c2bb_11ea_84f7_0242ac1c0002row10_col9 {\n",
              "            background-color:  #aec9fc;\n",
              "            color:  #000000;\n",
              "        }    #T_6839a1de_c2bb_11ea_84f7_0242ac1c0002row10_col10 {\n",
              "            background-color:  #b40426;\n",
              "            color:  #f1f1f1;\n",
              "        }    #T_6839a1de_c2bb_11ea_84f7_0242ac1c0002row10_col11 {\n",
              "            background-color:  #aac7fd;\n",
              "            color:  #000000;\n",
              "        }    #T_6839a1de_c2bb_11ea_84f7_0242ac1c0002row10_col12 {\n",
              "            background-color:  #4257c9;\n",
              "            color:  #f1f1f1;\n",
              "        }    #T_6839a1de_c2bb_11ea_84f7_0242ac1c0002row10_col13 {\n",
              "            background-color:  #f7ba9f;\n",
              "            color:  #000000;\n",
              "        }    #T_6839a1de_c2bb_11ea_84f7_0242ac1c0002row10_col14 {\n",
              "            background-color:  #f4c6af;\n",
              "            color:  #000000;\n",
              "        }    #T_6839a1de_c2bb_11ea_84f7_0242ac1c0002row10_col15 {\n",
              "            background-color:  #d1dae9;\n",
              "            color:  #000000;\n",
              "        }    #T_6839a1de_c2bb_11ea_84f7_0242ac1c0002row10_col16 {\n",
              "            background-color:  #aac7fd;\n",
              "            color:  #000000;\n",
              "        }    #T_6839a1de_c2bb_11ea_84f7_0242ac1c0002row10_col17 {\n",
              "            background-color:  #b50927;\n",
              "            color:  #f1f1f1;\n",
              "        }    #T_6839a1de_c2bb_11ea_84f7_0242ac1c0002row10_col18 {\n",
              "            background-color:  #3c4ec2;\n",
              "            color:  #f1f1f1;\n",
              "        }    #T_6839a1de_c2bb_11ea_84f7_0242ac1c0002row11_col0 {\n",
              "            background-color:  #c1d4f4;\n",
              "            color:  #000000;\n",
              "        }    #T_6839a1de_c2bb_11ea_84f7_0242ac1c0002row11_col1 {\n",
              "            background-color:  #cad8ef;\n",
              "            color:  #000000;\n",
              "        }    #T_6839a1de_c2bb_11ea_84f7_0242ac1c0002row11_col2 {\n",
              "            background-color:  #f1cdba;\n",
              "            color:  #000000;\n",
              "        }    #T_6839a1de_c2bb_11ea_84f7_0242ac1c0002row11_col3 {\n",
              "            background-color:  #f4987a;\n",
              "            color:  #000000;\n",
              "        }    #T_6839a1de_c2bb_11ea_84f7_0242ac1c0002row11_col4 {\n",
              "            background-color:  #f29072;\n",
              "            color:  #000000;\n",
              "        }    #T_6839a1de_c2bb_11ea_84f7_0242ac1c0002row11_col5 {\n",
              "            background-color:  #9ebeff;\n",
              "            color:  #000000;\n",
              "        }    #T_6839a1de_c2bb_11ea_84f7_0242ac1c0002row11_col6 {\n",
              "            background-color:  #e0654f;\n",
              "            color:  #000000;\n",
              "        }    #T_6839a1de_c2bb_11ea_84f7_0242ac1c0002row11_col7 {\n",
              "            background-color:  #d85646;\n",
              "            color:  #000000;\n",
              "        }    #T_6839a1de_c2bb_11ea_84f7_0242ac1c0002row11_col8 {\n",
              "            background-color:  #f6a283;\n",
              "            color:  #000000;\n",
              "        }    #T_6839a1de_c2bb_11ea_84f7_0242ac1c0002row11_col9 {\n",
              "            background-color:  #96b7ff;\n",
              "            color:  #000000;\n",
              "        }    #T_6839a1de_c2bb_11ea_84f7_0242ac1c0002row11_col10 {\n",
              "            background-color:  #bcd2f7;\n",
              "            color:  #000000;\n",
              "        }    #T_6839a1de_c2bb_11ea_84f7_0242ac1c0002row11_col11 {\n",
              "            background-color:  #b40426;\n",
              "            color:  #f1f1f1;\n",
              "        }    #T_6839a1de_c2bb_11ea_84f7_0242ac1c0002row11_col12 {\n",
              "            background-color:  #bfd3f6;\n",
              "            color:  #000000;\n",
              "        }    #T_6839a1de_c2bb_11ea_84f7_0242ac1c0002row11_col13 {\n",
              "            background-color:  #4e68d8;\n",
              "            color:  #000000;\n",
              "        }    #T_6839a1de_c2bb_11ea_84f7_0242ac1c0002row11_col14 {\n",
              "            background-color:  #4e68d8;\n",
              "            color:  #000000;\n",
              "        }    #T_6839a1de_c2bb_11ea_84f7_0242ac1c0002row11_col15 {\n",
              "            background-color:  #d95847;\n",
              "            color:  #000000;\n",
              "        }    #T_6839a1de_c2bb_11ea_84f7_0242ac1c0002row11_col16 {\n",
              "            background-color:  #c83836;\n",
              "            color:  #f1f1f1;\n",
              "        }    #T_6839a1de_c2bb_11ea_84f7_0242ac1c0002row11_col17 {\n",
              "            background-color:  #c5d6f2;\n",
              "            color:  #000000;\n",
              "        }    #T_6839a1de_c2bb_11ea_84f7_0242ac1c0002row11_col18 {\n",
              "            background-color:  #efcebd;\n",
              "            color:  #000000;\n",
              "        }    #T_6839a1de_c2bb_11ea_84f7_0242ac1c0002row12_col0 {\n",
              "            background-color:  #e6d7cf;\n",
              "            color:  #000000;\n",
              "        }    #T_6839a1de_c2bb_11ea_84f7_0242ac1c0002row12_col1 {\n",
              "            background-color:  #cedaeb;\n",
              "            color:  #000000;\n",
              "        }    #T_6839a1de_c2bb_11ea_84f7_0242ac1c0002row12_col2 {\n",
              "            background-color:  #5f7fe8;\n",
              "            color:  #000000;\n",
              "        }    #T_6839a1de_c2bb_11ea_84f7_0242ac1c0002row12_col3 {\n",
              "            background-color:  #8badfd;\n",
              "            color:  #000000;\n",
              "        }    #T_6839a1de_c2bb_11ea_84f7_0242ac1c0002row12_col4 {\n",
              "            background-color:  #90b2fe;\n",
              "            color:  #000000;\n",
              "        }    #T_6839a1de_c2bb_11ea_84f7_0242ac1c0002row12_col5 {\n",
              "            background-color:  #6b8df0;\n",
              "            color:  #000000;\n",
              "        }    #T_6839a1de_c2bb_11ea_84f7_0242ac1c0002row12_col6 {\n",
              "            background-color:  #9abbff;\n",
              "            color:  #000000;\n",
              "        }    #T_6839a1de_c2bb_11ea_84f7_0242ac1c0002row12_col7 {\n",
              "            background-color:  #8db0fe;\n",
              "            color:  #000000;\n",
              "        }    #T_6839a1de_c2bb_11ea_84f7_0242ac1c0002row12_col8 {\n",
              "            background-color:  #7da0f9;\n",
              "            color:  #000000;\n",
              "        }    #T_6839a1de_c2bb_11ea_84f7_0242ac1c0002row12_col9 {\n",
              "            background-color:  #6788ee;\n",
              "            color:  #000000;\n",
              "        }    #T_6839a1de_c2bb_11ea_84f7_0242ac1c0002row12_col10 {\n",
              "            background-color:  #96b7ff;\n",
              "            color:  #000000;\n",
              "        }    #T_6839a1de_c2bb_11ea_84f7_0242ac1c0002row12_col11 {\n",
              "            background-color:  #dfdbd9;\n",
              "            color:  #000000;\n",
              "        }    #T_6839a1de_c2bb_11ea_84f7_0242ac1c0002row12_col12 {\n",
              "            background-color:  #b40426;\n",
              "            color:  #f1f1f1;\n",
              "        }    #T_6839a1de_c2bb_11ea_84f7_0242ac1c0002row12_col13 {\n",
              "            background-color:  #c9d7f0;\n",
              "            color:  #000000;\n",
              "        }    #T_6839a1de_c2bb_11ea_84f7_0242ac1c0002row12_col14 {\n",
              "            background-color:  #cfdaea;\n",
              "            color:  #000000;\n",
              "        }    #T_6839a1de_c2bb_11ea_84f7_0242ac1c0002row12_col15 {\n",
              "            background-color:  #b1cbfc;\n",
              "            color:  #000000;\n",
              "        }    #T_6839a1de_c2bb_11ea_84f7_0242ac1c0002row12_col16 {\n",
              "            background-color:  #e8d6cc;\n",
              "            color:  #000000;\n",
              "        }    #T_6839a1de_c2bb_11ea_84f7_0242ac1c0002row12_col17 {\n",
              "            background-color:  #92b4fe;\n",
              "            color:  #000000;\n",
              "        }    #T_6839a1de_c2bb_11ea_84f7_0242ac1c0002row12_col18 {\n",
              "            background-color:  #f59f80;\n",
              "            color:  #000000;\n",
              "        }    #T_6839a1de_c2bb_11ea_84f7_0242ac1c0002row13_col0 {\n",
              "            background-color:  #a9c6fd;\n",
              "            color:  #000000;\n",
              "        }    #T_6839a1de_c2bb_11ea_84f7_0242ac1c0002row13_col1 {\n",
              "            background-color:  #5b7ae5;\n",
              "            color:  #000000;\n",
              "        }    #T_6839a1de_c2bb_11ea_84f7_0242ac1c0002row13_col2 {\n",
              "            background-color:  #4961d2;\n",
              "            color:  #f1f1f1;\n",
              "        }    #T_6839a1de_c2bb_11ea_84f7_0242ac1c0002row13_col3 {\n",
              "            background-color:  #3f53c6;\n",
              "            color:  #f1f1f1;\n",
              "        }    #T_6839a1de_c2bb_11ea_84f7_0242ac1c0002row13_col4 {\n",
              "            background-color:  #4358cb;\n",
              "            color:  #f1f1f1;\n",
              "        }    #T_6839a1de_c2bb_11ea_84f7_0242ac1c0002row13_col5 {\n",
              "            background-color:  #a6c4fe;\n",
              "            color:  #000000;\n",
              "        }    #T_6839a1de_c2bb_11ea_84f7_0242ac1c0002row13_col6 {\n",
              "            background-color:  #4257c9;\n",
              "            color:  #f1f1f1;\n",
              "        }    #T_6839a1de_c2bb_11ea_84f7_0242ac1c0002row13_col7 {\n",
              "            background-color:  #3f53c6;\n",
              "            color:  #f1f1f1;\n",
              "        }    #T_6839a1de_c2bb_11ea_84f7_0242ac1c0002row13_col8 {\n",
              "            background-color:  #3c4ec2;\n",
              "            color:  #f1f1f1;\n",
              "        }    #T_6839a1de_c2bb_11ea_84f7_0242ac1c0002row13_col9 {\n",
              "            background-color:  #6f92f3;\n",
              "            color:  #000000;\n",
              "        }    #T_6839a1de_c2bb_11ea_84f7_0242ac1c0002row13_col10 {\n",
              "            background-color:  #f7b99e;\n",
              "            color:  #000000;\n",
              "        }    #T_6839a1de_c2bb_11ea_84f7_0242ac1c0002row13_col11 {\n",
              "            background-color:  #3b4cc0;\n",
              "            color:  #f1f1f1;\n",
              "        }    #T_6839a1de_c2bb_11ea_84f7_0242ac1c0002row13_col12 {\n",
              "            background-color:  #8badfd;\n",
              "            color:  #000000;\n",
              "        }    #T_6839a1de_c2bb_11ea_84f7_0242ac1c0002row13_col13 {\n",
              "            background-color:  #b40426;\n",
              "            color:  #f1f1f1;\n",
              "        }    #T_6839a1de_c2bb_11ea_84f7_0242ac1c0002row13_col14 {\n",
              "            background-color:  #b8122a;\n",
              "            color:  #f1f1f1;\n",
              "        }    #T_6839a1de_c2bb_11ea_84f7_0242ac1c0002row13_col15 {\n",
              "            background-color:  #3d50c3;\n",
              "            color:  #f1f1f1;\n",
              "        }    #T_6839a1de_c2bb_11ea_84f7_0242ac1c0002row13_col16 {\n",
              "            background-color:  #3b4cc0;\n",
              "            color:  #f1f1f1;\n",
              "        }    #T_6839a1de_c2bb_11ea_84f7_0242ac1c0002row13_col17 {\n",
              "            background-color:  #f5c1a9;\n",
              "            color:  #000000;\n",
              "        }    #T_6839a1de_c2bb_11ea_84f7_0242ac1c0002row13_col18 {\n",
              "            background-color:  #b5cdfa;\n",
              "            color:  #000000;\n",
              "        }    #T_6839a1de_c2bb_11ea_84f7_0242ac1c0002row14_col0 {\n",
              "            background-color:  #b9d0f9;\n",
              "            color:  #000000;\n",
              "        }    #T_6839a1de_c2bb_11ea_84f7_0242ac1c0002row14_col1 {\n",
              "            background-color:  #6687ed;\n",
              "            color:  #000000;\n",
              "        }    #T_6839a1de_c2bb_11ea_84f7_0242ac1c0002row14_col2 {\n",
              "            background-color:  #3b4cc0;\n",
              "            color:  #f1f1f1;\n",
              "        }    #T_6839a1de_c2bb_11ea_84f7_0242ac1c0002row14_col3 {\n",
              "            background-color:  #3b4cc0;\n",
              "            color:  #f1f1f1;\n",
              "        }    #T_6839a1de_c2bb_11ea_84f7_0242ac1c0002row14_col4 {\n",
              "            background-color:  #3b4cc0;\n",
              "            color:  #f1f1f1;\n",
              "        }    #T_6839a1de_c2bb_11ea_84f7_0242ac1c0002row14_col5 {\n",
              "            background-color:  #9abbff;\n",
              "            color:  #000000;\n",
              "        }    #T_6839a1de_c2bb_11ea_84f7_0242ac1c0002row14_col6 {\n",
              "            background-color:  #3b4cc0;\n",
              "            color:  #f1f1f1;\n",
              "        }    #T_6839a1de_c2bb_11ea_84f7_0242ac1c0002row14_col7 {\n",
              "            background-color:  #3b4cc0;\n",
              "            color:  #f1f1f1;\n",
              "        }    #T_6839a1de_c2bb_11ea_84f7_0242ac1c0002row14_col8 {\n",
              "            background-color:  #3b4cc0;\n",
              "            color:  #f1f1f1;\n",
              "        }    #T_6839a1de_c2bb_11ea_84f7_0242ac1c0002row14_col9 {\n",
              "            background-color:  #6f92f3;\n",
              "            color:  #000000;\n",
              "        }    #T_6839a1de_c2bb_11ea_84f7_0242ac1c0002row14_col10 {\n",
              "            background-color:  #f5c2aa;\n",
              "            color:  #000000;\n",
              "        }    #T_6839a1de_c2bb_11ea_84f7_0242ac1c0002row14_col11 {\n",
              "            background-color:  #3d50c3;\n",
              "            color:  #f1f1f1;\n",
              "        }    #T_6839a1de_c2bb_11ea_84f7_0242ac1c0002row14_col12 {\n",
              "            background-color:  #98b9ff;\n",
              "            color:  #000000;\n",
              "        }    #T_6839a1de_c2bb_11ea_84f7_0242ac1c0002row14_col13 {\n",
              "            background-color:  #b8122a;\n",
              "            color:  #f1f1f1;\n",
              "        }    #T_6839a1de_c2bb_11ea_84f7_0242ac1c0002row14_col14 {\n",
              "            background-color:  #b40426;\n",
              "            color:  #f1f1f1;\n",
              "        }    #T_6839a1de_c2bb_11ea_84f7_0242ac1c0002row14_col15 {\n",
              "            background-color:  #3b4cc0;\n",
              "            color:  #f1f1f1;\n",
              "        }    #T_6839a1de_c2bb_11ea_84f7_0242ac1c0002row14_col16 {\n",
              "            background-color:  #3d50c3;\n",
              "            color:  #f1f1f1;\n",
              "        }    #T_6839a1de_c2bb_11ea_84f7_0242ac1c0002row14_col17 {\n",
              "            background-color:  #f2cbb7;\n",
              "            color:  #000000;\n",
              "        }    #T_6839a1de_c2bb_11ea_84f7_0242ac1c0002row14_col18 {\n",
              "            background-color:  #c0d4f5;\n",
              "            color:  #000000;\n",
              "        }    #T_6839a1de_c2bb_11ea_84f7_0242ac1c0002row15_col0 {\n",
              "            background-color:  #9fbfff;\n",
              "            color:  #000000;\n",
              "        }    #T_6839a1de_c2bb_11ea_84f7_0242ac1c0002row15_col1 {\n",
              "            background-color:  #b6cefa;\n",
              "            color:  #000000;\n",
              "        }    #T_6839a1de_c2bb_11ea_84f7_0242ac1c0002row15_col2 {\n",
              "            background-color:  #f5a081;\n",
              "            color:  #000000;\n",
              "        }    #T_6839a1de_c2bb_11ea_84f7_0242ac1c0002row15_col3 {\n",
              "            background-color:  #ea7b60;\n",
              "            color:  #000000;\n",
              "        }    #T_6839a1de_c2bb_11ea_84f7_0242ac1c0002row15_col4 {\n",
              "            background-color:  #e36b54;\n",
              "            color:  #000000;\n",
              "        }    #T_6839a1de_c2bb_11ea_84f7_0242ac1c0002row15_col5 {\n",
              "            background-color:  #cdd9ec;\n",
              "            color:  #000000;\n",
              "        }    #T_6839a1de_c2bb_11ea_84f7_0242ac1c0002row15_col6 {\n",
              "            background-color:  #d44e41;\n",
              "            color:  #000000;\n",
              "        }    #T_6839a1de_c2bb_11ea_84f7_0242ac1c0002row15_col7 {\n",
              "            background-color:  #cf453c;\n",
              "            color:  #f1f1f1;\n",
              "        }    #T_6839a1de_c2bb_11ea_84f7_0242ac1c0002row15_col8 {\n",
              "            background-color:  #f7a889;\n",
              "            color:  #000000;\n",
              "        }    #T_6839a1de_c2bb_11ea_84f7_0242ac1c0002row15_col9 {\n",
              "            background-color:  #90b2fe;\n",
              "            color:  #000000;\n",
              "        }    #T_6839a1de_c2bb_11ea_84f7_0242ac1c0002row15_col10 {\n",
              "            background-color:  #e5d8d1;\n",
              "            color:  #000000;\n",
              "        }    #T_6839a1de_c2bb_11ea_84f7_0242ac1c0002row15_col11 {\n",
              "            background-color:  #d75445;\n",
              "            color:  #000000;\n",
              "        }    #T_6839a1de_c2bb_11ea_84f7_0242ac1c0002row15_col12 {\n",
              "            background-color:  #8db0fe;\n",
              "            color:  #000000;\n",
              "        }    #T_6839a1de_c2bb_11ea_84f7_0242ac1c0002row15_col13 {\n",
              "            background-color:  #6485ec;\n",
              "            color:  #000000;\n",
              "        }    #T_6839a1de_c2bb_11ea_84f7_0242ac1c0002row15_col14 {\n",
              "            background-color:  #5e7de7;\n",
              "            color:  #000000;\n",
              "        }    #T_6839a1de_c2bb_11ea_84f7_0242ac1c0002row15_col15 {\n",
              "            background-color:  #b40426;\n",
              "            color:  #f1f1f1;\n",
              "        }    #T_6839a1de_c2bb_11ea_84f7_0242ac1c0002row15_col16 {\n",
              "            background-color:  #d85646;\n",
              "            color:  #000000;\n",
              "        }    #T_6839a1de_c2bb_11ea_84f7_0242ac1c0002row15_col17 {\n",
              "            background-color:  #ead4c8;\n",
              "            color:  #000000;\n",
              "        }    #T_6839a1de_c2bb_11ea_84f7_0242ac1c0002row15_col18 {\n",
              "            background-color:  #cdd9ec;\n",
              "            color:  #000000;\n",
              "        }    #T_6839a1de_c2bb_11ea_84f7_0242ac1c0002row16_col0 {\n",
              "            background-color:  #bfd3f6;\n",
              "            color:  #000000;\n",
              "        }    #T_6839a1de_c2bb_11ea_84f7_0242ac1c0002row16_col1 {\n",
              "            background-color:  #cedaeb;\n",
              "            color:  #000000;\n",
              "        }    #T_6839a1de_c2bb_11ea_84f7_0242ac1c0002row16_col2 {\n",
              "            background-color:  #f7b99e;\n",
              "            color:  #000000;\n",
              "        }    #T_6839a1de_c2bb_11ea_84f7_0242ac1c0002row16_col3 {\n",
              "            background-color:  #ee8468;\n",
              "            color:  #000000;\n",
              "        }    #T_6839a1de_c2bb_11ea_84f7_0242ac1c0002row16_col4 {\n",
              "            background-color:  #ec8165;\n",
              "            color:  #000000;\n",
              "        }    #T_6839a1de_c2bb_11ea_84f7_0242ac1c0002row16_col5 {\n",
              "            background-color:  #b2ccfb;\n",
              "            color:  #000000;\n",
              "        }    #T_6839a1de_c2bb_11ea_84f7_0242ac1c0002row16_col6 {\n",
              "            background-color:  #dc5d4a;\n",
              "            color:  #000000;\n",
              "        }    #T_6839a1de_c2bb_11ea_84f7_0242ac1c0002row16_col7 {\n",
              "            background-color:  #e36c55;\n",
              "            color:  #000000;\n",
              "        }    #T_6839a1de_c2bb_11ea_84f7_0242ac1c0002row16_col8 {\n",
              "            background-color:  #f6a586;\n",
              "            color:  #000000;\n",
              "        }    #T_6839a1de_c2bb_11ea_84f7_0242ac1c0002row16_col9 {\n",
              "            background-color:  #84a7fc;\n",
              "            color:  #000000;\n",
              "        }    #T_6839a1de_c2bb_11ea_84f7_0242ac1c0002row16_col10 {\n",
              "            background-color:  #aec9fc;\n",
              "            color:  #000000;\n",
              "        }    #T_6839a1de_c2bb_11ea_84f7_0242ac1c0002row16_col11 {\n",
              "            background-color:  #ca3b37;\n",
              "            color:  #f1f1f1;\n",
              "        }    #T_6839a1de_c2bb_11ea_84f7_0242ac1c0002row16_col12 {\n",
              "            background-color:  #c0d4f5;\n",
              "            color:  #000000;\n",
              "        }    #T_6839a1de_c2bb_11ea_84f7_0242ac1c0002row16_col13 {\n",
              "            background-color:  #3b4cc0;\n",
              "            color:  #f1f1f1;\n",
              "        }    #T_6839a1de_c2bb_11ea_84f7_0242ac1c0002row16_col14 {\n",
              "            background-color:  #3b4cc0;\n",
              "            color:  #f1f1f1;\n",
              "        }    #T_6839a1de_c2bb_11ea_84f7_0242ac1c0002row16_col15 {\n",
              "            background-color:  #dd5f4b;\n",
              "            color:  #000000;\n",
              "        }    #T_6839a1de_c2bb_11ea_84f7_0242ac1c0002row16_col16 {\n",
              "            background-color:  #b40426;\n",
              "            color:  #f1f1f1;\n",
              "        }    #T_6839a1de_c2bb_11ea_84f7_0242ac1c0002row16_col17 {\n",
              "            background-color:  #bad0f8;\n",
              "            color:  #000000;\n",
              "        }    #T_6839a1de_c2bb_11ea_84f7_0242ac1c0002row16_col18 {\n",
              "            background-color:  #f4c6af;\n",
              "            color:  #000000;\n",
              "        }    #T_6839a1de_c2bb_11ea_84f7_0242ac1c0002row17_col0 {\n",
              "            background-color:  #85a8fc;\n",
              "            color:  #000000;\n",
              "        }    #T_6839a1de_c2bb_11ea_84f7_0242ac1c0002row17_col1 {\n",
              "            background-color:  #7a9df8;\n",
              "            color:  #000000;\n",
              "        }    #T_6839a1de_c2bb_11ea_84f7_0242ac1c0002row17_col2 {\n",
              "            background-color:  #ead5c9;\n",
              "            color:  #000000;\n",
              "        }    #T_6839a1de_c2bb_11ea_84f7_0242ac1c0002row17_col3 {\n",
              "            background-color:  #e6d7cf;\n",
              "            color:  #000000;\n",
              "        }    #T_6839a1de_c2bb_11ea_84f7_0242ac1c0002row17_col4 {\n",
              "            background-color:  #e9d5cb;\n",
              "            color:  #000000;\n",
              "        }    #T_6839a1de_c2bb_11ea_84f7_0242ac1c0002row17_col5 {\n",
              "            background-color:  #e6d7cf;\n",
              "            color:  #000000;\n",
              "        }    #T_6839a1de_c2bb_11ea_84f7_0242ac1c0002row17_col6 {\n",
              "            background-color:  #ecd3c5;\n",
              "            color:  #000000;\n",
              "        }    #T_6839a1de_c2bb_11ea_84f7_0242ac1c0002row17_col7 {\n",
              "            background-color:  #cedaeb;\n",
              "            color:  #000000;\n",
              "        }    #T_6839a1de_c2bb_11ea_84f7_0242ac1c0002row17_col8 {\n",
              "            background-color:  #c1d4f4;\n",
              "            color:  #000000;\n",
              "        }    #T_6839a1de_c2bb_11ea_84f7_0242ac1c0002row17_col9 {\n",
              "            background-color:  #bcd2f7;\n",
              "            color:  #000000;\n",
              "        }    #T_6839a1de_c2bb_11ea_84f7_0242ac1c0002row17_col10 {\n",
              "            background-color:  #b50927;\n",
              "            color:  #f1f1f1;\n",
              "        }    #T_6839a1de_c2bb_11ea_84f7_0242ac1c0002row17_col11 {\n",
              "            background-color:  #b2ccfb;\n",
              "            color:  #000000;\n",
              "        }    #T_6839a1de_c2bb_11ea_84f7_0242ac1c0002row17_col12 {\n",
              "            background-color:  #3b4cc0;\n",
              "            color:  #f1f1f1;\n",
              "        }    #T_6839a1de_c2bb_11ea_84f7_0242ac1c0002row17_col13 {\n",
              "            background-color:  #f4c5ad;\n",
              "            color:  #000000;\n",
              "        }    #T_6839a1de_c2bb_11ea_84f7_0242ac1c0002row17_col14 {\n",
              "            background-color:  #efcebd;\n",
              "            color:  #000000;\n",
              "        }    #T_6839a1de_c2bb_11ea_84f7_0242ac1c0002row17_col15 {\n",
              "            background-color:  #d7dce3;\n",
              "            color:  #000000;\n",
              "        }    #T_6839a1de_c2bb_11ea_84f7_0242ac1c0002row17_col16 {\n",
              "            background-color:  #b5cdfa;\n",
              "            color:  #000000;\n",
              "        }    #T_6839a1de_c2bb_11ea_84f7_0242ac1c0002row17_col17 {\n",
              "            background-color:  #b40426;\n",
              "            color:  #f1f1f1;\n",
              "        }    #T_6839a1de_c2bb_11ea_84f7_0242ac1c0002row17_col18 {\n",
              "            background-color:  #3b4cc0;\n",
              "            color:  #f1f1f1;\n",
              "        }    #T_6839a1de_c2bb_11ea_84f7_0242ac1c0002row18_col0 {\n",
              "            background-color:  #d8dce2;\n",
              "            color:  #000000;\n",
              "        }    #T_6839a1de_c2bb_11ea_84f7_0242ac1c0002row18_col1 {\n",
              "            background-color:  #aec9fc;\n",
              "            color:  #000000;\n",
              "        }    #T_6839a1de_c2bb_11ea_84f7_0242ac1c0002row18_col2 {\n",
              "            background-color:  #6b8df0;\n",
              "            color:  #000000;\n",
              "        }    #T_6839a1de_c2bb_11ea_84f7_0242ac1c0002row18_col3 {\n",
              "            background-color:  #9abbff;\n",
              "            color:  #000000;\n",
              "        }    #T_6839a1de_c2bb_11ea_84f7_0242ac1c0002row18_col4 {\n",
              "            background-color:  #90b2fe;\n",
              "            color:  #000000;\n",
              "        }    #T_6839a1de_c2bb_11ea_84f7_0242ac1c0002row18_col5 {\n",
              "            background-color:  #7295f4;\n",
              "            color:  #000000;\n",
              "        }    #T_6839a1de_c2bb_11ea_84f7_0242ac1c0002row18_col6 {\n",
              "            background-color:  #a5c3fe;\n",
              "            color:  #000000;\n",
              "        }    #T_6839a1de_c2bb_11ea_84f7_0242ac1c0002row18_col7 {\n",
              "            background-color:  #b3cdfb;\n",
              "            color:  #000000;\n",
              "        }    #T_6839a1de_c2bb_11ea_84f7_0242ac1c0002row18_col8 {\n",
              "            background-color:  #abc8fd;\n",
              "            color:  #000000;\n",
              "        }    #T_6839a1de_c2bb_11ea_84f7_0242ac1c0002row18_col9 {\n",
              "            background-color:  #3b4cc0;\n",
              "            color:  #f1f1f1;\n",
              "        }    #T_6839a1de_c2bb_11ea_84f7_0242ac1c0002row18_col10 {\n",
              "            background-color:  #3b4cc0;\n",
              "            color:  #f1f1f1;\n",
              "        }    #T_6839a1de_c2bb_11ea_84f7_0242ac1c0002row18_col11 {\n",
              "            background-color:  #e8d6cc;\n",
              "            color:  #000000;\n",
              "        }    #T_6839a1de_c2bb_11ea_84f7_0242ac1c0002row18_col12 {\n",
              "            background-color:  #f6bea4;\n",
              "            color:  #000000;\n",
              "        }    #T_6839a1de_c2bb_11ea_84f7_0242ac1c0002row18_col13 {\n",
              "            background-color:  #afcafc;\n",
              "            color:  #000000;\n",
              "        }    #T_6839a1de_c2bb_11ea_84f7_0242ac1c0002row18_col14 {\n",
              "            background-color:  #bad0f8;\n",
              "            color:  #000000;\n",
              "        }    #T_6839a1de_c2bb_11ea_84f7_0242ac1c0002row18_col15 {\n",
              "            background-color:  #afcafc;\n",
              "            color:  #000000;\n",
              "        }    #T_6839a1de_c2bb_11ea_84f7_0242ac1c0002row18_col16 {\n",
              "            background-color:  #f3c8b2;\n",
              "            color:  #000000;\n",
              "        }    #T_6839a1de_c2bb_11ea_84f7_0242ac1c0002row18_col17 {\n",
              "            background-color:  #3b4cc0;\n",
              "            color:  #f1f1f1;\n",
              "        }    #T_6839a1de_c2bb_11ea_84f7_0242ac1c0002row18_col18 {\n",
              "            background-color:  #b40426;\n",
              "            color:  #f1f1f1;\n",
              "        }</style><table id=\"T_6839a1de_c2bb_11ea_84f7_0242ac1c0002\" ><thead>    <tr>        <th class=\"blank level0\" ></th>        <th class=\"col_heading level0 col0\" >symboling</th>        <th class=\"col_heading level0 col1\" >normalized-losses</th>        <th class=\"col_heading level0 col2\" >wheel-base</th>        <th class=\"col_heading level0 col3\" >length</th>        <th class=\"col_heading level0 col4\" >width</th>        <th class=\"col_heading level0 col5\" >height</th>        <th class=\"col_heading level0 col6\" >curb-weight</th>        <th class=\"col_heading level0 col7\" >engine-size</th>        <th class=\"col_heading level0 col8\" >bore</th>        <th class=\"col_heading level0 col9\" >stroke</th>        <th class=\"col_heading level0 col10\" >compression-ratio</th>        <th class=\"col_heading level0 col11\" >horsepower</th>        <th class=\"col_heading level0 col12\" >peak-rpm</th>        <th class=\"col_heading level0 col13\" >city-mpg</th>        <th class=\"col_heading level0 col14\" >highway-mpg</th>        <th class=\"col_heading level0 col15\" >price</th>        <th class=\"col_heading level0 col16\" >city-L/100km</th>        <th class=\"col_heading level0 col17\" >diesel</th>        <th class=\"col_heading level0 col18\" >gas</th>    </tr></thead><tbody>\n",
              "                <tr>\n",
              "                        <th id=\"T_6839a1de_c2bb_11ea_84f7_0242ac1c0002level0_row0\" class=\"row_heading level0 row0\" >symboling</th>\n",
              "                        <td id=\"T_6839a1de_c2bb_11ea_84f7_0242ac1c0002row0_col0\" class=\"data row0 col0\" >1.000000</td>\n",
              "                        <td id=\"T_6839a1de_c2bb_11ea_84f7_0242ac1c0002row0_col1\" class=\"data row0 col1\" >0.466264</td>\n",
              "                        <td id=\"T_6839a1de_c2bb_11ea_84f7_0242ac1c0002row0_col2\" class=\"data row0 col2\" >-0.535987</td>\n",
              "                        <td id=\"T_6839a1de_c2bb_11ea_84f7_0242ac1c0002row0_col3\" class=\"data row0 col3\" >-0.365404</td>\n",
              "                        <td id=\"T_6839a1de_c2bb_11ea_84f7_0242ac1c0002row0_col4\" class=\"data row0 col4\" >-0.242423</td>\n",
              "                        <td id=\"T_6839a1de_c2bb_11ea_84f7_0242ac1c0002row0_col5\" class=\"data row0 col5\" >-0.550160</td>\n",
              "                        <td id=\"T_6839a1de_c2bb_11ea_84f7_0242ac1c0002row0_col6\" class=\"data row0 col6\" >-0.233118</td>\n",
              "                        <td id=\"T_6839a1de_c2bb_11ea_84f7_0242ac1c0002row0_col7\" class=\"data row0 col7\" >-0.110581</td>\n",
              "                        <td id=\"T_6839a1de_c2bb_11ea_84f7_0242ac1c0002row0_col8\" class=\"data row0 col8\" >-0.140019</td>\n",
              "                        <td id=\"T_6839a1de_c2bb_11ea_84f7_0242ac1c0002row0_col9\" class=\"data row0 col9\" >-0.008245</td>\n",
              "                        <td id=\"T_6839a1de_c2bb_11ea_84f7_0242ac1c0002row0_col10\" class=\"data row0 col10\" >-0.182196</td>\n",
              "                        <td id=\"T_6839a1de_c2bb_11ea_84f7_0242ac1c0002row0_col11\" class=\"data row0 col11\" >0.075819</td>\n",
              "                        <td id=\"T_6839a1de_c2bb_11ea_84f7_0242ac1c0002row0_col12\" class=\"data row0 col12\" >0.279740</td>\n",
              "                        <td id=\"T_6839a1de_c2bb_11ea_84f7_0242ac1c0002row0_col13\" class=\"data row0 col13\" >-0.035527</td>\n",
              "                        <td id=\"T_6839a1de_c2bb_11ea_84f7_0242ac1c0002row0_col14\" class=\"data row0 col14\" >0.036233</td>\n",
              "                        <td id=\"T_6839a1de_c2bb_11ea_84f7_0242ac1c0002row0_col15\" class=\"data row0 col15\" >-0.082391</td>\n",
              "                        <td id=\"T_6839a1de_c2bb_11ea_84f7_0242ac1c0002row0_col16\" class=\"data row0 col16\" >0.066171</td>\n",
              "                        <td id=\"T_6839a1de_c2bb_11ea_84f7_0242ac1c0002row0_col17\" class=\"data row0 col17\" >-0.196735</td>\n",
              "                        <td id=\"T_6839a1de_c2bb_11ea_84f7_0242ac1c0002row0_col18\" class=\"data row0 col18\" >0.196735</td>\n",
              "            </tr>\n",
              "            <tr>\n",
              "                        <th id=\"T_6839a1de_c2bb_11ea_84f7_0242ac1c0002level0_row1\" class=\"row_heading level0 row1\" >normalized-losses</th>\n",
              "                        <td id=\"T_6839a1de_c2bb_11ea_84f7_0242ac1c0002row1_col0\" class=\"data row1 col0\" >0.466264</td>\n",
              "                        <td id=\"T_6839a1de_c2bb_11ea_84f7_0242ac1c0002row1_col1\" class=\"data row1 col1\" >1.000000</td>\n",
              "                        <td id=\"T_6839a1de_c2bb_11ea_84f7_0242ac1c0002row1_col2\" class=\"data row1 col2\" >-0.056661</td>\n",
              "                        <td id=\"T_6839a1de_c2bb_11ea_84f7_0242ac1c0002row1_col3\" class=\"data row1 col3\" >0.019424</td>\n",
              "                        <td id=\"T_6839a1de_c2bb_11ea_84f7_0242ac1c0002row1_col4\" class=\"data row1 col4\" >0.086802</td>\n",
              "                        <td id=\"T_6839a1de_c2bb_11ea_84f7_0242ac1c0002row1_col5\" class=\"data row1 col5\" >-0.373737</td>\n",
              "                        <td id=\"T_6839a1de_c2bb_11ea_84f7_0242ac1c0002row1_col6\" class=\"data row1 col6\" >0.099404</td>\n",
              "                        <td id=\"T_6839a1de_c2bb_11ea_84f7_0242ac1c0002row1_col7\" class=\"data row1 col7\" >0.112360</td>\n",
              "                        <td id=\"T_6839a1de_c2bb_11ea_84f7_0242ac1c0002row1_col8\" class=\"data row1 col8\" >-0.029862</td>\n",
              "                        <td id=\"T_6839a1de_c2bb_11ea_84f7_0242ac1c0002row1_col9\" class=\"data row1 col9\" >0.055563</td>\n",
              "                        <td id=\"T_6839a1de_c2bb_11ea_84f7_0242ac1c0002row1_col10\" class=\"data row1 col10\" >-0.114713</td>\n",
              "                        <td id=\"T_6839a1de_c2bb_11ea_84f7_0242ac1c0002row1_col11\" class=\"data row1 col11\" >0.217299</td>\n",
              "                        <td id=\"T_6839a1de_c2bb_11ea_84f7_0242ac1c0002row1_col12\" class=\"data row1 col12\" >0.239543</td>\n",
              "                        <td id=\"T_6839a1de_c2bb_11ea_84f7_0242ac1c0002row1_col13\" class=\"data row1 col13\" >-0.225016</td>\n",
              "                        <td id=\"T_6839a1de_c2bb_11ea_84f7_0242ac1c0002row1_col14\" class=\"data row1 col14\" >-0.181877</td>\n",
              "                        <td id=\"T_6839a1de_c2bb_11ea_84f7_0242ac1c0002row1_col15\" class=\"data row1 col15\" >0.133999</td>\n",
              "                        <td id=\"T_6839a1de_c2bb_11ea_84f7_0242ac1c0002row1_col16\" class=\"data row1 col16\" >0.238567</td>\n",
              "                        <td id=\"T_6839a1de_c2bb_11ea_84f7_0242ac1c0002row1_col17\" class=\"data row1 col17\" >-0.101546</td>\n",
              "                        <td id=\"T_6839a1de_c2bb_11ea_84f7_0242ac1c0002row1_col18\" class=\"data row1 col18\" >0.101546</td>\n",
              "            </tr>\n",
              "            <tr>\n",
              "                        <th id=\"T_6839a1de_c2bb_11ea_84f7_0242ac1c0002level0_row2\" class=\"row_heading level0 row2\" >wheel-base</th>\n",
              "                        <td id=\"T_6839a1de_c2bb_11ea_84f7_0242ac1c0002row2_col0\" class=\"data row2 col0\" >-0.535987</td>\n",
              "                        <td id=\"T_6839a1de_c2bb_11ea_84f7_0242ac1c0002row2_col1\" class=\"data row2 col1\" >-0.056661</td>\n",
              "                        <td id=\"T_6839a1de_c2bb_11ea_84f7_0242ac1c0002row2_col2\" class=\"data row2 col2\" >1.000000</td>\n",
              "                        <td id=\"T_6839a1de_c2bb_11ea_84f7_0242ac1c0002row2_col3\" class=\"data row2 col3\" >0.876024</td>\n",
              "                        <td id=\"T_6839a1de_c2bb_11ea_84f7_0242ac1c0002row2_col4\" class=\"data row2 col4\" >0.814507</td>\n",
              "                        <td id=\"T_6839a1de_c2bb_11ea_84f7_0242ac1c0002row2_col5\" class=\"data row2 col5\" >0.590742</td>\n",
              "                        <td id=\"T_6839a1de_c2bb_11ea_84f7_0242ac1c0002row2_col6\" class=\"data row2 col6\" >0.782097</td>\n",
              "                        <td id=\"T_6839a1de_c2bb_11ea_84f7_0242ac1c0002row2_col7\" class=\"data row2 col7\" >0.572027</td>\n",
              "                        <td id=\"T_6839a1de_c2bb_11ea_84f7_0242ac1c0002row2_col8\" class=\"data row2 col8\" >0.493244</td>\n",
              "                        <td id=\"T_6839a1de_c2bb_11ea_84f7_0242ac1c0002row2_col9\" class=\"data row2 col9\" >0.158502</td>\n",
              "                        <td id=\"T_6839a1de_c2bb_11ea_84f7_0242ac1c0002row2_col10\" class=\"data row2 col10\" >0.250313</td>\n",
              "                        <td id=\"T_6839a1de_c2bb_11ea_84f7_0242ac1c0002row2_col11\" class=\"data row2 col11\" >0.371147</td>\n",
              "                        <td id=\"T_6839a1de_c2bb_11ea_84f7_0242ac1c0002row2_col12\" class=\"data row2 col12\" >-0.360305</td>\n",
              "                        <td id=\"T_6839a1de_c2bb_11ea_84f7_0242ac1c0002row2_col13\" class=\"data row2 col13\" >-0.470606</td>\n",
              "                        <td id=\"T_6839a1de_c2bb_11ea_84f7_0242ac1c0002row2_col14\" class=\"data row2 col14\" >-0.543304</td>\n",
              "                        <td id=\"T_6839a1de_c2bb_11ea_84f7_0242ac1c0002row2_col15\" class=\"data row2 col15\" >0.584642</td>\n",
              "                        <td id=\"T_6839a1de_c2bb_11ea_84f7_0242ac1c0002row2_col16\" class=\"data row2 col16\" >0.476153</td>\n",
              "                        <td id=\"T_6839a1de_c2bb_11ea_84f7_0242ac1c0002row2_col17\" class=\"data row2 col17\" >0.307237</td>\n",
              "                        <td id=\"T_6839a1de_c2bb_11ea_84f7_0242ac1c0002row2_col18\" class=\"data row2 col18\" >-0.307237</td>\n",
              "            </tr>\n",
              "            <tr>\n",
              "                        <th id=\"T_6839a1de_c2bb_11ea_84f7_0242ac1c0002level0_row3\" class=\"row_heading level0 row3\" >length</th>\n",
              "                        <td id=\"T_6839a1de_c2bb_11ea_84f7_0242ac1c0002row3_col0\" class=\"data row3 col0\" >-0.365404</td>\n",
              "                        <td id=\"T_6839a1de_c2bb_11ea_84f7_0242ac1c0002row3_col1\" class=\"data row3 col1\" >0.019424</td>\n",
              "                        <td id=\"T_6839a1de_c2bb_11ea_84f7_0242ac1c0002row3_col2\" class=\"data row3 col2\" >0.876024</td>\n",
              "                        <td id=\"T_6839a1de_c2bb_11ea_84f7_0242ac1c0002row3_col3\" class=\"data row3 col3\" >1.000000</td>\n",
              "                        <td id=\"T_6839a1de_c2bb_11ea_84f7_0242ac1c0002row3_col4\" class=\"data row3 col4\" >0.857170</td>\n",
              "                        <td id=\"T_6839a1de_c2bb_11ea_84f7_0242ac1c0002row3_col5\" class=\"data row3 col5\" >0.492063</td>\n",
              "                        <td id=\"T_6839a1de_c2bb_11ea_84f7_0242ac1c0002row3_col6\" class=\"data row3 col6\" >0.880665</td>\n",
              "                        <td id=\"T_6839a1de_c2bb_11ea_84f7_0242ac1c0002row3_col7\" class=\"data row3 col7\" >0.685025</td>\n",
              "                        <td id=\"T_6839a1de_c2bb_11ea_84f7_0242ac1c0002row3_col8\" class=\"data row3 col8\" >0.608971</td>\n",
              "                        <td id=\"T_6839a1de_c2bb_11ea_84f7_0242ac1c0002row3_col9\" class=\"data row3 col9\" >0.124139</td>\n",
              "                        <td id=\"T_6839a1de_c2bb_11ea_84f7_0242ac1c0002row3_col10\" class=\"data row3 col10\" >0.159733</td>\n",
              "                        <td id=\"T_6839a1de_c2bb_11ea_84f7_0242ac1c0002row3_col11\" class=\"data row3 col11\" >0.579821</td>\n",
              "                        <td id=\"T_6839a1de_c2bb_11ea_84f7_0242ac1c0002row3_col12\" class=\"data row3 col12\" >-0.285970</td>\n",
              "                        <td id=\"T_6839a1de_c2bb_11ea_84f7_0242ac1c0002row3_col13\" class=\"data row3 col13\" >-0.665192</td>\n",
              "                        <td id=\"T_6839a1de_c2bb_11ea_84f7_0242ac1c0002row3_col14\" class=\"data row3 col14\" >-0.698142</td>\n",
              "                        <td id=\"T_6839a1de_c2bb_11ea_84f7_0242ac1c0002row3_col15\" class=\"data row3 col15\" >0.690628</td>\n",
              "                        <td id=\"T_6839a1de_c2bb_11ea_84f7_0242ac1c0002row3_col16\" class=\"data row3 col16\" >0.657373</td>\n",
              "                        <td id=\"T_6839a1de_c2bb_11ea_84f7_0242ac1c0002row3_col17\" class=\"data row3 col17\" >0.211187</td>\n",
              "                        <td id=\"T_6839a1de_c2bb_11ea_84f7_0242ac1c0002row3_col18\" class=\"data row3 col18\" >-0.211187</td>\n",
              "            </tr>\n",
              "            <tr>\n",
              "                        <th id=\"T_6839a1de_c2bb_11ea_84f7_0242ac1c0002level0_row4\" class=\"row_heading level0 row4\" >width</th>\n",
              "                        <td id=\"T_6839a1de_c2bb_11ea_84f7_0242ac1c0002row4_col0\" class=\"data row4 col0\" >-0.242423</td>\n",
              "                        <td id=\"T_6839a1de_c2bb_11ea_84f7_0242ac1c0002row4_col1\" class=\"data row4 col1\" >0.086802</td>\n",
              "                        <td id=\"T_6839a1de_c2bb_11ea_84f7_0242ac1c0002row4_col2\" class=\"data row4 col2\" >0.814507</td>\n",
              "                        <td id=\"T_6839a1de_c2bb_11ea_84f7_0242ac1c0002row4_col3\" class=\"data row4 col3\" >0.857170</td>\n",
              "                        <td id=\"T_6839a1de_c2bb_11ea_84f7_0242ac1c0002row4_col4\" class=\"data row4 col4\" >1.000000</td>\n",
              "                        <td id=\"T_6839a1de_c2bb_11ea_84f7_0242ac1c0002row4_col5\" class=\"data row4 col5\" >0.306002</td>\n",
              "                        <td id=\"T_6839a1de_c2bb_11ea_84f7_0242ac1c0002row4_col6\" class=\"data row4 col6\" >0.866201</td>\n",
              "                        <td id=\"T_6839a1de_c2bb_11ea_84f7_0242ac1c0002row4_col7\" class=\"data row4 col7\" >0.729436</td>\n",
              "                        <td id=\"T_6839a1de_c2bb_11ea_84f7_0242ac1c0002row4_col8\" class=\"data row4 col8\" >0.544885</td>\n",
              "                        <td id=\"T_6839a1de_c2bb_11ea_84f7_0242ac1c0002row4_col9\" class=\"data row4 col9\" >0.188829</td>\n",
              "                        <td id=\"T_6839a1de_c2bb_11ea_84f7_0242ac1c0002row4_col10\" class=\"data row4 col10\" >0.189867</td>\n",
              "                        <td id=\"T_6839a1de_c2bb_11ea_84f7_0242ac1c0002row4_col11\" class=\"data row4 col11\" >0.615077</td>\n",
              "                        <td id=\"T_6839a1de_c2bb_11ea_84f7_0242ac1c0002row4_col12\" class=\"data row4 col12\" >-0.245800</td>\n",
              "                        <td id=\"T_6839a1de_c2bb_11ea_84f7_0242ac1c0002row4_col13\" class=\"data row4 col13\" >-0.633531</td>\n",
              "                        <td id=\"T_6839a1de_c2bb_11ea_84f7_0242ac1c0002row4_col14\" class=\"data row4 col14\" >-0.680635</td>\n",
              "                        <td id=\"T_6839a1de_c2bb_11ea_84f7_0242ac1c0002row4_col15\" class=\"data row4 col15\" >0.751265</td>\n",
              "                        <td id=\"T_6839a1de_c2bb_11ea_84f7_0242ac1c0002row4_col16\" class=\"data row4 col16\" >0.673363</td>\n",
              "                        <td id=\"T_6839a1de_c2bb_11ea_84f7_0242ac1c0002row4_col17\" class=\"data row4 col17\" >0.244356</td>\n",
              "                        <td id=\"T_6839a1de_c2bb_11ea_84f7_0242ac1c0002row4_col18\" class=\"data row4 col18\" >-0.244356</td>\n",
              "            </tr>\n",
              "            <tr>\n",
              "                        <th id=\"T_6839a1de_c2bb_11ea_84f7_0242ac1c0002level0_row5\" class=\"row_heading level0 row5\" >height</th>\n",
              "                        <td id=\"T_6839a1de_c2bb_11ea_84f7_0242ac1c0002row5_col0\" class=\"data row5 col0\" >-0.550160</td>\n",
              "                        <td id=\"T_6839a1de_c2bb_11ea_84f7_0242ac1c0002row5_col1\" class=\"data row5 col1\" >-0.373737</td>\n",
              "                        <td id=\"T_6839a1de_c2bb_11ea_84f7_0242ac1c0002row5_col2\" class=\"data row5 col2\" >0.590742</td>\n",
              "                        <td id=\"T_6839a1de_c2bb_11ea_84f7_0242ac1c0002row5_col3\" class=\"data row5 col3\" >0.492063</td>\n",
              "                        <td id=\"T_6839a1de_c2bb_11ea_84f7_0242ac1c0002row5_col4\" class=\"data row5 col4\" >0.306002</td>\n",
              "                        <td id=\"T_6839a1de_c2bb_11ea_84f7_0242ac1c0002row5_col5\" class=\"data row5 col5\" >1.000000</td>\n",
              "                        <td id=\"T_6839a1de_c2bb_11ea_84f7_0242ac1c0002row5_col6\" class=\"data row5 col6\" >0.307581</td>\n",
              "                        <td id=\"T_6839a1de_c2bb_11ea_84f7_0242ac1c0002row5_col7\" class=\"data row5 col7\" >0.074694</td>\n",
              "                        <td id=\"T_6839a1de_c2bb_11ea_84f7_0242ac1c0002row5_col8\" class=\"data row5 col8\" >0.180449</td>\n",
              "                        <td id=\"T_6839a1de_c2bb_11ea_84f7_0242ac1c0002row5_col9\" class=\"data row5 col9\" >-0.062704</td>\n",
              "                        <td id=\"T_6839a1de_c2bb_11ea_84f7_0242ac1c0002row5_col10\" class=\"data row5 col10\" >0.259737</td>\n",
              "                        <td id=\"T_6839a1de_c2bb_11ea_84f7_0242ac1c0002row5_col11\" class=\"data row5 col11\" >-0.087027</td>\n",
              "                        <td id=\"T_6839a1de_c2bb_11ea_84f7_0242ac1c0002row5_col12\" class=\"data row5 col12\" >-0.309974</td>\n",
              "                        <td id=\"T_6839a1de_c2bb_11ea_84f7_0242ac1c0002row5_col13\" class=\"data row5 col13\" >-0.049800</td>\n",
              "                        <td id=\"T_6839a1de_c2bb_11ea_84f7_0242ac1c0002row5_col14\" class=\"data row5 col14\" >-0.104812</td>\n",
              "                        <td id=\"T_6839a1de_c2bb_11ea_84f7_0242ac1c0002row5_col15\" class=\"data row5 col15\" >0.135486</td>\n",
              "                        <td id=\"T_6839a1de_c2bb_11ea_84f7_0242ac1c0002row5_col16\" class=\"data row5 col16\" >0.003811</td>\n",
              "                        <td id=\"T_6839a1de_c2bb_11ea_84f7_0242ac1c0002row5_col17\" class=\"data row5 col17\" >0.281578</td>\n",
              "                        <td id=\"T_6839a1de_c2bb_11ea_84f7_0242ac1c0002row5_col18\" class=\"data row5 col18\" >-0.281578</td>\n",
              "            </tr>\n",
              "            <tr>\n",
              "                        <th id=\"T_6839a1de_c2bb_11ea_84f7_0242ac1c0002level0_row6\" class=\"row_heading level0 row6\" >curb-weight</th>\n",
              "                        <td id=\"T_6839a1de_c2bb_11ea_84f7_0242ac1c0002row6_col0\" class=\"data row6 col0\" >-0.233118</td>\n",
              "                        <td id=\"T_6839a1de_c2bb_11ea_84f7_0242ac1c0002row6_col1\" class=\"data row6 col1\" >0.099404</td>\n",
              "                        <td id=\"T_6839a1de_c2bb_11ea_84f7_0242ac1c0002row6_col2\" class=\"data row6 col2\" >0.782097</td>\n",
              "                        <td id=\"T_6839a1de_c2bb_11ea_84f7_0242ac1c0002row6_col3\" class=\"data row6 col3\" >0.880665</td>\n",
              "                        <td id=\"T_6839a1de_c2bb_11ea_84f7_0242ac1c0002row6_col4\" class=\"data row6 col4\" >0.866201</td>\n",
              "                        <td id=\"T_6839a1de_c2bb_11ea_84f7_0242ac1c0002row6_col5\" class=\"data row6 col5\" >0.307581</td>\n",
              "                        <td id=\"T_6839a1de_c2bb_11ea_84f7_0242ac1c0002row6_col6\" class=\"data row6 col6\" >1.000000</td>\n",
              "                        <td id=\"T_6839a1de_c2bb_11ea_84f7_0242ac1c0002row6_col7\" class=\"data row6 col7\" >0.849072</td>\n",
              "                        <td id=\"T_6839a1de_c2bb_11ea_84f7_0242ac1c0002row6_col8\" class=\"data row6 col8\" >0.644060</td>\n",
              "                        <td id=\"T_6839a1de_c2bb_11ea_84f7_0242ac1c0002row6_col9\" class=\"data row6 col9\" >0.167562</td>\n",
              "                        <td id=\"T_6839a1de_c2bb_11ea_84f7_0242ac1c0002row6_col10\" class=\"data row6 col10\" >0.156433</td>\n",
              "                        <td id=\"T_6839a1de_c2bb_11ea_84f7_0242ac1c0002row6_col11\" class=\"data row6 col11\" >0.757976</td>\n",
              "                        <td id=\"T_6839a1de_c2bb_11ea_84f7_0242ac1c0002row6_col12\" class=\"data row6 col12\" >-0.279361</td>\n",
              "                        <td id=\"T_6839a1de_c2bb_11ea_84f7_0242ac1c0002row6_col13\" class=\"data row6 col13\" >-0.749543</td>\n",
              "                        <td id=\"T_6839a1de_c2bb_11ea_84f7_0242ac1c0002row6_col14\" class=\"data row6 col14\" >-0.794889</td>\n",
              "                        <td id=\"T_6839a1de_c2bb_11ea_84f7_0242ac1c0002row6_col15\" class=\"data row6 col15\" >0.834415</td>\n",
              "                        <td id=\"T_6839a1de_c2bb_11ea_84f7_0242ac1c0002row6_col16\" class=\"data row6 col16\" >0.785353</td>\n",
              "                        <td id=\"T_6839a1de_c2bb_11ea_84f7_0242ac1c0002row6_col17\" class=\"data row6 col17\" >0.221046</td>\n",
              "                        <td id=\"T_6839a1de_c2bb_11ea_84f7_0242ac1c0002row6_col18\" class=\"data row6 col18\" >-0.221046</td>\n",
              "            </tr>\n",
              "            <tr>\n",
              "                        <th id=\"T_6839a1de_c2bb_11ea_84f7_0242ac1c0002level0_row7\" class=\"row_heading level0 row7\" >engine-size</th>\n",
              "                        <td id=\"T_6839a1de_c2bb_11ea_84f7_0242ac1c0002row7_col0\" class=\"data row7 col0\" >-0.110581</td>\n",
              "                        <td id=\"T_6839a1de_c2bb_11ea_84f7_0242ac1c0002row7_col1\" class=\"data row7 col1\" >0.112360</td>\n",
              "                        <td id=\"T_6839a1de_c2bb_11ea_84f7_0242ac1c0002row7_col2\" class=\"data row7 col2\" >0.572027</td>\n",
              "                        <td id=\"T_6839a1de_c2bb_11ea_84f7_0242ac1c0002row7_col3\" class=\"data row7 col3\" >0.685025</td>\n",
              "                        <td id=\"T_6839a1de_c2bb_11ea_84f7_0242ac1c0002row7_col4\" class=\"data row7 col4\" >0.729436</td>\n",
              "                        <td id=\"T_6839a1de_c2bb_11ea_84f7_0242ac1c0002row7_col5\" class=\"data row7 col5\" >0.074694</td>\n",
              "                        <td id=\"T_6839a1de_c2bb_11ea_84f7_0242ac1c0002row7_col6\" class=\"data row7 col6\" >0.849072</td>\n",
              "                        <td id=\"T_6839a1de_c2bb_11ea_84f7_0242ac1c0002row7_col7\" class=\"data row7 col7\" >1.000000</td>\n",
              "                        <td id=\"T_6839a1de_c2bb_11ea_84f7_0242ac1c0002row7_col8\" class=\"data row7 col8\" >0.572609</td>\n",
              "                        <td id=\"T_6839a1de_c2bb_11ea_84f7_0242ac1c0002row7_col9\" class=\"data row7 col9\" >0.209523</td>\n",
              "                        <td id=\"T_6839a1de_c2bb_11ea_84f7_0242ac1c0002row7_col10\" class=\"data row7 col10\" >0.028889</td>\n",
              "                        <td id=\"T_6839a1de_c2bb_11ea_84f7_0242ac1c0002row7_col11\" class=\"data row7 col11\" >0.822676</td>\n",
              "                        <td id=\"T_6839a1de_c2bb_11ea_84f7_0242ac1c0002row7_col12\" class=\"data row7 col12\" >-0.256733</td>\n",
              "                        <td id=\"T_6839a1de_c2bb_11ea_84f7_0242ac1c0002row7_col13\" class=\"data row7 col13\" >-0.650546</td>\n",
              "                        <td id=\"T_6839a1de_c2bb_11ea_84f7_0242ac1c0002row7_col14\" class=\"data row7 col14\" >-0.679571</td>\n",
              "                        <td id=\"T_6839a1de_c2bb_11ea_84f7_0242ac1c0002row7_col15\" class=\"data row7 col15\" >0.872335</td>\n",
              "                        <td id=\"T_6839a1de_c2bb_11ea_84f7_0242ac1c0002row7_col16\" class=\"data row7 col16\" >0.745059</td>\n",
              "                        <td id=\"T_6839a1de_c2bb_11ea_84f7_0242ac1c0002row7_col17\" class=\"data row7 col17\" >0.070779</td>\n",
              "                        <td id=\"T_6839a1de_c2bb_11ea_84f7_0242ac1c0002row7_col18\" class=\"data row7 col18\" >-0.070779</td>\n",
              "            </tr>\n",
              "            <tr>\n",
              "                        <th id=\"T_6839a1de_c2bb_11ea_84f7_0242ac1c0002level0_row8\" class=\"row_heading level0 row8\" >bore</th>\n",
              "                        <td id=\"T_6839a1de_c2bb_11ea_84f7_0242ac1c0002row8_col0\" class=\"data row8 col0\" >-0.140019</td>\n",
              "                        <td id=\"T_6839a1de_c2bb_11ea_84f7_0242ac1c0002row8_col1\" class=\"data row8 col1\" >-0.029862</td>\n",
              "                        <td id=\"T_6839a1de_c2bb_11ea_84f7_0242ac1c0002row8_col2\" class=\"data row8 col2\" >0.493244</td>\n",
              "                        <td id=\"T_6839a1de_c2bb_11ea_84f7_0242ac1c0002row8_col3\" class=\"data row8 col3\" >0.608971</td>\n",
              "                        <td id=\"T_6839a1de_c2bb_11ea_84f7_0242ac1c0002row8_col4\" class=\"data row8 col4\" >0.544885</td>\n",
              "                        <td id=\"T_6839a1de_c2bb_11ea_84f7_0242ac1c0002row8_col5\" class=\"data row8 col5\" >0.180449</td>\n",
              "                        <td id=\"T_6839a1de_c2bb_11ea_84f7_0242ac1c0002row8_col6\" class=\"data row8 col6\" >0.644060</td>\n",
              "                        <td id=\"T_6839a1de_c2bb_11ea_84f7_0242ac1c0002row8_col7\" class=\"data row8 col7\" >0.572609</td>\n",
              "                        <td id=\"T_6839a1de_c2bb_11ea_84f7_0242ac1c0002row8_col8\" class=\"data row8 col8\" >1.000000</td>\n",
              "                        <td id=\"T_6839a1de_c2bb_11ea_84f7_0242ac1c0002row8_col9\" class=\"data row8 col9\" >-0.055390</td>\n",
              "                        <td id=\"T_6839a1de_c2bb_11ea_84f7_0242ac1c0002row8_col10\" class=\"data row8 col10\" >0.001263</td>\n",
              "                        <td id=\"T_6839a1de_c2bb_11ea_84f7_0242ac1c0002row8_col11\" class=\"data row8 col11\" >0.566936</td>\n",
              "                        <td id=\"T_6839a1de_c2bb_11ea_84f7_0242ac1c0002row8_col12\" class=\"data row8 col12\" >-0.267392</td>\n",
              "                        <td id=\"T_6839a1de_c2bb_11ea_84f7_0242ac1c0002row8_col13\" class=\"data row8 col13\" >-0.582027</td>\n",
              "                        <td id=\"T_6839a1de_c2bb_11ea_84f7_0242ac1c0002row8_col14\" class=\"data row8 col14\" >-0.591309</td>\n",
              "                        <td id=\"T_6839a1de_c2bb_11ea_84f7_0242ac1c0002row8_col15\" class=\"data row8 col15\" >0.543155</td>\n",
              "                        <td id=\"T_6839a1de_c2bb_11ea_84f7_0242ac1c0002row8_col16\" class=\"data row8 col16\" >0.554610</td>\n",
              "                        <td id=\"T_6839a1de_c2bb_11ea_84f7_0242ac1c0002row8_col17\" class=\"data row8 col17\" >0.054458</td>\n",
              "                        <td id=\"T_6839a1de_c2bb_11ea_84f7_0242ac1c0002row8_col18\" class=\"data row8 col18\" >-0.054458</td>\n",
              "            </tr>\n",
              "            <tr>\n",
              "                        <th id=\"T_6839a1de_c2bb_11ea_84f7_0242ac1c0002level0_row9\" class=\"row_heading level0 row9\" >stroke</th>\n",
              "                        <td id=\"T_6839a1de_c2bb_11ea_84f7_0242ac1c0002row9_col0\" class=\"data row9 col0\" >-0.008245</td>\n",
              "                        <td id=\"T_6839a1de_c2bb_11ea_84f7_0242ac1c0002row9_col1\" class=\"data row9 col1\" >0.055563</td>\n",
              "                        <td id=\"T_6839a1de_c2bb_11ea_84f7_0242ac1c0002row9_col2\" class=\"data row9 col2\" >0.158502</td>\n",
              "                        <td id=\"T_6839a1de_c2bb_11ea_84f7_0242ac1c0002row9_col3\" class=\"data row9 col3\" >0.124139</td>\n",
              "                        <td id=\"T_6839a1de_c2bb_11ea_84f7_0242ac1c0002row9_col4\" class=\"data row9 col4\" >0.188829</td>\n",
              "                        <td id=\"T_6839a1de_c2bb_11ea_84f7_0242ac1c0002row9_col5\" class=\"data row9 col5\" >-0.062704</td>\n",
              "                        <td id=\"T_6839a1de_c2bb_11ea_84f7_0242ac1c0002row9_col6\" class=\"data row9 col6\" >0.167562</td>\n",
              "                        <td id=\"T_6839a1de_c2bb_11ea_84f7_0242ac1c0002row9_col7\" class=\"data row9 col7\" >0.209523</td>\n",
              "                        <td id=\"T_6839a1de_c2bb_11ea_84f7_0242ac1c0002row9_col8\" class=\"data row9 col8\" >-0.055390</td>\n",
              "                        <td id=\"T_6839a1de_c2bb_11ea_84f7_0242ac1c0002row9_col9\" class=\"data row9 col9\" >1.000000</td>\n",
              "                        <td id=\"T_6839a1de_c2bb_11ea_84f7_0242ac1c0002row9_col10\" class=\"data row9 col10\" >0.187923</td>\n",
              "                        <td id=\"T_6839a1de_c2bb_11ea_84f7_0242ac1c0002row9_col11\" class=\"data row9 col11\" >0.098462</td>\n",
              "                        <td id=\"T_6839a1de_c2bb_11ea_84f7_0242ac1c0002row9_col12\" class=\"data row9 col12\" >-0.065713</td>\n",
              "                        <td id=\"T_6839a1de_c2bb_11ea_84f7_0242ac1c0002row9_col13\" class=\"data row9 col13\" >-0.034696</td>\n",
              "                        <td id=\"T_6839a1de_c2bb_11ea_84f7_0242ac1c0002row9_col14\" class=\"data row9 col14\" >-0.035201</td>\n",
              "                        <td id=\"T_6839a1de_c2bb_11ea_84f7_0242ac1c0002row9_col15\" class=\"data row9 col15\" >0.082310</td>\n",
              "                        <td id=\"T_6839a1de_c2bb_11ea_84f7_0242ac1c0002row9_col16\" class=\"data row9 col16\" >0.037300</td>\n",
              "                        <td id=\"T_6839a1de_c2bb_11ea_84f7_0242ac1c0002row9_col17\" class=\"data row9 col17\" >0.241303</td>\n",
              "                        <td id=\"T_6839a1de_c2bb_11ea_84f7_0242ac1c0002row9_col18\" class=\"data row9 col18\" >-0.241303</td>\n",
              "            </tr>\n",
              "            <tr>\n",
              "                        <th id=\"T_6839a1de_c2bb_11ea_84f7_0242ac1c0002level0_row10\" class=\"row_heading level0 row10\" >compression-ratio</th>\n",
              "                        <td id=\"T_6839a1de_c2bb_11ea_84f7_0242ac1c0002row10_col0\" class=\"data row10 col0\" >-0.182196</td>\n",
              "                        <td id=\"T_6839a1de_c2bb_11ea_84f7_0242ac1c0002row10_col1\" class=\"data row10 col1\" >-0.114713</td>\n",
              "                        <td id=\"T_6839a1de_c2bb_11ea_84f7_0242ac1c0002row10_col2\" class=\"data row10 col2\" >0.250313</td>\n",
              "                        <td id=\"T_6839a1de_c2bb_11ea_84f7_0242ac1c0002row10_col3\" class=\"data row10 col3\" >0.159733</td>\n",
              "                        <td id=\"T_6839a1de_c2bb_11ea_84f7_0242ac1c0002row10_col4\" class=\"data row10 col4\" >0.189867</td>\n",
              "                        <td id=\"T_6839a1de_c2bb_11ea_84f7_0242ac1c0002row10_col5\" class=\"data row10 col5\" >0.259737</td>\n",
              "                        <td id=\"T_6839a1de_c2bb_11ea_84f7_0242ac1c0002row10_col6\" class=\"data row10 col6\" >0.156433</td>\n",
              "                        <td id=\"T_6839a1de_c2bb_11ea_84f7_0242ac1c0002row10_col7\" class=\"data row10 col7\" >0.028889</td>\n",
              "                        <td id=\"T_6839a1de_c2bb_11ea_84f7_0242ac1c0002row10_col8\" class=\"data row10 col8\" >0.001263</td>\n",
              "                        <td id=\"T_6839a1de_c2bb_11ea_84f7_0242ac1c0002row10_col9\" class=\"data row10 col9\" >0.187923</td>\n",
              "                        <td id=\"T_6839a1de_c2bb_11ea_84f7_0242ac1c0002row10_col10\" class=\"data row10 col10\" >1.000000</td>\n",
              "                        <td id=\"T_6839a1de_c2bb_11ea_84f7_0242ac1c0002row10_col11\" class=\"data row10 col11\" >-0.214514</td>\n",
              "                        <td id=\"T_6839a1de_c2bb_11ea_84f7_0242ac1c0002row10_col12\" class=\"data row10 col12\" >-0.435780</td>\n",
              "                        <td id=\"T_6839a1de_c2bb_11ea_84f7_0242ac1c0002row10_col13\" class=\"data row10 col13\" >0.331425</td>\n",
              "                        <td id=\"T_6839a1de_c2bb_11ea_84f7_0242ac1c0002row10_col14\" class=\"data row10 col14\" >0.268465</td>\n",
              "                        <td id=\"T_6839a1de_c2bb_11ea_84f7_0242ac1c0002row10_col15\" class=\"data row10 col15\" >0.071107</td>\n",
              "                        <td id=\"T_6839a1de_c2bb_11ea_84f7_0242ac1c0002row10_col16\" class=\"data row10 col16\" >-0.299372</td>\n",
              "                        <td id=\"T_6839a1de_c2bb_11ea_84f7_0242ac1c0002row10_col17\" class=\"data row10 col17\" >0.985231</td>\n",
              "                        <td id=\"T_6839a1de_c2bb_11ea_84f7_0242ac1c0002row10_col18\" class=\"data row10 col18\" >-0.985231</td>\n",
              "            </tr>\n",
              "            <tr>\n",
              "                        <th id=\"T_6839a1de_c2bb_11ea_84f7_0242ac1c0002level0_row11\" class=\"row_heading level0 row11\" >horsepower</th>\n",
              "                        <td id=\"T_6839a1de_c2bb_11ea_84f7_0242ac1c0002row11_col0\" class=\"data row11 col0\" >0.075819</td>\n",
              "                        <td id=\"T_6839a1de_c2bb_11ea_84f7_0242ac1c0002row11_col1\" class=\"data row11 col1\" >0.217299</td>\n",
              "                        <td id=\"T_6839a1de_c2bb_11ea_84f7_0242ac1c0002row11_col2\" class=\"data row11 col2\" >0.371147</td>\n",
              "                        <td id=\"T_6839a1de_c2bb_11ea_84f7_0242ac1c0002row11_col3\" class=\"data row11 col3\" >0.579821</td>\n",
              "                        <td id=\"T_6839a1de_c2bb_11ea_84f7_0242ac1c0002row11_col4\" class=\"data row11 col4\" >0.615077</td>\n",
              "                        <td id=\"T_6839a1de_c2bb_11ea_84f7_0242ac1c0002row11_col5\" class=\"data row11 col5\" >-0.087027</td>\n",
              "                        <td id=\"T_6839a1de_c2bb_11ea_84f7_0242ac1c0002row11_col6\" class=\"data row11 col6\" >0.757976</td>\n",
              "                        <td id=\"T_6839a1de_c2bb_11ea_84f7_0242ac1c0002row11_col7\" class=\"data row11 col7\" >0.822676</td>\n",
              "                        <td id=\"T_6839a1de_c2bb_11ea_84f7_0242ac1c0002row11_col8\" class=\"data row11 col8\" >0.566936</td>\n",
              "                        <td id=\"T_6839a1de_c2bb_11ea_84f7_0242ac1c0002row11_col9\" class=\"data row11 col9\" >0.098462</td>\n",
              "                        <td id=\"T_6839a1de_c2bb_11ea_84f7_0242ac1c0002row11_col10\" class=\"data row11 col10\" >-0.214514</td>\n",
              "                        <td id=\"T_6839a1de_c2bb_11ea_84f7_0242ac1c0002row11_col11\" class=\"data row11 col11\" >1.000000</td>\n",
              "                        <td id=\"T_6839a1de_c2bb_11ea_84f7_0242ac1c0002row11_col12\" class=\"data row11 col12\" >0.107885</td>\n",
              "                        <td id=\"T_6839a1de_c2bb_11ea_84f7_0242ac1c0002row11_col13\" class=\"data row11 col13\" >-0.822214</td>\n",
              "                        <td id=\"T_6839a1de_c2bb_11ea_84f7_0242ac1c0002row11_col14\" class=\"data row11 col14\" >-0.804575</td>\n",
              "                        <td id=\"T_6839a1de_c2bb_11ea_84f7_0242ac1c0002row11_col15\" class=\"data row11 col15\" >0.809575</td>\n",
              "                        <td id=\"T_6839a1de_c2bb_11ea_84f7_0242ac1c0002row11_col16\" class=\"data row11 col16\" >0.889488</td>\n",
              "                        <td id=\"T_6839a1de_c2bb_11ea_84f7_0242ac1c0002row11_col17\" class=\"data row11 col17\" >-0.169053</td>\n",
              "                        <td id=\"T_6839a1de_c2bb_11ea_84f7_0242ac1c0002row11_col18\" class=\"data row11 col18\" >0.169053</td>\n",
              "            </tr>\n",
              "            <tr>\n",
              "                        <th id=\"T_6839a1de_c2bb_11ea_84f7_0242ac1c0002level0_row12\" class=\"row_heading level0 row12\" >peak-rpm</th>\n",
              "                        <td id=\"T_6839a1de_c2bb_11ea_84f7_0242ac1c0002row12_col0\" class=\"data row12 col0\" >0.279740</td>\n",
              "                        <td id=\"T_6839a1de_c2bb_11ea_84f7_0242ac1c0002row12_col1\" class=\"data row12 col1\" >0.239543</td>\n",
              "                        <td id=\"T_6839a1de_c2bb_11ea_84f7_0242ac1c0002row12_col2\" class=\"data row12 col2\" >-0.360305</td>\n",
              "                        <td id=\"T_6839a1de_c2bb_11ea_84f7_0242ac1c0002row12_col3\" class=\"data row12 col3\" >-0.285970</td>\n",
              "                        <td id=\"T_6839a1de_c2bb_11ea_84f7_0242ac1c0002row12_col4\" class=\"data row12 col4\" >-0.245800</td>\n",
              "                        <td id=\"T_6839a1de_c2bb_11ea_84f7_0242ac1c0002row12_col5\" class=\"data row12 col5\" >-0.309974</td>\n",
              "                        <td id=\"T_6839a1de_c2bb_11ea_84f7_0242ac1c0002row12_col6\" class=\"data row12 col6\" >-0.279361</td>\n",
              "                        <td id=\"T_6839a1de_c2bb_11ea_84f7_0242ac1c0002row12_col7\" class=\"data row12 col7\" >-0.256733</td>\n",
              "                        <td id=\"T_6839a1de_c2bb_11ea_84f7_0242ac1c0002row12_col8\" class=\"data row12 col8\" >-0.267392</td>\n",
              "                        <td id=\"T_6839a1de_c2bb_11ea_84f7_0242ac1c0002row12_col9\" class=\"data row12 col9\" >-0.065713</td>\n",
              "                        <td id=\"T_6839a1de_c2bb_11ea_84f7_0242ac1c0002row12_col10\" class=\"data row12 col10\" >-0.435780</td>\n",
              "                        <td id=\"T_6839a1de_c2bb_11ea_84f7_0242ac1c0002row12_col11\" class=\"data row12 col11\" >0.107885</td>\n",
              "                        <td id=\"T_6839a1de_c2bb_11ea_84f7_0242ac1c0002row12_col12\" class=\"data row12 col12\" >1.000000</td>\n",
              "                        <td id=\"T_6839a1de_c2bb_11ea_84f7_0242ac1c0002row12_col13\" class=\"data row12 col13\" >-0.115413</td>\n",
              "                        <td id=\"T_6839a1de_c2bb_11ea_84f7_0242ac1c0002row12_col14\" class=\"data row12 col14\" >-0.058598</td>\n",
              "                        <td id=\"T_6839a1de_c2bb_11ea_84f7_0242ac1c0002row12_col15\" class=\"data row12 col15\" >-0.101616</td>\n",
              "                        <td id=\"T_6839a1de_c2bb_11ea_84f7_0242ac1c0002row12_col16\" class=\"data row12 col16\" >0.115830</td>\n",
              "                        <td id=\"T_6839a1de_c2bb_11ea_84f7_0242ac1c0002row12_col17\" class=\"data row12 col17\" >-0.475812</td>\n",
              "                        <td id=\"T_6839a1de_c2bb_11ea_84f7_0242ac1c0002row12_col18\" class=\"data row12 col18\" >0.475812</td>\n",
              "            </tr>\n",
              "            <tr>\n",
              "                        <th id=\"T_6839a1de_c2bb_11ea_84f7_0242ac1c0002level0_row13\" class=\"row_heading level0 row13\" >city-mpg</th>\n",
              "                        <td id=\"T_6839a1de_c2bb_11ea_84f7_0242ac1c0002row13_col0\" class=\"data row13 col0\" >-0.035527</td>\n",
              "                        <td id=\"T_6839a1de_c2bb_11ea_84f7_0242ac1c0002row13_col1\" class=\"data row13 col1\" >-0.225016</td>\n",
              "                        <td id=\"T_6839a1de_c2bb_11ea_84f7_0242ac1c0002row13_col2\" class=\"data row13 col2\" >-0.470606</td>\n",
              "                        <td id=\"T_6839a1de_c2bb_11ea_84f7_0242ac1c0002row13_col3\" class=\"data row13 col3\" >-0.665192</td>\n",
              "                        <td id=\"T_6839a1de_c2bb_11ea_84f7_0242ac1c0002row13_col4\" class=\"data row13 col4\" >-0.633531</td>\n",
              "                        <td id=\"T_6839a1de_c2bb_11ea_84f7_0242ac1c0002row13_col5\" class=\"data row13 col5\" >-0.049800</td>\n",
              "                        <td id=\"T_6839a1de_c2bb_11ea_84f7_0242ac1c0002row13_col6\" class=\"data row13 col6\" >-0.749543</td>\n",
              "                        <td id=\"T_6839a1de_c2bb_11ea_84f7_0242ac1c0002row13_col7\" class=\"data row13 col7\" >-0.650546</td>\n",
              "                        <td id=\"T_6839a1de_c2bb_11ea_84f7_0242ac1c0002row13_col8\" class=\"data row13 col8\" >-0.582027</td>\n",
              "                        <td id=\"T_6839a1de_c2bb_11ea_84f7_0242ac1c0002row13_col9\" class=\"data row13 col9\" >-0.034696</td>\n",
              "                        <td id=\"T_6839a1de_c2bb_11ea_84f7_0242ac1c0002row13_col10\" class=\"data row13 col10\" >0.331425</td>\n",
              "                        <td id=\"T_6839a1de_c2bb_11ea_84f7_0242ac1c0002row13_col11\" class=\"data row13 col11\" >-0.822214</td>\n",
              "                        <td id=\"T_6839a1de_c2bb_11ea_84f7_0242ac1c0002row13_col12\" class=\"data row13 col12\" >-0.115413</td>\n",
              "                        <td id=\"T_6839a1de_c2bb_11ea_84f7_0242ac1c0002row13_col13\" class=\"data row13 col13\" >1.000000</td>\n",
              "                        <td id=\"T_6839a1de_c2bb_11ea_84f7_0242ac1c0002row13_col14\" class=\"data row13 col14\" >0.972044</td>\n",
              "                        <td id=\"T_6839a1de_c2bb_11ea_84f7_0242ac1c0002row13_col15\" class=\"data row13 col15\" >-0.686571</td>\n",
              "                        <td id=\"T_6839a1de_c2bb_11ea_84f7_0242ac1c0002row13_col16\" class=\"data row13 col16\" >-0.949713</td>\n",
              "                        <td id=\"T_6839a1de_c2bb_11ea_84f7_0242ac1c0002row13_col17\" class=\"data row13 col17\" >0.265676</td>\n",
              "                        <td id=\"T_6839a1de_c2bb_11ea_84f7_0242ac1c0002row13_col18\" class=\"data row13 col18\" >-0.265676</td>\n",
              "            </tr>\n",
              "            <tr>\n",
              "                        <th id=\"T_6839a1de_c2bb_11ea_84f7_0242ac1c0002level0_row14\" class=\"row_heading level0 row14\" >highway-mpg</th>\n",
              "                        <td id=\"T_6839a1de_c2bb_11ea_84f7_0242ac1c0002row14_col0\" class=\"data row14 col0\" >0.036233</td>\n",
              "                        <td id=\"T_6839a1de_c2bb_11ea_84f7_0242ac1c0002row14_col1\" class=\"data row14 col1\" >-0.181877</td>\n",
              "                        <td id=\"T_6839a1de_c2bb_11ea_84f7_0242ac1c0002row14_col2\" class=\"data row14 col2\" >-0.543304</td>\n",
              "                        <td id=\"T_6839a1de_c2bb_11ea_84f7_0242ac1c0002row14_col3\" class=\"data row14 col3\" >-0.698142</td>\n",
              "                        <td id=\"T_6839a1de_c2bb_11ea_84f7_0242ac1c0002row14_col4\" class=\"data row14 col4\" >-0.680635</td>\n",
              "                        <td id=\"T_6839a1de_c2bb_11ea_84f7_0242ac1c0002row14_col5\" class=\"data row14 col5\" >-0.104812</td>\n",
              "                        <td id=\"T_6839a1de_c2bb_11ea_84f7_0242ac1c0002row14_col6\" class=\"data row14 col6\" >-0.794889</td>\n",
              "                        <td id=\"T_6839a1de_c2bb_11ea_84f7_0242ac1c0002row14_col7\" class=\"data row14 col7\" >-0.679571</td>\n",
              "                        <td id=\"T_6839a1de_c2bb_11ea_84f7_0242ac1c0002row14_col8\" class=\"data row14 col8\" >-0.591309</td>\n",
              "                        <td id=\"T_6839a1de_c2bb_11ea_84f7_0242ac1c0002row14_col9\" class=\"data row14 col9\" >-0.035201</td>\n",
              "                        <td id=\"T_6839a1de_c2bb_11ea_84f7_0242ac1c0002row14_col10\" class=\"data row14 col10\" >0.268465</td>\n",
              "                        <td id=\"T_6839a1de_c2bb_11ea_84f7_0242ac1c0002row14_col11\" class=\"data row14 col11\" >-0.804575</td>\n",
              "                        <td id=\"T_6839a1de_c2bb_11ea_84f7_0242ac1c0002row14_col12\" class=\"data row14 col12\" >-0.058598</td>\n",
              "                        <td id=\"T_6839a1de_c2bb_11ea_84f7_0242ac1c0002row14_col13\" class=\"data row14 col13\" >0.972044</td>\n",
              "                        <td id=\"T_6839a1de_c2bb_11ea_84f7_0242ac1c0002row14_col14\" class=\"data row14 col14\" >1.000000</td>\n",
              "                        <td id=\"T_6839a1de_c2bb_11ea_84f7_0242ac1c0002row14_col15\" class=\"data row14 col15\" >-0.704692</td>\n",
              "                        <td id=\"T_6839a1de_c2bb_11ea_84f7_0242ac1c0002row14_col16\" class=\"data row14 col16\" >-0.930028</td>\n",
              "                        <td id=\"T_6839a1de_c2bb_11ea_84f7_0242ac1c0002row14_col17\" class=\"data row14 col17\" >0.198690</td>\n",
              "                        <td id=\"T_6839a1de_c2bb_11ea_84f7_0242ac1c0002row14_col18\" class=\"data row14 col18\" >-0.198690</td>\n",
              "            </tr>\n",
              "            <tr>\n",
              "                        <th id=\"T_6839a1de_c2bb_11ea_84f7_0242ac1c0002level0_row15\" class=\"row_heading level0 row15\" >price</th>\n",
              "                        <td id=\"T_6839a1de_c2bb_11ea_84f7_0242ac1c0002row15_col0\" class=\"data row15 col0\" >-0.082391</td>\n",
              "                        <td id=\"T_6839a1de_c2bb_11ea_84f7_0242ac1c0002row15_col1\" class=\"data row15 col1\" >0.133999</td>\n",
              "                        <td id=\"T_6839a1de_c2bb_11ea_84f7_0242ac1c0002row15_col2\" class=\"data row15 col2\" >0.584642</td>\n",
              "                        <td id=\"T_6839a1de_c2bb_11ea_84f7_0242ac1c0002row15_col3\" class=\"data row15 col3\" >0.690628</td>\n",
              "                        <td id=\"T_6839a1de_c2bb_11ea_84f7_0242ac1c0002row15_col4\" class=\"data row15 col4\" >0.751265</td>\n",
              "                        <td id=\"T_6839a1de_c2bb_11ea_84f7_0242ac1c0002row15_col5\" class=\"data row15 col5\" >0.135486</td>\n",
              "                        <td id=\"T_6839a1de_c2bb_11ea_84f7_0242ac1c0002row15_col6\" class=\"data row15 col6\" >0.834415</td>\n",
              "                        <td id=\"T_6839a1de_c2bb_11ea_84f7_0242ac1c0002row15_col7\" class=\"data row15 col7\" >0.872335</td>\n",
              "                        <td id=\"T_6839a1de_c2bb_11ea_84f7_0242ac1c0002row15_col8\" class=\"data row15 col8\" >0.543155</td>\n",
              "                        <td id=\"T_6839a1de_c2bb_11ea_84f7_0242ac1c0002row15_col9\" class=\"data row15 col9\" >0.082310</td>\n",
              "                        <td id=\"T_6839a1de_c2bb_11ea_84f7_0242ac1c0002row15_col10\" class=\"data row15 col10\" >0.071107</td>\n",
              "                        <td id=\"T_6839a1de_c2bb_11ea_84f7_0242ac1c0002row15_col11\" class=\"data row15 col11\" >0.809575</td>\n",
              "                        <td id=\"T_6839a1de_c2bb_11ea_84f7_0242ac1c0002row15_col12\" class=\"data row15 col12\" >-0.101616</td>\n",
              "                        <td id=\"T_6839a1de_c2bb_11ea_84f7_0242ac1c0002row15_col13\" class=\"data row15 col13\" >-0.686571</td>\n",
              "                        <td id=\"T_6839a1de_c2bb_11ea_84f7_0242ac1c0002row15_col14\" class=\"data row15 col14\" >-0.704692</td>\n",
              "                        <td id=\"T_6839a1de_c2bb_11ea_84f7_0242ac1c0002row15_col15\" class=\"data row15 col15\" >1.000000</td>\n",
              "                        <td id=\"T_6839a1de_c2bb_11ea_84f7_0242ac1c0002row15_col16\" class=\"data row15 col16\" >0.789898</td>\n",
              "                        <td id=\"T_6839a1de_c2bb_11ea_84f7_0242ac1c0002row15_col17\" class=\"data row15 col17\" >0.110326</td>\n",
              "                        <td id=\"T_6839a1de_c2bb_11ea_84f7_0242ac1c0002row15_col18\" class=\"data row15 col18\" >-0.110326</td>\n",
              "            </tr>\n",
              "            <tr>\n",
              "                        <th id=\"T_6839a1de_c2bb_11ea_84f7_0242ac1c0002level0_row16\" class=\"row_heading level0 row16\" >city-L/100km</th>\n",
              "                        <td id=\"T_6839a1de_c2bb_11ea_84f7_0242ac1c0002row16_col0\" class=\"data row16 col0\" >0.066171</td>\n",
              "                        <td id=\"T_6839a1de_c2bb_11ea_84f7_0242ac1c0002row16_col1\" class=\"data row16 col1\" >0.238567</td>\n",
              "                        <td id=\"T_6839a1de_c2bb_11ea_84f7_0242ac1c0002row16_col2\" class=\"data row16 col2\" >0.476153</td>\n",
              "                        <td id=\"T_6839a1de_c2bb_11ea_84f7_0242ac1c0002row16_col3\" class=\"data row16 col3\" >0.657373</td>\n",
              "                        <td id=\"T_6839a1de_c2bb_11ea_84f7_0242ac1c0002row16_col4\" class=\"data row16 col4\" >0.673363</td>\n",
              "                        <td id=\"T_6839a1de_c2bb_11ea_84f7_0242ac1c0002row16_col5\" class=\"data row16 col5\" >0.003811</td>\n",
              "                        <td id=\"T_6839a1de_c2bb_11ea_84f7_0242ac1c0002row16_col6\" class=\"data row16 col6\" >0.785353</td>\n",
              "                        <td id=\"T_6839a1de_c2bb_11ea_84f7_0242ac1c0002row16_col7\" class=\"data row16 col7\" >0.745059</td>\n",
              "                        <td id=\"T_6839a1de_c2bb_11ea_84f7_0242ac1c0002row16_col8\" class=\"data row16 col8\" >0.554610</td>\n",
              "                        <td id=\"T_6839a1de_c2bb_11ea_84f7_0242ac1c0002row16_col9\" class=\"data row16 col9\" >0.037300</td>\n",
              "                        <td id=\"T_6839a1de_c2bb_11ea_84f7_0242ac1c0002row16_col10\" class=\"data row16 col10\" >-0.299372</td>\n",
              "                        <td id=\"T_6839a1de_c2bb_11ea_84f7_0242ac1c0002row16_col11\" class=\"data row16 col11\" >0.889488</td>\n",
              "                        <td id=\"T_6839a1de_c2bb_11ea_84f7_0242ac1c0002row16_col12\" class=\"data row16 col12\" >0.115830</td>\n",
              "                        <td id=\"T_6839a1de_c2bb_11ea_84f7_0242ac1c0002row16_col13\" class=\"data row16 col13\" >-0.949713</td>\n",
              "                        <td id=\"T_6839a1de_c2bb_11ea_84f7_0242ac1c0002row16_col14\" class=\"data row16 col14\" >-0.930028</td>\n",
              "                        <td id=\"T_6839a1de_c2bb_11ea_84f7_0242ac1c0002row16_col15\" class=\"data row16 col15\" >0.789898</td>\n",
              "                        <td id=\"T_6839a1de_c2bb_11ea_84f7_0242ac1c0002row16_col16\" class=\"data row16 col16\" >1.000000</td>\n",
              "                        <td id=\"T_6839a1de_c2bb_11ea_84f7_0242ac1c0002row16_col17\" class=\"data row16 col17\" >-0.241282</td>\n",
              "                        <td id=\"T_6839a1de_c2bb_11ea_84f7_0242ac1c0002row16_col18\" class=\"data row16 col18\" >0.241282</td>\n",
              "            </tr>\n",
              "            <tr>\n",
              "                        <th id=\"T_6839a1de_c2bb_11ea_84f7_0242ac1c0002level0_row17\" class=\"row_heading level0 row17\" >diesel</th>\n",
              "                        <td id=\"T_6839a1de_c2bb_11ea_84f7_0242ac1c0002row17_col0\" class=\"data row17 col0\" >-0.196735</td>\n",
              "                        <td id=\"T_6839a1de_c2bb_11ea_84f7_0242ac1c0002row17_col1\" class=\"data row17 col1\" >-0.101546</td>\n",
              "                        <td id=\"T_6839a1de_c2bb_11ea_84f7_0242ac1c0002row17_col2\" class=\"data row17 col2\" >0.307237</td>\n",
              "                        <td id=\"T_6839a1de_c2bb_11ea_84f7_0242ac1c0002row17_col3\" class=\"data row17 col3\" >0.211187</td>\n",
              "                        <td id=\"T_6839a1de_c2bb_11ea_84f7_0242ac1c0002row17_col4\" class=\"data row17 col4\" >0.244356</td>\n",
              "                        <td id=\"T_6839a1de_c2bb_11ea_84f7_0242ac1c0002row17_col5\" class=\"data row17 col5\" >0.281578</td>\n",
              "                        <td id=\"T_6839a1de_c2bb_11ea_84f7_0242ac1c0002row17_col6\" class=\"data row17 col6\" >0.221046</td>\n",
              "                        <td id=\"T_6839a1de_c2bb_11ea_84f7_0242ac1c0002row17_col7\" class=\"data row17 col7\" >0.070779</td>\n",
              "                        <td id=\"T_6839a1de_c2bb_11ea_84f7_0242ac1c0002row17_col8\" class=\"data row17 col8\" >0.054458</td>\n",
              "                        <td id=\"T_6839a1de_c2bb_11ea_84f7_0242ac1c0002row17_col9\" class=\"data row17 col9\" >0.241303</td>\n",
              "                        <td id=\"T_6839a1de_c2bb_11ea_84f7_0242ac1c0002row17_col10\" class=\"data row17 col10\" >0.985231</td>\n",
              "                        <td id=\"T_6839a1de_c2bb_11ea_84f7_0242ac1c0002row17_col11\" class=\"data row17 col11\" >-0.169053</td>\n",
              "                        <td id=\"T_6839a1de_c2bb_11ea_84f7_0242ac1c0002row17_col12\" class=\"data row17 col12\" >-0.475812</td>\n",
              "                        <td id=\"T_6839a1de_c2bb_11ea_84f7_0242ac1c0002row17_col13\" class=\"data row17 col13\" >0.265676</td>\n",
              "                        <td id=\"T_6839a1de_c2bb_11ea_84f7_0242ac1c0002row17_col14\" class=\"data row17 col14\" >0.198690</td>\n",
              "                        <td id=\"T_6839a1de_c2bb_11ea_84f7_0242ac1c0002row17_col15\" class=\"data row17 col15\" >0.110326</td>\n",
              "                        <td id=\"T_6839a1de_c2bb_11ea_84f7_0242ac1c0002row17_col16\" class=\"data row17 col16\" >-0.241282</td>\n",
              "                        <td id=\"T_6839a1de_c2bb_11ea_84f7_0242ac1c0002row17_col17\" class=\"data row17 col17\" >1.000000</td>\n",
              "                        <td id=\"T_6839a1de_c2bb_11ea_84f7_0242ac1c0002row17_col18\" class=\"data row17 col18\" >-1.000000</td>\n",
              "            </tr>\n",
              "            <tr>\n",
              "                        <th id=\"T_6839a1de_c2bb_11ea_84f7_0242ac1c0002level0_row18\" class=\"row_heading level0 row18\" >gas</th>\n",
              "                        <td id=\"T_6839a1de_c2bb_11ea_84f7_0242ac1c0002row18_col0\" class=\"data row18 col0\" >0.196735</td>\n",
              "                        <td id=\"T_6839a1de_c2bb_11ea_84f7_0242ac1c0002row18_col1\" class=\"data row18 col1\" >0.101546</td>\n",
              "                        <td id=\"T_6839a1de_c2bb_11ea_84f7_0242ac1c0002row18_col2\" class=\"data row18 col2\" >-0.307237</td>\n",
              "                        <td id=\"T_6839a1de_c2bb_11ea_84f7_0242ac1c0002row18_col3\" class=\"data row18 col3\" >-0.211187</td>\n",
              "                        <td id=\"T_6839a1de_c2bb_11ea_84f7_0242ac1c0002row18_col4\" class=\"data row18 col4\" >-0.244356</td>\n",
              "                        <td id=\"T_6839a1de_c2bb_11ea_84f7_0242ac1c0002row18_col5\" class=\"data row18 col5\" >-0.281578</td>\n",
              "                        <td id=\"T_6839a1de_c2bb_11ea_84f7_0242ac1c0002row18_col6\" class=\"data row18 col6\" >-0.221046</td>\n",
              "                        <td id=\"T_6839a1de_c2bb_11ea_84f7_0242ac1c0002row18_col7\" class=\"data row18 col7\" >-0.070779</td>\n",
              "                        <td id=\"T_6839a1de_c2bb_11ea_84f7_0242ac1c0002row18_col8\" class=\"data row18 col8\" >-0.054458</td>\n",
              "                        <td id=\"T_6839a1de_c2bb_11ea_84f7_0242ac1c0002row18_col9\" class=\"data row18 col9\" >-0.241303</td>\n",
              "                        <td id=\"T_6839a1de_c2bb_11ea_84f7_0242ac1c0002row18_col10\" class=\"data row18 col10\" >-0.985231</td>\n",
              "                        <td id=\"T_6839a1de_c2bb_11ea_84f7_0242ac1c0002row18_col11\" class=\"data row18 col11\" >0.169053</td>\n",
              "                        <td id=\"T_6839a1de_c2bb_11ea_84f7_0242ac1c0002row18_col12\" class=\"data row18 col12\" >0.475812</td>\n",
              "                        <td id=\"T_6839a1de_c2bb_11ea_84f7_0242ac1c0002row18_col13\" class=\"data row18 col13\" >-0.265676</td>\n",
              "                        <td id=\"T_6839a1de_c2bb_11ea_84f7_0242ac1c0002row18_col14\" class=\"data row18 col14\" >-0.198690</td>\n",
              "                        <td id=\"T_6839a1de_c2bb_11ea_84f7_0242ac1c0002row18_col15\" class=\"data row18 col15\" >-0.110326</td>\n",
              "                        <td id=\"T_6839a1de_c2bb_11ea_84f7_0242ac1c0002row18_col16\" class=\"data row18 col16\" >0.241282</td>\n",
              "                        <td id=\"T_6839a1de_c2bb_11ea_84f7_0242ac1c0002row18_col17\" class=\"data row18 col17\" >-1.000000</td>\n",
              "                        <td id=\"T_6839a1de_c2bb_11ea_84f7_0242ac1c0002row18_col18\" class=\"data row18 col18\" >1.000000</td>\n",
              "            </tr>\n",
              "    </tbody></table>"
            ],
            "text/plain": [
              "<pandas.io.formats.style.Styler at 0x7f65ca3296d8>"
            ]
          },
          "metadata": {
            "tags": []
          },
          "execution_count": 78
        }
      ]
    },
    {
      "cell_type": "markdown",
      "metadata": {
        "id": "JVW7ZQbdyrC7",
        "colab_type": "text"
      },
      "source": [
        "The highest positive correlation for the price variable was found with the engine-size variable which is around 0.87 whereas the highest negative correlation was found to be with the highway-mpg variable."
      ]
    },
    {
      "cell_type": "markdown",
      "metadata": {
        "id": "T-FxNH6t_8rU",
        "colab_type": "text"
      },
      "source": [
        "**Print categorical variables**"
      ]
    },
    {
      "cell_type": "code",
      "metadata": {
        "id": "2XG-Yxon_uIJ",
        "colab_type": "code",
        "colab": {
          "base_uri": "https://localhost:8080/",
          "height": 85
        },
        "outputId": "59e320f1-56a9-461a-f15f-40363e01cf15"
      },
      "source": [
        "print(data.select_dtypes('object').columns)"
      ],
      "execution_count": 79,
      "outputs": [
        {
          "output_type": "stream",
          "text": [
            "Index(['make', 'aspiration', 'num-of-doors', 'body-style', 'drive-wheels',\n",
            "       'engine-location', 'engine-type', 'num-of-cylinders', 'fuel-system',\n",
            "       'horsepower-binned'],\n",
            "      dtype='object')\n"
          ],
          "name": "stdout"
        }
      ]
    },
    {
      "cell_type": "code",
      "metadata": {
        "id": "Iw_8O7a_AJqL",
        "colab_type": "code",
        "colab": {
          "base_uri": "https://localhost:8080/",
          "height": 296
        },
        "outputId": "96167c2a-3c58-4546-f9c1-8a5df33c088f"
      },
      "source": [
        "sns.boxplot(data['make'], data['price'])"
      ],
      "execution_count": 80,
      "outputs": [
        {
          "output_type": "execute_result",
          "data": {
            "text/plain": [
              "<matplotlib.axes._subplots.AxesSubplot at 0x7f65ca31d1d0>"
            ]
          },
          "metadata": {
            "tags": []
          },
          "execution_count": 80
        },
        {
          "output_type": "display_data",
          "data": {
            "image/png": "[encoded data removed]",
            "text/plain": [
              "<Figure size 432x288 with 1 Axes>"
            ]
          },
          "metadata": {
            "tags": [],
            "needs_background": "light"
          }
        }
      ]
    },
    {
      "cell_type": "code",
      "metadata": {
        "id": "H7RGlSPdANPj",
        "colab_type": "code",
        "colab": {
          "base_uri": "https://localhost:8080/",
          "height": 296
        },
        "outputId": "35336b80-8b7a-4d9e-fd07-5b1c4f7e61d1"
      },
      "source": [
        "sns.boxplot(data['num-of-doors'], data['price'])"
      ],
      "execution_count": 81,
      "outputs": [
        {
          "output_type": "execute_result",
          "data": {
            "text/plain": [
              "<matplotlib.axes._subplots.AxesSubplot at 0x7f65ca084320>"
            ]
          },
          "metadata": {
            "tags": []
          },
          "execution_count": 81
        },
        {
          "output_type": "display_data",
          "data": {
            "image/png": "[encoded data removed]",
            "text/plain": [
              "<Figure size 432x288 with 1 Axes>"
            ]
          },
          "metadata": {
            "tags": [],
            "needs_background": "light"
          }
        }
      ]
    },
    {
      "cell_type": "code",
      "metadata": {
        "id": "DF1MauaU52O5",
        "colab_type": "code",
        "colab": {
          "base_uri": "https://localhost:8080/",
          "height": 296
        },
        "outputId": "04f0a0bc-e2d0-4f83-eb76-9a4bce1b2858"
      },
      "source": [
        "sns.boxplot(data['body-style'], data['price'])"
      ],
      "execution_count": 82,
      "outputs": [
        {
          "output_type": "execute_result",
          "data": {
            "text/plain": [
              "<matplotlib.axes._subplots.AxesSubplot at 0x7f65ca13b898>"
            ]
          },
          "metadata": {
            "tags": []
          },
          "execution_count": 82
        },
        {
          "output_type": "display_data",
          "data": {
            "image/png": "[encoded data removed]",
            "text/plain": [
              "<Figure size 432x288 with 1 Axes>"
            ]
          },
          "metadata": {
            "tags": [],
            "needs_background": "light"
          }
        }
      ]
    },
    {
      "cell_type": "code",
      "metadata": {
        "id": "39X9-Wun7IiQ",
        "colab_type": "code",
        "colab": {
          "base_uri": "https://localhost:8080/",
          "height": 296
        },
        "outputId": "901baf0a-114d-4273-866f-3a50d85a095f"
      },
      "source": [
        "sns.boxplot(data['aspiration'], data['price'])"
      ],
      "execution_count": 83,
      "outputs": [
        {
          "output_type": "execute_result",
          "data": {
            "text/plain": [
              "<matplotlib.axes._subplots.AxesSubplot at 0x7f65ca3299b0>"
            ]
          },
          "metadata": {
            "tags": []
          },
          "execution_count": 83
        },
        {
          "output_type": "display_data",
          "data": {
            "image/png": "[encoded data removed]",
            "text/plain": [
              "<Figure size 432x288 with 1 Axes>"
            ]
          },
          "metadata": {
            "tags": [],
            "needs_background": "light"
          }
        }
      ]
    },
    {
      "cell_type": "code",
      "metadata": {
        "id": "fkgI2HhxAWJN",
        "colab_type": "code",
        "colab": {
          "base_uri": "https://localhost:8080/",
          "height": 296
        },
        "outputId": "cb57357c-a791-48f9-ce3d-f9b6783bf08b"
      },
      "source": [
        "sns.boxplot(data['drive-wheels'], data['price'])"
      ],
      "execution_count": 84,
      "outputs": [
        {
          "output_type": "execute_result",
          "data": {
            "text/plain": [
              "<matplotlib.axes._subplots.AxesSubplot at 0x7f65c9f47588>"
            ]
          },
          "metadata": {
            "tags": []
          },
          "execution_count": 84
        },
        {
          "output_type": "display_data",
          "data": {
            "image/png": "[encoded data removed]",
            "text/plain": [
              "<Figure size 432x288 with 1 Axes>"
            ]
          },
          "metadata": {
            "tags": [],
            "needs_background": "light"
          }
        }
      ]
    },
    {
      "cell_type": "code",
      "metadata": {
        "id": "dixARadHAZFF",
        "colab_type": "code",
        "colab": {
          "base_uri": "https://localhost:8080/",
          "height": 296
        },
        "outputId": "9deaf98e-ac4d-4169-ac58-509e41ff4098"
      },
      "source": [
        "sns.boxplot(data['engine-location'], data['price'])"
      ],
      "execution_count": 85,
      "outputs": [
        {
          "output_type": "execute_result",
          "data": {
            "text/plain": [
              "<matplotlib.axes._subplots.AxesSubplot at 0x7f65c9f23240>"
            ]
          },
          "metadata": {
            "tags": []
          },
          "execution_count": 85
        },
        {
          "output_type": "display_data",
          "data": {
            "image/png": "[encoded data removed]",
            "text/plain": [
              "<Figure size 432x288 with 1 Axes>"
            ]
          },
          "metadata": {
            "tags": [],
            "needs_background": "light"
          }
        }
      ]
    },
    {
      "cell_type": "code",
      "metadata": {
        "id": "silYTY29Aewx",
        "colab_type": "code",
        "colab": {
          "base_uri": "https://localhost:8080/",
          "height": 296
        },
        "outputId": "f1b0b319-9e7f-42af-9188-739ca75475a3"
      },
      "source": [
        "sns.boxplot(data['num-of-cylinders'], data['price'])"
      ],
      "execution_count": 86,
      "outputs": [
        {
          "output_type": "execute_result",
          "data": {
            "text/plain": [
              "<matplotlib.axes._subplots.AxesSubplot at 0x7f65c9e44eb8>"
            ]
          },
          "metadata": {
            "tags": []
          },
          "execution_count": 86
        },
        {
          "output_type": "display_data",
          "data": {
            "image/png": "[encoded data removed]",
            "text/plain": [
              "<Figure size 432x288 with 1 Axes>"
            ]
          },
          "metadata": {
            "tags": [],
            "needs_background": "light"
          }
        }
      ]
    },
    {
      "cell_type": "code",
      "metadata": {
        "id": "ZYztoqEK7Wgz",
        "colab_type": "code",
        "colab": {
          "base_uri": "https://localhost:8080/",
          "height": 296
        },
        "outputId": "5d130b78-423d-41d2-c292-115dde3c5152"
      },
      "source": [
        "sns.boxplot(data['engine-type'], data['price'])"
      ],
      "execution_count": 87,
      "outputs": [
        {
          "output_type": "execute_result",
          "data": {
            "text/plain": [
              "<matplotlib.axes._subplots.AxesSubplot at 0x7f65c9d25860>"
            ]
          },
          "metadata": {
            "tags": []
          },
          "execution_count": 87
        },
        {
          "output_type": "display_data",
          "data": {
            "image/png": "[encoded data removed]",
            "text/plain": [
              "<Figure size 432x288 with 1 Axes>"
            ]
          },
          "metadata": {
            "tags": [],
            "needs_background": "light"
          }
        }
      ]
    },
    {
      "cell_type": "code",
      "metadata": {
        "id": "Jyu6XpbL7x3j",
        "colab_type": "code",
        "colab": {
          "base_uri": "https://localhost:8080/",
          "height": 296
        },
        "outputId": "f481f488-2fee-440e-8395-943ff815fe2b"
      },
      "source": [
        "sns.boxplot(data['horsepower-binned'], data['price'])"
      ],
      "execution_count": 88,
      "outputs": [
        {
          "output_type": "execute_result",
          "data": {
            "text/plain": [
              "<matplotlib.axes._subplots.AxesSubplot at 0x7f65c9c07780>"
            ]
          },
          "metadata": {
            "tags": []
          },
          "execution_count": 88
        },
        {
          "output_type": "display_data",
          "data": {
            "image/png": "[encoded data removed]",
            "text/plain": [
              "<Figure size 432x288 with 1 Axes>"
            ]
          },
          "metadata": {
            "tags": [],
            "needs_background": "light"
          }
        }
      ]
    },
    {
      "cell_type": "code",
      "metadata": {
        "id": "fHpfA-5z7mhO",
        "colab_type": "code",
        "colab": {
          "base_uri": "https://localhost:8080/",
          "height": 296
        },
        "outputId": "c49a0fe2-4201-4072-889e-2d4d8906b8c9"
      },
      "source": [
        "sns.boxplot(data['fuel-system'], data['price'])"
      ],
      "execution_count": 89,
      "outputs": [
        {
          "output_type": "execute_result",
          "data": {
            "text/plain": [
              "<matplotlib.axes._subplots.AxesSubplot at 0x7f65c9bfa240>"
            ]
          },
          "metadata": {
            "tags": []
          },
          "execution_count": 89
        },
        {
          "output_type": "display_data",
          "data": {
            "image/png": "[encoded data removed]",
            "text/plain": [
              "<Figure size 432x288 with 1 Axes>"
            ]
          },
          "metadata": {
            "tags": [],
            "needs_background": "light"
          }
        }
      ]
    },
    {
      "cell_type": "code",
      "metadata": {
        "id": "zlOxqqOg7h1V",
        "colab_type": "code",
        "colab": {
          "base_uri": "https://localhost:8080/",
          "height": 296
        },
        "outputId": "f50ae81c-41a0-4fb3-8b15-dde427d8f3a8"
      },
      "source": [
        "sns.boxplot(data['drive-wheels'], data['price'])"
      ],
      "execution_count": 90,
      "outputs": [
        {
          "output_type": "execute_result",
          "data": {
            "text/plain": [
              "<matplotlib.axes._subplots.AxesSubplot at 0x7f65c9a85ac8>"
            ]
          },
          "metadata": {
            "tags": []
          },
          "execution_count": 90
        },
        {
          "output_type": "display_data",
          "data": {
            "image/png": "[encoded data removed]",
            "text/plain": [
              "<Figure size 432x288 with 1 Axes>"
            ]
          },
          "metadata": {
            "tags": [],
            "needs_background": "light"
          }
        }
      ]
    },
    {
      "cell_type": "markdown",
      "metadata": {
        "id": "_elfkw9EU_s9",
        "colab_type": "text"
      },
      "source": [
        "The boxplots suggests that there are outliers in all of the categorical variables. Also, there exists skewness in certain categorical values. Therefore, further pre-processing is required to deal with the skewness as well as the outliers before performing predictions."
      ]
    },
    {
      "cell_type": "markdown",
      "metadata": {
        "id": "8YRlTK1OL56u",
        "colab_type": "text"
      },
      "source": [
        "**Describe Numeric Variables**"
      ]
    },
    {
      "cell_type": "code",
      "metadata": {
        "id": "XdCNJfvU8Cmh",
        "colab_type": "code",
        "colab": {
          "base_uri": "https://localhost:8080/",
          "height": 334
        },
        "outputId": "9ea0cace-c681-4e76-d9a0-0b2e7aa82a09"
      },
      "source": [
        "data.select_dtype('float64').describe()"
      ],
      "execution_count": 91,
      "outputs": [
        {
          "output_type": "execute_result",
          "data": {
            "text/html": [
              "<div>\n",
              "<style scoped>\n",
              "    .dataframe tbody tr th:only-of-type {\n",
              "        vertical-align: middle;\n",
              "    }\n",
              "\n",
              "    .dataframe tbody tr th {\n",
              "        vertical-align: top;\n",
              "    }\n",
              "\n",
              "    .dataframe thead th {\n",
              "        text-align: right;\n",
              "    }\n",
              "</style>\n",
              "<table border=\"1\" class=\"dataframe\">\n",
              "  <thead>\n",
              "    <tr style=\"text-align: right;\">\n",
              "      <th></th>\n",
              "      <th>symboling</th>\n",
              "      <th>normalized-losses</th>\n",
              "      <th>wheel-base</th>\n",
              "      <th>length</th>\n",
              "      <th>width</th>\n",
              "      <th>height</th>\n",
              "      <th>curb-weight</th>\n",
              "      <th>engine-size</th>\n",
              "      <th>bore</th>\n",
              "      <th>stroke</th>\n",
              "      <th>compression-ratio</th>\n",
              "      <th>horsepower</th>\n",
              "      <th>peak-rpm</th>\n",
              "      <th>city-mpg</th>\n",
              "      <th>highway-mpg</th>\n",
              "      <th>price</th>\n",
              "      <th>city-L/100km</th>\n",
              "      <th>diesel</th>\n",
              "      <th>gas</th>\n",
              "    </tr>\n",
              "  </thead>\n",
              "  <tbody>\n",
              "    <tr>\n",
              "      <th>count</th>\n",
              "      <td>201.000000</td>\n",
              "      <td>201.00000</td>\n",
              "      <td>201.000000</td>\n",
              "      <td>201.000000</td>\n",
              "      <td>201.000000</td>\n",
              "      <td>201.000000</td>\n",
              "      <td>201.000000</td>\n",
              "      <td>201.000000</td>\n",
              "      <td>201.000000</td>\n",
              "      <td>197.000000</td>\n",
              "      <td>201.000000</td>\n",
              "      <td>201.000000</td>\n",
              "      <td>201.000000</td>\n",
              "      <td>201.000000</td>\n",
              "      <td>201.000000</td>\n",
              "      <td>201.000000</td>\n",
              "      <td>201.000000</td>\n",
              "      <td>201.000000</td>\n",
              "      <td>201.000000</td>\n",
              "    </tr>\n",
              "    <tr>\n",
              "      <th>mean</th>\n",
              "      <td>0.840796</td>\n",
              "      <td>122.00000</td>\n",
              "      <td>98.797015</td>\n",
              "      <td>0.837102</td>\n",
              "      <td>0.915126</td>\n",
              "      <td>53.766667</td>\n",
              "      <td>2555.666667</td>\n",
              "      <td>126.875622</td>\n",
              "      <td>3.330692</td>\n",
              "      <td>3.256904</td>\n",
              "      <td>10.164279</td>\n",
              "      <td>103.405534</td>\n",
              "      <td>5117.665368</td>\n",
              "      <td>25.179104</td>\n",
              "      <td>30.686567</td>\n",
              "      <td>13207.129353</td>\n",
              "      <td>9.944145</td>\n",
              "      <td>0.099502</td>\n",
              "      <td>0.900498</td>\n",
              "    </tr>\n",
              "    <tr>\n",
              "      <th>std</th>\n",
              "      <td>1.254802</td>\n",
              "      <td>31.99625</td>\n",
              "      <td>6.066366</td>\n",
              "      <td>0.059213</td>\n",
              "      <td>0.029187</td>\n",
              "      <td>2.447822</td>\n",
              "      <td>517.296727</td>\n",
              "      <td>41.546834</td>\n",
              "      <td>0.268072</td>\n",
              "      <td>0.319256</td>\n",
              "      <td>4.004965</td>\n",
              "      <td>37.365700</td>\n",
              "      <td>478.113805</td>\n",
              "      <td>6.423220</td>\n",
              "      <td>6.815150</td>\n",
              "      <td>7947.066342</td>\n",
              "      <td>2.534599</td>\n",
              "      <td>0.300083</td>\n",
              "      <td>0.300083</td>\n",
              "    </tr>\n",
              "    <tr>\n",
              "      <th>min</th>\n",
              "      <td>-2.000000</td>\n",
              "      <td>65.00000</td>\n",
              "      <td>86.600000</td>\n",
              "      <td>0.678039</td>\n",
              "      <td>0.837500</td>\n",
              "      <td>47.800000</td>\n",
              "      <td>1488.000000</td>\n",
              "      <td>61.000000</td>\n",
              "      <td>2.540000</td>\n",
              "      <td>2.070000</td>\n",
              "      <td>7.000000</td>\n",
              "      <td>48.000000</td>\n",
              "      <td>4150.000000</td>\n",
              "      <td>13.000000</td>\n",
              "      <td>16.000000</td>\n",
              "      <td>5118.000000</td>\n",
              "      <td>4.795918</td>\n",
              "      <td>0.000000</td>\n",
              "      <td>0.000000</td>\n",
              "    </tr>\n",
              "    <tr>\n",
              "      <th>25%</th>\n",
              "      <td>0.000000</td>\n",
              "      <td>101.00000</td>\n",
              "      <td>94.500000</td>\n",
              "      <td>0.801538</td>\n",
              "      <td>0.890278</td>\n",
              "      <td>52.000000</td>\n",
              "      <td>2169.000000</td>\n",
              "      <td>98.000000</td>\n",
              "      <td>3.150000</td>\n",
              "      <td>3.110000</td>\n",
              "      <td>8.600000</td>\n",
              "      <td>70.000000</td>\n",
              "      <td>4800.000000</td>\n",
              "      <td>19.000000</td>\n",
              "      <td>25.000000</td>\n",
              "      <td>7775.000000</td>\n",
              "      <td>7.833333</td>\n",
              "      <td>0.000000</td>\n",
              "      <td>1.000000</td>\n",
              "    </tr>\n",
              "    <tr>\n",
              "      <th>50%</th>\n",
              "      <td>1.000000</td>\n",
              "      <td>122.00000</td>\n",
              "      <td>97.000000</td>\n",
              "      <td>0.832292</td>\n",
              "      <td>0.909722</td>\n",
              "      <td>54.100000</td>\n",
              "      <td>2414.000000</td>\n",
              "      <td>120.000000</td>\n",
              "      <td>3.310000</td>\n",
              "      <td>3.290000</td>\n",
              "      <td>9.000000</td>\n",
              "      <td>95.000000</td>\n",
              "      <td>5125.369458</td>\n",
              "      <td>24.000000</td>\n",
              "      <td>30.000000</td>\n",
              "      <td>10295.000000</td>\n",
              "      <td>9.791667</td>\n",
              "      <td>0.000000</td>\n",
              "      <td>1.000000</td>\n",
              "    </tr>\n",
              "    <tr>\n",
              "      <th>75%</th>\n",
              "      <td>2.000000</td>\n",
              "      <td>137.00000</td>\n",
              "      <td>102.400000</td>\n",
              "      <td>0.881788</td>\n",
              "      <td>0.925000</td>\n",
              "      <td>55.500000</td>\n",
              "      <td>2926.000000</td>\n",
              "      <td>141.000000</td>\n",
              "      <td>3.580000</td>\n",
              "      <td>3.410000</td>\n",
              "      <td>9.400000</td>\n",
              "      <td>116.000000</td>\n",
              "      <td>5500.000000</td>\n",
              "      <td>30.000000</td>\n",
              "      <td>34.000000</td>\n",
              "      <td>16500.000000</td>\n",
              "      <td>12.368421</td>\n",
              "      <td>0.000000</td>\n",
              "      <td>1.000000</td>\n",
              "    </tr>\n",
              "    <tr>\n",
              "      <th>max</th>\n",
              "      <td>3.000000</td>\n",
              "      <td>256.00000</td>\n",
              "      <td>120.900000</td>\n",
              "      <td>1.000000</td>\n",
              "      <td>1.000000</td>\n",
              "      <td>59.800000</td>\n",
              "      <td>4066.000000</td>\n",
              "      <td>326.000000</td>\n",
              "      <td>3.940000</td>\n",
              "      <td>4.170000</td>\n",
              "      <td>23.000000</td>\n",
              "      <td>262.000000</td>\n",
              "      <td>6600.000000</td>\n",
              "      <td>49.000000</td>\n",
              "      <td>54.000000</td>\n",
              "      <td>45400.000000</td>\n",
              "      <td>18.076923</td>\n",
              "      <td>1.000000</td>\n",
              "      <td>1.000000</td>\n",
              "    </tr>\n",
              "  </tbody>\n",
              "</table>\n",
              "</div>"
            ],
            "text/plain": [
              "        symboling  normalized-losses  ...      diesel         gas\n",
              "count  201.000000          201.00000  ...  201.000000  201.000000\n",
              "mean     0.840796          122.00000  ...    0.099502    0.900498\n",
              "std      1.254802           31.99625  ...    0.300083    0.300083\n",
              "min     -2.000000           65.00000  ...    0.000000    0.000000\n",
              "25%      0.000000          101.00000  ...    0.000000    1.000000\n",
              "50%      1.000000          122.00000  ...    0.000000    1.000000\n",
              "75%      2.000000          137.00000  ...    0.000000    1.000000\n",
              "max      3.000000          256.00000  ...    1.000000    1.000000\n",
              "\n",
              "[8 rows x 19 columns]"
            ]
          },
          "metadata": {
            "tags": []
          },
          "execution_count": 91
        }
      ]
    },
    {
      "cell_type": "code",
      "metadata": {
        "id": "le7RhVMzMEXm",
        "colab_type": "code",
        "colab": {
          "base_uri": "https://localhost:8080/",
          "height": 297
        },
        "outputId": "41e95a96-8d1e-4bcc-94a0-035d85357995"
      },
      "source": [
        "data.select_dtypes('int64').describe()"
      ],
      "execution_count": 107,
      "outputs": [
        {
          "output_type": "execute_result",
          "data": {
            "text/html": [
              "<div>\n",
              "<style scoped>\n",
              "    .dataframe tbody tr th:only-of-type {\n",
              "        vertical-align: middle;\n",
              "    }\n",
              "\n",
              "    .dataframe tbody tr th {\n",
              "        vertical-align: top;\n",
              "    }\n",
              "\n",
              "    .dataframe thead th {\n",
              "        text-align: right;\n",
              "    }\n",
              "</style>\n",
              "<table border=\"1\" class=\"dataframe\">\n",
              "  <thead>\n",
              "    <tr style=\"text-align: right;\">\n",
              "      <th></th>\n",
              "      <th>symboling</th>\n",
              "      <th>normalized-losses</th>\n",
              "      <th>curb-weight</th>\n",
              "      <th>engine-size</th>\n",
              "      <th>city-mpg</th>\n",
              "      <th>highway-mpg</th>\n",
              "      <th>diesel</th>\n",
              "      <th>gas</th>\n",
              "    </tr>\n",
              "  </thead>\n",
              "  <tbody>\n",
              "    <tr>\n",
              "      <th>count</th>\n",
              "      <td>201.000000</td>\n",
              "      <td>201.00000</td>\n",
              "      <td>201.000000</td>\n",
              "      <td>201.000000</td>\n",
              "      <td>201.000000</td>\n",
              "      <td>201.000000</td>\n",
              "      <td>201.000000</td>\n",
              "      <td>201.000000</td>\n",
              "    </tr>\n",
              "    <tr>\n",
              "      <th>mean</th>\n",
              "      <td>0.840796</td>\n",
              "      <td>122.00000</td>\n",
              "      <td>2555.666667</td>\n",
              "      <td>126.875622</td>\n",
              "      <td>25.179104</td>\n",
              "      <td>30.686567</td>\n",
              "      <td>0.099502</td>\n",
              "      <td>0.900498</td>\n",
              "    </tr>\n",
              "    <tr>\n",
              "      <th>std</th>\n",
              "      <td>1.254802</td>\n",
              "      <td>31.99625</td>\n",
              "      <td>517.296727</td>\n",
              "      <td>41.546834</td>\n",
              "      <td>6.423220</td>\n",
              "      <td>6.815150</td>\n",
              "      <td>0.300083</td>\n",
              "      <td>0.300083</td>\n",
              "    </tr>\n",
              "    <tr>\n",
              "      <th>min</th>\n",
              "      <td>-2.000000</td>\n",
              "      <td>65.00000</td>\n",
              "      <td>1488.000000</td>\n",
              "      <td>61.000000</td>\n",
              "      <td>13.000000</td>\n",
              "      <td>16.000000</td>\n",
              "      <td>0.000000</td>\n",
              "      <td>0.000000</td>\n",
              "    </tr>\n",
              "    <tr>\n",
              "      <th>25%</th>\n",
              "      <td>0.000000</td>\n",
              "      <td>101.00000</td>\n",
              "      <td>2169.000000</td>\n",
              "      <td>98.000000</td>\n",
              "      <td>19.000000</td>\n",
              "      <td>25.000000</td>\n",
              "      <td>0.000000</td>\n",
              "      <td>1.000000</td>\n",
              "    </tr>\n",
              "    <tr>\n",
              "      <th>50%</th>\n",
              "      <td>1.000000</td>\n",
              "      <td>122.00000</td>\n",
              "      <td>2414.000000</td>\n",
              "      <td>120.000000</td>\n",
              "      <td>24.000000</td>\n",
              "      <td>30.000000</td>\n",
              "      <td>0.000000</td>\n",
              "      <td>1.000000</td>\n",
              "    </tr>\n",
              "    <tr>\n",
              "      <th>75%</th>\n",
              "      <td>2.000000</td>\n",
              "      <td>137.00000</td>\n",
              "      <td>2926.000000</td>\n",
              "      <td>141.000000</td>\n",
              "      <td>30.000000</td>\n",
              "      <td>34.000000</td>\n",
              "      <td>0.000000</td>\n",
              "      <td>1.000000</td>\n",
              "    </tr>\n",
              "    <tr>\n",
              "      <th>max</th>\n",
              "      <td>3.000000</td>\n",
              "      <td>256.00000</td>\n",
              "      <td>4066.000000</td>\n",
              "      <td>326.000000</td>\n",
              "      <td>49.000000</td>\n",
              "      <td>54.000000</td>\n",
              "      <td>1.000000</td>\n",
              "      <td>1.000000</td>\n",
              "    </tr>\n",
              "  </tbody>\n",
              "</table>\n",
              "</div>"
            ],
            "text/plain": [
              "        symboling  normalized-losses  ...      diesel         gas\n",
              "count  201.000000          201.00000  ...  201.000000  201.000000\n",
              "mean     0.840796          122.00000  ...    0.099502    0.900498\n",
              "std      1.254802           31.99625  ...    0.300083    0.300083\n",
              "min     -2.000000           65.00000  ...    0.000000    0.000000\n",
              "25%      0.000000          101.00000  ...    0.000000    1.000000\n",
              "50%      1.000000          122.00000  ...    0.000000    1.000000\n",
              "75%      2.000000          137.00000  ...    0.000000    1.000000\n",
              "max      3.000000          256.00000  ...    1.000000    1.000000\n",
              "\n",
              "[8 rows x 8 columns]"
            ]
          },
          "metadata": {
            "tags": []
          },
          "execution_count": 107
        }
      ]
    },
    {
      "cell_type": "markdown",
      "metadata": {
        "id": "8Y_4WEFaMdEM",
        "colab_type": "text"
      },
      "source": [
        "Describing Categorical Variables"
      ]
    },
    {
      "cell_type": "code",
      "metadata": {
        "id": "wVGb2kQDMghs",
        "colab_type": "code",
        "colab": {
          "base_uri": "https://localhost:8080/",
          "height": 173
        },
        "outputId": "1ea9882f-e717-4e40-fa57-c5988c4db569"
      },
      "source": [
        "data.select_dtypes('object').describe()"
      ],
      "execution_count": 109,
      "outputs": [
        {
          "output_type": "execute_result",
          "data": {
            "text/html": [
              "<div>\n",
              "<style scoped>\n",
              "    .dataframe tbody tr th:only-of-type {\n",
              "        vertical-align: middle;\n",
              "    }\n",
              "\n",
              "    .dataframe tbody tr th {\n",
              "        vertical-align: top;\n",
              "    }\n",
              "\n",
              "    .dataframe thead th {\n",
              "        text-align: right;\n",
              "    }\n",
              "</style>\n",
              "<table border=\"1\" class=\"dataframe\">\n",
              "  <thead>\n",
              "    <tr style=\"text-align: right;\">\n",
              "      <th></th>\n",
              "      <th>make</th>\n",
              "      <th>aspiration</th>\n",
              "      <th>num-of-doors</th>\n",
              "      <th>body-style</th>\n",
              "      <th>drive-wheels</th>\n",
              "      <th>engine-location</th>\n",
              "      <th>engine-type</th>\n",
              "      <th>num-of-cylinders</th>\n",
              "      <th>fuel-system</th>\n",
              "      <th>horsepower-binned</th>\n",
              "    </tr>\n",
              "  </thead>\n",
              "  <tbody>\n",
              "    <tr>\n",
              "      <th>count</th>\n",
              "      <td>201</td>\n",
              "      <td>201</td>\n",
              "      <td>201</td>\n",
              "      <td>201</td>\n",
              "      <td>201</td>\n",
              "      <td>201</td>\n",
              "      <td>201</td>\n",
              "      <td>201</td>\n",
              "      <td>201</td>\n",
              "      <td>200</td>\n",
              "    </tr>\n",
              "    <tr>\n",
              "      <th>unique</th>\n",
              "      <td>22</td>\n",
              "      <td>2</td>\n",
              "      <td>2</td>\n",
              "      <td>5</td>\n",
              "      <td>3</td>\n",
              "      <td>2</td>\n",
              "      <td>6</td>\n",
              "      <td>7</td>\n",
              "      <td>8</td>\n",
              "      <td>3</td>\n",
              "    </tr>\n",
              "    <tr>\n",
              "      <th>top</th>\n",
              "      <td>toyota</td>\n",
              "      <td>std</td>\n",
              "      <td>four</td>\n",
              "      <td>sedan</td>\n",
              "      <td>fwd</td>\n",
              "      <td>front</td>\n",
              "      <td>ohc</td>\n",
              "      <td>four</td>\n",
              "      <td>mpfi</td>\n",
              "      <td>Low</td>\n",
              "    </tr>\n",
              "    <tr>\n",
              "      <th>freq</th>\n",
              "      <td>32</td>\n",
              "      <td>165</td>\n",
              "      <td>115</td>\n",
              "      <td>94</td>\n",
              "      <td>118</td>\n",
              "      <td>198</td>\n",
              "      <td>145</td>\n",
              "      <td>157</td>\n",
              "      <td>92</td>\n",
              "      <td>115</td>\n",
              "    </tr>\n",
              "  </tbody>\n",
              "</table>\n",
              "</div>"
            ],
            "text/plain": [
              "          make aspiration  ... fuel-system horsepower-binned\n",
              "count      201        201  ...         201               200\n",
              "unique      22          2  ...           8                 3\n",
              "top     toyota        std  ...        mpfi               Low\n",
              "freq        32        165  ...          92               115\n",
              "\n",
              "[4 rows x 10 columns]"
            ]
          },
          "metadata": {
            "tags": []
          },
          "execution_count": 109
        }
      ]
    },
    {
      "cell_type": "markdown",
      "metadata": {
        "id": "rLgY3RHuM5-K",
        "colab_type": "text"
      },
      "source": [
        "Unique values in each categorical variables along with their value counts"
      ]
    },
    {
      "cell_type": "code",
      "metadata": {
        "id": "r2UyiDrg8fsx",
        "colab_type": "code",
        "colab": {
          "base_uri": "https://localhost:8080/",
          "height": 646
        },
        "outputId": "1ae110a5-64f8-48f2-da75-52113595f4cc"
      },
      "source": [
        "print('\\n Value counts for drive wheels', data['drive-wheels'].value_counts())\n",
        "print('\\n Value counts for aspiration',data['aspiration'].value_counts())\n",
        "print('\\n Value counts for engine type',data['engine-type'].value_counts())\n",
        "print('\\n value counts for horsepower-binned',data['horsepower-binned'].value_counts())\n",
        "print('\\n value counts for fuel-system',data['fuel-system'].value_counts())\n",
        "print('\\n value counts for fuel-system',data['drive-wheels'].value_counts())"
      ],
      "execution_count": 92,
      "outputs": [
        {
          "output_type": "stream",
          "text": [
            "\n",
            " Value counts for drive wheels fwd    118\n",
            "rwd     75\n",
            "4wd      8\n",
            "Name: drive-wheels, dtype: int64\n",
            "\n",
            " Value counts for aspiration std      165\n",
            "turbo     36\n",
            "Name: aspiration, dtype: int64\n",
            "\n",
            " Value counts for engine type ohc      145\n",
            "ohcf      15\n",
            "ohcv      13\n",
            "l         12\n",
            "dohc      12\n",
            "rotor      4\n",
            "Name: engine-type, dtype: int64\n",
            "\n",
            " value counts for horsepower-binned Low       115\n",
            "Medium     62\n",
            "High       23\n",
            "Name: horsepower-binned, dtype: int64\n",
            "\n",
            " value counts for fuel-system mpfi    92\n",
            "2bbl    64\n",
            "idi     20\n",
            "1bbl    11\n",
            "spdi     9\n",
            "4bbl     3\n",
            "spfi     1\n",
            "mfi      1\n",
            "Name: fuel-system, dtype: int64\n",
            "\n",
            " value counts for fuel-system fwd    118\n",
            "rwd     75\n",
            "4wd      8\n",
            "Name: drive-wheels, dtype: int64\n"
          ],
          "name": "stdout"
        }
      ]
    },
    {
      "cell_type": "markdown",
      "metadata": {
        "id": "f1Ob9aJdM36O",
        "colab_type": "text"
      },
      "source": [
        "Groupby the variable drive-wheel wrt price for getting average price value for each drive-wheel type."
      ]
    },
    {
      "cell_type": "code",
      "metadata": {
        "id": "RyZuf2sA9Vgr",
        "colab_type": "code",
        "colab": {
          "base_uri": "https://localhost:8080/",
          "height": 102
        },
        "outputId": "406dcfb2-43a6-4569-bb1a-ec9d822ddb04"
      },
      "source": [
        "data.groupby('drive-wheels')['price'].mean()\n",
        "#The highest average price was observed for rwd drive wheels wereas it was the lowest for fwd type."
      ],
      "execution_count": 93,
      "outputs": [
        {
          "output_type": "execute_result",
          "data": {
            "text/plain": [
              "drive-wheels\n",
              "4wd    10241.000000\n",
              "fwd     9244.779661\n",
              "rwd    19757.613333\n",
              "Name: price, dtype: float64"
            ]
          },
          "metadata": {
            "tags": []
          },
          "execution_count": 93
        }
      ]
    },
    {
      "cell_type": "markdown",
      "metadata": {
        "id": "vuH7qU9xNiqY",
        "colab_type": "text"
      },
      "source": [
        "Similarly, for other categorical variables"
      ]
    },
    {
      "cell_type": "code",
      "metadata": {
        "id": "DeeyDiHiNqIf",
        "colab_type": "code",
        "colab": {
          "base_uri": "https://localhost:8080/",
          "height": 425
        },
        "outputId": "d065421c-5a62-4f5d-f08a-25f0ef5485f1"
      },
      "source": [
        "data.groupby('make')['price'].mean()"
      ],
      "execution_count": 110,
      "outputs": [
        {
          "output_type": "execute_result",
          "data": {
            "text/plain": [
              "make\n",
              "alfa-romero      15498.333333\n",
              "audi             17859.166667\n",
              "bmw              26118.750000\n",
              "chevrolet         6007.000000\n",
              "dodge             7875.444444\n",
              "honda             8184.692308\n",
              "isuzu             8916.500000\n",
              "jaguar           34600.000000\n",
              "mazda            10652.882353\n",
              "mercedes-benz    33647.000000\n",
              "mercury          16503.000000\n",
              "mitsubishi        9239.769231\n",
              "nissan           10415.666667\n",
              "peugot           15489.090909\n",
              "plymouth          7963.428571\n",
              "porsche          31400.500000\n",
              "renault           9595.000000\n",
              "saab             15223.333333\n",
              "subaru            8541.250000\n",
              "toyota            9885.812500\n",
              "volkswagen       10077.500000\n",
              "volvo            18063.181818\n",
              "Name: price, dtype: float64"
            ]
          },
          "metadata": {
            "tags": []
          },
          "execution_count": 110
        }
      ]
    },
    {
      "cell_type": "code",
      "metadata": {
        "id": "9DGZraQS96Hn",
        "colab_type": "code",
        "colab": {
          "base_uri": "https://localhost:8080/",
          "height": 85
        },
        "outputId": "5805754b-1289-4b7f-9211-7dbeb497c895"
      },
      "source": [
        "data.groupby('aspiration')['price'].mean()"
      ],
      "execution_count": 94,
      "outputs": [
        {
          "output_type": "execute_result",
          "data": {
            "text/plain": [
              "aspiration\n",
              "std      12542.181818\n",
              "turbo    16254.805556\n",
              "Name: price, dtype: float64"
            ]
          },
          "metadata": {
            "tags": []
          },
          "execution_count": 94
        }
      ]
    },
    {
      "cell_type": "code",
      "metadata": {
        "id": "_ZNBT57IN4r6",
        "colab_type": "code",
        "colab": {
          "base_uri": "https://localhost:8080/",
          "height": 85
        },
        "outputId": "a852b8c4-ed87-41e6-c240-019ac7a2970a"
      },
      "source": [
        "data.groupby('num-of-doors')['price'].mean()"
      ],
      "execution_count": 111,
      "outputs": [
        {
          "output_type": "execute_result",
          "data": {
            "text/plain": [
              "num-of-doors\n",
              "four    13498.034783\n",
              "two     12818.127907\n",
              "Name: price, dtype: float64"
            ]
          },
          "metadata": {
            "tags": []
          },
          "execution_count": 111
        }
      ]
    },
    {
      "cell_type": "code",
      "metadata": {
        "id": "M4AiiWNeN-oU",
        "colab_type": "code",
        "colab": {
          "base_uri": "https://localhost:8080/",
          "height": 136
        },
        "outputId": "72c6db01-f82e-4f78-fe08-f5af292a48d1"
      },
      "source": [
        "data.groupby('body-style')['price'].mean()"
      ],
      "execution_count": 112,
      "outputs": [
        {
          "output_type": "execute_result",
          "data": {
            "text/plain": [
              "body-style\n",
              "convertible    21890.500000\n",
              "hardtop        22208.500000\n",
              "hatchback       9957.441176\n",
              "sedan          14459.755319\n",
              "wagon          12371.960000\n",
              "Name: price, dtype: float64"
            ]
          },
          "metadata": {
            "tags": []
          },
          "execution_count": 112
        }
      ]
    },
    {
      "cell_type": "code",
      "metadata": {
        "id": "YXEjwJ08OGkg",
        "colab_type": "code",
        "colab": {
          "base_uri": "https://localhost:8080/",
          "height": 85
        },
        "outputId": "95b83f06-5c01-4304-c5ba-5f93f0cb0f09"
      },
      "source": [
        "data.groupby('engine-location')['price'].mean()"
      ],
      "execution_count": 113,
      "outputs": [
        {
          "output_type": "execute_result",
          "data": {
            "text/plain": [
              "engine-location\n",
              "front    12884.085859\n",
              "rear     34528.000000\n",
              "Name: price, dtype: float64"
            ]
          },
          "metadata": {
            "tags": []
          },
          "execution_count": 113
        }
      ]
    },
    {
      "cell_type": "code",
      "metadata": {
        "id": "kY57bC86-D3V",
        "colab_type": "code",
        "colab": {
          "base_uri": "https://localhost:8080/",
          "height": 153
        },
        "outputId": "364d332d-0c15-4018-8ecf-c6432ed23b6f"
      },
      "source": [
        "data.groupby('engine-type')['price'].mean()"
      ],
      "execution_count": 95,
      "outputs": [
        {
          "output_type": "execute_result",
          "data": {
            "text/plain": [
              "engine-type\n",
              "dohc     18116.416667\n",
              "l        14627.583333\n",
              "ohc      11567.358621\n",
              "ohcf     13738.600000\n",
              "ohcv     25098.384615\n",
              "rotor    13020.000000\n",
              "Name: price, dtype: float64"
            ]
          },
          "metadata": {
            "tags": []
          },
          "execution_count": 95
        }
      ]
    },
    {
      "cell_type": "code",
      "metadata": {
        "id": "Ux5GsNYcOM2k",
        "colab_type": "code",
        "colab": {
          "base_uri": "https://localhost:8080/",
          "height": 170
        },
        "outputId": "37bfee46-4879-4572-dc48-66a19934d0b4"
      },
      "source": [
        "data.groupby('num-of-cylinders')['price'].mean()"
      ],
      "execution_count": 114,
      "outputs": [
        {
          "output_type": "execute_result",
          "data": {
            "text/plain": [
              "num-of-cylinders\n",
              "eight     38900.000000\n",
              "five      22007.600000\n",
              "four      10303.197452\n",
              "six       23671.833333\n",
              "three      5151.000000\n",
              "twelve    36000.000000\n",
              "two       13020.000000\n",
              "Name: price, dtype: float64"
            ]
          },
          "metadata": {
            "tags": []
          },
          "execution_count": 114
        }
      ]
    },
    {
      "cell_type": "code",
      "metadata": {
        "id": "SFJne-VC-HxF",
        "colab_type": "code",
        "colab": {
          "base_uri": "https://localhost:8080/",
          "height": 102
        },
        "outputId": "7e102a3b-0deb-40fd-a39e-f078dc04a2a6"
      },
      "source": [
        "data.groupby('horsepower-binned')['price'].mean()"
      ],
      "execution_count": 96,
      "outputs": [
        {
          "output_type": "execute_result",
          "data": {
            "text/plain": [
              "horsepower-binned\n",
              "High      25899.130435\n",
              "Low        9011.704348\n",
              "Medium    15913.016129\n",
              "Name: price, dtype: float64"
            ]
          },
          "metadata": {
            "tags": []
          },
          "execution_count": 96
        }
      ]
    },
    {
      "cell_type": "code",
      "metadata": {
        "id": "FENvK18L-OB7",
        "colab_type": "code",
        "colab": {
          "base_uri": "https://localhost:8080/",
          "height": 187
        },
        "outputId": "4c4069f1-54de-4f99-9440-9ad2a71e0f5f"
      },
      "source": [
        "data.groupby('fuel-system')['price'].mean()"
      ],
      "execution_count": 97,
      "outputs": [
        {
          "output_type": "execute_result",
          "data": {
            "text/plain": [
              "fuel-system\n",
              "1bbl     7555.545455\n",
              "2bbl     7433.203125\n",
              "4bbl    12145.000000\n",
              "idi     15838.150000\n",
              "mfi     12964.000000\n",
              "mpfi    17605.141304\n",
              "spdi    10990.444444\n",
              "spfi    11048.000000\n",
              "Name: price, dtype: float64"
            ]
          },
          "metadata": {
            "tags": []
          },
          "execution_count": 97
        }
      ]
    },
    {
      "cell_type": "markdown",
      "metadata": {
        "id": "jSMSNwpEOkUy",
        "colab_type": "text"
      },
      "source": [
        "All the categorical variables show a varying price range which suggests that the unique values in the categorical variables has an impact on the price."
      ]
    },
    {
      "cell_type": "markdown",
      "metadata": {
        "id": "SdrSFmayRpzq",
        "colab_type": "text"
      },
      "source": [
        "Similary, we perform groupby on two independent variables."
      ]
    },
    {
      "cell_type": "code",
      "metadata": {
        "id": "QZ06Po4M-bSb",
        "colab_type": "code",
        "colab": {
          "base_uri": "https://localhost:8080/",
          "height": 255
        },
        "outputId": "0629edc6-3384-4a21-cda6-5a2f804e9821"
      },
      "source": [
        "group_data = data[['drive-wheels', 'body-style', 'price']] \n",
        "group_results = group_data.groupby(['drive-wheels', 'body-style'], as_index=False).mean()\n",
        "print(group_results)"
      ],
      "execution_count": 98,
      "outputs": [
        {
          "output_type": "stream",
          "text": [
            "   drive-wheels   body-style         price\n",
            "0           4wd    hatchback   7603.000000\n",
            "1           4wd        sedan  12647.333333\n",
            "2           4wd        wagon   9095.750000\n",
            "3           fwd  convertible  11595.000000\n",
            "4           fwd      hardtop   8249.000000\n",
            "5           fwd    hatchback   8396.387755\n",
            "6           fwd        sedan   9811.800000\n",
            "7           fwd        wagon   9997.333333\n",
            "8           rwd  convertible  23949.600000\n",
            "9           rwd      hardtop  24202.714286\n",
            "10          rwd    hatchback  14337.777778\n",
            "11          rwd        sedan  21711.833333\n",
            "12          rwd        wagon  16994.222222\n"
          ],
          "name": "stdout"
        }
      ]
    },
    {
      "cell_type": "code",
      "metadata": {
        "id": "JXUOjTrrBndt",
        "colab_type": "code",
        "colab": {
          "base_uri": "https://localhost:8080/",
          "height": 204
        },
        "outputId": "26d8f476-23c9-4751-8fec-80cfd39221e7"
      },
      "source": [
        "group_pivot = group_results.pivot(index='drive-wheels', columns='body-style')\n",
        "group_pivot"
      ],
      "execution_count": 99,
      "outputs": [
        {
          "output_type": "execute_result",
          "data": {
            "text/html": [
              "<div>\n",
              "<style scoped>\n",
              "    .dataframe tbody tr th:only-of-type {\n",
              "        vertical-align: middle;\n",
              "    }\n",
              "\n",
              "    .dataframe tbody tr th {\n",
              "        vertical-align: top;\n",
              "    }\n",
              "\n",
              "    .dataframe thead tr th {\n",
              "        text-align: left;\n",
              "    }\n",
              "\n",
              "    .dataframe thead tr:last-of-type th {\n",
              "        text-align: right;\n",
              "    }\n",
              "</style>\n",
              "<table border=\"1\" class=\"dataframe\">\n",
              "  <thead>\n",
              "    <tr>\n",
              "      <th></th>\n",
              "      <th colspan=\"5\" halign=\"left\">price</th>\n",
              "    </tr>\n",
              "    <tr>\n",
              "      <th>body-style</th>\n",
              "      <th>convertible</th>\n",
              "      <th>hardtop</th>\n",
              "      <th>hatchback</th>\n",
              "      <th>sedan</th>\n",
              "      <th>wagon</th>\n",
              "    </tr>\n",
              "    <tr>\n",
              "      <th>drive-wheels</th>\n",
              "      <th></th>\n",
              "      <th></th>\n",
              "      <th></th>\n",
              "      <th></th>\n",
              "      <th></th>\n",
              "    </tr>\n",
              "  </thead>\n",
              "  <tbody>\n",
              "    <tr>\n",
              "      <th>4wd</th>\n",
              "      <td>NaN</td>\n",
              "      <td>NaN</td>\n",
              "      <td>7603.000000</td>\n",
              "      <td>12647.333333</td>\n",
              "      <td>9095.750000</td>\n",
              "    </tr>\n",
              "    <tr>\n",
              "      <th>fwd</th>\n",
              "      <td>11595.0</td>\n",
              "      <td>8249.000000</td>\n",
              "      <td>8396.387755</td>\n",
              "      <td>9811.800000</td>\n",
              "      <td>9997.333333</td>\n",
              "    </tr>\n",
              "    <tr>\n",
              "      <th>rwd</th>\n",
              "      <td>23949.6</td>\n",
              "      <td>24202.714286</td>\n",
              "      <td>14337.777778</td>\n",
              "      <td>21711.833333</td>\n",
              "      <td>16994.222222</td>\n",
              "    </tr>\n",
              "  </tbody>\n",
              "</table>\n",
              "</div>"
            ],
            "text/plain": [
              "                   price                ...                            \n",
              "body-style   convertible       hardtop  ...         sedan         wagon\n",
              "drive-wheels                            ...                            \n",
              "4wd                  NaN           NaN  ...  12647.333333   9095.750000\n",
              "fwd              11595.0   8249.000000  ...   9811.800000   9997.333333\n",
              "rwd              23949.6  24202.714286  ...  21711.833333  16994.222222\n",
              "\n",
              "[3 rows x 5 columns]"
            ]
          },
          "metadata": {
            "tags": []
          },
          "execution_count": 99
        }
      ]
    },
    {
      "cell_type": "code",
      "metadata": {
        "id": "bSbntRRNCHjj",
        "colab_type": "code",
        "colab": {
          "base_uri": "https://localhost:8080/",
          "height": 153
        },
        "outputId": "cd3f18ed-8ace-4053-a232-b2f7039568ed"
      },
      "source": [
        "group_pivot.fillna(0, inplace=True)\n",
        "print(group_pivot)"
      ],
      "execution_count": 100,
      "outputs": [
        {
          "output_type": "stream",
          "text": [
            "                   price                ...                            \n",
            "body-style   convertible       hardtop  ...         sedan         wagon\n",
            "drive-wheels                            ...                            \n",
            "4wd                  0.0      0.000000  ...  12647.333333   9095.750000\n",
            "fwd              11595.0   8249.000000  ...   9811.800000   9997.333333\n",
            "rwd              23949.6  24202.714286  ...  21711.833333  16994.222222\n",
            "\n",
            "[3 rows x 5 columns]\n"
          ],
          "name": "stdout"
        }
      ]
    },
    {
      "cell_type": "code",
      "metadata": {
        "id": "HWHO83cmPC7M",
        "colab_type": "code",
        "colab": {
          "base_uri": "https://localhost:8080/",
          "height": 612
        },
        "outputId": "9fdb3905-5f87-47c7-d89b-710abe624ee0"
      },
      "source": [
        "group_data = data[['aspiration', 'make', 'price']] \n",
        "group_results = group_data.groupby(['aspiration', 'make'], as_index=False).mean()\n",
        "print(group_results)"
      ],
      "execution_count": 117,
      "outputs": [
        {
          "output_type": "stream",
          "text": [
            "   aspiration           make         price\n",
            "0         std    alfa-romero  15498.333333\n",
            "1         std           audi  16656.000000\n",
            "2         std            bmw  26118.750000\n",
            "3         std      chevrolet   6007.000000\n",
            "4         std          dodge   6900.000000\n",
            "5         std          honda   8184.692308\n",
            "6         std          isuzu   8916.500000\n",
            "7         std         jaguar  34600.000000\n",
            "8         std          mazda  10652.882353\n",
            "9         std  mercedes-benz  38900.000000\n",
            "10        std     mitsubishi   7314.714286\n",
            "11        std         nissan   9869.588235\n",
            "12        std         peugot  14649.000000\n",
            "13        std       plymouth   7004.600000\n",
            "14        std        porsche  31400.500000\n",
            "15        std        renault   9595.000000\n",
            "16        std           saab  13642.500000\n",
            "17        std         subaru   7954.200000\n",
            "18        std         toyota   9859.612903\n",
            "19        std     volkswagen   9759.000000\n",
            "20        std          volvo  16197.500000\n",
            "21      turbo           audi  23875.000000\n",
            "22      turbo          dodge   9826.333333\n",
            "23      turbo  mercedes-benz  28394.000000\n",
            "24      turbo        mercury  16503.000000\n",
            "25      turbo     mitsubishi  11485.666667\n",
            "26      turbo         nissan  19699.000000\n",
            "27      turbo         peugot  16189.166667\n",
            "28      turbo       plymouth  10360.500000\n",
            "29      turbo           saab  18385.000000\n",
            "30      turbo         subaru  11476.500000\n",
            "31      turbo         toyota  10698.000000\n",
            "32      turbo     volkswagen  11670.000000\n",
            "33      turbo          volvo  20302.000000\n"
          ],
          "name": "stdout"
        }
      ]
    },
    {
      "cell_type": "code",
      "metadata": {
        "id": "RHFGqLriPW0V",
        "colab_type": "code",
        "colab": {
          "base_uri": "https://localhost:8080/",
          "height": 210
        },
        "outputId": "8182d9b1-0cc7-48ee-b3e3-b9c8eeaebe62"
      },
      "source": [
        "group_pivot = group_results.pivot(index='aspiration', columns='make')\n",
        "group_pivot.fillna(0, inplace=True)\n",
        "group_pivot"
      ],
      "execution_count": 118,
      "outputs": [
        {
          "output_type": "execute_result",
          "data": {
            "text/html": [
              "<div>\n",
              "<style scoped>\n",
              "    .dataframe tbody tr th:only-of-type {\n",
              "        vertical-align: middle;\n",
              "    }\n",
              "\n",
              "    .dataframe tbody tr th {\n",
              "        vertical-align: top;\n",
              "    }\n",
              "\n",
              "    .dataframe thead tr th {\n",
              "        text-align: left;\n",
              "    }\n",
              "\n",
              "    .dataframe thead tr:last-of-type th {\n",
              "        text-align: right;\n",
              "    }\n",
              "</style>\n",
              "<table border=\"1\" class=\"dataframe\">\n",
              "  <thead>\n",
              "    <tr>\n",
              "      <th></th>\n",
              "      <th colspan=\"22\" halign=\"left\">price</th>\n",
              "    </tr>\n",
              "    <tr>\n",
              "      <th>make</th>\n",
              "      <th>alfa-romero</th>\n",
              "      <th>audi</th>\n",
              "      <th>bmw</th>\n",
              "      <th>chevrolet</th>\n",
              "      <th>dodge</th>\n",
              "      <th>honda</th>\n",
              "      <th>isuzu</th>\n",
              "      <th>jaguar</th>\n",
              "      <th>mazda</th>\n",
              "      <th>mercedes-benz</th>\n",
              "      <th>mercury</th>\n",
              "      <th>mitsubishi</th>\n",
              "      <th>nissan</th>\n",
              "      <th>peugot</th>\n",
              "      <th>plymouth</th>\n",
              "      <th>porsche</th>\n",
              "      <th>renault</th>\n",
              "      <th>saab</th>\n",
              "      <th>subaru</th>\n",
              "      <th>toyota</th>\n",
              "      <th>volkswagen</th>\n",
              "      <th>volvo</th>\n",
              "    </tr>\n",
              "    <tr>\n",
              "      <th>aspiration</th>\n",
              "      <th></th>\n",
              "      <th></th>\n",
              "      <th></th>\n",
              "      <th></th>\n",
              "      <th></th>\n",
              "      <th></th>\n",
              "      <th></th>\n",
              "      <th></th>\n",
              "      <th></th>\n",
              "      <th></th>\n",
              "      <th></th>\n",
              "      <th></th>\n",
              "      <th></th>\n",
              "      <th></th>\n",
              "      <th></th>\n",
              "      <th></th>\n",
              "      <th></th>\n",
              "      <th></th>\n",
              "      <th></th>\n",
              "      <th></th>\n",
              "      <th></th>\n",
              "      <th></th>\n",
              "    </tr>\n",
              "  </thead>\n",
              "  <tbody>\n",
              "    <tr>\n",
              "      <th>std</th>\n",
              "      <td>15498.333333</td>\n",
              "      <td>16656.0</td>\n",
              "      <td>26118.75</td>\n",
              "      <td>6007.0</td>\n",
              "      <td>6900.000000</td>\n",
              "      <td>8184.692308</td>\n",
              "      <td>8916.5</td>\n",
              "      <td>34600.0</td>\n",
              "      <td>10652.882353</td>\n",
              "      <td>38900.0</td>\n",
              "      <td>0.0</td>\n",
              "      <td>7314.714286</td>\n",
              "      <td>9869.588235</td>\n",
              "      <td>14649.000000</td>\n",
              "      <td>7004.6</td>\n",
              "      <td>31400.5</td>\n",
              "      <td>9595.0</td>\n",
              "      <td>13642.5</td>\n",
              "      <td>7954.2</td>\n",
              "      <td>9859.612903</td>\n",
              "      <td>9759.0</td>\n",
              "      <td>16197.5</td>\n",
              "    </tr>\n",
              "    <tr>\n",
              "      <th>turbo</th>\n",
              "      <td>0.000000</td>\n",
              "      <td>23875.0</td>\n",
              "      <td>0.00</td>\n",
              "      <td>0.0</td>\n",
              "      <td>9826.333333</td>\n",
              "      <td>0.000000</td>\n",
              "      <td>0.0</td>\n",
              "      <td>0.0</td>\n",
              "      <td>0.000000</td>\n",
              "      <td>28394.0</td>\n",
              "      <td>16503.0</td>\n",
              "      <td>11485.666667</td>\n",
              "      <td>19699.000000</td>\n",
              "      <td>16189.166667</td>\n",
              "      <td>10360.5</td>\n",
              "      <td>0.0</td>\n",
              "      <td>0.0</td>\n",
              "      <td>18385.0</td>\n",
              "      <td>11476.5</td>\n",
              "      <td>10698.000000</td>\n",
              "      <td>11670.0</td>\n",
              "      <td>20302.0</td>\n",
              "    </tr>\n",
              "  </tbody>\n",
              "</table>\n",
              "</div>"
            ],
            "text/plain": [
              "                   price                     ...                                  \n",
              "make         alfa-romero     audi       bmw  ...        toyota volkswagen    volvo\n",
              "aspiration                                   ...                                  \n",
              "std         15498.333333  16656.0  26118.75  ...   9859.612903     9759.0  16197.5\n",
              "turbo           0.000000  23875.0      0.00  ...  10698.000000    11670.0  20302.0\n",
              "\n",
              "[2 rows x 22 columns]"
            ]
          },
          "metadata": {
            "tags": []
          },
          "execution_count": 118
        }
      ]
    },
    {
      "cell_type": "code",
      "metadata": {
        "id": "C0k4D3pGPszM",
        "colab_type": "code",
        "colab": {
          "base_uri": "https://localhost:8080/",
          "height": 153
        },
        "outputId": "801b6dcd-46b8-409c-f712-fcab7bbc4f50"
      },
      "source": [
        "group_data = data[['body-style', 'num-of-doors', 'price']] \n",
        "group_results = group_data.groupby(['body-style', 'num-of-doors'], as_index=False).mean()\n",
        "print(group_results)"
      ],
      "execution_count": 119,
      "outputs": [
        {
          "output_type": "stream",
          "text": [
            "    body-style num-of-doors         price\n",
            "0  convertible          two  21890.500000\n",
            "1      hardtop          two  22208.500000\n",
            "2    hatchback         four   8372.000000\n",
            "3    hatchback          two  10230.793103\n",
            "4        sedan         four  14490.687500\n",
            "5        sedan          two  14283.000000\n",
            "6        wagon         four  12371.960000\n"
          ],
          "name": "stdout"
        }
      ]
    },
    {
      "cell_type": "code",
      "metadata": {
        "id": "tCOcI2UbP6gc",
        "colab_type": "code",
        "colab": {
          "base_uri": "https://localhost:8080/",
          "height": 266
        },
        "outputId": "363efbd9-a869-4258-e4bf-14856a27b1a1"
      },
      "source": [
        "group_pivot = group_results.pivot(index='body-style', columns='num-of-doors')\n",
        "group_pivot.fillna(0, inplace=True)\n",
        "group_pivot"
      ],
      "execution_count": 120,
      "outputs": [
        {
          "output_type": "execute_result",
          "data": {
            "text/html": [
              "<div>\n",
              "<style scoped>\n",
              "    .dataframe tbody tr th:only-of-type {\n",
              "        vertical-align: middle;\n",
              "    }\n",
              "\n",
              "    .dataframe tbody tr th {\n",
              "        vertical-align: top;\n",
              "    }\n",
              "\n",
              "    .dataframe thead tr th {\n",
              "        text-align: left;\n",
              "    }\n",
              "\n",
              "    .dataframe thead tr:last-of-type th {\n",
              "        text-align: right;\n",
              "    }\n",
              "</style>\n",
              "<table border=\"1\" class=\"dataframe\">\n",
              "  <thead>\n",
              "    <tr>\n",
              "      <th></th>\n",
              "      <th colspan=\"2\" halign=\"left\">price</th>\n",
              "    </tr>\n",
              "    <tr>\n",
              "      <th>num-of-doors</th>\n",
              "      <th>four</th>\n",
              "      <th>two</th>\n",
              "    </tr>\n",
              "    <tr>\n",
              "      <th>body-style</th>\n",
              "      <th></th>\n",
              "      <th></th>\n",
              "    </tr>\n",
              "  </thead>\n",
              "  <tbody>\n",
              "    <tr>\n",
              "      <th>convertible</th>\n",
              "      <td>0.0000</td>\n",
              "      <td>21890.500000</td>\n",
              "    </tr>\n",
              "    <tr>\n",
              "      <th>hardtop</th>\n",
              "      <td>0.0000</td>\n",
              "      <td>22208.500000</td>\n",
              "    </tr>\n",
              "    <tr>\n",
              "      <th>hatchback</th>\n",
              "      <td>8372.0000</td>\n",
              "      <td>10230.793103</td>\n",
              "    </tr>\n",
              "    <tr>\n",
              "      <th>sedan</th>\n",
              "      <td>14490.6875</td>\n",
              "      <td>14283.000000</td>\n",
              "    </tr>\n",
              "    <tr>\n",
              "      <th>wagon</th>\n",
              "      <td>12371.9600</td>\n",
              "      <td>0.000000</td>\n",
              "    </tr>\n",
              "  </tbody>\n",
              "</table>\n",
              "</div>"
            ],
            "text/plain": [
              "                   price              \n",
              "num-of-doors        four           two\n",
              "body-style                            \n",
              "convertible       0.0000  21890.500000\n",
              "hardtop           0.0000  22208.500000\n",
              "hatchback      8372.0000  10230.793103\n",
              "sedan         14490.6875  14283.000000\n",
              "wagon         12371.9600      0.000000"
            ]
          },
          "metadata": {
            "tags": []
          },
          "execution_count": 120
        }
      ]
    },
    {
      "cell_type": "code",
      "metadata": {
        "id": "__aAhHYcQH7w",
        "colab_type": "code",
        "colab": {
          "base_uri": "https://localhost:8080/",
          "height": 170
        },
        "outputId": "825830b0-4cc1-45c8-c787-6c8eda734930"
      },
      "source": [
        "group_data = data[['num-of-cylinders', 'engine-location', 'price']] \n",
        "group_results = group_data.groupby(['num-of-cylinders', 'engine-location'], as_index=False).mean()\n",
        "print(group_results)"
      ],
      "execution_count": 128,
      "outputs": [
        {
          "output_type": "stream",
          "text": [
            "  num-of-cylinders engine-location         price\n",
            "0            eight           front  38900.000000\n",
            "1             five           front  22007.600000\n",
            "2             four           front  10303.197452\n",
            "3              six           front  22120.952381\n",
            "4              six            rear  34528.000000\n",
            "5            three           front   5151.000000\n",
            "6           twelve           front  36000.000000\n",
            "7              two           front  13020.000000\n"
          ],
          "name": "stdout"
        }
      ]
    },
    {
      "cell_type": "code",
      "metadata": {
        "id": "WLSwPi-VQe-A",
        "colab_type": "code",
        "colab": {
          "base_uri": "https://localhost:8080/",
          "height": 328
        },
        "outputId": "e8774bf6-9061-4f23-83e0-331611845185"
      },
      "source": [
        "group_pivot = group_results.pivot(index='num-of-cylinders', columns='engine-location')\n",
        "group_pivot.fillna(0, inplace=True)\n",
        "group_pivot"
      ],
      "execution_count": 129,
      "outputs": [
        {
          "output_type": "execute_result",
          "data": {
            "text/html": [
              "<div>\n",
              "<style scoped>\n",
              "    .dataframe tbody tr th:only-of-type {\n",
              "        vertical-align: middle;\n",
              "    }\n",
              "\n",
              "    .dataframe tbody tr th {\n",
              "        vertical-align: top;\n",
              "    }\n",
              "\n",
              "    .dataframe thead tr th {\n",
              "        text-align: left;\n",
              "    }\n",
              "\n",
              "    .dataframe thead tr:last-of-type th {\n",
              "        text-align: right;\n",
              "    }\n",
              "</style>\n",
              "<table border=\"1\" class=\"dataframe\">\n",
              "  <thead>\n",
              "    <tr>\n",
              "      <th></th>\n",
              "      <th colspan=\"2\" halign=\"left\">price</th>\n",
              "    </tr>\n",
              "    <tr>\n",
              "      <th>engine-location</th>\n",
              "      <th>front</th>\n",
              "      <th>rear</th>\n",
              "    </tr>\n",
              "    <tr>\n",
              "      <th>num-of-cylinders</th>\n",
              "      <th></th>\n",
              "      <th></th>\n",
              "    </tr>\n",
              "  </thead>\n",
              "  <tbody>\n",
              "    <tr>\n",
              "      <th>eight</th>\n",
              "      <td>38900.000000</td>\n",
              "      <td>0.0</td>\n",
              "    </tr>\n",
              "    <tr>\n",
              "      <th>five</th>\n",
              "      <td>22007.600000</td>\n",
              "      <td>0.0</td>\n",
              "    </tr>\n",
              "    <tr>\n",
              "      <th>four</th>\n",
              "      <td>10303.197452</td>\n",
              "      <td>0.0</td>\n",
              "    </tr>\n",
              "    <tr>\n",
              "      <th>six</th>\n",
              "      <td>22120.952381</td>\n",
              "      <td>34528.0</td>\n",
              "    </tr>\n",
              "    <tr>\n",
              "      <th>three</th>\n",
              "      <td>5151.000000</td>\n",
              "      <td>0.0</td>\n",
              "    </tr>\n",
              "    <tr>\n",
              "      <th>twelve</th>\n",
              "      <td>36000.000000</td>\n",
              "      <td>0.0</td>\n",
              "    </tr>\n",
              "    <tr>\n",
              "      <th>two</th>\n",
              "      <td>13020.000000</td>\n",
              "      <td>0.0</td>\n",
              "    </tr>\n",
              "  </tbody>\n",
              "</table>\n",
              "</div>"
            ],
            "text/plain": [
              "                         price         \n",
              "engine-location          front     rear\n",
              "num-of-cylinders                       \n",
              "eight             38900.000000      0.0\n",
              "five              22007.600000      0.0\n",
              "four              10303.197452      0.0\n",
              "six               22120.952381  34528.0\n",
              "three              5151.000000      0.0\n",
              "twelve            36000.000000      0.0\n",
              "two               13020.000000      0.0"
            ]
          },
          "metadata": {
            "tags": []
          },
          "execution_count": 129
        }
      ]
    },
    {
      "cell_type": "code",
      "metadata": {
        "id": "2-csAO_BQQhf",
        "colab_type": "code",
        "colab": {
          "base_uri": "https://localhost:8080/",
          "height": 221
        },
        "outputId": "21dc1139-dade-43e0-bc7a-685fdca94572"
      },
      "source": [
        "group_data = data[['fuel-system', 'horsepower-binned', 'price']] \n",
        "group_results = group_data.groupby(['fuel-system', 'horsepower-binned'], as_index=False).mean()\n",
        "print(group_results)"
      ],
      "execution_count": 130,
      "outputs": [
        {
          "output_type": "stream",
          "text": [
            "   fuel-system horsepower-binned         price\n",
            "0         1bbl               Low   7555.545455\n",
            "1         2bbl               Low   7433.203125\n",
            "2         4bbl               Low  12145.000000\n",
            "3          idi               Low  12047.800000\n",
            "4          idi            Medium  27209.200000\n",
            "5          mfi            Medium  12964.000000\n",
            "6         mpfi              High  25899.130435\n",
            "7         mpfi               Low  11871.904762\n",
            "8         mpfi            Medium  15716.659574\n",
            "9         spdi            Medium  10990.444444\n",
            "10        spfi               Low  11048.000000\n"
          ],
          "name": "stdout"
        }
      ]
    },
    {
      "cell_type": "code",
      "metadata": {
        "id": "xyy-s0eQRKF0",
        "colab_type": "code",
        "colab": {
          "base_uri": "https://localhost:8080/",
          "height": 359
        },
        "outputId": "a2c5eaa7-5978-407b-957b-27320c84d407"
      },
      "source": [
        "group_pivot = group_results.pivot(index='fuel-system', columns='horsepower-binned')\n",
        "group_pivot.fillna(0, inplace=True)\n",
        "group_pivot"
      ],
      "execution_count": 134,
      "outputs": [
        {
          "output_type": "execute_result",
          "data": {
            "text/html": [
              "<div>\n",
              "<style scoped>\n",
              "    .dataframe tbody tr th:only-of-type {\n",
              "        vertical-align: middle;\n",
              "    }\n",
              "\n",
              "    .dataframe tbody tr th {\n",
              "        vertical-align: top;\n",
              "    }\n",
              "\n",
              "    .dataframe thead tr th {\n",
              "        text-align: left;\n",
              "    }\n",
              "\n",
              "    .dataframe thead tr:last-of-type th {\n",
              "        text-align: right;\n",
              "    }\n",
              "</style>\n",
              "<table border=\"1\" class=\"dataframe\">\n",
              "  <thead>\n",
              "    <tr>\n",
              "      <th></th>\n",
              "      <th colspan=\"3\" halign=\"left\">price</th>\n",
              "    </tr>\n",
              "    <tr>\n",
              "      <th>horsepower-binned</th>\n",
              "      <th>High</th>\n",
              "      <th>Low</th>\n",
              "      <th>Medium</th>\n",
              "    </tr>\n",
              "    <tr>\n",
              "      <th>fuel-system</th>\n",
              "      <th></th>\n",
              "      <th></th>\n",
              "      <th></th>\n",
              "    </tr>\n",
              "  </thead>\n",
              "  <tbody>\n",
              "    <tr>\n",
              "      <th>1bbl</th>\n",
              "      <td>0.000000</td>\n",
              "      <td>7555.545455</td>\n",
              "      <td>0.000000</td>\n",
              "    </tr>\n",
              "    <tr>\n",
              "      <th>2bbl</th>\n",
              "      <td>0.000000</td>\n",
              "      <td>7433.203125</td>\n",
              "      <td>0.000000</td>\n",
              "    </tr>\n",
              "    <tr>\n",
              "      <th>4bbl</th>\n",
              "      <td>0.000000</td>\n",
              "      <td>12145.000000</td>\n",
              "      <td>0.000000</td>\n",
              "    </tr>\n",
              "    <tr>\n",
              "      <th>idi</th>\n",
              "      <td>0.000000</td>\n",
              "      <td>12047.800000</td>\n",
              "      <td>27209.200000</td>\n",
              "    </tr>\n",
              "    <tr>\n",
              "      <th>mfi</th>\n",
              "      <td>0.000000</td>\n",
              "      <td>0.000000</td>\n",
              "      <td>12964.000000</td>\n",
              "    </tr>\n",
              "    <tr>\n",
              "      <th>mpfi</th>\n",
              "      <td>25899.130435</td>\n",
              "      <td>11871.904762</td>\n",
              "      <td>15716.659574</td>\n",
              "    </tr>\n",
              "    <tr>\n",
              "      <th>spdi</th>\n",
              "      <td>0.000000</td>\n",
              "      <td>0.000000</td>\n",
              "      <td>10990.444444</td>\n",
              "    </tr>\n",
              "    <tr>\n",
              "      <th>spfi</th>\n",
              "      <td>0.000000</td>\n",
              "      <td>11048.000000</td>\n",
              "      <td>0.000000</td>\n",
              "    </tr>\n",
              "  </tbody>\n",
              "</table>\n",
              "</div>"
            ],
            "text/plain": [
              "                          price                            \n",
              "horsepower-binned          High           Low        Medium\n",
              "fuel-system                                                \n",
              "1bbl                   0.000000   7555.545455      0.000000\n",
              "2bbl                   0.000000   7433.203125      0.000000\n",
              "4bbl                   0.000000  12145.000000      0.000000\n",
              "idi                    0.000000  12047.800000  27209.200000\n",
              "mfi                    0.000000      0.000000  12964.000000\n",
              "mpfi               25899.130435  11871.904762  15716.659574\n",
              "spdi                   0.000000      0.000000  10990.444444\n",
              "spfi                   0.000000  11048.000000      0.000000"
            ]
          },
          "metadata": {
            "tags": []
          },
          "execution_count": 134
        }
      ]
    },
    {
      "cell_type": "markdown",
      "metadata": {
        "id": "VsFUCbVuTdLT",
        "colab_type": "text"
      },
      "source": [
        "**Correlation Plot between the price of drive wheel and body-style**"
      ]
    },
    {
      "cell_type": "code",
      "metadata": {
        "id": "0CcdZCI4DAhq",
        "colab_type": "code",
        "colab": {
          "base_uri": "https://localhost:8080/",
          "height": 298
        },
        "outputId": "bafde0c0-303d-4cbc-d7ab-ff094cb243c0"
      },
      "source": [
        "group_pivot = data.reset_index().pivot_table(index='drive-wheels',\n",
        "                                              columns='body-style')['price']\n",
        "sns.heatmap(group_pivot, annot=True, cmap='coolwarm')\n",
        "\n"
      ],
      "execution_count": 140,
      "outputs": [
        {
          "output_type": "execute_result",
          "data": {
            "text/plain": [
              "<matplotlib.axes._subplots.AxesSubplot at 0x7f65ca1e4f98>"
            ]
          },
          "metadata": {
            "tags": []
          },
          "execution_count": 140
        },
        {
          "output_type": "display_data",
          "data": {
            "image/png": "[encoded data removed]",
            "text/plain": [
              "<Figure size 432x288 with 2 Axes>"
            ]
          },
          "metadata": {
            "tags": [],
            "needs_background": "light"
          }
        }
      ]
    },
    {
      "cell_type": "markdown",
      "metadata": {
        "id": "os2QNPrNUbj1",
        "colab_type": "text"
      },
      "source": [
        "There exists correlation between certain categorical values of the variables drive-wheels and body-style. It should be noted that highly correlated variables should not be used for predictions."
      ]
    },
    {
      "cell_type": "code",
      "metadata": {
        "id": "YJ-Kv9mRCNMH",
        "colab_type": "code",
        "colab": {
          "base_uri": "https://localhost:8080/",
          "height": 34
        },
        "outputId": "99d889f0-3f7f-4550-e254-496de28af337"
      },
      "source": [
        "correlation, _ = pearsonr(data['wheel-base'], data['price'])\n",
        "print('The correlation between wheel base and price is ', correlation)"
      ],
      "execution_count": 138,
      "outputs": [
        {
          "output_type": "stream",
          "text": [
            "The correlation between whel\\el base and price is  0.584641822265508\n"
          ],
          "name": "stdout"
        }
      ]
    },
    {
      "cell_type": "markdown",
      "metadata": {
        "id": "x6LK5jGnSQod",
        "colab_type": "text"
      },
      "source": [
        "The correlation between wheel base and price is positive"
      ]
    },
    {
      "cell_type": "markdown",
      "metadata": {
        "id": "JL8WjGcEA_F3",
        "colab_type": "text"
      },
      "source": [
        "**One way ANOVA**"
      ]
    },
    {
      "cell_type": "code",
      "metadata": {
        "id": "FgEYbYtiDvPa",
        "colab_type": "code",
        "colab": {}
      },
      "source": [
        "from scipy.stats import f_oneway"
      ],
      "execution_count": 103,
      "outputs": []
    },
    {
      "cell_type": "code",
      "metadata": {
        "id": "jycf_gkXDwQO",
        "colab_type": "code",
        "colab": {
          "base_uri": "https://localhost:8080/",
          "height": 34
        },
        "outputId": "535cca65-9124-42ea-997b-c5540a7a8689"
      },
      "source": [
        "from scipy.stats import f_oneway\n",
        "f_oneway(data['price'][data['drive-wheels'] == '4wd'],\n",
        "         data['price'][data['drive-wheels'] == 'fwd'],\n",
        "         data['price'][data['drive-wheels'] == 'rwd'])"
      ],
      "execution_count": 104,
      "outputs": [
        {
          "output_type": "execute_result",
          "data": {
            "text/plain": [
              "F_onewayResult(statistic=67.95406500780399, pvalue=3.3945443577151245e-23)"
            ]
          },
          "metadata": {
            "tags": []
          },
          "execution_count": 104
        }
      ]
    },
    {
      "cell_type": "markdown",
      "metadata": {
        "id": "a0kDqrRlSf6O",
        "colab_type": "text"
      },
      "source": [
        "The one-way ANOVA on drive wheels has a p-value less than 0.05. If p-value < 0.05 then we reject the null hypothesis. This suggest that all the categories of drive wheel are significant wrt price."
      ]
    }
  ]
}