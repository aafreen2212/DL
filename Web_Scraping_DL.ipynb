{
  "nbformat": 4,
  "nbformat_minor": 0,
  "metadata": {
    "colab": {
      "name": "DL_HW_8.ipynb",
      "provenance": [],
      "collapsed_sections": [],
      "authorship_tag": "ABX9TyMSvq89uMQhykU6Ax87eeaO",
      "include_colab_link": true
    },
    "kernelspec": {
      "name": "python3",
      "display_name": "Python 3"
    }
  },
  "cells": [
    {
      "cell_type": "markdown",
      "metadata": {
        "id": "view-in-github",
        "colab_type": "text"
      },
      "source": [
        "<a href=\"https://colab.research.google.com/github/aafreen2212/DL/blob/master/DL_HW_8.ipynb\" target=\"_parent\"><img src=\"https://colab.research.google.com/assets/colab-badge.svg\" alt=\"Open In Colab\"/></a>"
      ]
    },
    {
      "cell_type": "code",
      "metadata": {
        "id": "_Io-twDiSxt9",
        "colab_type": "code",
        "colab": {}
      },
      "source": [
        "from bs4 import BeautifulSoup\n",
        "import numpy as np\n",
        "import requests\n",
        "import cv2\n",
        "import PIL.Image\n",
        "import urllib\n",
        "import os\n",
        "import pandas as pd"
      ],
      "execution_count": 1,
      "outputs": []
    },
    {
      "cell_type": "code",
      "metadata": {
        "id": "-Nu9NOT0feLt",
        "colab_type": "code",
        "colab": {}
      },
      "source": [
        "indian_page = requests.get(\"http://www.image-net.org/api/text/imagenet.synset.geturls?wnid=n02504013\")    #indian elephant\n",
        "\n",
        "indian_soup = BeautifulSoup(indian_page.content, 'html.parser')   \n",
        "\n",
        "african_page = requests.get(\"http://www.image-net.org/api/text/imagenet.synset.geturls?wnid=n02504458\")    #african elephant synset\n",
        "\n",
        "african_soup = BeautifulSoup(african_page.content, 'html.parser')\n",
        "\n",
        "\n",
        "tusker_page = requests.get(\"http://www.image-net.org/api/text/imagenet.synset.geturls?wnid=n01871265\")   #tuskers synset\n",
        "#print(t_page.content)\n",
        "\n",
        "tusker_soup = BeautifulSoup(tusker_page.content, 'html.parser')\n"
      ],
      "execution_count": 2,
      "outputs": []
    },
    {
      "cell_type": "code",
      "metadata": {
        "id": "xcaUsUZOgVr9",
        "colab_type": "code",
        "colab": {
          "base_uri": "https://localhost:8080/",
          "height": 68
        },
        "outputId": "12a857c9-22f6-4cb6-900e-1b494dc4f2ef"
      },
      "source": [
        "\n",
        "indian_str_soup=str(indian_soup)#convert soup to string so it can be split\n",
        "type(indian_str_soup)\n",
        "indian_split_urls=indian_str_soup.split('\\r\\n')     #split so each url is a different possition on a list\n",
        "print(len(indian_split_urls))\n",
        "\n",
        "african_str_soup=str(african_soup)\n",
        "type(african_str_soup)\n",
        "african_split_urls=african_str_soup.split('\\r\\n')     #split so each url is a different possition on a list\n",
        "print(len(african_split_urls))\n",
        "\n",
        "\n",
        "tusker_str_soup=str(tusker_soup)\n",
        "type(tusker_str_soup)\n",
        "tusker_split_urls=tusker_str_soup.split('\\r\\n')     #split so each url is a different possition on a list\n",
        "print(len(tusker_split_urls))"
      ],
      "execution_count": 4,
      "outputs": [
        {
          "output_type": "stream",
          "text": [
            "1650\n",
            "2278\n",
            "1065\n"
          ],
          "name": "stdout"
        }
      ]
    },
    {
      "cell_type": "code",
      "metadata": {
        "id": "RYG2mURrhElH",
        "colab_type": "code",
        "colab": {}
      },
      "source": [
        "#Create directories\n",
        "!mkdir /content/train #create the Train folder\n",
        "!mkdir /content/train/Indian_Elephant    #create the ie folder\n",
        "!mkdir /content/train/African_Alephant    #create the ae folder\n",
        "!mkdir /content/train/Tuskers    #create the t folder\n",
        "\n",
        "!mkdir /content/validation\n",
        "!mkdir /content/validation/Indian_Elephant #create the ie folder\n",
        "!mkdir /content/validation/African_Alephant #create the ae folder\n",
        "!mkdir /content/validation/Tuskers #create the t folder\n",
        "\n",
        "!mkdir /content/test/ \n",
        "!mkdir /content/test/test #list the files inside test"
      ],
      "execution_count": 5,
      "outputs": []
    },
    {
      "cell_type": "code",
      "metadata": {
        "id": "zx1LN6QehKtp",
        "colab_type": "code",
        "colab": {}
      },
      "source": [
        "img_rows, img_cols = 32, 32     #number of rows and columns to convert the images to\n",
        "input_shape = (img_rows, img_cols, 3)   #format to store the images (rows, columns,channels) called channels last\n",
        "\n",
        "def url_to_image(url):\n",
        "\t# download the image, convert it to a NumPy array, and then read\n",
        "\t# it into OpenCV format\n",
        "\tresp = urllib.request.urlopen(url)\n",
        "\timage = np.asarray(bytearray(resp.read()), dtype=\"uint8\")\n",
        "\timage = cv2.imdecode(image, cv2.IMREAD_COLOR)\n",
        " \n",
        "\t# return the image\n",
        "\treturn image\n"
      ],
      "execution_count": 7,
      "outputs": []
    },
    {
      "cell_type": "code",
      "metadata": {
        "id": "V3UTkMkshTH3",
        "colab_type": "code",
        "colab": {
          "base_uri": "https://localhost:8080/",
          "height": 289
        },
        "outputId": "f0b11b9c-91ef-4c07-840f-c096f764d41c"
      },
      "source": [
        "n_of_training_images=150    #the number of training images to use\n",
        "\n",
        "for progress in range(n_of_training_images):    #store all the images on a directory\n",
        "    # Print out progress whenever progress is a multiple of 20 so we can follow the\n",
        "    # (relatively slow) progress\n",
        "    if(progress%20==0):\n",
        "        print(progress)\n",
        "    if not indian_split_urls[progress] == None:\n",
        "      try:\n",
        "        I = url_to_image(indian_split_urls[progress])\n",
        "        if (len(I.shape))==3:    #check if the image has width, length and channels\n",
        "          save_path = '/content/train/Indian_Elephant/img'+str(progress)+'.jpg'      #create a name of each image\n",
        "          cv2.imwrite(save_path,I)\n",
        "\n",
        "      except:\n",
        "        None\n",
        "\n",
        "\n",
        "#do the same for african elephants:\n",
        "for progress in range(n_of_training_images):#store all the images on a directory\n",
        "    # Print out progress whenever progress is a multiple of 20 so we can follow the\n",
        "    # (relatively slow) progress\n",
        "    if(progress%20==0):\n",
        "        print(progress)\n",
        "    if not african_split_urls[progress] == None:\n",
        "      try:\n",
        "        I = url_to_image(african_split_urls[progress])\n",
        "        if (len(I.shape))==3: #check if the image has width, length and channels\n",
        "          save_path = '/content/train/African_Alephant/img'+str(progress)+'.jpg'#create a name of each image\n",
        "          cv2.imwrite(save_path,I)\n",
        "\n",
        "      except:\n",
        "        None\n"
      ],
      "execution_count": 11,
      "outputs": [
        {
          "output_type": "stream",
          "text": [
            "0\n",
            "20\n",
            "40\n",
            "60\n",
            "80\n",
            "100\n",
            "120\n",
            "140\n",
            "0\n",
            "20\n",
            "40\n",
            "60\n",
            "80\n",
            "100\n",
            "120\n",
            "140\n"
          ],
          "name": "stdout"
        }
      ]
    },
    {
      "cell_type": "code",
      "metadata": {
        "id": "uP5avh1XhYka",
        "colab_type": "code",
        "colab": {
          "base_uri": "https://localhost:8080/",
          "height": 153
        },
        "outputId": "79928c98-fd5a-4a58-8807-4b2b1dd0ef71"
      },
      "source": [
        "#do the same for t:\n",
        "for progress in range(n_of_training_images):#store all the images on a directory\n",
        "    # Print out progress whenever progress is a multiple of 20 so we can follow the\n",
        "    # (relatively slow) progress\n",
        "    if(progress%20==0):\n",
        "        print(progress)\n",
        "    if not tusker_split_urls[progress] == None:\n",
        "      try:\n",
        "        I = url_to_image(tusker_split_urls[progress])\n",
        "        if (len(I.shape))==3: #check if the image has width, length and channels\n",
        "          save_path = '/content/train/Tuskers/img'+str(progress)+'.jpg'#create a name of each image\n",
        "          cv2.imwrite(save_path,I)\n",
        "\n",
        "      except:\n",
        "        None"
      ],
      "execution_count": 12,
      "outputs": [
        {
          "output_type": "stream",
          "text": [
            "0\n",
            "20\n",
            "40\n",
            "60\n",
            "80\n",
            "100\n",
            "120\n",
            "140\n"
          ],
          "name": "stdout"
        }
      ]
    },
    {
      "cell_type": "markdown",
      "metadata": {
        "id": "PSCNOyviiCnr",
        "colab_type": "text"
      },
      "source": [
        "Validation Set"
      ]
    },
    {
      "cell_type": "code",
      "metadata": {
        "id": "W7jbTBFYiAdm",
        "colab_type": "code",
        "colab": {
          "base_uri": "https://localhost:8080/",
          "height": 272
        },
        "outputId": "7a9a1e39-60aa-4384-de86-2e3e8ba45117"
      },
      "source": [
        "for progress in range(50):      #store all the images on a directory\n",
        "    if(progress%10==0):\n",
        "        print(progress)\n",
        "    if not indian_split_urls[n_of_training_images+progress] == None:\n",
        "      try:\n",
        "        I = url_to_image(indian_split_urls[n_of_training_images+progress])      #get images that are different from the ones used for training\n",
        "        if (len(I.shape))==3:       #check if the image has width, length and channels\n",
        "          save_path = '/content/validation/Indian_Elephant/img'+str(progress)+'.jpg'      #create a name of each image\n",
        "          cv2.imwrite(save_path,I)\n",
        "\n",
        "      except:\n",
        "        None\n",
        "\n",
        "for progress in range(50):    #store all the images on a directory\n",
        "    # Print out progress whenever progress is a multiple of 10 so we can follow the\n",
        "    # (relatively slow) progress\n",
        "    if(progress%10==0):\n",
        "        print(progress)\n",
        "    if not african_split_urls[n_of_training_images+progress] == None:\n",
        "      try:\n",
        "        I = url_to_image(african_split_urls[n_of_training_images+progress])   #get images that are different from the ones used for training\n",
        "        if (len(I.shape))==3:     #check if the image has width, length and channels\n",
        "          save_path = '/content/validation/African_Alephant/img'+str(progress)+'.jpg'   #create a name of each image\n",
        "          cv2.imwrite(save_path,I)\n",
        "\n",
        "      except:\n",
        "        None\n",
        "\n",
        "for progress in range(50):    #store all the images on a directory\n",
        "    # Print out progress whenever progress is a multiple of 10 so we can follow the\n",
        "    # (relatively slow) progress\n",
        "    if(progress%10==0):\n",
        "        print(progress)\n",
        "    if not tusker_split_urls[progress] == None:\n",
        "      try:\n",
        "        I = url_to_image(tusker_split_urls[n_of_training_images+progress])   #get images that are different from the ones used for training\n",
        "        if (len(I.shape))==3:       #check if the image has width, length and channels\n",
        "          save_path = '/content/validation/Tuskers/img'+str(progress)+'.jpg'    #create a name of each image\n",
        "          cv2.imwrite(save_path,I)\n",
        "\n",
        "      except:\n",
        "        None"
      ],
      "execution_count": 13,
      "outputs": [
        {
          "output_type": "stream",
          "text": [
            "0\n",
            "10\n",
            "20\n",
            "30\n",
            "40\n",
            "0\n",
            "10\n",
            "20\n",
            "30\n",
            "40\n",
            "0\n",
            "10\n",
            "20\n",
            "30\n",
            "40\n"
          ],
          "name": "stdout"
        }
      ]
    },
    {
      "cell_type": "code",
      "metadata": {
        "id": "hLBFSXzpiYM3",
        "colab_type": "code",
        "colab": {}
      },
      "source": [
        "from keras.applications.resnet50 import ResNet50\n",
        "from keras.preprocessing import image\n",
        "from keras.applications.resnet50 import preprocess_input, decode_predictions\n",
        "from tensorflow.python.keras.models import Sequential\n",
        "from tensorflow.python.keras.layers import Dense\n",
        "from keras.preprocessing.image import ImageDataGenerator"
      ],
      "execution_count": 14,
      "outputs": []
    },
    {
      "cell_type": "code",
      "metadata": {
        "id": "IALlpNENic6P",
        "colab_type": "code",
        "colab": {
          "base_uri": "https://localhost:8080/",
          "height": 51
        },
        "outputId": "c77c617c-ee44-4762-ade7-2e0bdb9e7734"
      },
      "source": [
        "resnet_50_model = ResNet50(weights='imagenet')\n"
      ],
      "execution_count": 15,
      "outputs": [
        {
          "output_type": "stream",
          "text": [
            "Downloading data from https://storage.googleapis.com/tensorflow/keras-applications/resnet/resnet50_weights_tf_dim_ordering_tf_kernels.h5\n",
            "102973440/102967424 [==============================] - 1s 0us/step\n"
          ],
          "name": "stdout"
        }
      ]
    },
    {
      "cell_type": "code",
      "metadata": {
        "id": "B7cC7Zqyijsk",
        "colab_type": "code",
        "colab": {}
      },
      "source": [
        "\n",
        "model = Sequential()\n",
        "model.add(ResNet50(include_top = False, pooling = 'avg', weights = \"imagenet\"))\n",
        "model.add(Dense(3, activation = 'softmax'))\n",
        "model.layers[0].trainable = False"
      ],
      "execution_count": 30,
      "outputs": []
    },
    {
      "cell_type": "code",
      "metadata": {
        "id": "IIT1Pks7io2q",
        "colab_type": "code",
        "colab": {}
      },
      "source": [
        "model.compile(optimizer = \"adam\", loss = 'categorical_crossentropy', metrics = ['accuracy'])"
      ],
      "execution_count": 31,
      "outputs": []
    },
    {
      "cell_type": "code",
      "metadata": {
        "id": "wWQ1fj0wi4nq",
        "colab_type": "code",
        "colab": {
          "base_uri": "https://localhost:8080/",
          "height": 51
        },
        "outputId": "bd8ac7b9-d3e4-4dbf-9dc8-8bcb3160d71f"
      },
      "source": [
        "\n",
        "image_size = 224\n",
        "data_generator = ImageDataGenerator(preprocessing_function=preprocess_input)\n",
        "\n",
        "train_generator = data_generator.flow_from_directory(\n",
        "        '/content/train',\n",
        "        target_size=(image_size, image_size),\n",
        "        batch_size=100,\n",
        "        class_mode='categorical')\n",
        "\n",
        "validation_generator = data_generator.flow_from_directory(\n",
        "        '/content/validation',\n",
        "        target_size=(image_size, image_size),\n",
        "        batch_size=100,\n",
        "        class_mode='categorical')"
      ],
      "execution_count": 19,
      "outputs": [
        {
          "output_type": "stream",
          "text": [
            "Found 280 images belonging to 3 classes.\n",
            "Found 104 images belonging to 3 classes.\n"
          ],
          "name": "stdout"
        }
      ]
    },
    {
      "cell_type": "code",
      "metadata": {
        "id": "NI8pCqFLjJIK",
        "colab_type": "code",
        "colab": {}
      },
      "source": [
        "from tensorflow.python.keras.callbacks import EarlyStopping, ModelCheckpoint\n",
        "\n",
        "early_stopper = EarlyStopping(monitor = 'val_loss', patience = EARLY_STOP_PATIENCE)\n",
        "checkpointer = ModelCheckpoint(filepath = 'best.hdf5', monitor = 'val_loss', save_best_only = True, mode = 'auto')"
      ],
      "execution_count": 20,
      "outputs": []
    },
    {
      "cell_type": "code",
      "metadata": {
        "id": "4Yw564ZijMlN",
        "colab_type": "code",
        "colab": {
          "base_uri": "https://localhost:8080/",
          "height": 428
        },
        "outputId": "ecd46eb5-9880-41f8-e3e3-9dcbd1912525"
      },
      "source": [
        "history = model.fit_generator(train_generator, epochs = 10, validation_data=validation_generator, callbacks=[checkpointer, early_stopper])\n"
      ],
      "execution_count": 22,
      "outputs": [
        {
          "output_type": "stream",
          "text": [
            "WARNING:tensorflow:From <ipython-input-22-11b42217f7d0>:1: Model.fit_generator (from tensorflow.python.keras.engine.training) is deprecated and will be removed in a future version.\n",
            "Instructions for updating:\n",
            "Please use Model.fit, which supports generators.\n",
            "Epoch 1/10\n",
            "3/3 [==============================] - 46s 15s/step - loss: 1.4716 - accuracy: 0.3214 - val_loss: 1.4896 - val_accuracy: 0.3846\n",
            "Epoch 2/10\n",
            "3/3 [==============================] - 45s 15s/step - loss: 1.3091 - accuracy: 0.4071 - val_loss: 1.1705 - val_accuracy: 0.4327\n",
            "Epoch 3/10\n",
            "3/3 [==============================] - 41s 14s/step - loss: 1.0617 - accuracy: 0.4714 - val_loss: 1.1011 - val_accuracy: 0.5000\n",
            "Epoch 4/10\n",
            "3/3 [==============================] - 41s 14s/step - loss: 1.0062 - accuracy: 0.4786 - val_loss: 0.9880 - val_accuracy: 0.4808\n",
            "Epoch 5/10\n",
            "3/3 [==============================] - 44s 15s/step - loss: 0.8463 - accuracy: 0.6143 - val_loss: 0.9991 - val_accuracy: 0.5481\n",
            "Epoch 6/10\n",
            "3/3 [==============================] - 41s 14s/step - loss: 0.8126 - accuracy: 0.6107 - val_loss: 0.9550 - val_accuracy: 0.5577\n",
            "Epoch 7/10\n",
            "3/3 [==============================] - 41s 14s/step - loss: 0.7255 - accuracy: 0.6679 - val_loss: 0.8845 - val_accuracy: 0.6250\n",
            "Epoch 8/10\n",
            "3/3 [==============================] - 41s 14s/step - loss: 0.6868 - accuracy: 0.7214 - val_loss: 0.8542 - val_accuracy: 0.6346\n",
            "Epoch 9/10\n",
            "3/3 [==============================] - 41s 14s/step - loss: 0.6426 - accuracy: 0.7357 - val_loss: 0.8460 - val_accuracy: 0.6058\n",
            "Epoch 10/10\n",
            "3/3 [==============================] - 41s 14s/step - loss: 0.5944 - accuracy: 0.7321 - val_loss: 0.8550 - val_accuracy: 0.6154\n"
          ],
          "name": "stdout"
        }
      ]
    },
    {
      "cell_type": "code",
      "metadata": {
        "id": "b43nNo2Rjii1",
        "colab_type": "code",
        "colab": {
          "base_uri": "https://localhost:8080/",
          "height": 312
        },
        "outputId": "8f61b8e9-41d0-4cd9-af43-11ea472c58f2"
      },
      "source": [
        "import matplotlib.pyplot as plt  \n",
        "\n",
        "plt.plot(history.history['accuracy'])  \n",
        "plt.plot(history.history['val_accuracy'])  \n",
        "plt.title('model accuracy')  \n",
        "plt.ylabel('accuracy')  \n",
        "plt.xlabel('epoch')  \n",
        "plt.legend(['train', 'valid']) "
      ],
      "execution_count": 23,
      "outputs": [
        {
          "output_type": "execute_result",
          "data": {
            "text/plain": [
              "<matplotlib.legend.Legend at 0x7ff1fb9bc240>"
            ]
          },
          "metadata": {
            "tags": []
          },
          "execution_count": 23
        },
        {
          "output_type": "display_data",
          "data": {
            "image/png": "[encoded data removed]",
            "text/plain": [
              "<Figure size 432x288 with 1 Axes>"
            ]
          },
          "metadata": {
            "tags": [],
            "needs_background": "light"
          }
        }
      ]
    },
    {
      "cell_type": "code",
      "metadata": {
        "id": "2CsPX44ZjtY6",
        "colab_type": "code",
        "colab": {
          "base_uri": "https://localhost:8080/",
          "height": 312
        },
        "outputId": "6ab135e3-6b30-4e2e-f914-fc8bdb58efd7"
      },
      "source": [
        "\n",
        "plt.plot(history.history['loss'])  \n",
        "plt.plot(history.history['val_loss'])  \n",
        "plt.title('model loss')  \n",
        "plt.ylabel('loss')  \n",
        "plt.xlabel('epoch')  \n",
        "plt.legend(['train', 'valid']) "
      ],
      "execution_count": 24,
      "outputs": [
        {
          "output_type": "execute_result",
          "data": {
            "text/plain": [
              "<matplotlib.legend.Legend at 0x7ff1fb922828>"
            ]
          },
          "metadata": {
            "tags": []
          },
          "execution_count": 24
        },
        {
          "output_type": "display_data",
          "data": {
            "image/png": "[encoded data removed]",
            "text/plain": [
              "<Figure size 432x288 with 1 Axes>"
            ]
          },
          "metadata": {
            "tags": [],
            "needs_background": "light"
          }
        }
      ]
    },
    {
      "cell_type": "code",
      "metadata": {
        "id": "OV0FFWnAnaju",
        "colab_type": "code",
        "colab": {
          "base_uri": "https://localhost:8080/",
          "height": 221
        },
        "outputId": "0970e887-bfb0-42a3-b886-b89f3c430efc"
      },
      "source": [
        "model.summary()"
      ],
      "execution_count": 32,
      "outputs": [
        {
          "output_type": "stream",
          "text": [
            "Model: \"sequential_2\"\n",
            "_________________________________________________________________\n",
            "Layer (type)                 Output Shape              Param #   \n",
            "=================================================================\n",
            "resnet50 (Functional)        (None, 2048)              23587712  \n",
            "_________________________________________________________________\n",
            "dense_1 (Dense)              (None, 3)                 6147      \n",
            "=================================================================\n",
            "Total params: 23,593,859\n",
            "Trainable params: 6,147\n",
            "Non-trainable params: 23,587,712\n",
            "_________________________________________________________________\n"
          ],
          "name": "stdout"
        }
      ]
    }
  ]
}
