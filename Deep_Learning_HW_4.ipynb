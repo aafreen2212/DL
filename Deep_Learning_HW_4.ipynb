{
  "nbformat": 4,
  "nbformat_minor": 0,
  "metadata": {
    "colab": {
      "name": "Deep Learning HW-4.ipynb",
      "provenance": [],
      "collapsed_sections": [],
      "authorship_tag": "ABX9TyP2ZwSAi6agaWaYidX0rjGw",
      "include_colab_link": true
    },
    "kernelspec": {
      "name": "python3",
      "display_name": "Python 3"
    }
  },
  "cells": [
    {
      "cell_type": "markdown",
      "metadata": {
        "id": "view-in-github",
        "colab_type": "text"
      },
      "source": [
        "<a href=\"https://colab.research.google.com/github/aafreen2212/DL/blob/master/Deep_Learning_HW_4.ipynb\" target=\"_parent\"><img src=\"https://colab.research.google.com/assets/colab-badge.svg\" alt=\"Open In Colab\"/></a>"
      ]
    },
    {
      "cell_type": "code",
      "metadata": {
        "id": "B7t1BTH69rke",
        "colab_type": "code",
        "colab": {}
      },
      "source": [
        "import keras\n",
        "from keras.datasets import mnist\n",
        "from keras.models import Sequential\n",
        "from keras.layers import Dense, Dropout, Activation, Flatten\n",
        "from keras.utils import to_categorical\n",
        "from keras.callbacks import ModelCheckpoint, EarlyStopping"
      ],
      "execution_count": 1,
      "outputs": []
    },
    {
      "cell_type": "markdown",
      "metadata": {
        "id": "g8idSU2L9v20",
        "colab_type": "text"
      },
      "source": [
        "MNIST"
      ]
    },
    {
      "cell_type": "code",
      "metadata": {
        "id": "mRwu8wUU9vTI",
        "colab_type": "code",
        "colab": {
          "base_uri": "https://localhost:8080/",
          "height": 51
        },
        "outputId": "9222e072-364f-4d11-f23b-996f7aa4bc97"
      },
      "source": [
        "(X_train, y_train), (X_test, y_test) = mnist.load_data()"
      ],
      "execution_count": null,
      "outputs": [
        {
          "output_type": "stream",
          "text": [
            "Downloading data from https://storage.googleapis.com/tensorflow/tf-keras-datasets/mnist.npz\n",
            "11493376/11490434 [==============================] - 0s 0us/step\n"
          ],
          "name": "stdout"
        }
      ]
    },
    {
      "cell_type": "code",
      "metadata": {
        "id": "k31zxq3a90rI",
        "colab_type": "code",
        "colab": {}
      },
      "source": [
        "#Pre-pricessing\n",
        "X_train = X_train.reshape(60000, 28*28)\n",
        "X_test = X_test.reshape(10000, 28*28)\n",
        "\n",
        "X_train = X_train.astype('float32')\n",
        "X_test = X_test.astype('float32')\n",
        "\n",
        "#preprocess\n",
        "X_train /=  255.0\n",
        "X_test /= 255.0\n",
        "\n",
        "y_train = to_categorical(y_train, 10)\n",
        "y_test = to_categorical(y_test, 10)"
      ],
      "execution_count": null,
      "outputs": []
    },
    {
      "cell_type": "code",
      "metadata": {
        "id": "m2rvWNCd-Hzu",
        "colab_type": "code",
        "colab": {}
      },
      "source": [
        "\n",
        "#model build using layers\n",
        "\n",
        "model = Sequential()\n",
        "model.add(Dense(1024, input_dim=784, activation=\"sigmoid\"))\n",
        "model.add(Dense(10, activation=\"softmax\"))\n",
        "\n",
        "#compile\n",
        "model.compile(optimizer='sgd', loss='categorical_crossentropy', metrics=[\"accuracy\"])\n",
        "\n"
      ],
      "execution_count": null,
      "outputs": []
    },
    {
      "cell_type": "code",
      "metadata": {
        "id": "6A7XqsI1-PSU",
        "colab_type": "code",
        "colab": {
          "base_uri": "https://localhost:8080/",
          "height": 697
        },
        "outputId": "01d7ca0a-24fe-4803-e7bf-0200a45aaae1"
      },
      "source": [
        "#Early stopping and checkpoint\n",
        "filepath=\"weights.{epoch:02d}-{val_loss:.2f}.hdf5\"\n",
        "\n",
        "earlystopping = EarlyStopping(monitor='val_loss', verbose=1, patience=5, mode=\"min\")\n",
        "checkpoint = ModelCheckpoint(filepath, monitor='val_accuracy', verbose=1, save_best_only=True, mode=\"max\")\n",
        "\n",
        "\n",
        "#train\n",
        "history = model.fit(X_train, y_train, epochs=10, validation_split=0.2, verbose=1, callbacks=[earlystopping, checkpoint])"
      ],
      "execution_count": null,
      "outputs": [
        {
          "output_type": "stream",
          "text": [
            "Epoch 1/10\n",
            "1494/1500 [============================>.] - ETA: 0s - loss: 1.3862 - accuracy: 0.6778\n",
            "Epoch 00001: val_accuracy improved from -inf to 0.83033, saving model to weights.01-0.81.hdf5\n",
            "1500/1500 [==============================] - 8s 5ms/step - loss: 1.3842 - accuracy: 0.6783 - val_loss: 0.8140 - val_accuracy: 0.8303\n",
            "Epoch 2/10\n",
            "1495/1500 [============================>.] - ETA: 0s - loss: 0.6803 - accuracy: 0.8436\n",
            "Epoch 00002: val_accuracy improved from 0.83033 to 0.86683, saving model to weights.02-0.54.hdf5\n",
            "1500/1500 [==============================] - 8s 5ms/step - loss: 0.6798 - accuracy: 0.8436 - val_loss: 0.5394 - val_accuracy: 0.8668\n",
            "Epoch 3/10\n",
            "1490/1500 [============================>.] - ETA: 0s - loss: 0.5201 - accuracy: 0.8673\n",
            "Epoch 00003: val_accuracy improved from 0.86683 to 0.88583, saving model to weights.03-0.45.hdf5\n",
            "1500/1500 [==============================] - 8s 5ms/step - loss: 0.5199 - accuracy: 0.8673 - val_loss: 0.4478 - val_accuracy: 0.8858\n",
            "Epoch 4/10\n",
            "1495/1500 [============================>.] - ETA: 0s - loss: 0.4535 - accuracy: 0.8791\n",
            "Epoch 00004: val_accuracy improved from 0.88583 to 0.89367, saving model to weights.04-0.40.hdf5\n",
            "1500/1500 [==============================] - 8s 5ms/step - loss: 0.4532 - accuracy: 0.8791 - val_loss: 0.4014 - val_accuracy: 0.8937\n",
            "Epoch 5/10\n",
            "1500/1500 [==============================] - ETA: 0s - loss: 0.4161 - accuracy: 0.8852\n",
            "Epoch 00005: val_accuracy improved from 0.89367 to 0.89583, saving model to weights.05-0.38.hdf5\n",
            "1500/1500 [==============================] - 8s 5ms/step - loss: 0.4161 - accuracy: 0.8852 - val_loss: 0.3751 - val_accuracy: 0.8958\n",
            "Epoch 6/10\n",
            "1497/1500 [============================>.] - ETA: 0s - loss: 0.3921 - accuracy: 0.8906\n",
            "Epoch 00006: val_accuracy improved from 0.89583 to 0.90100, saving model to weights.06-0.36.hdf5\n",
            "1500/1500 [==============================] - 9s 6ms/step - loss: 0.3922 - accuracy: 0.8906 - val_loss: 0.3564 - val_accuracy: 0.9010\n",
            "Epoch 7/10\n",
            "1498/1500 [============================>.] - ETA: 0s - loss: 0.3755 - accuracy: 0.8944\n",
            "Epoch 00007: val_accuracy improved from 0.90100 to 0.90400, saving model to weights.07-0.34.hdf5\n",
            "1500/1500 [==============================] - 8s 5ms/step - loss: 0.3753 - accuracy: 0.8945 - val_loss: 0.3435 - val_accuracy: 0.9040\n",
            "Epoch 8/10\n",
            "1490/1500 [============================>.] - ETA: 0s - loss: 0.3622 - accuracy: 0.8975\n",
            "Epoch 00008: val_accuracy improved from 0.90400 to 0.90483, saving model to weights.08-0.34.hdf5\n",
            "1500/1500 [==============================] - 8s 5ms/step - loss: 0.3627 - accuracy: 0.8974 - val_loss: 0.3358 - val_accuracy: 0.9048\n",
            "Epoch 9/10\n",
            "1488/1500 [============================>.] - ETA: 0s - loss: 0.3526 - accuracy: 0.8992\n",
            "Epoch 00009: val_accuracy improved from 0.90483 to 0.90783, saving model to weights.09-0.33.hdf5\n",
            "1500/1500 [==============================] - 8s 5ms/step - loss: 0.3527 - accuracy: 0.8992 - val_loss: 0.3258 - val_accuracy: 0.9078\n",
            "Epoch 10/10\n",
            "1495/1500 [============================>.] - ETA: 0s - loss: 0.3451 - accuracy: 0.9012\n",
            "Epoch 00010: val_accuracy improved from 0.90783 to 0.90833, saving model to weights.10-0.32.hdf5\n",
            "1500/1500 [==============================] - 8s 5ms/step - loss: 0.3449 - accuracy: 0.9014 - val_loss: 0.3196 - val_accuracy: 0.9083\n"
          ],
          "name": "stdout"
        }
      ]
    },
    {
      "cell_type": "code",
      "metadata": {
        "id": "bYPm29u8-_Eb",
        "colab_type": "code",
        "colab": {
          "base_uri": "https://localhost:8080/",
          "height": 312
        },
        "outputId": "a1b93c50-af7c-4038-aa25-8be0fdc051b5"
      },
      "source": [
        "#plot results\n",
        "import matplotlib.pyplot as plt\n",
        "\n",
        "plt.plot(history.history['accuracy'])\n",
        "plt.plot(history.history['val_accuracy'])\n",
        "plt.title('Model Accuracy')\n",
        "plt.ylabel('Accuracy')\n",
        "plt.xlabel('Epochs')\n",
        "plt.legend(['Train', 'Validation'], loc = 'upper left')"
      ],
      "execution_count": null,
      "outputs": [
        {
          "output_type": "execute_result",
          "data": {
            "text/plain": [
              "<matplotlib.legend.Legend at 0x7f71e73a6ef0>"
            ]
          },
          "metadata": {
            "tags": []
          },
          "execution_count": 7
        },
        {
          "output_type": "display_data",
          "data": {
            "image/png": "[encoded data removed]",
            "text/plain": [
              "<Figure size 432x288 with 1 Axes>"
            ]
          },
          "metadata": {
            "tags": [],
            "needs_background": "light"
          }
        }
      ]
    },
    {
      "cell_type": "code",
      "metadata": {
        "id": "8wFJtyul-jDA",
        "colab_type": "code",
        "colab": {}
      },
      "source": [
        "#model build using layers\n",
        "\n",
        "model = Sequential()\n",
        "model.add(Dense(1024, input_dim=784, activation=\"sigmoid\"))\n",
        "model.add(Dense(10, activation=\"softmax\"))\n",
        "\n",
        "#compile\n",
        "model.compile(optimizer='sgd', loss='categorical_crossentropy', metrics=[\"categorical_accuracy\"])\n"
      ],
      "execution_count": null,
      "outputs": []
    },
    {
      "cell_type": "code",
      "metadata": {
        "id": "7NylumnaAmNO",
        "colab_type": "code",
        "colab": {
          "base_uri": "https://localhost:8080/",
          "height": 547
        },
        "outputId": "6ab0d8a1-741e-43b7-a15a-7a06bad9bcc5"
      },
      "source": [
        "#Early stopping and checkpoint\n",
        "filepath=\"weights.{epoch:02d}-{val_loss:.2f}.hdf5\"\n",
        "\n",
        "earlystopping = EarlyStopping(monitor='val_loss', verbose=1, patience=5, mode=\"min\")\n",
        "checkpoint = ModelCheckpoint(filepath, monitor='val_accuracy', verbose=1, save_best_only=True, mode=\"max\")\n",
        "\n",
        "\n",
        "#train\n",
        "history = model.fit(X_train, y_train, epochs=10, validation_split=0.2, verbose=1, callbacks=[earlystopping, checkpoint])"
      ],
      "execution_count": null,
      "outputs": [
        {
          "output_type": "stream",
          "text": [
            "Epoch 1/10\n",
            "1497/1500 [============================>.] - ETA: 0s - loss: 1.3835 - categorical_accuracy: 0.6760WARNING:tensorflow:Can save best model only with val_accuracy available, skipping.\n",
            "1500/1500 [==============================] - 8s 5ms/step - loss: 1.3823 - categorical_accuracy: 0.6763 - val_loss: 0.8172 - val_categorical_accuracy: 0.8345\n",
            "Epoch 2/10\n",
            "1493/1500 [============================>.] - ETA: 0s - loss: 0.6826 - categorical_accuracy: 0.8446WARNING:tensorflow:Can save best model only with val_accuracy available, skipping.\n",
            "1500/1500 [==============================] - 8s 5ms/step - loss: 0.6821 - categorical_accuracy: 0.8446 - val_loss: 0.5394 - val_categorical_accuracy: 0.8736\n",
            "Epoch 3/10\n",
            "1496/1500 [============================>.] - ETA: 0s - loss: 0.5210 - categorical_accuracy: 0.8677WARNING:tensorflow:Can save best model only with val_accuracy available, skipping.\n",
            "1500/1500 [==============================] - 8s 5ms/step - loss: 0.5209 - categorical_accuracy: 0.8677 - val_loss: 0.4491 - val_categorical_accuracy: 0.8807\n",
            "Epoch 4/10\n",
            "1498/1500 [============================>.] - ETA: 0s - loss: 0.4541 - categorical_accuracy: 0.8793WARNING:tensorflow:Can save best model only with val_accuracy available, skipping.\n",
            "1500/1500 [==============================] - 8s 5ms/step - loss: 0.4540 - categorical_accuracy: 0.8793 - val_loss: 0.3998 - val_categorical_accuracy: 0.8950\n",
            "Epoch 5/10\n",
            "1500/1500 [==============================] - ETA: 0s - loss: 0.4164 - categorical_accuracy: 0.8859WARNING:tensorflow:Can save best model only with val_accuracy available, skipping.\n",
            "1500/1500 [==============================] - 8s 5ms/step - loss: 0.4164 - categorical_accuracy: 0.8859 - val_loss: 0.3769 - val_categorical_accuracy: 0.8967\n",
            "Epoch 6/10\n",
            "1490/1500 [============================>.] - ETA: 0s - loss: 0.3923 - categorical_accuracy: 0.8908WARNING:tensorflow:Can save best model only with val_accuracy available, skipping.\n",
            "1500/1500 [==============================] - 8s 6ms/step - loss: 0.3927 - categorical_accuracy: 0.8906 - val_loss: 0.3569 - val_categorical_accuracy: 0.9005\n",
            "Epoch 7/10\n",
            "1496/1500 [============================>.] - ETA: 0s - loss: 0.3759 - categorical_accuracy: 0.8942WARNING:tensorflow:Can save best model only with val_accuracy available, skipping.\n",
            "1500/1500 [==============================] - 8s 5ms/step - loss: 0.3758 - categorical_accuracy: 0.8941 - val_loss: 0.3458 - val_categorical_accuracy: 0.9042\n",
            "Epoch 8/10\n",
            "1498/1500 [============================>.] - ETA: 0s - loss: 0.3632 - categorical_accuracy: 0.8969WARNING:tensorflow:Can save best model only with val_accuracy available, skipping.\n",
            "1500/1500 [==============================] - 8s 5ms/step - loss: 0.3631 - categorical_accuracy: 0.8969 - val_loss: 0.3366 - val_categorical_accuracy: 0.9043\n",
            "Epoch 9/10\n",
            "1500/1500 [==============================] - ETA: 0s - loss: 0.3533 - categorical_accuracy: 0.8993WARNING:tensorflow:Can save best model only with val_accuracy available, skipping.\n",
            "1500/1500 [==============================] - 8s 5ms/step - loss: 0.3533 - categorical_accuracy: 0.8993 - val_loss: 0.3276 - val_categorical_accuracy: 0.9084\n",
            "Epoch 10/10\n",
            "1493/1500 [============================>.] - ETA: 0s - loss: 0.3450 - categorical_accuracy: 0.9014WARNING:tensorflow:Can save best model only with val_accuracy available, skipping.\n",
            "1500/1500 [==============================] - 8s 5ms/step - loss: 0.3452 - categorical_accuracy: 0.9015 - val_loss: 0.3229 - val_categorical_accuracy: 0.9078\n"
          ],
          "name": "stdout"
        }
      ]
    },
    {
      "cell_type": "code",
      "metadata": {
        "id": "DC1D4eQ6BaD5",
        "colab_type": "code",
        "colab": {
          "base_uri": "https://localhost:8080/",
          "height": 312
        },
        "outputId": "75701ea1-122a-4675-8a8b-3117f88910a4"
      },
      "source": [
        "#plot results\n",
        "import matplotlib.pyplot as plt\n",
        "\n",
        "plt.plot(history.history['categorical_accuracy'])\n",
        "plt.plot(history.history['val_categorical_accuracy'])\n",
        "plt.title('Model Categorical Accuracy')\n",
        "plt.ylabel('Categorical Accuracy')\n",
        "plt.xlabel('Epochs')\n",
        "plt.legend(['Train', 'Validation'], loc = 'upper left')"
      ],
      "execution_count": null,
      "outputs": [
        {
          "output_type": "execute_result",
          "data": {
            "text/plain": [
              "<matplotlib.legend.Legend at 0x7f71e27cde10>"
            ]
          },
          "metadata": {
            "tags": []
          },
          "execution_count": 18
        },
        {
          "output_type": "display_data",
          "data": {
            "image/png": "[encoded data removed]",
            "text/plain": [
              "<Figure size 432x288 with 1 Axes>"
            ]
          },
          "metadata": {
            "tags": [],
            "needs_background": "light"
          }
        }
      ]
    },
    {
      "cell_type": "code",
      "metadata": {
        "id": "iiypcIAZB1CS",
        "colab_type": "code",
        "colab": {}
      },
      "source": [
        "#model build using layers\n",
        "\n",
        "model = Sequential()\n",
        "model.add(Dense(1024, input_dim=784, activation=\"sigmoid\"))\n",
        "model.add(Dense(10, activation=\"softmax\"))\n",
        "\n",
        "#compile\n",
        "model.compile(optimizer='sgd', loss='categorical_crossentropy', metrics=[\"top_k_categorical_accuracy\"])"
      ],
      "execution_count": null,
      "outputs": []
    },
    {
      "cell_type": "code",
      "metadata": {
        "id": "bkB6Qij9B-dk",
        "colab_type": "code",
        "colab": {
          "base_uri": "https://localhost:8080/",
          "height": 547
        },
        "outputId": "57a7539c-c667-418a-ddc4-3dce5891937f"
      },
      "source": [
        "#Early stopping and checkpoint\n",
        "filepath=\"weights.{epoch:02d}-{val_loss:.2f}.hdf5\"\n",
        "\n",
        "earlystopping = EarlyStopping(monitor='val_loss', verbose=1, patience=5, mode=\"min\")\n",
        "checkpoint = ModelCheckpoint(filepath, monitor='val_accuracy', verbose=1, save_best_only=True, mode=\"max\")\n",
        "\n",
        "\n",
        "#train\n",
        "history = model.fit(X_train, y_train, epochs=10, validation_split=0.2, verbose=1, callbacks=[earlystopping, checkpoint])"
      ],
      "execution_count": null,
      "outputs": [
        {
          "output_type": "stream",
          "text": [
            "Epoch 1/10\n",
            "1493/1500 [============================>.] - ETA: 0s - loss: 1.3655 - top_k_categorical_accuracy: 0.9429WARNING:tensorflow:Can save best model only with val_accuracy available, skipping.\n",
            "1500/1500 [==============================] - 8s 5ms/step - loss: 1.3634 - top_k_categorical_accuracy: 0.9431 - val_loss: 0.7987 - val_top_k_categorical_accuracy: 0.9866\n",
            "Epoch 2/10\n",
            "1497/1500 [============================>.] - ETA: 0s - loss: 0.6752 - top_k_categorical_accuracy: 0.9875WARNING:tensorflow:Can save best model only with val_accuracy available, skipping.\n",
            "1500/1500 [==============================] - 7s 5ms/step - loss: 0.6750 - top_k_categorical_accuracy: 0.9875 - val_loss: 0.5342 - val_top_k_categorical_accuracy: 0.9891\n",
            "Epoch 3/10\n",
            "1492/1500 [============================>.] - ETA: 0s - loss: 0.5174 - top_k_categorical_accuracy: 0.9899WARNING:tensorflow:Can save best model only with val_accuracy available, skipping.\n",
            "1500/1500 [==============================] - 7s 5ms/step - loss: 0.5175 - top_k_categorical_accuracy: 0.9899 - val_loss: 0.4456 - val_top_k_categorical_accuracy: 0.9910\n",
            "Epoch 4/10\n",
            "1494/1500 [============================>.] - ETA: 0s - loss: 0.4520 - top_k_categorical_accuracy: 0.9906WARNING:tensorflow:Can save best model only with val_accuracy available, skipping.\n",
            "1500/1500 [==============================] - 7s 5ms/step - loss: 0.4516 - top_k_categorical_accuracy: 0.9906 - val_loss: 0.4011 - val_top_k_categorical_accuracy: 0.9916\n",
            "Epoch 5/10\n",
            "1495/1500 [============================>.] - ETA: 0s - loss: 0.4149 - top_k_categorical_accuracy: 0.9918WARNING:tensorflow:Can save best model only with val_accuracy available, skipping.\n",
            "1500/1500 [==============================] - 7s 5ms/step - loss: 0.4148 - top_k_categorical_accuracy: 0.9919 - val_loss: 0.3740 - val_top_k_categorical_accuracy: 0.9927\n",
            "Epoch 6/10\n",
            "1496/1500 [============================>.] - ETA: 0s - loss: 0.3911 - top_k_categorical_accuracy: 0.9920WARNING:tensorflow:Can save best model only with val_accuracy available, skipping.\n",
            "1500/1500 [==============================] - 7s 5ms/step - loss: 0.3915 - top_k_categorical_accuracy: 0.9920 - val_loss: 0.3552 - val_top_k_categorical_accuracy: 0.9930\n",
            "Epoch 7/10\n",
            "1497/1500 [============================>.] - ETA: 0s - loss: 0.3749 - top_k_categorical_accuracy: 0.9924WARNING:tensorflow:Can save best model only with val_accuracy available, skipping.\n",
            "1500/1500 [==============================] - 8s 5ms/step - loss: 0.3750 - top_k_categorical_accuracy: 0.9924 - val_loss: 0.3438 - val_top_k_categorical_accuracy: 0.9932\n",
            "Epoch 8/10\n",
            "1493/1500 [============================>.] - ETA: 0s - loss: 0.3624 - top_k_categorical_accuracy: 0.9930WARNING:tensorflow:Can save best model only with val_accuracy available, skipping.\n",
            "1500/1500 [==============================] - 8s 5ms/step - loss: 0.3624 - top_k_categorical_accuracy: 0.9930 - val_loss: 0.3360 - val_top_k_categorical_accuracy: 0.9932\n",
            "Epoch 9/10\n",
            "1498/1500 [============================>.] - ETA: 0s - loss: 0.3525 - top_k_categorical_accuracy: 0.9934WARNING:tensorflow:Can save best model only with val_accuracy available, skipping.\n",
            "1500/1500 [==============================] - 8s 5ms/step - loss: 0.3525 - top_k_categorical_accuracy: 0.9934 - val_loss: 0.3270 - val_top_k_categorical_accuracy: 0.9937\n",
            "Epoch 10/10\n",
            "1497/1500 [============================>.] - ETA: 0s - loss: 0.3446 - top_k_categorical_accuracy: 0.9938WARNING:tensorflow:Can save best model only with val_accuracy available, skipping.\n",
            "1500/1500 [==============================] - 8s 5ms/step - loss: 0.3445 - top_k_categorical_accuracy: 0.9939 - val_loss: 0.3197 - val_top_k_categorical_accuracy: 0.9933\n"
          ],
          "name": "stdout"
        }
      ]
    },
    {
      "cell_type": "code",
      "metadata": {
        "id": "YYnPw3exDE0u",
        "colab_type": "code",
        "colab": {
          "base_uri": "https://localhost:8080/",
          "height": 312
        },
        "outputId": "18ac53f6-056d-4b1d-be3b-d2ab273420ff"
      },
      "source": [
        "#plot results\n",
        "import matplotlib.pyplot as plt\n",
        "\n",
        "plt.plot(history.history['top_k_categorical_accuracy'])\n",
        "plt.plot(history.history['val_top_k_categorical_accuracy'])\n",
        "plt.title('Model Categorical Accuracy')\n",
        "plt.ylabel('Top k Categorical Accuracy')\n",
        "plt.xlabel('Epochs')\n",
        "plt.legend(['Train', 'Validation'], loc = 'upper left')"
      ],
      "execution_count": null,
      "outputs": [
        {
          "output_type": "execute_result",
          "data": {
            "text/plain": [
              "<matplotlib.legend.Legend at 0x7f71e134ac18>"
            ]
          },
          "metadata": {
            "tags": []
          },
          "execution_count": 29
        },
        {
          "output_type": "display_data",
          "data": {
            "image/png": "[encoded data removed]",
            "text/plain": [
              "<Figure size 432x288 with 1 Axes>"
            ]
          },
          "metadata": {
            "tags": [],
            "needs_background": "light"
          }
        }
      ]
    },
    {
      "cell_type": "markdown",
      "metadata": {
        "id": "BofFCwMQD0n5",
        "colab_type": "text"
      },
      "source": [
        "Fashion MNIST"
      ]
    },
    {
      "cell_type": "code",
      "metadata": {
        "id": "9wlFzDyQD2BR",
        "colab_type": "code",
        "colab": {
          "base_uri": "https://localhost:8080/",
          "height": 153
        },
        "outputId": "6790e3ee-4858-46ed-c343-d57cc5e42982"
      },
      "source": [
        "from keras.datasets import fashion_mnist\n",
        "(X_train, y_train), (X_test, y_test) = fashion_mnist.load_data()\n",
        "\n",
        "X_train = X_train.reshape(60000, 28*28)\n",
        "X_test = X_test.reshape(10000, 28*28)\n",
        "\n",
        "X_train = X_train.astype('float32')\n",
        "X_test = X_test.astype('float32')\n",
        "\n",
        "#preprocess\n",
        "X_train /=  255.0\n",
        "X_test /= 255.0\n",
        "\n",
        "y_train = to_categorical(y_train, 10)\n",
        "y_test = to_categorical(y_test, 10)"
      ],
      "execution_count": null,
      "outputs": [
        {
          "output_type": "stream",
          "text": [
            "Downloading data from https://storage.googleapis.com/tensorflow/tf-keras-datasets/train-labels-idx1-ubyte.gz\n",
            "32768/29515 [=================================] - 0s 0us/step\n",
            "Downloading data from https://storage.googleapis.com/tensorflow/tf-keras-datasets/train-images-idx3-ubyte.gz\n",
            "26427392/26421880 [==============================] - 0s 0us/step\n",
            "Downloading data from https://storage.googleapis.com/tensorflow/tf-keras-datasets/t10k-labels-idx1-ubyte.gz\n",
            "8192/5148 [===============================================] - 0s 0us/step\n",
            "Downloading data from https://storage.googleapis.com/tensorflow/tf-keras-datasets/t10k-images-idx3-ubyte.gz\n",
            "4423680/4422102 [==============================] - 0s 0us/step\n"
          ],
          "name": "stdout"
        }
      ]
    },
    {
      "cell_type": "code",
      "metadata": {
        "id": "NDQ2FQHhED4f",
        "colab_type": "code",
        "colab": {
          "base_uri": "https://localhost:8080/",
          "height": 697
        },
        "outputId": "0ff956be-2a13-4208-e3c7-50a6f8024b65"
      },
      "source": [
        "#model build using layers\n",
        "\n",
        "model = Sequential()\n",
        "model.add(Dense(1024, input_dim=784, activation=\"sigmoid\"))\n",
        "model.add(Dense(10, activation=\"softmax\"))\n",
        "\n",
        "#compile\n",
        "model.compile(optimizer='sgd', loss='categorical_crossentropy', metrics=[\"accuracy\"])\n",
        "#Early stopping and checkpoint\n",
        "filepath=\"weights.{epoch:02d}-{val_loss:.2f}.hdf5\"\n",
        "\n",
        "earlystopping = EarlyStopping(monitor='val_loss', verbose=1, patience=5, mode=\"min\")\n",
        "checkpoint = ModelCheckpoint(filepath, monitor='val_accuracy', verbose=1, save_best_only=True, mode=\"max\")\n",
        "\n",
        "\n",
        "#train\n",
        "history = model.fit(X_train, y_train, epochs=10, validation_split=0.2, verbose=1, callbacks=[earlystopping, checkpoint])"
      ],
      "execution_count": null,
      "outputs": [
        {
          "output_type": "stream",
          "text": [
            "Epoch 1/10\n",
            "1499/1500 [============================>.] - ETA: 0s - loss: 1.1847 - accuracy: 0.6591\n",
            "Epoch 00001: val_accuracy improved from -inf to 0.74508, saving model to weights.01-0.81.hdf5\n",
            "1500/1500 [==============================] - 8s 5ms/step - loss: 1.1844 - accuracy: 0.6592 - val_loss: 0.8094 - val_accuracy: 0.7451\n",
            "Epoch 2/10\n",
            "1500/1500 [==============================] - ETA: 0s - loss: 0.7412 - accuracy: 0.7527\n",
            "Epoch 00002: val_accuracy improved from 0.74508 to 0.77050, saving model to weights.02-0.67.hdf5\n",
            "1500/1500 [==============================] - 8s 5ms/step - loss: 0.7412 - accuracy: 0.7527 - val_loss: 0.6721 - val_accuracy: 0.7705\n",
            "Epoch 3/10\n",
            "1496/1500 [============================>.] - ETA: 0s - loss: 0.6499 - accuracy: 0.7749\n",
            "Epoch 00003: val_accuracy improved from 0.77050 to 0.78467, saving model to weights.03-0.62.hdf5\n",
            "1500/1500 [==============================] - 9s 6ms/step - loss: 0.6497 - accuracy: 0.7749 - val_loss: 0.6185 - val_accuracy: 0.7847\n",
            "Epoch 4/10\n",
            "1490/1500 [============================>.] - ETA: 0s - loss: 0.6004 - accuracy: 0.7897\n",
            "Epoch 00004: val_accuracy improved from 0.78467 to 0.79533, saving model to weights.04-0.58.hdf5\n",
            "1500/1500 [==============================] - 8s 5ms/step - loss: 0.6010 - accuracy: 0.7895 - val_loss: 0.5771 - val_accuracy: 0.7953\n",
            "Epoch 5/10\n",
            "1496/1500 [============================>.] - ETA: 0s - loss: 0.5690 - accuracy: 0.8012\n",
            "Epoch 00005: val_accuracy improved from 0.79533 to 0.79917, saving model to weights.05-0.56.hdf5\n",
            "1500/1500 [==============================] - 8s 5ms/step - loss: 0.5691 - accuracy: 0.8012 - val_loss: 0.5554 - val_accuracy: 0.7992\n",
            "Epoch 6/10\n",
            "1498/1500 [============================>.] - ETA: 0s - loss: 0.5458 - accuracy: 0.8096\n",
            "Epoch 00006: val_accuracy improved from 0.79917 to 0.81192, saving model to weights.06-0.53.hdf5\n",
            "1500/1500 [==============================] - 8s 5ms/step - loss: 0.5457 - accuracy: 0.8097 - val_loss: 0.5315 - val_accuracy: 0.8119\n",
            "Epoch 7/10\n",
            "1497/1500 [============================>.] - ETA: 0s - loss: 0.5284 - accuracy: 0.8156\n",
            "Epoch 00007: val_accuracy did not improve from 0.81192\n",
            "1500/1500 [==============================] - 8s 5ms/step - loss: 0.5284 - accuracy: 0.8155 - val_loss: 0.5287 - val_accuracy: 0.8084\n",
            "Epoch 8/10\n",
            "1499/1500 [============================>.] - ETA: 0s - loss: 0.5149 - accuracy: 0.8205\n",
            "Epoch 00008: val_accuracy improved from 0.81192 to 0.81875, saving model to weights.08-0.51.hdf5\n",
            "1500/1500 [==============================] - 8s 5ms/step - loss: 0.5150 - accuracy: 0.8205 - val_loss: 0.5086 - val_accuracy: 0.8188\n",
            "Epoch 9/10\n",
            "1495/1500 [============================>.] - ETA: 0s - loss: 0.5040 - accuracy: 0.8236\n",
            "Epoch 00009: val_accuracy did not improve from 0.81875\n",
            "1500/1500 [==============================] - 8s 5ms/step - loss: 0.5039 - accuracy: 0.8237 - val_loss: 0.5075 - val_accuracy: 0.8184\n",
            "Epoch 10/10\n",
            "1491/1500 [============================>.] - ETA: 0s - loss: 0.4949 - accuracy: 0.8275\n",
            "Epoch 00010: val_accuracy improved from 0.81875 to 0.81917, saving model to weights.10-0.50.hdf5\n",
            "1500/1500 [==============================] - 8s 5ms/step - loss: 0.4946 - accuracy: 0.8276 - val_loss: 0.5024 - val_accuracy: 0.8192\n"
          ],
          "name": "stdout"
        }
      ]
    },
    {
      "cell_type": "code",
      "metadata": {
        "id": "OZM-SzxxEbPa",
        "colab_type": "code",
        "colab": {
          "base_uri": "https://localhost:8080/",
          "height": 312
        },
        "outputId": "9526e361-a633-43c5-fd3a-34cbeab04d96"
      },
      "source": [
        "#plot results of accuracy\n",
        "import matplotlib.pyplot as plt\n",
        "\n",
        "plt.plot(history.history['accuracy'])\n",
        "plt.plot(history.history['val_accuracy'])\n",
        "plt.title('Model Accuracy')\n",
        "plt.ylabel('Accuracy')\n",
        "plt.xlabel('Epochs')\n",
        "plt.legend(['Train', 'Validation'], loc = 'upper left')"
      ],
      "execution_count": null,
      "outputs": [
        {
          "output_type": "execute_result",
          "data": {
            "text/plain": [
              "<matplotlib.legend.Legend at 0x7f71e114b6a0>"
            ]
          },
          "metadata": {
            "tags": []
          },
          "execution_count": 34
        },
        {
          "output_type": "display_data",
          "data": {
            "image/png": "[encoded data removed]",
            "text/plain": [
              "<Figure size 432x288 with 1 Axes>"
            ]
          },
          "metadata": {
            "tags": [],
            "needs_background": "light"
          }
        }
      ]
    },
    {
      "cell_type": "code",
      "metadata": {
        "id": "48ScoKnaEgir",
        "colab_type": "code",
        "colab": {
          "base_uri": "https://localhost:8080/",
          "height": 547
        },
        "outputId": "8815f195-eeda-4674-bb8e-d0b95689645f"
      },
      "source": [
        "#model build using layers\n",
        "\n",
        "model = Sequential()\n",
        "model.add(Dense(1024, input_dim=784, activation=\"sigmoid\"))\n",
        "model.add(Dense(10, activation=\"softmax\"))\n",
        "\n",
        "#compile\n",
        "model.compile(optimizer='sgd', loss='categorical_crossentropy', metrics=[\"categorical_accuracy\"])\n",
        "#Early stopping and checkpoint\n",
        "filepath=\"weights.{epoch:02d}-{val_loss:.2f}.hdf5\"\n",
        "\n",
        "earlystopping = EarlyStopping(monitor='val_loss', verbose=1, patience=5, mode=\"min\")\n",
        "checkpoint = ModelCheckpoint(filepath, monitor='val_accuracy', verbose=1, save_best_only=True, mode=\"max\")\n",
        "\n",
        "\n",
        "#train\n",
        "history = model.fit(X_train, y_train, epochs=10, validation_split=0.2, verbose=1, callbacks=[earlystopping, checkpoint])"
      ],
      "execution_count": null,
      "outputs": [
        {
          "output_type": "stream",
          "text": [
            "Epoch 1/10\n",
            "1500/1500 [==============================] - ETA: 0s - loss: 1.1877 - categorical_accuracy: 0.6555WARNING:tensorflow:Can save best model only with val_accuracy available, skipping.\n",
            "1500/1500 [==============================] - 8s 5ms/step - loss: 1.1877 - categorical_accuracy: 0.6555 - val_loss: 0.8083 - val_categorical_accuracy: 0.7461\n",
            "Epoch 2/10\n",
            "1498/1500 [============================>.] - ETA: 0s - loss: 0.7396 - categorical_accuracy: 0.7527WARNING:tensorflow:Can save best model only with val_accuracy available, skipping.\n",
            "1500/1500 [==============================] - 8s 5ms/step - loss: 0.7396 - categorical_accuracy: 0.7527 - val_loss: 0.6749 - val_categorical_accuracy: 0.7714\n",
            "Epoch 3/10\n",
            "1492/1500 [============================>.] - ETA: 0s - loss: 0.6490 - categorical_accuracy: 0.7754WARNING:tensorflow:Can save best model only with val_accuracy available, skipping.\n",
            "1500/1500 [==============================] - 8s 5ms/step - loss: 0.6485 - categorical_accuracy: 0.7756 - val_loss: 0.6151 - val_categorical_accuracy: 0.7820\n",
            "Epoch 4/10\n",
            "1494/1500 [============================>.] - ETA: 0s - loss: 0.5999 - categorical_accuracy: 0.7920WARNING:tensorflow:Can save best model only with val_accuracy available, skipping.\n",
            "1500/1500 [==============================] - 8s 5ms/step - loss: 0.5997 - categorical_accuracy: 0.7920 - val_loss: 0.5809 - val_categorical_accuracy: 0.7951\n",
            "Epoch 5/10\n",
            "1499/1500 [============================>.] - ETA: 0s - loss: 0.5681 - categorical_accuracy: 0.8023WARNING:tensorflow:Can save best model only with val_accuracy available, skipping.\n",
            "1500/1500 [==============================] - 8s 5ms/step - loss: 0.5682 - categorical_accuracy: 0.8023 - val_loss: 0.5561 - val_categorical_accuracy: 0.8029\n",
            "Epoch 6/10\n",
            "1490/1500 [============================>.] - ETA: 0s - loss: 0.5450 - categorical_accuracy: 0.8107WARNING:tensorflow:Can save best model only with val_accuracy available, skipping.\n",
            "1500/1500 [==============================] - 8s 5ms/step - loss: 0.5448 - categorical_accuracy: 0.8109 - val_loss: 0.5333 - val_categorical_accuracy: 0.8120\n",
            "Epoch 7/10\n",
            "1498/1500 [============================>.] - ETA: 0s - loss: 0.5271 - categorical_accuracy: 0.8162WARNING:tensorflow:Can save best model only with val_accuracy available, skipping.\n",
            "1500/1500 [==============================] - 8s 5ms/step - loss: 0.5271 - categorical_accuracy: 0.8162 - val_loss: 0.5257 - val_categorical_accuracy: 0.8135\n",
            "Epoch 8/10\n",
            "1494/1500 [============================>.] - ETA: 0s - loss: 0.5142 - categorical_accuracy: 0.8206WARNING:tensorflow:Can save best model only with val_accuracy available, skipping.\n",
            "1500/1500 [==============================] - 8s 5ms/step - loss: 0.5138 - categorical_accuracy: 0.8207 - val_loss: 0.5285 - val_categorical_accuracy: 0.8063\n",
            "Epoch 9/10\n",
            "1490/1500 [============================>.] - ETA: 0s - loss: 0.5021 - categorical_accuracy: 0.8249WARNING:tensorflow:Can save best model only with val_accuracy available, skipping.\n",
            "1500/1500 [==============================] - 8s 5ms/step - loss: 0.5028 - categorical_accuracy: 0.8248 - val_loss: 0.5051 - val_categorical_accuracy: 0.8223\n",
            "Epoch 10/10\n",
            "1496/1500 [============================>.] - ETA: 0s - loss: 0.4936 - categorical_accuracy: 0.8286WARNING:tensorflow:Can save best model only with val_accuracy available, skipping.\n",
            "1500/1500 [==============================] - 8s 5ms/step - loss: 0.4935 - categorical_accuracy: 0.8286 - val_loss: 0.4935 - val_categorical_accuracy: 0.8265\n"
          ],
          "name": "stdout"
        }
      ]
    },
    {
      "cell_type": "code",
      "metadata": {
        "id": "fraiPdoLErHP",
        "colab_type": "code",
        "colab": {
          "base_uri": "https://localhost:8080/",
          "height": 312
        },
        "outputId": "2dae3b16-cdea-4146-d9d8-4eea936f5ac0"
      },
      "source": [
        "plt.plot(history.history['categorical_accuracy'])\n",
        "plt.plot(history.history['val_categorical_accuracy'])\n",
        "plt.title('Model Categorical Accuracy')\n",
        "plt.ylabel('Categorical Accuracy')\n",
        "plt.xlabel('Epochs')\n",
        "plt.legend(['Train', 'Validation'], loc = 'upper left')"
      ],
      "execution_count": null,
      "outputs": [
        {
          "output_type": "execute_result",
          "data": {
            "text/plain": [
              "<matplotlib.legend.Legend at 0x7f71e937d748>"
            ]
          },
          "metadata": {
            "tags": []
          },
          "execution_count": 36
        },
        {
          "output_type": "display_data",
          "data": {
            "image/png": "[encoded data removed]",
            "text/plain": [
              "<Figure size 432x288 with 1 Axes>"
            ]
          },
          "metadata": {
            "tags": [],
            "needs_background": "light"
          }
        }
      ]
    },
    {
      "cell_type": "code",
      "metadata": {
        "id": "_BySr_TaElOZ",
        "colab_type": "code",
        "colab": {
          "base_uri": "https://localhost:8080/",
          "height": 547
        },
        "outputId": "93aaf470-fed4-4546-cce3-c4effbbbedad"
      },
      "source": [
        "#model build using layers\n",
        "\n",
        "model = Sequential()\n",
        "model.add(Dense(1024, input_dim=784, activation=\"sigmoid\"))\n",
        "model.add(Dense(10, activation=\"softmax\"))\n",
        "\n",
        "#compile\n",
        "model.compile(optimizer='sgd', loss='categorical_crossentropy', metrics=[\"top_k_categorical_accuracy\"])\n",
        "\n",
        "#Early stopping and checkpoint\n",
        "filepath=\"weights.{epoch:02d}-{val_loss:.2f}.hdf5\"\n",
        "\n",
        "earlystopping = EarlyStopping(monitor='val_loss', verbose=1, patience=5, mode=\"min\")\n",
        "checkpoint = ModelCheckpoint(filepath, monitor='val_accuracy', verbose=1, save_best_only=True, mode=\"max\")\n",
        "\n",
        "\n",
        "#train\n",
        "history = model.fit(X_train, y_train, epochs=10, validation_split=0.2, verbose=1, callbacks=[earlystopping, checkpoint])\n"
      ],
      "execution_count": null,
      "outputs": [
        {
          "output_type": "stream",
          "text": [
            "Epoch 1/10\n",
            "1491/1500 [============================>.] - ETA: 0s - loss: 1.2000 - top_k_categorical_accuracy: 0.9614WARNING:tensorflow:Can save best model only with val_accuracy available, skipping.\n",
            "1500/1500 [==============================] - 8s 6ms/step - loss: 1.1980 - top_k_categorical_accuracy: 0.9616 - val_loss: 0.8182 - val_top_k_categorical_accuracy: 0.9923\n",
            "Epoch 2/10\n",
            "1491/1500 [============================>.] - ETA: 0s - loss: 0.7410 - top_k_categorical_accuracy: 0.9918WARNING:tensorflow:Can save best model only with val_accuracy available, skipping.\n",
            "1500/1500 [==============================] - 9s 6ms/step - loss: 0.7406 - top_k_categorical_accuracy: 0.9919 - val_loss: 0.6782 - val_top_k_categorical_accuracy: 0.9936\n",
            "Epoch 3/10\n",
            "1496/1500 [============================>.] - ETA: 0s - loss: 0.6478 - top_k_categorical_accuracy: 0.9935WARNING:tensorflow:Can save best model only with val_accuracy available, skipping.\n",
            "1500/1500 [==============================] - 8s 6ms/step - loss: 0.6478 - top_k_categorical_accuracy: 0.9935 - val_loss: 0.6193 - val_top_k_categorical_accuracy: 0.9952\n",
            "Epoch 4/10\n",
            "1497/1500 [============================>.] - ETA: 0s - loss: 0.5990 - top_k_categorical_accuracy: 0.9942WARNING:tensorflow:Can save best model only with val_accuracy available, skipping.\n",
            "1500/1500 [==============================] - 8s 5ms/step - loss: 0.5993 - top_k_categorical_accuracy: 0.9942 - val_loss: 0.5762 - val_top_k_categorical_accuracy: 0.9953\n",
            "Epoch 5/10\n",
            "1494/1500 [============================>.] - ETA: 0s - loss: 0.5685 - top_k_categorical_accuracy: 0.9945WARNING:tensorflow:Can save best model only with val_accuracy available, skipping.\n",
            "1500/1500 [==============================] - 8s 5ms/step - loss: 0.5682 - top_k_categorical_accuracy: 0.9945 - val_loss: 0.5506 - val_top_k_categorical_accuracy: 0.9952\n",
            "Epoch 6/10\n",
            "1500/1500 [==============================] - ETA: 0s - loss: 0.5446 - top_k_categorical_accuracy: 0.9948WARNING:tensorflow:Can save best model only with val_accuracy available, skipping.\n",
            "1500/1500 [==============================] - 8s 5ms/step - loss: 0.5446 - top_k_categorical_accuracy: 0.9948 - val_loss: 0.5369 - val_top_k_categorical_accuracy: 0.9949\n",
            "Epoch 7/10\n",
            "1492/1500 [============================>.] - ETA: 0s - loss: 0.5268 - top_k_categorical_accuracy: 0.9949WARNING:tensorflow:Can save best model only with val_accuracy available, skipping.\n",
            "1500/1500 [==============================] - 8s 5ms/step - loss: 0.5269 - top_k_categorical_accuracy: 0.9949 - val_loss: 0.5187 - val_top_k_categorical_accuracy: 0.9958\n",
            "Epoch 8/10\n",
            "1496/1500 [============================>.] - ETA: 0s - loss: 0.5140 - top_k_categorical_accuracy: 0.9950WARNING:tensorflow:Can save best model only with val_accuracy available, skipping.\n",
            "1500/1500 [==============================] - 8s 5ms/step - loss: 0.5139 - top_k_categorical_accuracy: 0.9950 - val_loss: 0.5069 - val_top_k_categorical_accuracy: 0.9960\n",
            "Epoch 9/10\n",
            "1498/1500 [============================>.] - ETA: 0s - loss: 0.5025 - top_k_categorical_accuracy: 0.9952WARNING:tensorflow:Can save best model only with val_accuracy available, skipping.\n",
            "1500/1500 [==============================] - 8s 5ms/step - loss: 0.5024 - top_k_categorical_accuracy: 0.9952 - val_loss: 0.5044 - val_top_k_categorical_accuracy: 0.9962\n",
            "Epoch 10/10\n",
            "1499/1500 [============================>.] - ETA: 0s - loss: 0.4931 - top_k_categorical_accuracy: 0.9950WARNING:tensorflow:Can save best model only with val_accuracy available, skipping.\n",
            "1500/1500 [==============================] - 8s 5ms/step - loss: 0.4929 - top_k_categorical_accuracy: 0.9950 - val_loss: 0.4906 - val_top_k_categorical_accuracy: 0.9959\n"
          ],
          "name": "stdout"
        }
      ]
    },
    {
      "cell_type": "code",
      "metadata": {
        "id": "JyLJeKKfE5Gp",
        "colab_type": "code",
        "colab": {
          "base_uri": "https://localhost:8080/",
          "height": 312
        },
        "outputId": "71dd7cc2-b1ad-4721-d61e-44c115e24d65"
      },
      "source": [
        "plt.plot(history.history['top_k_categorical_accuracy'])\n",
        "plt.plot(history.history['val_top_k_categorical_accuracy'])\n",
        "plt.title('Model Top k Categorical Accuracy')\n",
        "plt.ylabel('Top k Categorical Accuracy')\n",
        "plt.xlabel('Epochs')\n",
        "plt.legend(['Train', 'Validation'], loc = 'upper left')"
      ],
      "execution_count": null,
      "outputs": [
        {
          "output_type": "execute_result",
          "data": {
            "text/plain": [
              "<matplotlib.legend.Legend at 0x7f71e2841f28>"
            ]
          },
          "metadata": {
            "tags": []
          },
          "execution_count": 41
        },
        {
          "output_type": "display_data",
          "data": {
            "image/png": "[encoded data removed]",
            "text/plain": [
              "<Figure size 432x288 with 1 Axes>"
            ]
          },
          "metadata": {
            "tags": [],
            "needs_background": "light"
          }
        }
      ]
    },
    {
      "cell_type": "markdown",
      "metadata": {
        "id": "Njf_SYmjGGV-",
        "colab_type": "text"
      },
      "source": [
        "Cifar 100"
      ]
    },
    {
      "cell_type": "code",
      "metadata": {
        "id": "mE4swb3WGIe1",
        "colab_type": "code",
        "colab": {
          "base_uri": "https://localhost:8080/",
          "height": 51
        },
        "outputId": "23a74b84-3845-433f-a4a6-001b765fee3b"
      },
      "source": [
        "from keras.datasets import cifar100\n",
        "(X_train, y_train), (X_test, y_test) = cifar100.load_data()"
      ],
      "execution_count": null,
      "outputs": [
        {
          "output_type": "stream",
          "text": [
            "Downloading data from https://www.cs.toronto.edu/~kriz/cifar-100-python.tar.gz\n",
            "169009152/169001437 [==============================] - 6s 0us/step\n"
          ],
          "name": "stdout"
        }
      ]
    },
    {
      "cell_type": "code",
      "metadata": {
        "id": "Kfgk0CIOX0Qx",
        "colab_type": "code",
        "colab": {
          "base_uri": "https://localhost:8080/",
          "height": 51
        },
        "outputId": "f069cd32-39b0-40e1-a278-d02fc2a1e528"
      },
      "source": [
        "print(X_train.shape)\n",
        "print(X_test.shape)"
      ],
      "execution_count": null,
      "outputs": [
        {
          "output_type": "stream",
          "text": [
            "(50000, 32, 32, 3)\n",
            "(10000, 32, 32, 3)\n"
          ],
          "name": "stdout"
        }
      ]
    },
    {
      "cell_type": "code",
      "metadata": {
        "id": "qB0_pdfnX55h",
        "colab_type": "code",
        "colab": {}
      },
      "source": [
        "#Preprocessing\n",
        "(X_train, y_train), (X_test, y_test) = cifar100.load_data()\n",
        "\n",
        "X_train = X_train.reshape(50000, 32*32*3)\n",
        "X_test = X_test.reshape(10000, 32*32*3)\n",
        "\n",
        "X_train = X_train.astype('float32')\n",
        "X_test = X_test.astype('float32')\n",
        "\n",
        "#preprocess\n",
        "X_train /=  255.0\n",
        "X_test /= 255.0\n",
        "\n",
        "y_train = to_categorical(y_train, 100)\n",
        "y_test = to_categorical(y_test, 100)\n"
      ],
      "execution_count": null,
      "outputs": []
    },
    {
      "cell_type": "code",
      "metadata": {
        "id": "PWS-H7JFat6q",
        "colab_type": "code",
        "colab": {}
      },
      "source": [
        "from keras.models import Sequential\n",
        "from keras.layers import Conv2D\n",
        "from keras.layers import MaxPooling2D\n",
        "from keras.layers import Dense\n",
        "from keras.layers import Flatten\n",
        "from keras.optimizers import SGD\n",
        "from keras.constraints import maxnorm\n",
        "from tensorflow.keras.datasets import cifar100"
      ],
      "execution_count": 3,
      "outputs": []
    },
    {
      "cell_type": "code",
      "metadata": {
        "id": "igCpd2ljs7oL",
        "colab_type": "code",
        "colab": {}
      },
      "source": [
        "import tensorflow as tf"
      ],
      "execution_count": 6,
      "outputs": []
    },
    {
      "cell_type": "code",
      "metadata": {
        "id": "BBgAcKpPsxgw",
        "colab_type": "code",
        "colab": {
          "base_uri": "https://localhost:8080/",
          "height": 51
        },
        "outputId": "75690980-d726-415d-c186-90bbf4edf0d9"
      },
      "source": [
        "(X_train,y_train),(X_test,y_test)=cifar100.load_data()\n",
        "\n",
        "X_train=X_train.reshape((-1,32*32*3))\n",
        "X_test=X_test.reshape((-1,32*32*3))\n",
        "\n",
        "X_train=X_train.astype('float32')\n",
        "X_test=X_test.astype('float32')\n",
        "\n",
        "#preprocess\n",
        "X_train=X_train/255.0\n",
        "X_test=X_test/255.0\n",
        "\n",
        "y_train=to_categorical(y_train)\n",
        "y_test=to_categorical(y_test)"
      ],
      "execution_count": 4,
      "outputs": [
        {
          "output_type": "stream",
          "text": [
            "Downloading data from https://www.cs.toronto.edu/~kriz/cifar-100-python.tar.gz\n",
            "169009152/169001437 [==============================] - 2s 0us/step\n"
          ],
          "name": "stdout"
        }
      ]
    },
    {
      "cell_type": "code",
      "metadata": {
        "id": "lPKcUXyAs2XC",
        "colab_type": "code",
        "colab": {
          "base_uri": "https://localhost:8080/",
          "height": 323
        },
        "outputId": "cf2bc4de-5133-4768-bfc6-45bc5ff098d0"
      },
      "source": [
        "#Model\n",
        "initializer=tf.keras.initializers.glorot_normal()\n",
        "\n",
        "model=Sequential()\n",
        "model.add(Dense(100,input_dim=3072,activation='relu',kernel_initializer=initializer,bias_initializer=initializer))\n",
        "model.add(Dense(256,activation='relu'))\n",
        "model.add(Dense(256,activation='relu'))\n",
        "model.add(Dense(124,activation='relu'))\n",
        "model.add(Dense(100,activation='softmax'))\n",
        "model.summary()"
      ],
      "execution_count": 7,
      "outputs": [
        {
          "output_type": "stream",
          "text": [
            "Model: \"sequential\"\n",
            "_________________________________________________________________\n",
            "Layer (type)                 Output Shape              Param #   \n",
            "=================================================================\n",
            "dense (Dense)                (None, 100)               307300    \n",
            "_________________________________________________________________\n",
            "dense_1 (Dense)              (None, 256)               25856     \n",
            "_________________________________________________________________\n",
            "dense_2 (Dense)              (None, 256)               65792     \n",
            "_________________________________________________________________\n",
            "dense_3 (Dense)              (None, 124)               31868     \n",
            "_________________________________________________________________\n",
            "dense_4 (Dense)              (None, 100)               12500     \n",
            "=================================================================\n",
            "Total params: 443,316\n",
            "Trainable params: 443,316\n",
            "Non-trainable params: 0\n",
            "_________________________________________________________________\n"
          ],
          "name": "stdout"
        }
      ]
    },
    {
      "cell_type": "code",
      "metadata": {
        "id": "YZJ5tqjos_pR",
        "colab_type": "code",
        "colab": {
          "base_uri": "https://localhost:8080/",
          "height": 547
        },
        "outputId": "8a3b062d-d996-4e44-e67f-ddef0418a16d"
      },
      "source": [
        "\n",
        "#compile\n",
        "model.compile(optimizer='sgd', loss='categorical_crossentropy', metrics=[\"top_k_categorical_accuracy\"])\n",
        "\n",
        "#Early stopping and checkpoint\n",
        "filepath=\"weights.{epoch:02d}-{val_loss:.2f}.hdf5\"\n",
        "\n",
        "earlystopping = EarlyStopping(monitor='val_loss', verbose=1, patience=5, mode=\"min\")\n",
        "checkpoint = ModelCheckpoint(filepath, monitor='val_accuracy', verbose=1, save_best_only=True, mode=\"max\")\n",
        "\n",
        "\n",
        "#train\n",
        "history = model.fit(X_train, y_train, epochs=10, validation_split=0.2, verbose=1, callbacks=[earlystopping, checkpoint])  "
      ],
      "execution_count": 8,
      "outputs": [
        {
          "output_type": "stream",
          "text": [
            "Epoch 1/10\n",
            "1250/1250 [==============================] - ETA: 0s - loss: 4.5143 - top_k_categorical_accuracy: 0.1079WARNING:tensorflow:Can save best model only with val_accuracy available, skipping.\n",
            "1250/1250 [==============================] - 7s 6ms/step - loss: 4.5143 - top_k_categorical_accuracy: 0.1079 - val_loss: 4.3242 - val_top_k_categorical_accuracy: 0.1767\n",
            "Epoch 2/10\n",
            "1244/1250 [============================>.] - ETA: 0s - loss: 4.1409 - top_k_categorical_accuracy: 0.2244WARNING:tensorflow:Can save best model only with val_accuracy available, skipping.\n",
            "1250/1250 [==============================] - 6s 5ms/step - loss: 4.1404 - top_k_categorical_accuracy: 0.2246 - val_loss: 4.0132 - val_top_k_categorical_accuracy: 0.2639\n",
            "Epoch 3/10\n",
            "1241/1250 [============================>.] - ETA: 0s - loss: 3.9111 - top_k_categorical_accuracy: 0.2981WARNING:tensorflow:Can save best model only with val_accuracy available, skipping.\n",
            "1250/1250 [==============================] - 6s 5ms/step - loss: 3.9099 - top_k_categorical_accuracy: 0.2986 - val_loss: 3.8312 - val_top_k_categorical_accuracy: 0.3286\n",
            "Epoch 4/10\n",
            "1240/1250 [============================>.] - ETA: 0s - loss: 3.7742 - top_k_categorical_accuracy: 0.3428WARNING:tensorflow:Can save best model only with val_accuracy available, skipping.\n",
            "1250/1250 [==============================] - 6s 5ms/step - loss: 3.7737 - top_k_categorical_accuracy: 0.3428 - val_loss: 3.7354 - val_top_k_categorical_accuracy: 0.3488\n",
            "Epoch 5/10\n",
            "1249/1250 [============================>.] - ETA: 0s - loss: 3.6832 - top_k_categorical_accuracy: 0.3699WARNING:tensorflow:Can save best model only with val_accuracy available, skipping.\n",
            "1250/1250 [==============================] - 6s 5ms/step - loss: 3.6836 - top_k_categorical_accuracy: 0.3699 - val_loss: 3.6908 - val_top_k_categorical_accuracy: 0.3677\n",
            "Epoch 6/10\n",
            "1241/1250 [============================>.] - ETA: 0s - loss: 3.6135 - top_k_categorical_accuracy: 0.3921WARNING:tensorflow:Can save best model only with val_accuracy available, skipping.\n",
            "1250/1250 [==============================] - 6s 5ms/step - loss: 3.6130 - top_k_categorical_accuracy: 0.3923 - val_loss: 3.6015 - val_top_k_categorical_accuracy: 0.3915\n",
            "Epoch 7/10\n",
            "1249/1250 [============================>.] - ETA: 0s - loss: 3.5516 - top_k_categorical_accuracy: 0.4097WARNING:tensorflow:Can save best model only with val_accuracy available, skipping.\n",
            "1250/1250 [==============================] - 6s 5ms/step - loss: 3.5518 - top_k_categorical_accuracy: 0.4096 - val_loss: 3.5801 - val_top_k_categorical_accuracy: 0.3991\n",
            "Epoch 8/10\n",
            "1245/1250 [============================>.] - ETA: 0s - loss: 3.4919 - top_k_categorical_accuracy: 0.4243WARNING:tensorflow:Can save best model only with val_accuracy available, skipping.\n",
            "1250/1250 [==============================] - 6s 5ms/step - loss: 3.4917 - top_k_categorical_accuracy: 0.4244 - val_loss: 3.5578 - val_top_k_categorical_accuracy: 0.4077\n",
            "Epoch 9/10\n",
            "1246/1250 [============================>.] - ETA: 0s - loss: 3.4425 - top_k_categorical_accuracy: 0.4393WARNING:tensorflow:Can save best model only with val_accuracy available, skipping.\n",
            "1250/1250 [==============================] - 6s 5ms/step - loss: 3.4419 - top_k_categorical_accuracy: 0.4393 - val_loss: 3.5612 - val_top_k_categorical_accuracy: 0.4009\n",
            "Epoch 10/10\n",
            "1248/1250 [============================>.] - ETA: 0s - loss: 3.3905 - top_k_categorical_accuracy: 0.4505WARNING:tensorflow:Can save best model only with val_accuracy available, skipping.\n",
            "1250/1250 [==============================] - 6s 5ms/step - loss: 3.3908 - top_k_categorical_accuracy: 0.4504 - val_loss: 3.4422 - val_top_k_categorical_accuracy: 0.4378\n"
          ],
          "name": "stdout"
        }
      ]
    },
    {
      "cell_type": "code",
      "metadata": {
        "id": "osW-4lWHtcKn",
        "colab_type": "code",
        "colab": {
          "base_uri": "https://localhost:8080/",
          "height": 312
        },
        "outputId": "2acbda2c-ceae-4722-b4b0-40ed98873596"
      },
      "source": [
        "plt.plot(history.history['top_k_categorical_accuracy'])\n",
        "plt.plot(history.history['val_top_k_categorical_accuracy'])\n",
        "plt.title('Model Top k Categorical Accuracy')\n",
        "plt.ylabel('Top k Categorical Accuracy')\n",
        "plt.xlabel('Epochs')\n",
        "plt.legend(['Train', 'Validation'], loc = 'upper left')"
      ],
      "execution_count": 10,
      "outputs": [
        {
          "output_type": "execute_result",
          "data": {
            "text/plain": [
              "<matplotlib.legend.Legend at 0x7fda8444d898>"
            ]
          },
          "metadata": {
            "tags": []
          },
          "execution_count": 10
        },
        {
          "output_type": "display_data",
          "data": {
            "image/png": "[encoded data removed]",
            "text/plain": [
              "<Figure size 432x288 with 1 Axes>"
            ]
          },
          "metadata": {
            "tags": [],
            "needs_background": "light"
          }
        }
      ]
    }
  ]
}