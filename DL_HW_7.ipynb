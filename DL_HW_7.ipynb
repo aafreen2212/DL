{
  "nbformat": 4,
  "nbformat_minor": 0,
  "metadata": {
    "colab": {
      "name": "DL_HW_7.ipynb",
      "provenance": [],
      "authorship_tag": "ABX9TyOgtgV8Jfx46wOr0sycLxz0"
    },
    "kernelspec": {
      "name": "python3",
      "display_name": "Python 3"
    }
  },
  "cells": [
    {
      "cell_type": "markdown",
      "metadata": {
        "id": "x5G3CxN1XgqR",
        "colab_type": "text"
      },
      "source": [
        "Implementation of AlexNEt, VGG16 and LeNet5 on CIFAR dataset"
      ]
    },
    {
      "cell_type": "code",
      "metadata": {
        "id": "qLKf84F6XuYb",
        "colab_type": "code",
        "colab": {
          "base_uri": "https://localhost:8080/",
          "height": 71
        },
        "outputId": "d606a3b1-be0d-45ce-ed7c-3f4629960ad4"
      },
      "source": [
        "#Import the libraries\n",
        "import pandas as pd\n",
        "import numpy as np\n",
        "import tensorflow as tf\n",
        "from tensorflow import keras\n",
        "import os\n",
        "import matplotlib.pyplot as plt\n",
        "import PIL\n",
        "import seaborn as sns\n",
        "from tensorflow.keras.preprocessing.image import ImageDataGenerator\n",
        "from tensorflow.keras.applications.resnet50 import ResNet50\n",
        "from tensorflow.keras.applications.inception_resnet_v2 import InceptionResNetV2\n",
        "from tensorflow.keras.layers import *\n",
        "from tensorflow.keras.models import Model, load_model\n",
        "from tensorflow.keras.initializers import glorot_uniform\n",
        "from tensorflow.keras.utils import plot_model\n",
        "from IPython.display import display\n",
        "from tensorflow.keras import backend as K\n",
        "from tensorflow.keras.optimizers import SGD\n",
        "from tensorflow.keras.preprocessing.image import ImageDataGenerator\n",
        "from tensorflow.keras.callbacks import ReduceLROnPlateau, EarlyStopping, ModelCheckpoint, LearningRateScheduler"
      ],
      "execution_count": 1,
      "outputs": [
        {
          "output_type": "stream",
          "text": [
            "/usr/local/lib/python3.6/dist-packages/statsmodels/tools/_testing.py:19: FutureWarning: pandas.util.testing is deprecated. Use the functions in the public API at pandas.testing instead.\n",
            "  import pandas.util.testing as tm\n"
          ],
          "name": "stderr"
        }
      ]
    },
    {
      "cell_type": "code",
      "metadata": {
        "id": "rP8VeVB4Xyb5",
        "colab_type": "code",
        "colab": {
          "base_uri": "https://localhost:8080/",
          "height": 51
        },
        "outputId": "c12e7d37-57fc-446a-abe1-7c4492fb8d9e"
      },
      "source": [
        "from keras.datasets import cifar10\n",
        "(X_train, y_train), (X_test, y_test) = keras.datasets.cifar10.load_data()"
      ],
      "execution_count": 2,
      "outputs": [
        {
          "output_type": "stream",
          "text": [
            "Downloading data from https://www.cs.toronto.edu/~kriz/cifar-10-python.tar.gz\n",
            "170500096/170498071 [==============================] - 2s 0us/step\n"
          ],
          "name": "stdout"
        }
      ]
    },
    {
      "cell_type": "code",
      "metadata": {
        "id": "ol_7l-TMYRIL",
        "colab_type": "code",
        "colab": {
          "base_uri": "https://localhost:8080/",
          "height": 85
        },
        "outputId": "dd45a2a9-c026-4fee-851e-1ff64333e0bd"
      },
      "source": [
        "print(X_train.shape)\n",
        "print(y_train.shape)\n",
        "print(X_test.shape)\n",
        "print(y_test.shape)"
      ],
      "execution_count": 3,
      "outputs": [
        {
          "output_type": "stream",
          "text": [
            "(50000, 32, 32, 3)\n",
            "(50000, 1)\n",
            "(10000, 32, 32, 3)\n",
            "(10000, 1)\n"
          ],
          "name": "stdout"
        }
      ]
    },
    {
      "cell_type": "code",
      "metadata": {
        "id": "AEgbk8XbbfaW",
        "colab_type": "code",
        "colab": {}
      },
      "source": [
        "from keras.utils import to_categorical\n",
        "#normalize\n",
        "X_train = X_train.astype('float32')/255\n",
        "X_test = X_test.astype('float32')/255\n",
        "\n",
        "#categorical to one hot encoded\n",
        "\n",
        "y_test = to_categorical(y_test, 10)\n",
        "y_train = to_categorical(y_train, 10)\n"
      ],
      "execution_count": 26,
      "outputs": []
    },
    {
      "cell_type": "code",
      "metadata": {
        "id": "ud2jlF_UaU1S",
        "colab_type": "code",
        "colab": {}
      },
      "source": [
        "from keras.models import Sequential\n",
        "\n",
        "alexnet=Sequential()\n",
        "\n",
        "alexnet.add(Conv2D(filters=96,kernel_size=(11,11),strides=(4,4),padding=\"same\",activation=\"relu\",input_shape=(32,32,3)))\n",
        "alexnet.add(MaxPooling2D(pool_size=(2,2), strides=(2,2), padding=\"valid\"))\n",
        "\n",
        "alexnet.add(Conv2D(filters=256,kernel_size=(11,11),strides=(1,1),padding=\"same\",activation=\"relu\"))\n",
        "alexnet.add(MaxPooling2D(pool_size=(2,2), strides=(2,2), padding=\"valid\"))\n",
        "\n",
        "alexnet.add(Conv2D(filters=384,kernel_size=(3,3),strides=(1,1),padding=\"same\",activation=\"relu\"))\n",
        "alexnet.add(Conv2D(filters=384,kernel_size=(3,3),strides=(1,1),padding=\"same\",activation=\"relu\"))\n",
        "alexnet.add(Conv2D(filters=256,kernel_size=(3,3),strides=(1,1),padding=\"same\",activation=\"relu\"))\n",
        "alexnet.add(MaxPooling2D(pool_size=(2,2), strides=(2,2), padding=\"valid\"))\n",
        "\n",
        "alexnet.add(Flatten())\n",
        "alexnet.add(Dense(units=4096,input_shape=(32*32*3,),activation='relu'))\n",
        "alexnet.add(Dropout(0.4))\n",
        "alexnet.add(Dense(units=4096,activation='relu'))\n",
        "alexnet.add(Dropout(0.4))\n",
        "alexnet.add(Dense(units=1000,activation='relu'))\n",
        "alexnet.add(Dropout(0.4))\n",
        "alexnet.add(Dense(units=10,activation='softmax'))\n"
      ],
      "execution_count": 48,
      "outputs": []
    },
    {
      "cell_type": "code",
      "metadata": {
        "id": "3Kj1tl4RYUU6",
        "colab_type": "code",
        "colab": {}
      },
      "source": [
        "alexnet.compile(loss = 'categorical_crossentropy', optimizer= 'adam' , metrics= [\"accuracy\"])"
      ],
      "execution_count": 49,
      "outputs": []
    },
    {
      "cell_type": "code",
      "metadata": {
        "id": "9jFygmhcZiiI",
        "colab_type": "code",
        "colab": {}
      },
      "source": [
        "#using early stopping to exit training if validation loss is not decreasing even after certain epochs (patience)\n",
        "earlystopping = EarlyStopping(monitor='val_loss', mode='min', verbose=1, patience=5)\n",
        "\n",
        "#save the best model with lower validation loss\n",
        "checkpointer = ModelCheckpoint(filepath=\"weights.hdf5\", verbose=1, save_best_only=True)"
      ],
      "execution_count": 50,
      "outputs": []
    },
    {
      "cell_type": "code",
      "metadata": {
        "id": "ZU6sZG1xZuHc",
        "colab_type": "code",
        "colab": {
          "base_uri": "https://localhost:8080/",
          "height": 697
        },
        "outputId": "77ad68f2-e139-4d53-c5c3-83012f13928c"
      },
      "source": [
        "history = alexnet.fit(X_train, y_train, epochs = 20, batch_size=32,steps_per_epoch=20)"
      ],
      "execution_count": 54,
      "outputs": [
        {
          "output_type": "stream",
          "text": [
            "Epoch 1/20\n",
            "20/20 [==============================] - 16s 804ms/step - loss: 2.3009 - accuracy: 0.1187\n",
            "Epoch 2/20\n",
            "20/20 [==============================] - 16s 803ms/step - loss: 2.3032 - accuracy: 0.0906\n",
            "Epoch 3/20\n",
            "20/20 [==============================] - 16s 802ms/step - loss: 2.3026 - accuracy: 0.1094\n",
            "Epoch 4/20\n",
            "20/20 [==============================] - 16s 802ms/step - loss: 2.3031 - accuracy: 0.1141\n",
            "Epoch 5/20\n",
            "20/20 [==============================] - 16s 801ms/step - loss: 2.3020 - accuracy: 0.1000\n",
            "Epoch 6/20\n",
            "20/20 [==============================] - 16s 803ms/step - loss: 2.3041 - accuracy: 0.0953\n",
            "Epoch 7/20\n",
            "20/20 [==============================] - 16s 800ms/step - loss: 2.3020 - accuracy: 0.1016\n",
            "Epoch 8/20\n",
            "20/20 [==============================] - 16s 806ms/step - loss: 2.3050 - accuracy: 0.0812\n",
            "Epoch 9/20\n",
            "20/20 [==============================] - 16s 803ms/step - loss: 2.3023 - accuracy: 0.1016\n",
            "Epoch 10/20\n",
            "20/20 [==============================] - 16s 803ms/step - loss: 2.3015 - accuracy: 0.1094\n",
            "Epoch 11/20\n",
            "20/20 [==============================] - 16s 803ms/step - loss: 2.3052 - accuracy: 0.0656\n",
            "Epoch 12/20\n",
            "20/20 [==============================] - 16s 798ms/step - loss: 2.3034 - accuracy: 0.0859\n",
            "Epoch 13/20\n",
            "20/20 [==============================] - 16s 806ms/step - loss: 2.3029 - accuracy: 0.1063\n",
            "Epoch 14/20\n",
            "20/20 [==============================] - 16s 803ms/step - loss: 2.3032 - accuracy: 0.1000\n",
            "Epoch 15/20\n",
            "20/20 [==============================] - 16s 805ms/step - loss: 2.3018 - accuracy: 0.0969\n",
            "Epoch 16/20\n",
            "20/20 [==============================] - 16s 805ms/step - loss: 2.3029 - accuracy: 0.0875\n",
            "Epoch 17/20\n",
            "20/20 [==============================] - 16s 805ms/step - loss: 2.3023 - accuracy: 0.0969\n",
            "Epoch 18/20\n",
            "20/20 [==============================] - 16s 800ms/step - loss: 2.3036 - accuracy: 0.1031\n",
            "Epoch 19/20\n",
            "20/20 [==============================] - 17s 849ms/step - loss: 2.3039 - accuracy: 0.0859\n",
            "Epoch 20/20\n",
            "20/20 [==============================] - 16s 802ms/step - loss: 2.3041 - accuracy: 0.1031\n"
          ],
          "name": "stdout"
        }
      ]
    },
    {
      "cell_type": "code",
      "metadata": {
        "id": "t1HkAYfseYb3",
        "colab_type": "code",
        "colab": {
          "base_uri": "https://localhost:8080/",
          "height": 51
        },
        "outputId": "5979ec86-64db-4b8f-a130-cd3d6975faed"
      },
      "source": [
        "alexnet.evaluate(X_test, y_test)"
      ],
      "execution_count": 55,
      "outputs": [
        {
          "output_type": "stream",
          "text": [
            "313/313 [==============================] - 35s 111ms/step - loss: 2.3027 - accuracy: 0.1000\n"
          ],
          "name": "stdout"
        },
        {
          "output_type": "execute_result",
          "data": {
            "text/plain": [
              "[2.302729606628418, 0.10000000149011612]"
            ]
          },
          "metadata": {
            "tags": []
          },
          "execution_count": 55
        }
      ]
    },
    {
      "cell_type": "markdown",
      "metadata": {
        "id": "0FWaZmwzb6j5",
        "colab_type": "text"
      },
      "source": [
        "LeNet5"
      ]
    },
    {
      "cell_type": "code",
      "metadata": {
        "id": "QkPZpDbIZ4sy",
        "colab_type": "code",
        "colab": {}
      },
      "source": [
        "from keras.models import Sequential\n",
        "from keras.layers import Conv2D,MaxPooling2D,Flatten,Dense\n",
        "\n",
        "lenet=Sequential()\n",
        "lenet.add(Conv2D(filters=6,kernel_size=(5,5),strides=(1,1),activation=\"sigmoid\",input_shape=(32,32,3)))\n",
        "lenet.add(MaxPooling2D(pool_size=(2,2)))\n",
        "lenet.add(Conv2D(filters=16,kernel_size=(5,5),strides=(1,1),activation=\"sigmoid\"))\n",
        "lenet.add(MaxPooling2D(pool_size=(2,2)))\n",
        "lenet.add(Flatten())\n",
        "lenet.add(Dense(units=120,activation='tanh'))\n",
        "lenet.add(Dense(units=84,activation='tanh'))\n",
        "lenet.add(Dense(units=10,activation='softmax'))\n",
        "\n",
        "lenet.compile(loss='categorical_crossentropy',metrics=['accuracy'],optimizer='adam')"
      ],
      "execution_count": 31,
      "outputs": []
    },
    {
      "cell_type": "code",
      "metadata": {
        "id": "VaHWxfNpb_cn",
        "colab_type": "code",
        "colab": {
          "base_uri": "https://localhost:8080/",
          "height": 1000
        },
        "outputId": "0da76b47-725d-425a-eb9d-3d129d487e4e"
      },
      "source": [
        "history = lenet.fit(X_train,y_train,epochs=50,batch_size=32,steps_per_epoch=30,validation_split=0.2, callbacks=[checkpointer, earlystopping])"
      ],
      "execution_count": 33,
      "outputs": [
        {
          "output_type": "stream",
          "text": [
            "Epoch 1/50\n",
            "30/30 [==============================] - ETA: 0s - loss: 2.3261 - accuracy: 0.0885\n",
            "Epoch 00001: val_loss improved from inf to 2.31761, saving model to weights.hdf5\n",
            "30/30 [==============================] - 4s 140ms/step - loss: 2.3261 - accuracy: 0.0885 - val_loss: 2.3176 - val_accuracy: 0.0952\n",
            "Epoch 2/50\n",
            "29/30 [============================>.] - ETA: 0s - loss: 2.3215 - accuracy: 0.1056\n",
            "Epoch 00002: val_loss did not improve from 2.31761\n",
            "30/30 [==============================] - 4s 138ms/step - loss: 2.3209 - accuracy: 0.1083 - val_loss: 2.3304 - val_accuracy: 0.0977\n",
            "Epoch 3/50\n",
            "30/30 [==============================] - ETA: 0s - loss: 2.3218 - accuracy: 0.0958\n",
            "Epoch 00003: val_loss did not improve from 2.31761\n",
            "30/30 [==============================] - 4s 138ms/step - loss: 2.3218 - accuracy: 0.0958 - val_loss: 2.3329 - val_accuracy: 0.1016\n",
            "Epoch 4/50\n",
            "29/30 [============================>.] - ETA: 0s - loss: 2.3275 - accuracy: 0.0808\n",
            "Epoch 00004: val_loss did not improve from 2.31761\n",
            "30/30 [==============================] - 4s 139ms/step - loss: 2.3259 - accuracy: 0.0875 - val_loss: 2.3202 - val_accuracy: 0.1025\n",
            "Epoch 5/50\n",
            "30/30 [==============================] - ETA: 0s - loss: 2.3268 - accuracy: 0.1073\n",
            "Epoch 00005: val_loss improved from 2.31761 to 2.31138, saving model to weights.hdf5\n",
            "30/30 [==============================] - 4s 140ms/step - loss: 2.3268 - accuracy: 0.1073 - val_loss: 2.3114 - val_accuracy: 0.1016\n",
            "Epoch 6/50\n",
            "29/30 [============================>.] - ETA: 0s - loss: 2.3222 - accuracy: 0.1142\n",
            "Epoch 00006: val_loss did not improve from 2.31138\n",
            "30/30 [==============================] - 4s 141ms/step - loss: 2.3238 - accuracy: 0.1125 - val_loss: 2.3189 - val_accuracy: 0.1025\n",
            "Epoch 7/50\n",
            "28/30 [===========================>..] - ETA: 0s - loss: 2.3130 - accuracy: 0.1083\n",
            "Epoch 00007: val_loss did not improve from 2.31138\n",
            "30/30 [==============================] - 4s 140ms/step - loss: 2.3119 - accuracy: 0.1073 - val_loss: 2.3204 - val_accuracy: 0.1003\n",
            "Epoch 8/50\n",
            "30/30 [==============================] - ETA: 0s - loss: 2.3154 - accuracy: 0.0990\n",
            "Epoch 00008: val_loss did not improve from 2.31138\n",
            "30/30 [==============================] - 4s 141ms/step - loss: 2.3154 - accuracy: 0.0990 - val_loss: 2.3158 - val_accuracy: 0.0952\n",
            "Epoch 9/50\n",
            "29/30 [============================>.] - ETA: 0s - loss: 2.3167 - accuracy: 0.0916\n",
            "Epoch 00009: val_loss did not improve from 2.31138\n",
            "30/30 [==============================] - 4s 141ms/step - loss: 2.3178 - accuracy: 0.0917 - val_loss: 2.3151 - val_accuracy: 0.0980\n",
            "Epoch 10/50\n",
            "29/30 [============================>.] - ETA: 0s - loss: 2.3234 - accuracy: 0.0916\n",
            "Epoch 00010: val_loss did not improve from 2.31138\n",
            "30/30 [==============================] - 4s 142ms/step - loss: 2.3220 - accuracy: 0.0927 - val_loss: 2.3131 - val_accuracy: 0.0952\n",
            "Epoch 11/50\n",
            "29/30 [============================>.] - ETA: 0s - loss: 2.3177 - accuracy: 0.0959\n",
            "Epoch 00011: val_loss did not improve from 2.31138\n",
            "30/30 [==============================] - 4s 140ms/step - loss: 2.3176 - accuracy: 0.0969 - val_loss: 2.3158 - val_accuracy: 0.0997\n",
            "Epoch 12/50\n",
            "29/30 [============================>.] - ETA: 0s - loss: 2.3174 - accuracy: 0.1142\n",
            "Epoch 00012: val_loss did not improve from 2.31138\n",
            "30/30 [==============================] - 4s 139ms/step - loss: 2.3192 - accuracy: 0.1115 - val_loss: 2.3201 - val_accuracy: 0.0952\n",
            "Epoch 13/50\n",
            "29/30 [============================>.] - ETA: 0s - loss: 2.3097 - accuracy: 0.1175\n",
            "Epoch 00013: val_loss did not improve from 2.31138\n",
            "30/30 [==============================] - 4s 141ms/step - loss: 2.3102 - accuracy: 0.1146 - val_loss: 2.3115 - val_accuracy: 0.1014\n",
            "Epoch 14/50\n",
            "29/30 [============================>.] - ETA: 0s - loss: 2.3144 - accuracy: 0.0905\n",
            "Epoch 00014: val_loss did not improve from 2.31138\n",
            "30/30 [==============================] - 4s 139ms/step - loss: 2.3140 - accuracy: 0.0917 - val_loss: 2.3154 - val_accuracy: 0.1003\n",
            "Epoch 15/50\n",
            "29/30 [============================>.] - ETA: 0s - loss: 2.3103 - accuracy: 0.1175\n",
            "Epoch 00015: val_loss did not improve from 2.31138\n",
            "30/30 [==============================] - 4s 141ms/step - loss: 2.3115 - accuracy: 0.1156 - val_loss: 2.3143 - val_accuracy: 0.1025\n",
            "Epoch 16/50\n",
            "29/30 [============================>.] - ETA: 0s - loss: 2.3156 - accuracy: 0.0841\n",
            "Epoch 00016: val_loss did not improve from 2.31138\n",
            "30/30 [==============================] - 4s 140ms/step - loss: 2.3158 - accuracy: 0.0844 - val_loss: 2.3147 - val_accuracy: 0.1022\n",
            "Epoch 17/50\n",
            "30/30 [==============================] - ETA: 0s - loss: 2.3094 - accuracy: 0.1063\n",
            "Epoch 00017: val_loss did not improve from 2.31138\n",
            "30/30 [==============================] - 4s 140ms/step - loss: 2.3094 - accuracy: 0.1063 - val_loss: 2.3211 - val_accuracy: 0.0952\n",
            "Epoch 18/50\n",
            "30/30 [==============================] - ETA: 0s - loss: 2.3264 - accuracy: 0.0958\n",
            "Epoch 00018: val_loss did not improve from 2.31138\n",
            "30/30 [==============================] - 4s 140ms/step - loss: 2.3264 - accuracy: 0.0958 - val_loss: 2.3221 - val_accuracy: 0.1003\n",
            "Epoch 19/50\n",
            "30/30 [==============================] - ETA: 0s - loss: 2.3171 - accuracy: 0.0948\n",
            "Epoch 00019: val_loss improved from 2.31138 to 2.31077, saving model to weights.hdf5\n",
            "30/30 [==============================] - 4s 140ms/step - loss: 2.3171 - accuracy: 0.0948 - val_loss: 2.3108 - val_accuracy: 0.1022\n",
            "Epoch 20/50\n",
            "29/30 [============================>.] - ETA: 0s - loss: 2.3207 - accuracy: 0.1078\n",
            "Epoch 00020: val_loss did not improve from 2.31077\n",
            "30/30 [==============================] - 4s 141ms/step - loss: 2.3222 - accuracy: 0.1063 - val_loss: 2.3286 - val_accuracy: 0.1016\n",
            "Epoch 21/50\n",
            "29/30 [============================>.] - ETA: 0s - loss: 2.3067 - accuracy: 0.1056\n",
            "Epoch 00021: val_loss did not improve from 2.31077\n",
            "30/30 [==============================] - 4s 141ms/step - loss: 2.3065 - accuracy: 0.1042 - val_loss: 2.3205 - val_accuracy: 0.0980\n",
            "Epoch 22/50\n",
            "30/30 [==============================] - ETA: 0s - loss: 2.3166 - accuracy: 0.0896\n",
            "Epoch 00022: val_loss did not improve from 2.31077\n",
            "30/30 [==============================] - 4s 141ms/step - loss: 2.3166 - accuracy: 0.0896 - val_loss: 2.3260 - val_accuracy: 0.1022\n",
            "Epoch 23/50\n",
            "30/30 [==============================] - ETA: 0s - loss: 2.3165 - accuracy: 0.1187\n",
            "Epoch 00023: val_loss did not improve from 2.31077\n",
            "30/30 [==============================] - 4s 141ms/step - loss: 2.3165 - accuracy: 0.1187 - val_loss: 2.3228 - val_accuracy: 0.1003\n",
            "Epoch 24/50\n",
            "29/30 [============================>.] - ETA: 0s - loss: 2.3176 - accuracy: 0.1067\n",
            "Epoch 00024: val_loss did not improve from 2.31077\n",
            "30/30 [==============================] - 4s 139ms/step - loss: 2.3165 - accuracy: 0.1094 - val_loss: 2.3150 - val_accuracy: 0.0980\n",
            "Epoch 25/50\n",
            "29/30 [============================>.] - ETA: 0s - loss: 2.3194 - accuracy: 0.1024\n",
            "Epoch 00025: val_loss did not improve from 2.31077\n",
            "30/30 [==============================] - 4s 142ms/step - loss: 2.3204 - accuracy: 0.0990 - val_loss: 2.3143 - val_accuracy: 0.1014\n",
            "Epoch 26/50\n",
            "29/30 [============================>.] - ETA: 0s - loss: 2.3164 - accuracy: 0.0776\n",
            "Epoch 00026: val_loss improved from 2.31077 to 2.31052, saving model to weights.hdf5\n",
            "30/30 [==============================] - 4s 141ms/step - loss: 2.3166 - accuracy: 0.0760 - val_loss: 2.3105 - val_accuracy: 0.0977\n",
            "Epoch 27/50\n",
            "30/30 [==============================] - ETA: 0s - loss: 2.3151 - accuracy: 0.1208\n",
            "Epoch 00027: val_loss did not improve from 2.31052\n",
            "30/30 [==============================] - 4s 141ms/step - loss: 2.3151 - accuracy: 0.1208 - val_loss: 2.3193 - val_accuracy: 0.0952\n",
            "Epoch 28/50\n",
            "30/30 [==============================] - ETA: 0s - loss: 2.3216 - accuracy: 0.1042\n",
            "Epoch 00028: val_loss did not improve from 2.31052\n",
            "30/30 [==============================] - 4s 142ms/step - loss: 2.3216 - accuracy: 0.1042 - val_loss: 2.3110 - val_accuracy: 0.0977\n",
            "Epoch 29/50\n",
            "30/30 [==============================] - ETA: 0s - loss: 2.3160 - accuracy: 0.0792\n",
            "Epoch 00029: val_loss improved from 2.31052 to 2.30626, saving model to weights.hdf5\n",
            "30/30 [==============================] - 4s 142ms/step - loss: 2.3160 - accuracy: 0.0792 - val_loss: 2.3063 - val_accuracy: 0.1022\n",
            "Epoch 30/50\n",
            "29/30 [============================>.] - ETA: 0s - loss: 2.3123 - accuracy: 0.1088\n",
            "Epoch 00030: val_loss did not improve from 2.30626\n",
            "30/30 [==============================] - 4s 141ms/step - loss: 2.3143 - accuracy: 0.1052 - val_loss: 2.3159 - val_accuracy: 0.0997\n",
            "Epoch 31/50\n",
            "29/30 [============================>.] - ETA: 0s - loss: 2.3172 - accuracy: 0.1099\n",
            "Epoch 00031: val_loss did not improve from 2.30626\n",
            "30/30 [==============================] - 4s 141ms/step - loss: 2.3166 - accuracy: 0.1094 - val_loss: 2.3195 - val_accuracy: 0.0997\n",
            "Epoch 32/50\n",
            "30/30 [==============================] - ETA: 0s - loss: 2.3097 - accuracy: 0.1063\n",
            "Epoch 00032: val_loss did not improve from 2.30626\n",
            "30/30 [==============================] - 4s 141ms/step - loss: 2.3097 - accuracy: 0.1063 - val_loss: 2.3135 - val_accuracy: 0.1016\n",
            "Epoch 33/50\n",
            "30/30 [==============================] - ETA: 0s - loss: 2.3162 - accuracy: 0.0958\n",
            "Epoch 00033: val_loss did not improve from 2.30626\n",
            "30/30 [==============================] - 4s 141ms/step - loss: 2.3162 - accuracy: 0.0958 - val_loss: 2.3133 - val_accuracy: 0.1025\n",
            "Epoch 34/50\n",
            "28/30 [===========================>..] - ETA: 0s - loss: 2.3137 - accuracy: 0.1094\n",
            "Epoch 00034: val_loss did not improve from 2.30626\n",
            "30/30 [==============================] - 4s 141ms/step - loss: 2.3140 - accuracy: 0.1052 - val_loss: 2.3070 - val_accuracy: 0.0980\n",
            "Epoch 35/50\n",
            "29/30 [============================>.] - ETA: 0s - loss: 2.3138 - accuracy: 0.1067\n",
            "Epoch 00035: val_loss improved from 2.30626 to 2.30597, saving model to weights.hdf5\n",
            "30/30 [==============================] - 4s 142ms/step - loss: 2.3130 - accuracy: 0.1073 - val_loss: 2.3060 - val_accuracy: 0.1022\n",
            "Epoch 36/50\n",
            "30/30 [==============================] - ETA: 0s - loss: 2.3137 - accuracy: 0.1156\n",
            "Epoch 00036: val_loss did not improve from 2.30597\n",
            "30/30 [==============================] - 4s 141ms/step - loss: 2.3137 - accuracy: 0.1156 - val_loss: 2.3213 - val_accuracy: 0.0980\n",
            "Epoch 37/50\n",
            "30/30 [==============================] - ETA: 0s - loss: 2.3246 - accuracy: 0.0990\n",
            "Epoch 00037: val_loss improved from 2.30597 to 2.30533, saving model to weights.hdf5\n",
            "30/30 [==============================] - 4s 142ms/step - loss: 2.3246 - accuracy: 0.0990 - val_loss: 2.3053 - val_accuracy: 0.1014\n",
            "Epoch 38/50\n",
            "29/30 [============================>.] - ETA: 0s - loss: 2.3133 - accuracy: 0.0905\n",
            "Epoch 00038: val_loss did not improve from 2.30533\n",
            "30/30 [==============================] - 4s 141ms/step - loss: 2.3132 - accuracy: 0.0969 - val_loss: 2.3064 - val_accuracy: 0.0952\n",
            "Epoch 39/50\n",
            "30/30 [==============================] - ETA: 0s - loss: 2.3109 - accuracy: 0.0854\n",
            "Epoch 00039: val_loss did not improve from 2.30533\n",
            "30/30 [==============================] - 4s 142ms/step - loss: 2.3109 - accuracy: 0.0854 - val_loss: 2.3059 - val_accuracy: 0.0980\n",
            "Epoch 40/50\n",
            "30/30 [==============================] - ETA: 0s - loss: 2.3142 - accuracy: 0.1021\n",
            "Epoch 00040: val_loss did not improve from 2.30533\n",
            "30/30 [==============================] - 4s 141ms/step - loss: 2.3142 - accuracy: 0.1021 - val_loss: 2.3097 - val_accuracy: 0.1025\n",
            "Epoch 41/50\n",
            "29/30 [============================>.] - ETA: 0s - loss: 2.3053 - accuracy: 0.1228\n",
            "Epoch 00041: val_loss did not improve from 2.30533\n",
            "30/30 [==============================] - 4s 142ms/step - loss: 2.3049 - accuracy: 0.1219 - val_loss: 2.3128 - val_accuracy: 0.1014\n",
            "Epoch 42/50\n",
            "28/30 [===========================>..] - ETA: 0s - loss: 2.3112 - accuracy: 0.0859\n",
            "Epoch 00042: val_loss did not improve from 2.30533\n",
            "30/30 [==============================] - 4s 141ms/step - loss: 2.3098 - accuracy: 0.0812 - val_loss: 2.3089 - val_accuracy: 0.1003\n",
            "Epoch 43/50\n",
            "30/30 [==============================] - ETA: 0s - loss: 2.3061 - accuracy: 0.1115\n",
            "Epoch 00043: val_loss did not improve from 2.30533\n",
            "30/30 [==============================] - 4s 142ms/step - loss: 2.3061 - accuracy: 0.1115 - val_loss: 2.3306 - val_accuracy: 0.0977\n",
            "Epoch 44/50\n",
            "30/30 [==============================] - ETA: 0s - loss: 2.3158 - accuracy: 0.1052\n",
            "Epoch 00044: val_loss did not improve from 2.30533\n",
            "30/30 [==============================] - 4s 141ms/step - loss: 2.3158 - accuracy: 0.1052 - val_loss: 2.3233 - val_accuracy: 0.1014\n",
            "Epoch 45/50\n",
            "30/30 [==============================] - ETA: 0s - loss: 2.3132 - accuracy: 0.0896\n",
            "Epoch 00045: val_loss did not improve from 2.30533\n",
            "30/30 [==============================] - 4s 141ms/step - loss: 2.3132 - accuracy: 0.0896 - val_loss: 2.3129 - val_accuracy: 0.1014\n",
            "Epoch 46/50\n",
            "30/30 [==============================] - ETA: 0s - loss: 2.3164 - accuracy: 0.0948\n",
            "Epoch 00046: val_loss did not improve from 2.30533\n",
            "30/30 [==============================] - 4s 141ms/step - loss: 2.3164 - accuracy: 0.0948 - val_loss: 2.3102 - val_accuracy: 0.0952\n",
            "Epoch 47/50\n",
            "29/30 [============================>.] - ETA: 0s - loss: 2.3115 - accuracy: 0.1153\n",
            "Epoch 00047: val_loss did not improve from 2.30533\n",
            "30/30 [==============================] - 4s 142ms/step - loss: 2.3129 - accuracy: 0.1135 - val_loss: 2.3201 - val_accuracy: 0.1016\n",
            "Epoch 48/50\n",
            "29/30 [============================>.] - ETA: 0s - loss: 2.3174 - accuracy: 0.1067\n",
            "Epoch 00048: val_loss did not improve from 2.30533\n",
            "30/30 [==============================] - 4s 142ms/step - loss: 2.3176 - accuracy: 0.1042 - val_loss: 2.3098 - val_accuracy: 0.1014\n",
            "Epoch 49/50\n",
            "30/30 [==============================] - ETA: 0s - loss: 2.3131 - accuracy: 0.0885\n",
            "Epoch 00049: val_loss did not improve from 2.30533\n",
            "30/30 [==============================] - 4s 140ms/step - loss: 2.3131 - accuracy: 0.0885 - val_loss: 2.3122 - val_accuracy: 0.0980\n",
            "Epoch 50/50\n",
            "29/30 [============================>.] - ETA: 0s - loss: 2.3115 - accuracy: 0.1002\n",
            "Epoch 00050: val_loss did not improve from 2.30533\n",
            "30/30 [==============================] - 4s 142ms/step - loss: 2.3129 - accuracy: 0.1021 - val_loss: 2.3182 - val_accuracy: 0.1016\n"
          ],
          "name": "stdout"
        }
      ]
    },
    {
      "cell_type": "code",
      "metadata": {
        "id": "a_WtIsH1dOK9",
        "colab_type": "code",
        "colab": {
          "base_uri": "https://localhost:8080/",
          "height": 51
        },
        "outputId": "27665ada-422f-45e3-e3b0-20cf8a2978e1"
      },
      "source": [
        "lenet.evaluate(X_test, y_test,verbose=1)"
      ],
      "execution_count": 37,
      "outputs": [
        {
          "output_type": "stream",
          "text": [
            "313/313 [==============================] - 4s 12ms/step - loss: 2.3193 - accuracy: 0.1000\n"
          ],
          "name": "stdout"
        },
        {
          "output_type": "execute_result",
          "data": {
            "text/plain": [
              "[2.3193037509918213, 0.10000000149011612]"
            ]
          },
          "metadata": {
            "tags": []
          },
          "execution_count": 37
        }
      ]
    },
    {
      "cell_type": "markdown",
      "metadata": {
        "id": "EflY73J-cdjK",
        "colab_type": "text"
      },
      "source": [
        "VGG16"
      ]
    },
    {
      "cell_type": "code",
      "metadata": {
        "id": "ZlMMpLB0cT9i",
        "colab_type": "code",
        "colab": {}
      },
      "source": [
        "vgg16=Sequential()\n",
        "\n",
        "vgg16.add(Conv2D(filters=64,kernel_size=(3,3),strides=(2,2),padding=\"same\",activation=\"relu\",input_shape=(32,32,3)))\n",
        "vgg16.add(Conv2D(filters=64,kernel_size=(3,3),strides=(2,2),padding=\"same\",activation=\"relu\"))\n",
        "vgg16.add(MaxPooling2D(pool_size=(2,2)))\n",
        "\n",
        "vgg16.add(Conv2D(filters=128,kernel_size=(3,3),strides=(2,2),padding=\"same\",activation=\"relu\"))\n",
        "vgg16.add(Conv2D(filters=128,kernel_size=(3,3),strides=(2,2),padding=\"same\",activation=\"relu\"))\n",
        "vgg16.add(MaxPooling2D(pool_size=(2,2),padding=\"same\"))\n",
        "\n",
        "vgg16.add(Conv2D(filters=256,kernel_size=(3,3),strides=(2,2),padding=\"same\",activation=\"relu\"))\n",
        "vgg16.add(Conv2D(filters=256,kernel_size=(3,3),strides=(2,2),padding=\"same\",activation=\"relu\"))\n",
        "vgg16.add(Conv2D(filters=256,kernel_size=(3,3),strides=(2,2),padding=\"same\",activation=\"relu\"))\n",
        "vgg16.add(MaxPooling2D(pool_size=(2,2),padding=\"same\"))\n",
        "\n",
        "vgg16.add(Conv2D(filters=512,kernel_size=(3,3),strides=(1,1),padding=\"same\",activation=\"relu\"))\n",
        "vgg16.add(Conv2D(filters=512,kernel_size=(3,3),strides=(1,1),padding=\"same\",activation=\"relu\"))\n",
        "vgg16.add(Conv2D(filters=512,kernel_size=(3,3),strides=(1,1),padding=\"same\",activation=\"relu\"))\n",
        "vgg16.add(MaxPooling2D(pool_size=(2,2),padding=\"same\"))\n",
        "\n",
        "vgg16.add(Conv2D(filters=512,kernel_size=(3,3),strides=(1,1),padding=\"same\",activation=\"relu\"))\n",
        "vgg16.add(Conv2D(filters=512,kernel_size=(3,3),strides=(1,1),padding=\"same\",activation=\"relu\"))\n",
        "vgg16.add(Conv2D(filters=512,kernel_size=(3,3),strides=(1,1),padding=\"same\",activation=\"relu\"))\n",
        "vgg16.add(MaxPooling2D(pool_size=(2,2),padding=\"same\"))\n",
        "vgg16.add(Flatten())\n",
        "vgg16.add(Dense(units=128,activation='relu'))\n",
        "vgg16.add(Dense(units=10,activation='softmax'))\n",
        "\n",
        "vgg16.compile(loss='categorical_crossentropy',metrics=['accuracy'],optimizer='sgd')"
      ],
      "execution_count": 38,
      "outputs": []
    },
    {
      "cell_type": "code",
      "metadata": {
        "id": "2e5mid3sd_9J",
        "colab_type": "code",
        "colab": {}
      },
      "source": [
        "#using early stopping to exit training if validation loss is not decreasing even after certain epochs (patience)\n",
        "earlystopping = EarlyStopping(monitor='val_loss', mode='min', verbose=1, patience=5)\n",
        "\n",
        "#save the best model with lower validation loss\n",
        "checkpointer = ModelCheckpoint(filepath=\"weights.hdf5\", verbose=1, save_best_only=True)"
      ],
      "execution_count": null,
      "outputs": []
    },
    {
      "cell_type": "code",
      "metadata": {
        "id": "ShR2VG8rc4to",
        "colab_type": "code",
        "colab": {
          "base_uri": "https://localhost:8080/",
          "height": 357
        },
        "outputId": "33eeb316-e14e-4b9c-af0f-41b3a98efe18"
      },
      "source": [
        "history = vgg16.fit(X_train,y_train,epochs=10,batch_size=32,steps_per_epoch=100,validation_split=0.2,verbose = 1)"
      ],
      "execution_count": 46,
      "outputs": [
        {
          "output_type": "stream",
          "text": [
            "Epoch 1/10\n",
            "100/100 [==============================] - 131s 1s/step - loss: 2.3025 - accuracy: 0.1006 - val_loss: 2.3027 - val_accuracy: 0.0980\n",
            "Epoch 2/10\n",
            "100/100 [==============================] - 132s 1s/step - loss: 2.3024 - accuracy: 0.1016 - val_loss: 2.3028 - val_accuracy: 0.1003\n",
            "Epoch 3/10\n",
            "100/100 [==============================] - 132s 1s/step - loss: 2.3029 - accuracy: 0.0941 - val_loss: 2.3026 - val_accuracy: 0.1003\n",
            "Epoch 4/10\n",
            "100/100 [==============================] - 133s 1s/step - loss: 2.3028 - accuracy: 0.1016 - val_loss: 2.3026 - val_accuracy: 0.1022\n",
            "Epoch 5/10\n",
            "100/100 [==============================] - 132s 1s/step - loss: 2.3027 - accuracy: 0.1000 - val_loss: 2.3026 - val_accuracy: 0.1022\n",
            "Epoch 6/10\n",
            "100/100 [==============================] - 131s 1s/step - loss: 2.3028 - accuracy: 0.0931 - val_loss: 2.3026 - val_accuracy: 0.1022\n",
            "Epoch 7/10\n",
            "100/100 [==============================] - 132s 1s/step - loss: 2.3026 - accuracy: 0.1044 - val_loss: 2.3026 - val_accuracy: 0.1014\n",
            "Epoch 8/10\n",
            "100/100 [==============================] - 132s 1s/step - loss: 2.3028 - accuracy: 0.0972 - val_loss: 2.3026 - val_accuracy: 0.1014\n",
            "Epoch 9/10\n",
            "100/100 [==============================] - 132s 1s/step - loss: 2.3026 - accuracy: 0.1034 - val_loss: 2.3027 - val_accuracy: 0.0997\n",
            "Epoch 10/10\n",
            "100/100 [==============================] - 131s 1s/step - loss: 2.3029 - accuracy: 0.0969 - val_loss: 2.3027 - val_accuracy: 0.0952\n"
          ],
          "name": "stdout"
        }
      ]
    },
    {
      "cell_type": "code",
      "metadata": {
        "id": "mHmev-bDdHIL",
        "colab_type": "code",
        "colab": {
          "base_uri": "https://localhost:8080/",
          "height": 51
        },
        "outputId": "8873fed4-20f8-4ee4-916d-fdf7151e7749"
      },
      "source": [
        "vgg16.evaluate(X_test, y_test,verbose=1)"
      ],
      "execution_count": 47,
      "outputs": [
        {
          "output_type": "stream",
          "text": [
            "313/313 [==============================] - 10s 32ms/step - loss: 2.3026 - accuracy: 0.1000\n"
          ],
          "name": "stdout"
        },
        {
          "output_type": "execute_result",
          "data": {
            "text/plain": [
              "[2.30259370803833, 0.10000000149011612]"
            ]
          },
          "metadata": {
            "tags": []
          },
          "execution_count": 47
        }
      ]
    }
  ]
}